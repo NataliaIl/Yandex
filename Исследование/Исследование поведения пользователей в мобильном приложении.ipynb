{
 "cells": [
  {
   "cell_type": "markdown",
   "metadata": {},
   "source": [
    "### Исследование поведения пользователей в мобильном приложении"
   ]
  },
  {
   "cell_type": "markdown",
   "metadata": {},
   "source": [
    "<b>Задачи  исследования</b>:\n",
    "<ul>\n",
    "<li>Проанализировать связь целевого события — просмотра контактов — и других действий пользователей</li>\n",
    "<li>Оценить, какие действия чаще совершают те пользователи, которые просматривают контакты.</li>\n",
    "</ul>\n",
    "<b>Цели исследования</b>:\n",
    "<ul>\n",
    "<li>Данные о поведении пользователей позволят эффективно управлять вовлеченностью клиентов.</li>\n",
    "<li>Получить на основе поведения пользователей гипотезы о том как можно было бы улучшить приложение с точки зрения пользовательского опыта.</li>\n",
    "</ul>"
   ]
  },
  {
   "cell_type": "markdown",
   "metadata": {},
   "source": [
    "#### Описание данных\n",
    "\n",
    "В нашем распоряжении два датасета - с источниками и действиями пользователей.\n",
    "\n",
    "Датасет mobile_sources:\n",
    "<ul>\n",
    "<li>userId — идентификатор пользователя,</li>\n",
    "<li>source — источник, с которого пользователь установил приложение.</li>\n",
    "</ul>\n",
    "Датасет mobile_dataset:\n",
    "<ul>\n",
    "<li>event.time — время совершения,</li>\n",
    "<li>user.id — идентификатор пользователя,</li>\n",
    "<li>event.name — действие пользователя.</li>\n",
    "</ul>\n",
    "Виды действий:\n",
    "<ul>\n",
    "<li>advert_open — открыл карточки объявления,</li>\n",
    "<li>photos_show — просмотрел фотографий в объявлении,</li>\n",
    "<li>tips_show — увидел рекомендованные объявления,</li>\n",
    "<li>tips_click — кликнул по рекомендованному объявлению,</li>\n",
    "<li>contacts_show и show_contacts — посмотрел номер телефона,</li>\n",
    "<li>contacts_call — позвонил по номеру из объявления,</li>\n",
    "<li>map — открыл карту объявлений,</li>\n",
    "<li>search_1 — search_7 — разные действия, связанные с поиском по сайту,</li>\n",
    "<li>favorites_add — добавил объявление в избранное.</li>\n",
    "</ul>"
   ]
  },
  {
   "cell_type": "markdown",
   "metadata": {},
   "source": [
    "#### Изучение данных\n",
    "<ul>\n",
    "<li>Какая информация есть в датасете, неверные названия колонок, возможные пропуски</li>\n",
    "<li>Изучим типы данных</li>\n",
    "<li>Изучим, за какой период представлена информация</li>"
   ]
  },
  {
   "cell_type": "code",
   "execution_count": 1,
   "metadata": {},
   "outputs": [],
   "source": [
    "import pandas as pd\n",
    "import seaborn as sns\n",
    "import matplotlib.pyplot as plt\n",
    "import plotly.express as px\n",
    "import plotly.io as pio\n",
    "from plotly import graph_objs as go\n",
    "import numpy as np\n",
    "import pandas as pd\n",
    "from statsmodels.stats.proportion import proportions_ztest\n",
    "import scipy.stats as stats\n",
    "import math as mth"
   ]
  },
  {
   "cell_type": "code",
   "execution_count": 2,
   "metadata": {},
   "outputs": [
    {
     "data": {
      "text/html": [
       "<div>\n",
       "<style scoped>\n",
       "    .dataframe tbody tr th:only-of-type {\n",
       "        vertical-align: middle;\n",
       "    }\n",
       "\n",
       "    .dataframe tbody tr th {\n",
       "        vertical-align: top;\n",
       "    }\n",
       "\n",
       "    .dataframe thead th {\n",
       "        text-align: right;\n",
       "    }\n",
       "</style>\n",
       "<table border=\"1\" class=\"dataframe\">\n",
       "  <thead>\n",
       "    <tr style=\"text-align: right;\">\n",
       "      <th></th>\n",
       "      <th>userId</th>\n",
       "      <th>source</th>\n",
       "    </tr>\n",
       "  </thead>\n",
       "  <tbody>\n",
       "    <tr>\n",
       "      <th>0</th>\n",
       "      <td>020292ab-89bc-4156-9acf-68bc2783f894</td>\n",
       "      <td>other</td>\n",
       "    </tr>\n",
       "    <tr>\n",
       "      <th>1</th>\n",
       "      <td>cf7eda61-9349-469f-ac27-e5b6f5ec475c</td>\n",
       "      <td>yandex</td>\n",
       "    </tr>\n",
       "    <tr>\n",
       "      <th>2</th>\n",
       "      <td>8c356c42-3ba9-4cb6-80b8-3f868d0192c3</td>\n",
       "      <td>yandex</td>\n",
       "    </tr>\n",
       "    <tr>\n",
       "      <th>3</th>\n",
       "      <td>d9b06b47-0f36-419b-bbb0-3533e582a6cb</td>\n",
       "      <td>other</td>\n",
       "    </tr>\n",
       "    <tr>\n",
       "      <th>4</th>\n",
       "      <td>f32e1e2a-3027-4693-b793-b7b3ff274439</td>\n",
       "      <td>google</td>\n",
       "    </tr>\n",
       "  </tbody>\n",
       "</table>\n",
       "</div>"
      ],
      "text/plain": [
       "                                 userId  source\n",
       "0  020292ab-89bc-4156-9acf-68bc2783f894   other\n",
       "1  cf7eda61-9349-469f-ac27-e5b6f5ec475c  yandex\n",
       "2  8c356c42-3ba9-4cb6-80b8-3f868d0192c3  yandex\n",
       "3  d9b06b47-0f36-419b-bbb0-3533e582a6cb   other\n",
       "4  f32e1e2a-3027-4693-b793-b7b3ff274439  google"
      ]
     },
     "execution_count": 2,
     "metadata": {},
     "output_type": "execute_result"
    }
   ],
   "source": [
    "data_sources = pd.read_csv('https://code.s3.yandex.net/datasets/mobile_sources.csv')\n",
    "data_sources.head()"
   ]
  },
  {
   "cell_type": "code",
   "execution_count": 3,
   "metadata": {},
   "outputs": [
    {
     "data": {
      "text/html": [
       "<div>\n",
       "<style scoped>\n",
       "    .dataframe tbody tr th:only-of-type {\n",
       "        vertical-align: middle;\n",
       "    }\n",
       "\n",
       "    .dataframe tbody tr th {\n",
       "        vertical-align: top;\n",
       "    }\n",
       "\n",
       "    .dataframe thead th {\n",
       "        text-align: right;\n",
       "    }\n",
       "</style>\n",
       "<table border=\"1\" class=\"dataframe\">\n",
       "  <thead>\n",
       "    <tr style=\"text-align: right;\">\n",
       "      <th></th>\n",
       "      <th>event.time</th>\n",
       "      <th>event.name</th>\n",
       "      <th>user.id</th>\n",
       "    </tr>\n",
       "  </thead>\n",
       "  <tbody>\n",
       "    <tr>\n",
       "      <th>0</th>\n",
       "      <td>2019-10-07 00:00:00.431357</td>\n",
       "      <td>advert_open</td>\n",
       "      <td>020292ab-89bc-4156-9acf-68bc2783f894</td>\n",
       "    </tr>\n",
       "    <tr>\n",
       "      <th>1</th>\n",
       "      <td>2019-10-07 00:00:01.236320</td>\n",
       "      <td>tips_show</td>\n",
       "      <td>020292ab-89bc-4156-9acf-68bc2783f894</td>\n",
       "    </tr>\n",
       "    <tr>\n",
       "      <th>2</th>\n",
       "      <td>2019-10-07 00:00:02.245341</td>\n",
       "      <td>tips_show</td>\n",
       "      <td>cf7eda61-9349-469f-ac27-e5b6f5ec475c</td>\n",
       "    </tr>\n",
       "    <tr>\n",
       "      <th>3</th>\n",
       "      <td>2019-10-07 00:00:07.039334</td>\n",
       "      <td>tips_show</td>\n",
       "      <td>020292ab-89bc-4156-9acf-68bc2783f894</td>\n",
       "    </tr>\n",
       "    <tr>\n",
       "      <th>4</th>\n",
       "      <td>2019-10-07 00:00:56.319813</td>\n",
       "      <td>advert_open</td>\n",
       "      <td>cf7eda61-9349-469f-ac27-e5b6f5ec475c</td>\n",
       "    </tr>\n",
       "  </tbody>\n",
       "</table>\n",
       "</div>"
      ],
      "text/plain": [
       "                   event.time   event.name  \\\n",
       "0  2019-10-07 00:00:00.431357  advert_open   \n",
       "1  2019-10-07 00:00:01.236320    tips_show   \n",
       "2  2019-10-07 00:00:02.245341    tips_show   \n",
       "3  2019-10-07 00:00:07.039334    tips_show   \n",
       "4  2019-10-07 00:00:56.319813  advert_open   \n",
       "\n",
       "                                user.id  \n",
       "0  020292ab-89bc-4156-9acf-68bc2783f894  \n",
       "1  020292ab-89bc-4156-9acf-68bc2783f894  \n",
       "2  cf7eda61-9349-469f-ac27-e5b6f5ec475c  \n",
       "3  020292ab-89bc-4156-9acf-68bc2783f894  \n",
       "4  cf7eda61-9349-469f-ac27-e5b6f5ec475c  "
      ]
     },
     "execution_count": 3,
     "metadata": {},
     "output_type": "execute_result"
    }
   ],
   "source": [
    "data = pd.read_csv('https://code.s3.yandex.net/datasets/mobile_dataset.csv')\n",
    "data.head()"
   ]
  },
  {
   "cell_type": "markdown",
   "metadata": {},
   "source": [
    "В датасетах некорректное написание столбцов."
   ]
  },
  {
   "cell_type": "code",
   "execution_count": 4,
   "metadata": {},
   "outputs": [
    {
     "name": "stdout",
     "output_type": "stream",
     "text": [
      "<class 'pandas.core.frame.DataFrame'>\n",
      "RangeIndex: 4293 entries, 0 to 4292\n",
      "Data columns (total 2 columns):\n",
      " #   Column  Non-Null Count  Dtype \n",
      "---  ------  --------------  ----- \n",
      " 0   userId  4293 non-null   object\n",
      " 1   source  4293 non-null   object\n",
      "dtypes: object(2)\n",
      "memory usage: 67.2+ KB\n"
     ]
    }
   ],
   "source": [
    "data_sources.info()"
   ]
  },
  {
   "cell_type": "code",
   "execution_count": 5,
   "metadata": {},
   "outputs": [
    {
     "name": "stdout",
     "output_type": "stream",
     "text": [
      "<class 'pandas.core.frame.DataFrame'>\n",
      "RangeIndex: 74197 entries, 0 to 74196\n",
      "Data columns (total 3 columns):\n",
      " #   Column      Non-Null Count  Dtype \n",
      "---  ------      --------------  ----- \n",
      " 0   event.time  74197 non-null  object\n",
      " 1   event.name  74197 non-null  object\n",
      " 2   user.id     74197 non-null  object\n",
      "dtypes: object(3)\n",
      "memory usage: 1.7+ MB\n"
     ]
    }
   ],
   "source": [
    "data.info()"
   ]
  },
  {
   "cell_type": "markdown",
   "metadata": {},
   "source": [
    "В датасете с действиями пользователей неверный тип данных во времени события."
   ]
  },
  {
   "cell_type": "markdown",
   "metadata": {},
   "source": [
    "##### Промежуточные выводы по изучению данных:\n",
    "\n",
    "В ходе изучения данных было выявлено:\n",
    "<ul>\n",
    "    <li>некорректное написание названий столбцов,</li>\n",
    "    <li>некорректный тип данных столбца event_time,</li>\n",
    "</ul>\n",
    "Устраним эти недостатки во время предобработки данных."
   ]
  },
  {
   "cell_type": "markdown",
   "metadata": {},
   "source": [
    "#### Предобработка данных\n",
    "<ul>\n",
    "<li>Переименуем колонки</li>\n",
    "<li>Измененим типа данных в колонке event_time</li>\n",
    "<li>Проверим данные на пропуски и дубликаты</li>\n",
    "<li>Изучим, за какой период предоставлены данные</li>\n",
    "<li>Посчитаем аномальных пользователей, решим вопрос с их возможным удалением</li>\n",
    "</ul>"
   ]
  },
  {
   "cell_type": "markdown",
   "metadata": {},
   "source": [
    "##### Переименуем колонки"
   ]
  },
  {
   "cell_type": "code",
   "execution_count": 6,
   "metadata": {},
   "outputs": [
    {
     "data": {
      "text/html": [
       "<div>\n",
       "<style scoped>\n",
       "    .dataframe tbody tr th:only-of-type {\n",
       "        vertical-align: middle;\n",
       "    }\n",
       "\n",
       "    .dataframe tbody tr th {\n",
       "        vertical-align: top;\n",
       "    }\n",
       "\n",
       "    .dataframe thead th {\n",
       "        text-align: right;\n",
       "    }\n",
       "</style>\n",
       "<table border=\"1\" class=\"dataframe\">\n",
       "  <thead>\n",
       "    <tr style=\"text-align: right;\">\n",
       "      <th></th>\n",
       "      <th>user_id</th>\n",
       "      <th>source</th>\n",
       "    </tr>\n",
       "  </thead>\n",
       "  <tbody>\n",
       "    <tr>\n",
       "      <th>0</th>\n",
       "      <td>020292ab-89bc-4156-9acf-68bc2783f894</td>\n",
       "      <td>other</td>\n",
       "    </tr>\n",
       "    <tr>\n",
       "      <th>1</th>\n",
       "      <td>cf7eda61-9349-469f-ac27-e5b6f5ec475c</td>\n",
       "      <td>yandex</td>\n",
       "    </tr>\n",
       "    <tr>\n",
       "      <th>2</th>\n",
       "      <td>8c356c42-3ba9-4cb6-80b8-3f868d0192c3</td>\n",
       "      <td>yandex</td>\n",
       "    </tr>\n",
       "    <tr>\n",
       "      <th>3</th>\n",
       "      <td>d9b06b47-0f36-419b-bbb0-3533e582a6cb</td>\n",
       "      <td>other</td>\n",
       "    </tr>\n",
       "    <tr>\n",
       "      <th>4</th>\n",
       "      <td>f32e1e2a-3027-4693-b793-b7b3ff274439</td>\n",
       "      <td>google</td>\n",
       "    </tr>\n",
       "  </tbody>\n",
       "</table>\n",
       "</div>"
      ],
      "text/plain": [
       "                                user_id  source\n",
       "0  020292ab-89bc-4156-9acf-68bc2783f894   other\n",
       "1  cf7eda61-9349-469f-ac27-e5b6f5ec475c  yandex\n",
       "2  8c356c42-3ba9-4cb6-80b8-3f868d0192c3  yandex\n",
       "3  d9b06b47-0f36-419b-bbb0-3533e582a6cb   other\n",
       "4  f32e1e2a-3027-4693-b793-b7b3ff274439  google"
      ]
     },
     "execution_count": 6,
     "metadata": {},
     "output_type": "execute_result"
    }
   ],
   "source": [
    "data_sources.rename(columns={'userId': 'user_id'}, inplace=True)\n",
    "data_sources.head()"
   ]
  },
  {
   "cell_type": "code",
   "execution_count": 7,
   "metadata": {},
   "outputs": [
    {
     "data": {
      "text/html": [
       "<div>\n",
       "<style scoped>\n",
       "    .dataframe tbody tr th:only-of-type {\n",
       "        vertical-align: middle;\n",
       "    }\n",
       "\n",
       "    .dataframe tbody tr th {\n",
       "        vertical-align: top;\n",
       "    }\n",
       "\n",
       "    .dataframe thead th {\n",
       "        text-align: right;\n",
       "    }\n",
       "</style>\n",
       "<table border=\"1\" class=\"dataframe\">\n",
       "  <thead>\n",
       "    <tr style=\"text-align: right;\">\n",
       "      <th></th>\n",
       "      <th>event_time</th>\n",
       "      <th>event_name</th>\n",
       "      <th>user_id</th>\n",
       "    </tr>\n",
       "  </thead>\n",
       "  <tbody>\n",
       "    <tr>\n",
       "      <th>0</th>\n",
       "      <td>2019-10-07 00:00:00.431357</td>\n",
       "      <td>advert_open</td>\n",
       "      <td>020292ab-89bc-4156-9acf-68bc2783f894</td>\n",
       "    </tr>\n",
       "    <tr>\n",
       "      <th>1</th>\n",
       "      <td>2019-10-07 00:00:01.236320</td>\n",
       "      <td>tips_show</td>\n",
       "      <td>020292ab-89bc-4156-9acf-68bc2783f894</td>\n",
       "    </tr>\n",
       "    <tr>\n",
       "      <th>2</th>\n",
       "      <td>2019-10-07 00:00:02.245341</td>\n",
       "      <td>tips_show</td>\n",
       "      <td>cf7eda61-9349-469f-ac27-e5b6f5ec475c</td>\n",
       "    </tr>\n",
       "    <tr>\n",
       "      <th>3</th>\n",
       "      <td>2019-10-07 00:00:07.039334</td>\n",
       "      <td>tips_show</td>\n",
       "      <td>020292ab-89bc-4156-9acf-68bc2783f894</td>\n",
       "    </tr>\n",
       "    <tr>\n",
       "      <th>4</th>\n",
       "      <td>2019-10-07 00:00:56.319813</td>\n",
       "      <td>advert_open</td>\n",
       "      <td>cf7eda61-9349-469f-ac27-e5b6f5ec475c</td>\n",
       "    </tr>\n",
       "  </tbody>\n",
       "</table>\n",
       "</div>"
      ],
      "text/plain": [
       "                   event_time   event_name  \\\n",
       "0  2019-10-07 00:00:00.431357  advert_open   \n",
       "1  2019-10-07 00:00:01.236320    tips_show   \n",
       "2  2019-10-07 00:00:02.245341    tips_show   \n",
       "3  2019-10-07 00:00:07.039334    tips_show   \n",
       "4  2019-10-07 00:00:56.319813  advert_open   \n",
       "\n",
       "                                user_id  \n",
       "0  020292ab-89bc-4156-9acf-68bc2783f894  \n",
       "1  020292ab-89bc-4156-9acf-68bc2783f894  \n",
       "2  cf7eda61-9349-469f-ac27-e5b6f5ec475c  \n",
       "3  020292ab-89bc-4156-9acf-68bc2783f894  \n",
       "4  cf7eda61-9349-469f-ac27-e5b6f5ec475c  "
      ]
     },
     "execution_count": 7,
     "metadata": {},
     "output_type": "execute_result"
    }
   ],
   "source": [
    "data.rename(columns={'user.id': 'user_id'}, inplace=True)\n",
    "data.rename(columns={'event.time': 'event_time'}, inplace=True)\n",
    "data.rename(columns={'event.name': 'event_name'}, inplace=True)\n",
    "data.head()"
   ]
  },
  {
   "cell_type": "markdown",
   "metadata": {},
   "source": [
    "##### Изменим тип данных в колонке event_time"
   ]
  },
  {
   "cell_type": "code",
   "execution_count": 8,
   "metadata": {},
   "outputs": [
    {
     "name": "stdout",
     "output_type": "stream",
     "text": [
      "<class 'pandas.core.frame.DataFrame'>\n",
      "RangeIndex: 74197 entries, 0 to 74196\n",
      "Data columns (total 3 columns):\n",
      " #   Column      Non-Null Count  Dtype         \n",
      "---  ------      --------------  -----         \n",
      " 0   event_time  74197 non-null  datetime64[ns]\n",
      " 1   event_name  74197 non-null  object        \n",
      " 2   user_id     74197 non-null  object        \n",
      "dtypes: datetime64[ns](1), object(2)\n",
      "memory usage: 1.7+ MB\n"
     ]
    }
   ],
   "source": [
    "data['event_time'] = pd.to_datetime(data['event_time'])\n",
    "data.info()"
   ]
  },
  {
   "cell_type": "markdown",
   "metadata": {},
   "source": [
    "##### Проверим данные на пропуски"
   ]
  },
  {
   "cell_type": "code",
   "execution_count": 9,
   "metadata": {},
   "outputs": [
    {
     "data": {
      "text/plain": [
       "event_time    0\n",
       "event_name    0\n",
       "user_id       0\n",
       "dtype: int64"
      ]
     },
     "execution_count": 9,
     "metadata": {},
     "output_type": "execute_result"
    }
   ],
   "source": [
    "data.isnull().sum()"
   ]
  },
  {
   "cell_type": "code",
   "execution_count": 10,
   "metadata": {},
   "outputs": [
    {
     "data": {
      "text/plain": [
       "user_id    0\n",
       "source     0\n",
       "dtype: int64"
      ]
     },
     "execution_count": 10,
     "metadata": {},
     "output_type": "execute_result"
    }
   ],
   "source": [
    "data_sources.isnull().sum()"
   ]
  },
  {
   "cell_type": "markdown",
   "metadata": {},
   "source": [
    "Пропусков не обнаружено."
   ]
  },
  {
   "cell_type": "markdown",
   "metadata": {},
   "source": [
    "##### Проверим данные на дубликаты"
   ]
  },
  {
   "cell_type": "code",
   "execution_count": 11,
   "metadata": {},
   "outputs": [
    {
     "data": {
      "text/plain": [
       "0"
      ]
     },
     "execution_count": 11,
     "metadata": {},
     "output_type": "execute_result"
    }
   ],
   "source": [
    "data.duplicated().sum()"
   ]
  },
  {
   "cell_type": "code",
   "execution_count": 12,
   "metadata": {},
   "outputs": [
    {
     "data": {
      "text/plain": [
       "0"
      ]
     },
     "execution_count": 12,
     "metadata": {},
     "output_type": "execute_result"
    }
   ],
   "source": [
    "data_sources.duplicated().sum()"
   ]
  },
  {
   "cell_type": "markdown",
   "metadata": {},
   "source": [
    "Дубликатов в датасетах не было обнаружено."
   ]
  },
  {
   "cell_type": "markdown",
   "metadata": {},
   "source": [
    "##### Изучим, за какое время предоставлены данные"
   ]
  },
  {
   "cell_type": "code",
   "execution_count": 13,
   "metadata": {},
   "outputs": [
    {
     "data": {
      "text/plain": [
       "'Максимальная дата:'"
      ]
     },
     "metadata": {},
     "output_type": "display_data"
    },
    {
     "data": {
      "text/plain": [
       "Timestamp('2019-11-03 23:58:12.532487')"
      ]
     },
     "metadata": {},
     "output_type": "display_data"
    },
    {
     "data": {
      "text/plain": [
       "'Минимальная дата:'"
      ]
     },
     "metadata": {},
     "output_type": "display_data"
    },
    {
     "data": {
      "text/plain": [
       "Timestamp('2019-10-07 00:00:00.431357')"
      ]
     },
     "metadata": {},
     "output_type": "display_data"
    }
   ],
   "source": [
    "max_date = data['event_time'].max()\n",
    "min_date = data['event_time'].min()\n",
    "\n",
    "display(\"Максимальная дата:\", max_date)\n",
    "display(\"Минимальная дата:\", min_date)"
   ]
  },
  {
   "cell_type": "markdown",
   "metadata": {},
   "source": [
    "##### Найдем аномальных пользователей через количество событий"
   ]
  },
  {
   "cell_type": "code",
   "execution_count": 14,
   "metadata": {},
   "outputs": [
    {
     "data": {
      "text/html": [
       "<div>\n",
       "<style scoped>\n",
       "    .dataframe tbody tr th:only-of-type {\n",
       "        vertical-align: middle;\n",
       "    }\n",
       "\n",
       "    .dataframe tbody tr th {\n",
       "        vertical-align: top;\n",
       "    }\n",
       "\n",
       "    .dataframe thead th {\n",
       "        text-align: right;\n",
       "    }\n",
       "</style>\n",
       "<table border=\"1\" class=\"dataframe\">\n",
       "  <thead>\n",
       "    <tr style=\"text-align: right;\">\n",
       "      <th></th>\n",
       "      <th>event_time</th>\n",
       "    </tr>\n",
       "  </thead>\n",
       "  <tbody>\n",
       "    <tr>\n",
       "      <th>count</th>\n",
       "      <td>4293.000000</td>\n",
       "    </tr>\n",
       "    <tr>\n",
       "      <th>mean</th>\n",
       "      <td>17.283252</td>\n",
       "    </tr>\n",
       "    <tr>\n",
       "      <th>std</th>\n",
       "      <td>29.130677</td>\n",
       "    </tr>\n",
       "    <tr>\n",
       "      <th>min</th>\n",
       "      <td>1.000000</td>\n",
       "    </tr>\n",
       "    <tr>\n",
       "      <th>25%</th>\n",
       "      <td>5.000000</td>\n",
       "    </tr>\n",
       "    <tr>\n",
       "      <th>50%</th>\n",
       "      <td>9.000000</td>\n",
       "    </tr>\n",
       "    <tr>\n",
       "      <th>75%</th>\n",
       "      <td>17.000000</td>\n",
       "    </tr>\n",
       "    <tr>\n",
       "      <th>max</th>\n",
       "      <td>478.000000</td>\n",
       "    </tr>\n",
       "  </tbody>\n",
       "</table>\n",
       "</div>"
      ],
      "text/plain": [
       "        event_time\n",
       "count  4293.000000\n",
       "mean     17.283252\n",
       "std      29.130677\n",
       "min       1.000000\n",
       "25%       5.000000\n",
       "50%       9.000000\n",
       "75%      17.000000\n",
       "max     478.000000"
      ]
     },
     "execution_count": 14,
     "metadata": {},
     "output_type": "execute_result"
    }
   ],
   "source": [
    "events_per_user = data.groupby('user_id')['event_time'].count().reset_index()\n",
    "events_per_user.describe()"
   ]
  },
  {
   "cell_type": "code",
   "execution_count": 15,
   "metadata": {},
   "outputs": [],
   "source": [
    "events_per_user.rename(columns={'user_id': 'user_id', 'event_time': 'event_count'}, inplace=True)"
   ]
  },
  {
   "cell_type": "code",
   "execution_count": 16,
   "metadata": {},
   "outputs": [
    {
     "data": {
      "image/png": "[encoded data removed]",
      "text/plain": [
       "<Figure size 432x864 with 1 Axes>"
      ]
     },
     "metadata": {
      "needs_background": "light"
     },
     "output_type": "display_data"
    }
   ],
   "source": [
    "plt.figure(figsize=(6, 12))\n",
    "sns.boxplot(y=events_per_user['event_count'])\n",
    "\n",
    "plt.title('Количество событий на пользователя')\n",
    "plt.ylabel('Количество событий')\n",
    "plt.show()\n"
   ]
  },
  {
   "cell_type": "markdown",
   "metadata": {},
   "source": [
    "По графику видно, что начиная где-то с 200 событий, начинается много аномальных значений."
   ]
  },
  {
   "cell_type": "code",
   "execution_count": 17,
   "metadata": {},
   "outputs": [
    {
     "data": {
      "text/plain": [
       "array([ 36.,  59., 132.])"
      ]
     },
     "execution_count": 17,
     "metadata": {},
     "output_type": "execute_result"
    }
   ],
   "source": [
    "np.percentile(events_per_user['event_count'], [90, 95, 99])"
   ]
  },
  {
   "cell_type": "markdown",
   "metadata": {},
   "source": [
    "Не более 5% пользователей совершили 59 событий и не более 1% 132 события.\n",
    "\n",
    "90% значений событий на одного пользователя меньше или равны 36.\n",
    "95% значений меньше или равны 59.\n",
    "99% значений меньше или равны 132. Т.е. событий более 132 меньше одного процента и разрыв от количества событий для большинства пользователей не существенен, можно их не удалять."
   ]
  },
  {
   "cell_type": "markdown",
   "metadata": {},
   "source": [
    "##### Промежуточные выводы по предобработке данных.\n",
    "\n",
    "Во время предобработки данных выполнено:\n",
    "<ul>\n",
    "    <li>Переименованы колонки в датасетах.</li>\n",
    "    <li>Заменен тип данных в колонке event_date.</li>\n",
    "    <li>Проверка на пропуски и дубликаты - не обнаружено.</li>\n",
    "    <li>Проверка на аномальное количество событий - их процент довольно велик, было принято решение не удалять данные, чтобы не повлиять на общую картину.</li>\n",
    "</ul>    \n",
    "\n",
    "Датасет располагает информацией за 7 октября - 11 ноября 2019 года."
   ]
  },
  {
   "cell_type": "markdown",
   "metadata": {},
   "source": [
    "#### Исследование данных\n",
    "<ul>\n",
    "<li>Отсортируем по user_id и event_time</li>\n",
    "<li>Выделим колонку с сессиями.</li>\n",
    "<li>Найдем длительность каждой сессии и среднюю длительность сессии.</li>\n",
    "<li>Изучим, какие события есть в датасете, как часто они встречаются.</li>\n",
    "<li>Оценим пользовательскую активность - посчитаем DAU и MAU</li>\n",
    "<li>Посчитаем долю пользователей, совершивших целевое событие - просмотр контактов</li>    \n",
    "<li>Избавимся от повторяющихся событий в рамках сессии.</li>   \n",
    "<li>Найдем сценарии, которые приводят к просмотру контактов.</li>\n",
    "</ul>"
   ]
  },
  {
   "cell_type": "markdown",
   "metadata": {},
   "source": [
    "##### Отсортируем данные по user_id и event_time"
   ]
  },
  {
   "cell_type": "code",
   "execution_count": 18,
   "metadata": {},
   "outputs": [],
   "source": [
    "sorted_data = data.sort_values(['user_id', 'event_time'])"
   ]
  },
  {
   "cell_type": "markdown",
   "metadata": {},
   "source": [
    "##### Добавим колонку с сессиями и удалим повторяющиеся события"
   ]
  },
  {
   "cell_type": "code",
   "execution_count": 19,
   "metadata": {},
   "outputs": [
    {
     "data": {
      "text/html": [
       "<div>\n",
       "<style scoped>\n",
       "    .dataframe tbody tr th:only-of-type {\n",
       "        vertical-align: middle;\n",
       "    }\n",
       "\n",
       "    .dataframe tbody tr th {\n",
       "        vertical-align: top;\n",
       "    }\n",
       "\n",
       "    .dataframe thead th {\n",
       "        text-align: right;\n",
       "    }\n",
       "</style>\n",
       "<table border=\"1\" class=\"dataframe\">\n",
       "  <thead>\n",
       "    <tr style=\"text-align: right;\">\n",
       "      <th></th>\n",
       "      <th>event_time</th>\n",
       "      <th>event_name</th>\n",
       "      <th>user_id</th>\n",
       "      <th>session_id</th>\n",
       "    </tr>\n",
       "  </thead>\n",
       "  <tbody>\n",
       "    <tr>\n",
       "      <th>805</th>\n",
       "      <td>2019-10-07 13:39:45.989359</td>\n",
       "      <td>tips_show</td>\n",
       "      <td>0001b1d5-b74a-4cbf-aeb0-7df5947bf349</td>\n",
       "      <td>1</td>\n",
       "    </tr>\n",
       "    <tr>\n",
       "      <th>6541</th>\n",
       "      <td>2019-10-09 18:33:55.577963</td>\n",
       "      <td>map</td>\n",
       "      <td>0001b1d5-b74a-4cbf-aeb0-7df5947bf349</td>\n",
       "      <td>2</td>\n",
       "    </tr>\n",
       "    <tr>\n",
       "      <th>6565</th>\n",
       "      <td>2019-10-09 18:40:28.738785</td>\n",
       "      <td>tips_show</td>\n",
       "      <td>0001b1d5-b74a-4cbf-aeb0-7df5947bf349</td>\n",
       "      <td>2</td>\n",
       "    </tr>\n",
       "    <tr>\n",
       "      <th>36412</th>\n",
       "      <td>2019-10-21 19:52:30.778932</td>\n",
       "      <td>tips_show</td>\n",
       "      <td>0001b1d5-b74a-4cbf-aeb0-7df5947bf349</td>\n",
       "      <td>3</td>\n",
       "    </tr>\n",
       "    <tr>\n",
       "      <th>36419</th>\n",
       "      <td>2019-10-21 19:53:38.767230</td>\n",
       "      <td>map</td>\n",
       "      <td>0001b1d5-b74a-4cbf-aeb0-7df5947bf349</td>\n",
       "      <td>3</td>\n",
       "    </tr>\n",
       "  </tbody>\n",
       "</table>\n",
       "</div>"
      ],
      "text/plain": [
       "                      event_time event_name  \\\n",
       "805   2019-10-07 13:39:45.989359  tips_show   \n",
       "6541  2019-10-09 18:33:55.577963        map   \n",
       "6565  2019-10-09 18:40:28.738785  tips_show   \n",
       "36412 2019-10-21 19:52:30.778932  tips_show   \n",
       "36419 2019-10-21 19:53:38.767230        map   \n",
       "\n",
       "                                    user_id  session_id  \n",
       "805    0001b1d5-b74a-4cbf-aeb0-7df5947bf349           1  \n",
       "6541   0001b1d5-b74a-4cbf-aeb0-7df5947bf349           2  \n",
       "6565   0001b1d5-b74a-4cbf-aeb0-7df5947bf349           2  \n",
       "36412  0001b1d5-b74a-4cbf-aeb0-7df5947bf349           3  \n",
       "36419  0001b1d5-b74a-4cbf-aeb0-7df5947bf349           3  "
      ]
     },
     "execution_count": 19,
     "metadata": {},
     "output_type": "execute_result"
    }
   ],
   "source": [
    "g = (sorted_data.groupby('user_id')['event_time'].diff() > pd.Timedelta('30Min')).cumsum()\n",
    "\n",
    "sorted_data['session_id'] = sorted_data.groupby(['user_id', g], sort=False).ngroup() + 1\n",
    "sorted_data_new = sorted_data.drop_duplicates(subset=['session_id', 'event_name'])\n",
    "sorted_data_new.head()"
   ]
  },
  {
   "cell_type": "markdown",
   "metadata": {},
   "source": [
    "Основываясь на дефолтных данных Яндекс Метрики, за тайм-аут считаю 30 мин: https://yandex.ru/support/metrica/general/glossary.html"
   ]
  },
  {
   "cell_type": "markdown",
   "metadata": {},
   "source": [
    "##### Найдем среднюю длительность сессии."
   ]
  },
  {
   "cell_type": "code",
   "execution_count": 20,
   "metadata": {},
   "outputs": [
    {
     "data": {
      "text/plain": [
       "'Средняя длительность сессии:'"
      ]
     },
     "metadata": {},
     "output_type": "display_data"
    },
    {
     "data": {
      "text/plain": [
       "Timedelta('0 days 00:05:35.169711500')"
      ]
     },
     "metadata": {},
     "output_type": "display_data"
    }
   ],
   "source": [
    "sessions = sorted_data.groupby(['user_id', 'session_id'])\n",
    "\n",
    "session_durations = sessions['event_time'].apply(lambda x: x.max() - x.min())\n",
    "\n",
    "\n",
    "average_session_duration = session_durations.median()\n",
    "\n",
    "display(\"Средняя длительность сессии:\", average_session_duration)"
   ]
  },
  {
   "cell_type": "markdown",
   "metadata": {},
   "source": [
    "##### Найдем длительность каждой сессии, время ее начала и окончания."
   ]
  },
  {
   "cell_type": "code",
   "execution_count": 21,
   "metadata": {},
   "outputs": [
    {
     "data": {
      "text/html": [
       "<div>\n",
       "<style scoped>\n",
       "    .dataframe tbody tr th:only-of-type {\n",
       "        vertical-align: middle;\n",
       "    }\n",
       "\n",
       "    .dataframe tbody tr th {\n",
       "        vertical-align: top;\n",
       "    }\n",
       "\n",
       "    .dataframe thead th {\n",
       "        text-align: right;\n",
       "    }\n",
       "</style>\n",
       "<table border=\"1\" class=\"dataframe\">\n",
       "  <thead>\n",
       "    <tr style=\"text-align: right;\">\n",
       "      <th></th>\n",
       "      <th>user_id</th>\n",
       "      <th>session_id</th>\n",
       "      <th>session_duration</th>\n",
       "      <th>last_time</th>\n",
       "      <th>first_time</th>\n",
       "    </tr>\n",
       "  </thead>\n",
       "  <tbody>\n",
       "    <tr>\n",
       "      <th>0</th>\n",
       "      <td>0001b1d5-b74a-4cbf-aeb0-7df5947bf349</td>\n",
       "      <td>1</td>\n",
       "      <td>0 days 00:09:55.727258</td>\n",
       "      <td>2019-10-07 13:49:41.716617</td>\n",
       "      <td>2019-10-07 13:39:45.989359</td>\n",
       "    </tr>\n",
       "    <tr>\n",
       "      <th>1</th>\n",
       "      <td>0001b1d5-b74a-4cbf-aeb0-7df5947bf349</td>\n",
       "      <td>2</td>\n",
       "      <td>0 days 00:08:27.385985</td>\n",
       "      <td>2019-10-09 18:42:22.963948</td>\n",
       "      <td>2019-10-09 18:33:55.577963</td>\n",
       "    </tr>\n",
       "    <tr>\n",
       "      <th>2</th>\n",
       "      <td>0001b1d5-b74a-4cbf-aeb0-7df5947bf349</td>\n",
       "      <td>3</td>\n",
       "      <td>0 days 00:14:59.272096</td>\n",
       "      <td>2019-10-21 20:07:30.051028</td>\n",
       "      <td>2019-10-21 19:52:30.778932</td>\n",
       "    </tr>\n",
       "    <tr>\n",
       "      <th>3</th>\n",
       "      <td>0001b1d5-b74a-4cbf-aeb0-7df5947bf349</td>\n",
       "      <td>4</td>\n",
       "      <td>0 days 00:12:38.171767</td>\n",
       "      <td>2019-10-22 11:30:52.807203</td>\n",
       "      <td>2019-10-22 11:18:14.635436</td>\n",
       "    </tr>\n",
       "    <tr>\n",
       "      <th>4</th>\n",
       "      <td>00157779-810c-4498-9e05-a1e9e3cedf93</td>\n",
       "      <td>5</td>\n",
       "      <td>0 days 00:25:20.787329</td>\n",
       "      <td>2019-10-19 21:59:54.637098</td>\n",
       "      <td>2019-10-19 21:34:33.849769</td>\n",
       "    </tr>\n",
       "  </tbody>\n",
       "</table>\n",
       "</div>"
      ],
      "text/plain": [
       "                                user_id  session_id       session_duration  \\\n",
       "0  0001b1d5-b74a-4cbf-aeb0-7df5947bf349           1 0 days 00:09:55.727258   \n",
       "1  0001b1d5-b74a-4cbf-aeb0-7df5947bf349           2 0 days 00:08:27.385985   \n",
       "2  0001b1d5-b74a-4cbf-aeb0-7df5947bf349           3 0 days 00:14:59.272096   \n",
       "3  0001b1d5-b74a-4cbf-aeb0-7df5947bf349           4 0 days 00:12:38.171767   \n",
       "4  00157779-810c-4498-9e05-a1e9e3cedf93           5 0 days 00:25:20.787329   \n",
       "\n",
       "                   last_time                 first_time  \n",
       "0 2019-10-07 13:49:41.716617 2019-10-07 13:39:45.989359  \n",
       "1 2019-10-09 18:42:22.963948 2019-10-09 18:33:55.577963  \n",
       "2 2019-10-21 20:07:30.051028 2019-10-21 19:52:30.778932  \n",
       "3 2019-10-22 11:30:52.807203 2019-10-22 11:18:14.635436  \n",
       "4 2019-10-19 21:59:54.637098 2019-10-19 21:34:33.849769  "
      ]
     },
     "execution_count": 21,
     "metadata": {},
     "output_type": "execute_result"
    }
   ],
   "source": [
    "sessions_df = sorted_data.pivot_table(\n",
    "    index=['user_id', 'session_id'],\n",
    "    values='event_time',\n",
    "    aggfunc=lambda x: x.max() - x.min()\n",
    ").reset_index()\n",
    "\n",
    "sessions_df[['max_time', 'min_time']] = sorted_data.groupby(['user_id', 'session_id'])['event_time'].agg(['max', 'min']).reset_index(drop=True)\n",
    "\n",
    "sessions_df = sessions_df.rename(columns={'event_time': 'session_duration', 'max_time': 'last_time', 'min_time': 'first_time'})\n",
    "\n",
    "sessions_df.head()\n"
   ]
  },
  {
   "cell_type": "markdown",
   "metadata": {},
   "source": [
    "##### Найдем количество сессий для каждого пользователя."
   ]
  },
  {
   "cell_type": "code",
   "execution_count": 22,
   "metadata": {},
   "outputs": [
    {
     "data": {
      "text/html": [
       "<div>\n",
       "<style scoped>\n",
       "    .dataframe tbody tr th:only-of-type {\n",
       "        vertical-align: middle;\n",
       "    }\n",
       "\n",
       "    .dataframe tbody tr th {\n",
       "        vertical-align: top;\n",
       "    }\n",
       "\n",
       "    .dataframe thead th {\n",
       "        text-align: right;\n",
       "    }\n",
       "</style>\n",
       "<table border=\"1\" class=\"dataframe\">\n",
       "  <thead>\n",
       "    <tr style=\"text-align: right;\">\n",
       "      <th></th>\n",
       "      <th>user_id</th>\n",
       "      <th>session_count</th>\n",
       "    </tr>\n",
       "  </thead>\n",
       "  <tbody>\n",
       "    <tr>\n",
       "      <th>615</th>\n",
       "      <td>21230dd9-2f7f-4b77-a436-43d4d10388e0</td>\n",
       "      <td>99</td>\n",
       "    </tr>\n",
       "    <tr>\n",
       "      <th>401</th>\n",
       "      <td>1580911b-65db-4f1a-be7e-1ca39becac30</td>\n",
       "      <td>52</td>\n",
       "    </tr>\n",
       "    <tr>\n",
       "      <th>3397</th>\n",
       "      <td>cb36854f-570a-41f4-baa8-36680b396370</td>\n",
       "      <td>50</td>\n",
       "    </tr>\n",
       "    <tr>\n",
       "      <th>1668</th>\n",
       "      <td>6383ff6a-04b8-4562-a98f-bb4f760d3c39</td>\n",
       "      <td>45</td>\n",
       "    </tr>\n",
       "    <tr>\n",
       "      <th>3794</th>\n",
       "      <td>e13f9f32-7ae3-4204-8d60-898db040bcfc</td>\n",
       "      <td>38</td>\n",
       "    </tr>\n",
       "  </tbody>\n",
       "</table>\n",
       "</div>"
      ],
      "text/plain": [
       "                                   user_id  session_count\n",
       "615   21230dd9-2f7f-4b77-a436-43d4d10388e0             99\n",
       "401   1580911b-65db-4f1a-be7e-1ca39becac30             52\n",
       "3397  cb36854f-570a-41f4-baa8-36680b396370             50\n",
       "1668  6383ff6a-04b8-4562-a98f-bb4f760d3c39             45\n",
       "3794  e13f9f32-7ae3-4204-8d60-898db040bcfc             38"
      ]
     },
     "execution_count": 22,
     "metadata": {},
     "output_type": "execute_result"
    }
   ],
   "source": [
    "sessions_per_user = sessions_df.groupby('user_id').size().reset_index(name='session_count')\n",
    "sessions_per_user = sessions_per_user.sort_values(by='session_count', ascending=False)\n",
    "\n",
    "sessions_per_user.head()"
   ]
  },
  {
   "cell_type": "markdown",
   "metadata": {},
   "source": [
    "Пользователь-лидер совершил почти 100 сессий в приложении."
   ]
  },
  {
   "cell_type": "markdown",
   "metadata": {},
   "source": [
    "##### Найдем наибольшее и наименьшее количество сессий."
   ]
  },
  {
   "cell_type": "code",
   "execution_count": 23,
   "metadata": {},
   "outputs": [
    {
     "data": {
      "text/html": [
       "<div>\n",
       "<style scoped>\n",
       "    .dataframe tbody tr th:only-of-type {\n",
       "        vertical-align: middle;\n",
       "    }\n",
       "\n",
       "    .dataframe tbody tr th {\n",
       "        vertical-align: top;\n",
       "    }\n",
       "\n",
       "    .dataframe thead th {\n",
       "        text-align: right;\n",
       "    }\n",
       "</style>\n",
       "<table border=\"1\" class=\"dataframe\">\n",
       "  <thead>\n",
       "    <tr style=\"text-align: right;\">\n",
       "      <th></th>\n",
       "      <th>session_count</th>\n",
       "    </tr>\n",
       "  </thead>\n",
       "  <tbody>\n",
       "    <tr>\n",
       "      <th>count</th>\n",
       "      <td>4293.000000</td>\n",
       "    </tr>\n",
       "    <tr>\n",
       "      <th>mean</th>\n",
       "      <td>2.415094</td>\n",
       "    </tr>\n",
       "    <tr>\n",
       "      <th>std</th>\n",
       "      <td>3.536466</td>\n",
       "    </tr>\n",
       "    <tr>\n",
       "      <th>min</th>\n",
       "      <td>1.000000</td>\n",
       "    </tr>\n",
       "    <tr>\n",
       "      <th>25%</th>\n",
       "      <td>1.000000</td>\n",
       "    </tr>\n",
       "    <tr>\n",
       "      <th>50%</th>\n",
       "      <td>1.000000</td>\n",
       "    </tr>\n",
       "    <tr>\n",
       "      <th>75%</th>\n",
       "      <td>3.000000</td>\n",
       "    </tr>\n",
       "    <tr>\n",
       "      <th>max</th>\n",
       "      <td>99.000000</td>\n",
       "    </tr>\n",
       "  </tbody>\n",
       "</table>\n",
       "</div>"
      ],
      "text/plain": [
       "       session_count\n",
       "count    4293.000000\n",
       "mean        2.415094\n",
       "std         3.536466\n",
       "min         1.000000\n",
       "25%         1.000000\n",
       "50%         1.000000\n",
       "75%         3.000000\n",
       "max        99.000000"
      ]
     },
     "execution_count": 23,
     "metadata": {},
     "output_type": "execute_result"
    }
   ],
   "source": [
    "sessions_per_user.describe()"
   ]
  },
  {
   "cell_type": "markdown",
   "metadata": {},
   "source": [
    "Самое маленькое количество сессий, совершенное одним пользователем - 1."
   ]
  },
  {
   "cell_type": "markdown",
   "metadata": {},
   "source": [
    "##### Изучим, какие события есть в датасете, как часто они встречаются."
   ]
  },
  {
   "cell_type": "code",
   "execution_count": 24,
   "metadata": {},
   "outputs": [
    {
     "data": {
      "text/html": [
       "<div>\n",
       "<style scoped>\n",
       "    .dataframe tbody tr th:only-of-type {\n",
       "        vertical-align: middle;\n",
       "    }\n",
       "\n",
       "    .dataframe tbody tr th {\n",
       "        vertical-align: top;\n",
       "    }\n",
       "\n",
       "    .dataframe thead th {\n",
       "        text-align: right;\n",
       "    }\n",
       "</style>\n",
       "<table border=\"1\" class=\"dataframe\">\n",
       "  <thead>\n",
       "    <tr style=\"text-align: right;\">\n",
       "      <th></th>\n",
       "      <th>event_name</th>\n",
       "      <th>count</th>\n",
       "    </tr>\n",
       "  </thead>\n",
       "  <tbody>\n",
       "    <tr>\n",
       "      <th>0</th>\n",
       "      <td>advert_open</td>\n",
       "      <td>6164</td>\n",
       "    </tr>\n",
       "    <tr>\n",
       "      <th>1</th>\n",
       "      <td>contacts_call</td>\n",
       "      <td>541</td>\n",
       "    </tr>\n",
       "    <tr>\n",
       "      <th>2</th>\n",
       "      <td>contacts_show</td>\n",
       "      <td>4450</td>\n",
       "    </tr>\n",
       "    <tr>\n",
       "      <th>3</th>\n",
       "      <td>favorites_add</td>\n",
       "      <td>1417</td>\n",
       "    </tr>\n",
       "    <tr>\n",
       "      <th>4</th>\n",
       "      <td>map</td>\n",
       "      <td>3881</td>\n",
       "    </tr>\n",
       "    <tr>\n",
       "      <th>5</th>\n",
       "      <td>photos_show</td>\n",
       "      <td>10012</td>\n",
       "    </tr>\n",
       "    <tr>\n",
       "      <th>6</th>\n",
       "      <td>search_1</td>\n",
       "      <td>3506</td>\n",
       "    </tr>\n",
       "    <tr>\n",
       "      <th>7</th>\n",
       "      <td>search_2</td>\n",
       "      <td>324</td>\n",
       "    </tr>\n",
       "    <tr>\n",
       "      <th>8</th>\n",
       "      <td>search_3</td>\n",
       "      <td>522</td>\n",
       "    </tr>\n",
       "    <tr>\n",
       "      <th>9</th>\n",
       "      <td>search_4</td>\n",
       "      <td>701</td>\n",
       "    </tr>\n",
       "    <tr>\n",
       "      <th>10</th>\n",
       "      <td>search_5</td>\n",
       "      <td>1049</td>\n",
       "    </tr>\n",
       "    <tr>\n",
       "      <th>11</th>\n",
       "      <td>search_6</td>\n",
       "      <td>460</td>\n",
       "    </tr>\n",
       "    <tr>\n",
       "      <th>12</th>\n",
       "      <td>search_7</td>\n",
       "      <td>222</td>\n",
       "    </tr>\n",
       "    <tr>\n",
       "      <th>13</th>\n",
       "      <td>show_contacts</td>\n",
       "      <td>79</td>\n",
       "    </tr>\n",
       "    <tr>\n",
       "      <th>14</th>\n",
       "      <td>tips_click</td>\n",
       "      <td>814</td>\n",
       "    </tr>\n",
       "    <tr>\n",
       "      <th>15</th>\n",
       "      <td>tips_show</td>\n",
       "      <td>40055</td>\n",
       "    </tr>\n",
       "  </tbody>\n",
       "</table>\n",
       "</div>"
      ],
      "text/plain": [
       "       event_name  count\n",
       "0     advert_open   6164\n",
       "1   contacts_call    541\n",
       "2   contacts_show   4450\n",
       "3   favorites_add   1417\n",
       "4             map   3881\n",
       "5     photos_show  10012\n",
       "6        search_1   3506\n",
       "7        search_2    324\n",
       "8        search_3    522\n",
       "9        search_4    701\n",
       "10       search_5   1049\n",
       "11       search_6    460\n",
       "12       search_7    222\n",
       "13  show_contacts     79\n",
       "14     tips_click    814\n",
       "15      tips_show  40055"
      ]
     },
     "execution_count": 24,
     "metadata": {},
     "output_type": "execute_result"
    }
   ],
   "source": [
    "events = sorted_data.groupby('event_name')['event_time'].count().reset_index()\n",
    "events.rename(columns={'event_name': 'event_name', 'event_time': 'count'}, inplace=True)\n",
    "events"
   ]
  },
  {
   "cell_type": "markdown",
   "metadata": {},
   "source": [
    "##### Сгруппируем все события по поиску в одно search"
   ]
  },
  {
   "cell_type": "code",
   "execution_count": 25,
   "metadata": {},
   "outputs": [
    {
     "data": {
      "text/html": [
       "<div>\n",
       "<style scoped>\n",
       "    .dataframe tbody tr th:only-of-type {\n",
       "        vertical-align: middle;\n",
       "    }\n",
       "\n",
       "    .dataframe tbody tr th {\n",
       "        vertical-align: top;\n",
       "    }\n",
       "\n",
       "    .dataframe thead th {\n",
       "        text-align: right;\n",
       "    }\n",
       "</style>\n",
       "<table border=\"1\" class=\"dataframe\">\n",
       "  <thead>\n",
       "    <tr style=\"text-align: right;\">\n",
       "      <th></th>\n",
       "      <th>event_name</th>\n",
       "      <th>count</th>\n",
       "    </tr>\n",
       "  </thead>\n",
       "  <tbody>\n",
       "    <tr>\n",
       "      <th>0</th>\n",
       "      <td>advert_open</td>\n",
       "      <td>6164</td>\n",
       "    </tr>\n",
       "    <tr>\n",
       "      <th>1</th>\n",
       "      <td>contacts_call</td>\n",
       "      <td>541</td>\n",
       "    </tr>\n",
       "    <tr>\n",
       "      <th>2</th>\n",
       "      <td>contacts_show</td>\n",
       "      <td>4450</td>\n",
       "    </tr>\n",
       "    <tr>\n",
       "      <th>3</th>\n",
       "      <td>favorites_add</td>\n",
       "      <td>1417</td>\n",
       "    </tr>\n",
       "    <tr>\n",
       "      <th>4</th>\n",
       "      <td>map</td>\n",
       "      <td>3881</td>\n",
       "    </tr>\n",
       "    <tr>\n",
       "      <th>5</th>\n",
       "      <td>photos_show</td>\n",
       "      <td>10012</td>\n",
       "    </tr>\n",
       "    <tr>\n",
       "      <th>13</th>\n",
       "      <td>show_contacts</td>\n",
       "      <td>79</td>\n",
       "    </tr>\n",
       "    <tr>\n",
       "      <th>14</th>\n",
       "      <td>tips_click</td>\n",
       "      <td>814</td>\n",
       "    </tr>\n",
       "    <tr>\n",
       "      <th>15</th>\n",
       "      <td>tips_show</td>\n",
       "      <td>40055</td>\n",
       "    </tr>\n",
       "    <tr>\n",
       "      <th>0</th>\n",
       "      <td>search</td>\n",
       "      <td>6784</td>\n",
       "    </tr>\n",
       "  </tbody>\n",
       "</table>\n",
       "</div>"
      ],
      "text/plain": [
       "       event_name  count\n",
       "0     advert_open   6164\n",
       "1   contacts_call    541\n",
       "2   contacts_show   4450\n",
       "3   favorites_add   1417\n",
       "4             map   3881\n",
       "5     photos_show  10012\n",
       "13  show_contacts     79\n",
       "14     tips_click    814\n",
       "15      tips_show  40055\n",
       "0          search   6784"
      ]
     },
     "metadata": {},
     "output_type": "display_data"
    }
   ],
   "source": [
    "search_events = events[events['event_name'].str.startswith('search_')]\n",
    "\n",
    "search_count = search_events['count'].sum()\n",
    "\n",
    "combined_search_event = pd.DataFrame({'event_name': ['search'], 'count': [search_count]})\n",
    "\n",
    "events = events.drop(search_events.index)\n",
    "\n",
    "events = pd.concat([events, combined_search_event])\n",
    "\n",
    "display(events)"
   ]
  },
  {
   "cell_type": "markdown",
   "metadata": {},
   "source": [
    "##### Объединим события show_contacts и contacts_show"
   ]
  },
  {
   "cell_type": "code",
   "execution_count": 26,
   "metadata": {},
   "outputs": [
    {
     "data": {
      "text/html": [
       "<div>\n",
       "<style scoped>\n",
       "    .dataframe tbody tr th:only-of-type {\n",
       "        vertical-align: middle;\n",
       "    }\n",
       "\n",
       "    .dataframe tbody tr th {\n",
       "        vertical-align: top;\n",
       "    }\n",
       "\n",
       "    .dataframe thead th {\n",
       "        text-align: right;\n",
       "    }\n",
       "</style>\n",
       "<table border=\"1\" class=\"dataframe\">\n",
       "  <thead>\n",
       "    <tr style=\"text-align: right;\">\n",
       "      <th></th>\n",
       "      <th>event_name</th>\n",
       "      <th>count</th>\n",
       "    </tr>\n",
       "  </thead>\n",
       "  <tbody>\n",
       "    <tr>\n",
       "      <th>0</th>\n",
       "      <td>advert_open</td>\n",
       "      <td>6164</td>\n",
       "    </tr>\n",
       "    <tr>\n",
       "      <th>1</th>\n",
       "      <td>contacts_call</td>\n",
       "      <td>541</td>\n",
       "    </tr>\n",
       "    <tr>\n",
       "      <th>3</th>\n",
       "      <td>favorites_add</td>\n",
       "      <td>1417</td>\n",
       "    </tr>\n",
       "    <tr>\n",
       "      <th>4</th>\n",
       "      <td>map</td>\n",
       "      <td>3881</td>\n",
       "    </tr>\n",
       "    <tr>\n",
       "      <th>5</th>\n",
       "      <td>photos_show</td>\n",
       "      <td>10012</td>\n",
       "    </tr>\n",
       "    <tr>\n",
       "      <th>13</th>\n",
       "      <td>show_contacts</td>\n",
       "      <td>4529</td>\n",
       "    </tr>\n",
       "    <tr>\n",
       "      <th>14</th>\n",
       "      <td>tips_click</td>\n",
       "      <td>814</td>\n",
       "    </tr>\n",
       "    <tr>\n",
       "      <th>15</th>\n",
       "      <td>tips_show</td>\n",
       "      <td>40055</td>\n",
       "    </tr>\n",
       "    <tr>\n",
       "      <th>0</th>\n",
       "      <td>search</td>\n",
       "      <td>6784</td>\n",
       "    </tr>\n",
       "  </tbody>\n",
       "</table>\n",
       "</div>"
      ],
      "text/plain": [
       "       event_name  count\n",
       "0     advert_open   6164\n",
       "1   contacts_call    541\n",
       "3   favorites_add   1417\n",
       "4             map   3881\n",
       "5     photos_show  10012\n",
       "13  show_contacts   4529\n",
       "14     tips_click    814\n",
       "15      tips_show  40055\n",
       "0          search   6784"
      ]
     },
     "metadata": {},
     "output_type": "display_data"
    }
   ],
   "source": [
    "show_contacts_count = events[events['event_name'].isin(['contacts_show', 'show_contacts'])]['count'].sum()\n",
    "\n",
    "events.loc[events['event_name'] == 'show_contacts', 'count'] = show_contacts_count\n",
    "\n",
    "events = events[events['event_name'] != 'contacts_show']\n",
    "\n",
    "display(events)\n"
   ]
  },
  {
   "cell_type": "markdown",
   "metadata": {},
   "source": [
    "##### Изучим количество событий по графику"
   ]
  },
  {
   "cell_type": "code",
   "execution_count": 27,
   "metadata": {},
   "outputs": [
    {
     "data": {
      "image/png": "[encoded data removed]",
      "text/plain": [
       "<Figure size 432x288 with 1 Axes>"
      ]
     },
     "metadata": {
      "needs_background": "light"
     },
     "output_type": "display_data"
    }
   ],
   "source": [
    "events_sorted = events.sort_values(by='count', ascending=True)\n",
    "\n",
    "plt.barh(events_sorted['event_name'], events_sorted['count'], align='center', alpha=0.7)\n",
    "plt.xlabel('Количество')\n",
    "plt.ylabel('События')\n",
    "plt.title('Количество событий')\n",
    "\n",
    "for i, count in enumerate(events_sorted['count']):\n",
    "    plt.text(count, i, str(count), ha='left', va='center')\n",
    "\n",
    "plt.show()"
   ]
  },
  {
   "cell_type": "markdown",
   "metadata": {},
   "source": [
    "Наиболее часто встречающееся событие – когда пользователь увидел рекомендованное объявление, самое редко встречающееся событие – когда пользователь совершает звонок."
   ]
  },
  {
   "cell_type": "markdown",
   "metadata": {},
   "source": [
    "##### Оценим пользовательскую активность - посчитаем DAU и WAU"
   ]
  },
  {
   "cell_type": "markdown",
   "metadata": {},
   "source": [
    "Поскольку данные собраны за месяц, посчитать ежедневную и недельную активность пользователей, преобразуем данные о времени и выделим год, месяц и неделю начала сессии в отдельные столбцы. "
   ]
  },
  {
   "cell_type": "code",
   "execution_count": 28,
   "metadata": {},
   "outputs": [
    {
     "data": {
      "text/html": [
       "<div>\n",
       "<style scoped>\n",
       "    .dataframe tbody tr th:only-of-type {\n",
       "        vertical-align: middle;\n",
       "    }\n",
       "\n",
       "    .dataframe tbody tr th {\n",
       "        vertical-align: top;\n",
       "    }\n",
       "\n",
       "    .dataframe thead th {\n",
       "        text-align: right;\n",
       "    }\n",
       "</style>\n",
       "<table border=\"1\" class=\"dataframe\">\n",
       "  <thead>\n",
       "    <tr style=\"text-align: right;\">\n",
       "      <th></th>\n",
       "      <th>user_id</th>\n",
       "      <th>session_id</th>\n",
       "      <th>session_duration</th>\n",
       "      <th>last_time</th>\n",
       "      <th>first_time</th>\n",
       "      <th>session_year</th>\n",
       "      <th>session_month</th>\n",
       "      <th>session_week</th>\n",
       "      <th>session_date</th>\n",
       "    </tr>\n",
       "  </thead>\n",
       "  <tbody>\n",
       "    <tr>\n",
       "      <th>0</th>\n",
       "      <td>0001b1d5-b74a-4cbf-aeb0-7df5947bf349</td>\n",
       "      <td>1</td>\n",
       "      <td>0 days 00:09:55.727258</td>\n",
       "      <td>2019-10-07 13:49:41.716617</td>\n",
       "      <td>2019-10-07 13:39:45.989359</td>\n",
       "      <td>2019</td>\n",
       "      <td>10</td>\n",
       "      <td>41</td>\n",
       "      <td>2019-10-07</td>\n",
       "    </tr>\n",
       "    <tr>\n",
       "      <th>1</th>\n",
       "      <td>0001b1d5-b74a-4cbf-aeb0-7df5947bf349</td>\n",
       "      <td>2</td>\n",
       "      <td>0 days 00:08:27.385985</td>\n",
       "      <td>2019-10-09 18:42:22.963948</td>\n",
       "      <td>2019-10-09 18:33:55.577963</td>\n",
       "      <td>2019</td>\n",
       "      <td>10</td>\n",
       "      <td>41</td>\n",
       "      <td>2019-10-09</td>\n",
       "    </tr>\n",
       "    <tr>\n",
       "      <th>2</th>\n",
       "      <td>0001b1d5-b74a-4cbf-aeb0-7df5947bf349</td>\n",
       "      <td>3</td>\n",
       "      <td>0 days 00:14:59.272096</td>\n",
       "      <td>2019-10-21 20:07:30.051028</td>\n",
       "      <td>2019-10-21 19:52:30.778932</td>\n",
       "      <td>2019</td>\n",
       "      <td>10</td>\n",
       "      <td>43</td>\n",
       "      <td>2019-10-21</td>\n",
       "    </tr>\n",
       "    <tr>\n",
       "      <th>3</th>\n",
       "      <td>0001b1d5-b74a-4cbf-aeb0-7df5947bf349</td>\n",
       "      <td>4</td>\n",
       "      <td>0 days 00:12:38.171767</td>\n",
       "      <td>2019-10-22 11:30:52.807203</td>\n",
       "      <td>2019-10-22 11:18:14.635436</td>\n",
       "      <td>2019</td>\n",
       "      <td>10</td>\n",
       "      <td>43</td>\n",
       "      <td>2019-10-22</td>\n",
       "    </tr>\n",
       "    <tr>\n",
       "      <th>4</th>\n",
       "      <td>00157779-810c-4498-9e05-a1e9e3cedf93</td>\n",
       "      <td>5</td>\n",
       "      <td>0 days 00:25:20.787329</td>\n",
       "      <td>2019-10-19 21:59:54.637098</td>\n",
       "      <td>2019-10-19 21:34:33.849769</td>\n",
       "      <td>2019</td>\n",
       "      <td>10</td>\n",
       "      <td>42</td>\n",
       "      <td>2019-10-19</td>\n",
       "    </tr>\n",
       "  </tbody>\n",
       "</table>\n",
       "</div>"
      ],
      "text/plain": [
       "                                user_id  session_id       session_duration  \\\n",
       "0  0001b1d5-b74a-4cbf-aeb0-7df5947bf349           1 0 days 00:09:55.727258   \n",
       "1  0001b1d5-b74a-4cbf-aeb0-7df5947bf349           2 0 days 00:08:27.385985   \n",
       "2  0001b1d5-b74a-4cbf-aeb0-7df5947bf349           3 0 days 00:14:59.272096   \n",
       "3  0001b1d5-b74a-4cbf-aeb0-7df5947bf349           4 0 days 00:12:38.171767   \n",
       "4  00157779-810c-4498-9e05-a1e9e3cedf93           5 0 days 00:25:20.787329   \n",
       "\n",
       "                   last_time                 first_time  session_year  \\\n",
       "0 2019-10-07 13:49:41.716617 2019-10-07 13:39:45.989359          2019   \n",
       "1 2019-10-09 18:42:22.963948 2019-10-09 18:33:55.577963          2019   \n",
       "2 2019-10-21 20:07:30.051028 2019-10-21 19:52:30.778932          2019   \n",
       "3 2019-10-22 11:30:52.807203 2019-10-22 11:18:14.635436          2019   \n",
       "4 2019-10-19 21:59:54.637098 2019-10-19 21:34:33.849769          2019   \n",
       "\n",
       "   session_month  session_week session_date  \n",
       "0             10            41   2019-10-07  \n",
       "1             10            41   2019-10-09  \n",
       "2             10            43   2019-10-21  \n",
       "3             10            43   2019-10-22  \n",
       "4             10            42   2019-10-19  "
      ]
     },
     "execution_count": 28,
     "metadata": {},
     "output_type": "execute_result"
    }
   ],
   "source": [
    "sessions_df['session_year'] = sessions_df['first_time'].dt.year\n",
    "sessions_df['session_month'] = sessions_df['first_time'].dt.month\n",
    "sessions_df['session_week'] = sessions_df['first_time'].dt.isocalendar().week\n",
    "sessions_df['session_date'] = sessions_df['first_time'].dt.date\n",
    "sessions_df.head()"
   ]
  },
  {
   "cell_type": "code",
   "execution_count": 29,
   "metadata": {},
   "outputs": [
    {
     "data": {
      "text/plain": [
       "'Ежедневных активных пользователей:'"
      ]
     },
     "metadata": {},
     "output_type": "display_data"
    },
    {
     "data": {
      "text/plain": [
       "277"
      ]
     },
     "metadata": {},
     "output_type": "display_data"
    },
    {
     "data": {
      "text/plain": [
       "'Еженедельных активных пользователей:'"
      ]
     },
     "metadata": {},
     "output_type": "display_data"
    },
    {
     "data": {
      "text/plain": [
       "1381"
      ]
     },
     "metadata": {},
     "output_type": "display_data"
    }
   ],
   "source": [
    "dau_total = (\n",
    "    sessions_df.groupby('session_date').agg({'user_id': 'nunique'}).mean()\n",
    ")\n",
    "\n",
    "wau_total = (\n",
    "    sessions_df.groupby(['session_year', 'session_week'])\n",
    "    .agg({'user_id': 'nunique'})\n",
    "    .mean()\n",
    ")\n",
    "\n",
    "display('Ежедневных активных пользователей:', int(dau_total))\n",
    "display('Еженедельных активных пользователей:', int(wau_total))"
   ]
  },
  {
   "cell_type": "markdown",
   "metadata": {},
   "source": [
    "##### Посчитаем долю пользователей, совершивших целевое событие - просмотр контактов"
   ]
  },
  {
   "cell_type": "code",
   "execution_count": 30,
   "metadata": {},
   "outputs": [
    {
     "data": {
      "text/plain": [
       "'Доля пользователей, совершивших целевое действие:'"
      ]
     },
     "metadata": {},
     "output_type": "display_data"
    },
    {
     "data": {
      "text/plain": [
       "0.22851153039832284"
      ]
     },
     "metadata": {},
     "output_type": "display_data"
    }
   ],
   "source": [
    "total_users = sorted_data['user_id'].nunique()\n",
    "\n",
    "target_users_count = sorted_data[sorted_data['event_name'].isin(['show_contacts', 'contacts_show'])]['user_id'].nunique()\n",
    "\n",
    "target_users_fraction = target_users_count / total_users\n",
    "\n",
    "display(\"Доля пользователей, совершивших целевое действие:\", target_users_fraction)\n"
   ]
  },
  {
   "cell_type": "markdown",
   "metadata": {},
   "source": [
    "##### Соединим сессии с пользователями"
   ]
  },
  {
   "cell_type": "code",
   "execution_count": 31,
   "metadata": {},
   "outputs": [
    {
     "name": "stderr",
     "output_type": "stream",
     "text": [
      "/opt/conda/lib/python3.9/site-packages/pandas/core/indexing.py:1720: SettingWithCopyWarning: \n",
      "A value is trying to be set on a copy of a slice from a DataFrame.\n",
      "Try using .loc[row_indexer,col_indexer] = value instead\n",
      "\n",
      "See the caveats in the documentation: https://pandas.pydata.org/pandas-docs/stable/user_guide/indexing.html#returning-a-view-versus-a-copy\n",
      "  self._setitem_single_column(loc, value, pi)\n",
      "/tmp/ipykernel_497/3720203181.py:2: SettingWithCopyWarning: \n",
      "A value is trying to be set on a copy of a slice from a DataFrame.\n",
      "Try using .loc[row_indexer,col_indexer] = value instead\n",
      "\n",
      "See the caveats in the documentation: https://pandas.pydata.org/pandas-docs/stable/user_guide/indexing.html#returning-a-view-versus-a-copy\n",
      "  sorted_data_new['event_name'] = sorted_data_new['event_name'].replace('contacts_show', 'show_contacts')\n"
     ]
    },
    {
     "data": {
      "text/html": [
       "<div>\n",
       "<style scoped>\n",
       "    .dataframe tbody tr th:only-of-type {\n",
       "        vertical-align: middle;\n",
       "    }\n",
       "\n",
       "    .dataframe tbody tr th {\n",
       "        vertical-align: top;\n",
       "    }\n",
       "\n",
       "    .dataframe thead th {\n",
       "        text-align: right;\n",
       "    }\n",
       "</style>\n",
       "<table border=\"1\" class=\"dataframe\">\n",
       "  <thead>\n",
       "    <tr style=\"text-align: right;\">\n",
       "      <th></th>\n",
       "      <th>session_id</th>\n",
       "      <th>event_name</th>\n",
       "      <th>user_id</th>\n",
       "    </tr>\n",
       "  </thead>\n",
       "  <tbody>\n",
       "    <tr>\n",
       "      <th>0</th>\n",
       "      <td>1</td>\n",
       "      <td>[tips_show]</td>\n",
       "      <td>[0001b1d5-b74a-4cbf-aeb0-7df5947bf349]</td>\n",
       "    </tr>\n",
       "    <tr>\n",
       "      <th>1</th>\n",
       "      <td>2</td>\n",
       "      <td>[map, tips_show]</td>\n",
       "      <td>[0001b1d5-b74a-4cbf-aeb0-7df5947bf349, 0001b1d...</td>\n",
       "    </tr>\n",
       "    <tr>\n",
       "      <th>2</th>\n",
       "      <td>3</td>\n",
       "      <td>[tips_show, map]</td>\n",
       "      <td>[0001b1d5-b74a-4cbf-aeb0-7df5947bf349, 0001b1d...</td>\n",
       "    </tr>\n",
       "    <tr>\n",
       "      <th>3</th>\n",
       "      <td>4</td>\n",
       "      <td>[map, tips_show]</td>\n",
       "      <td>[0001b1d5-b74a-4cbf-aeb0-7df5947bf349, 0001b1d...</td>\n",
       "    </tr>\n",
       "    <tr>\n",
       "      <th>4</th>\n",
       "      <td>5</td>\n",
       "      <td>[search, photos_show]</td>\n",
       "      <td>[00157779-810c-4498-9e05-a1e9e3cedf93, 0015777...</td>\n",
       "    </tr>\n",
       "    <tr>\n",
       "      <th>5</th>\n",
       "      <td>6</td>\n",
       "      <td>[search, photos_show, favorites_add, show_cont...</td>\n",
       "      <td>[00157779-810c-4498-9e05-a1e9e3cedf93, 0015777...</td>\n",
       "    </tr>\n",
       "    <tr>\n",
       "      <th>6</th>\n",
       "      <td>7</td>\n",
       "      <td>[photos_show, advert_open]</td>\n",
       "      <td>[00157779-810c-4498-9e05-a1e9e3cedf93, 0015777...</td>\n",
       "    </tr>\n",
       "    <tr>\n",
       "      <th>7</th>\n",
       "      <td>8</td>\n",
       "      <td>[search, photos_show, show_contacts, contacts_...</td>\n",
       "      <td>[00157779-810c-4498-9e05-a1e9e3cedf93, 0015777...</td>\n",
       "    </tr>\n",
       "    <tr>\n",
       "      <th>8</th>\n",
       "      <td>9</td>\n",
       "      <td>[search, photos_show, show_contacts]</td>\n",
       "      <td>[00157779-810c-4498-9e05-a1e9e3cedf93, 0015777...</td>\n",
       "    </tr>\n",
       "    <tr>\n",
       "      <th>9</th>\n",
       "      <td>10</td>\n",
       "      <td>[show_contacts]</td>\n",
       "      <td>[00157779-810c-4498-9e05-a1e9e3cedf93]</td>\n",
       "    </tr>\n",
       "  </tbody>\n",
       "</table>\n",
       "</div>"
      ],
      "text/plain": [
       "   session_id                                         event_name  \\\n",
       "0           1                                        [tips_show]   \n",
       "1           2                                   [map, tips_show]   \n",
       "2           3                                   [tips_show, map]   \n",
       "3           4                                   [map, tips_show]   \n",
       "4           5                              [search, photos_show]   \n",
       "5           6  [search, photos_show, favorites_add, show_cont...   \n",
       "6           7                         [photos_show, advert_open]   \n",
       "7           8  [search, photos_show, show_contacts, contacts_...   \n",
       "8           9               [search, photos_show, show_contacts]   \n",
       "9          10                                    [show_contacts]   \n",
       "\n",
       "                                             user_id  \n",
       "0             [0001b1d5-b74a-4cbf-aeb0-7df5947bf349]  \n",
       "1  [0001b1d5-b74a-4cbf-aeb0-7df5947bf349, 0001b1d...  \n",
       "2  [0001b1d5-b74a-4cbf-aeb0-7df5947bf349, 0001b1d...  \n",
       "3  [0001b1d5-b74a-4cbf-aeb0-7df5947bf349, 0001b1d...  \n",
       "4  [00157779-810c-4498-9e05-a1e9e3cedf93, 0015777...  \n",
       "5  [00157779-810c-4498-9e05-a1e9e3cedf93, 0015777...  \n",
       "6  [00157779-810c-4498-9e05-a1e9e3cedf93, 0015777...  \n",
       "7  [00157779-810c-4498-9e05-a1e9e3cedf93, 0015777...  \n",
       "8  [00157779-810c-4498-9e05-a1e9e3cedf93, 0015777...  \n",
       "9             [00157779-810c-4498-9e05-a1e9e3cedf93]  "
      ]
     },
     "metadata": {},
     "output_type": "display_data"
    }
   ],
   "source": [
    "sorted_data_new.loc[sorted_data_new['event_name'].str.startswith('search_'), 'event_name'] = 'search'\n",
    "sorted_data_new['event_name'] = sorted_data_new['event_name'].replace('contacts_show', 'show_contacts')\n",
    "\n",
    "session_user_counts = sorted_data_new.groupby('session_id')['user_id'].nunique().reset_index()\n",
    "session_user_counts.columns = ['session_id', 'user_count']\n",
    "\n",
    "unique_events = sorted_data_new.merge(session_user_counts, on='session_id', how='left')\n",
    "\n",
    "grouped_events = unique_events.groupby('session_id').agg({'event_name': list, 'user_id': list}).reset_index()\n",
    "display(grouped_events.head(10))\n"
   ]
  },
  {
   "cell_type": "markdown",
   "metadata": {},
   "source": [
    "Переведем данные из столбца event_name в строки."
   ]
  },
  {
   "cell_type": "code",
   "execution_count": 32,
   "metadata": {},
   "outputs": [
    {
     "data": {
      "text/html": [
       "<div>\n",
       "<style scoped>\n",
       "    .dataframe tbody tr th:only-of-type {\n",
       "        vertical-align: middle;\n",
       "    }\n",
       "\n",
       "    .dataframe tbody tr th {\n",
       "        vertical-align: top;\n",
       "    }\n",
       "\n",
       "    .dataframe thead th {\n",
       "        text-align: right;\n",
       "    }\n",
       "</style>\n",
       "<table border=\"1\" class=\"dataframe\">\n",
       "  <thead>\n",
       "    <tr style=\"text-align: right;\">\n",
       "      <th></th>\n",
       "      <th>session_id</th>\n",
       "      <th>user_id</th>\n",
       "      <th>event_name_list</th>\n",
       "    </tr>\n",
       "  </thead>\n",
       "  <tbody>\n",
       "    <tr>\n",
       "      <th>0</th>\n",
       "      <td>1</td>\n",
       "      <td>[0001b1d5-b74a-4cbf-aeb0-7df5947bf349]</td>\n",
       "      <td>tips_show</td>\n",
       "    </tr>\n",
       "    <tr>\n",
       "      <th>1</th>\n",
       "      <td>2</td>\n",
       "      <td>[0001b1d5-b74a-4cbf-aeb0-7df5947bf349, 0001b1d...</td>\n",
       "      <td>map, tips_show</td>\n",
       "    </tr>\n",
       "    <tr>\n",
       "      <th>2</th>\n",
       "      <td>3</td>\n",
       "      <td>[0001b1d5-b74a-4cbf-aeb0-7df5947bf349, 0001b1d...</td>\n",
       "      <td>tips_show, map</td>\n",
       "    </tr>\n",
       "    <tr>\n",
       "      <th>3</th>\n",
       "      <td>4</td>\n",
       "      <td>[0001b1d5-b74a-4cbf-aeb0-7df5947bf349, 0001b1d...</td>\n",
       "      <td>map, tips_show</td>\n",
       "    </tr>\n",
       "    <tr>\n",
       "      <th>4</th>\n",
       "      <td>5</td>\n",
       "      <td>[00157779-810c-4498-9e05-a1e9e3cedf93, 0015777...</td>\n",
       "      <td>search, photos_show</td>\n",
       "    </tr>\n",
       "  </tbody>\n",
       "</table>\n",
       "</div>"
      ],
      "text/plain": [
       "   session_id                                            user_id  \\\n",
       "0           1             [0001b1d5-b74a-4cbf-aeb0-7df5947bf349]   \n",
       "1           2  [0001b1d5-b74a-4cbf-aeb0-7df5947bf349, 0001b1d...   \n",
       "2           3  [0001b1d5-b74a-4cbf-aeb0-7df5947bf349, 0001b1d...   \n",
       "3           4  [0001b1d5-b74a-4cbf-aeb0-7df5947bf349, 0001b1d...   \n",
       "4           5  [00157779-810c-4498-9e05-a1e9e3cedf93, 0015777...   \n",
       "\n",
       "       event_name_list  \n",
       "0            tips_show  \n",
       "1       map, tips_show  \n",
       "2       tips_show, map  \n",
       "3       map, tips_show  \n",
       "4  search, photos_show  "
      ]
     },
     "execution_count": 32,
     "metadata": {},
     "output_type": "execute_result"
    }
   ],
   "source": [
    "grouped_events['event_name_list'] = grouped_events['event_name'].apply(', '.join)\n",
    "grouped_events_new = grouped_events.drop(columns=['event_name'])\n",
    "\n",
    "grouped_events_new.head()"
   ]
  },
  {
   "cell_type": "markdown",
   "metadata": {},
   "source": [
    "##### Найдем сценарии, которые приводят к просмотру контактов."
   ]
  },
  {
   "cell_type": "code",
   "execution_count": 33,
   "metadata": {},
   "outputs": [
    {
     "data": {
      "text/html": [
       "<div>\n",
       "<style scoped>\n",
       "    .dataframe tbody tr th:only-of-type {\n",
       "        vertical-align: middle;\n",
       "    }\n",
       "\n",
       "    .dataframe tbody tr th {\n",
       "        vertical-align: top;\n",
       "    }\n",
       "\n",
       "    .dataframe thead th {\n",
       "        text-align: right;\n",
       "    }\n",
       "</style>\n",
       "<table border=\"1\" class=\"dataframe\">\n",
       "  <thead>\n",
       "    <tr style=\"text-align: right;\">\n",
       "      <th></th>\n",
       "      <th>session_id</th>\n",
       "      <th>user_id</th>\n",
       "      <th>event_name_list</th>\n",
       "    </tr>\n",
       "  </thead>\n",
       "  <tbody>\n",
       "    <tr>\n",
       "      <th>5</th>\n",
       "      <td>6</td>\n",
       "      <td>[00157779-810c-4498-9e05-a1e9e3cedf93, 0015777...</td>\n",
       "      <td>search, photos_show, favorites_add, show_conta...</td>\n",
       "    </tr>\n",
       "    <tr>\n",
       "      <th>7</th>\n",
       "      <td>8</td>\n",
       "      <td>[00157779-810c-4498-9e05-a1e9e3cedf93, 0015777...</td>\n",
       "      <td>search, photos_show, show_contacts, contacts_c...</td>\n",
       "    </tr>\n",
       "    <tr>\n",
       "      <th>8</th>\n",
       "      <td>9</td>\n",
       "      <td>[00157779-810c-4498-9e05-a1e9e3cedf93, 0015777...</td>\n",
       "      <td>search, photos_show, show_contacts</td>\n",
       "    </tr>\n",
       "    <tr>\n",
       "      <th>9</th>\n",
       "      <td>10</td>\n",
       "      <td>[00157779-810c-4498-9e05-a1e9e3cedf93]</td>\n",
       "      <td>show_contacts</td>\n",
       "    </tr>\n",
       "    <tr>\n",
       "      <th>17</th>\n",
       "      <td>18</td>\n",
       "      <td>[00551e79-152e-4441-9cf7-565d7eb04090, 00551e7...</td>\n",
       "      <td>show_contacts, contacts_call</td>\n",
       "    </tr>\n",
       "    <tr>\n",
       "      <th>18</th>\n",
       "      <td>19</td>\n",
       "      <td>[00551e79-152e-4441-9cf7-565d7eb04090, 00551e7...</td>\n",
       "      <td>search, show_contacts, contacts_call</td>\n",
       "    </tr>\n",
       "    <tr>\n",
       "      <th>22</th>\n",
       "      <td>23</td>\n",
       "      <td>[005fbea5-2678-406f-88a6-fbe9787e2268, 005fbea...</td>\n",
       "      <td>show_contacts, tips_show</td>\n",
       "    </tr>\n",
       "    <tr>\n",
       "      <th>26</th>\n",
       "      <td>27</td>\n",
       "      <td>[00753c79-ea81-4456-acd0-a47a23ca2fb9]</td>\n",
       "      <td>show_contacts</td>\n",
       "    </tr>\n",
       "    <tr>\n",
       "      <th>29</th>\n",
       "      <td>30</td>\n",
       "      <td>[007d031d-5018-4e02-b7ee-72a30609173f, 007d031...</td>\n",
       "      <td>map, tips_show, show_contacts</td>\n",
       "    </tr>\n",
       "    <tr>\n",
       "      <th>31</th>\n",
       "      <td>32</td>\n",
       "      <td>[00a93a72-3bbc-4ee7-8a81-7134f45ae009, 00a93a7...</td>\n",
       "      <td>show_contacts, search</td>\n",
       "    </tr>\n",
       "  </tbody>\n",
       "</table>\n",
       "</div>"
      ],
      "text/plain": [
       "    session_id                                            user_id  \\\n",
       "5            6  [00157779-810c-4498-9e05-a1e9e3cedf93, 0015777...   \n",
       "7            8  [00157779-810c-4498-9e05-a1e9e3cedf93, 0015777...   \n",
       "8            9  [00157779-810c-4498-9e05-a1e9e3cedf93, 0015777...   \n",
       "9           10             [00157779-810c-4498-9e05-a1e9e3cedf93]   \n",
       "17          18  [00551e79-152e-4441-9cf7-565d7eb04090, 00551e7...   \n",
       "18          19  [00551e79-152e-4441-9cf7-565d7eb04090, 00551e7...   \n",
       "22          23  [005fbea5-2678-406f-88a6-fbe9787e2268, 005fbea...   \n",
       "26          27             [00753c79-ea81-4456-acd0-a47a23ca2fb9]   \n",
       "29          30  [007d031d-5018-4e02-b7ee-72a30609173f, 007d031...   \n",
       "31          32  [00a93a72-3bbc-4ee7-8a81-7134f45ae009, 00a93a7...   \n",
       "\n",
       "                                      event_name_list  \n",
       "5   search, photos_show, favorites_add, show_conta...  \n",
       "7   search, photos_show, show_contacts, contacts_c...  \n",
       "8                  search, photos_show, show_contacts  \n",
       "9                                       show_contacts  \n",
       "17                       show_contacts, contacts_call  \n",
       "18               search, show_contacts, contacts_call  \n",
       "22                           show_contacts, tips_show  \n",
       "26                                      show_contacts  \n",
       "29                      map, tips_show, show_contacts  \n",
       "31                              show_contacts, search  "
      ]
     },
     "metadata": {},
     "output_type": "display_data"
    }
   ],
   "source": [
    "filtered_grouped_events = grouped_events_new[grouped_events_new['event_name_list'].apply(lambda x: 'show_contacts' in x)]\n",
    "display(filtered_grouped_events.head(10))"
   ]
  },
  {
   "cell_type": "code",
   "execution_count": 34,
   "metadata": {},
   "outputs": [],
   "source": [
    "sorted_data.loc[sorted_data['event_name'].str.startswith('search_'), 'event_name'] = 'search'\n",
    "sorted_data['event_name'] = sorted_data['event_name'].replace('contacts_show', 'show_contacts')"
   ]
  },
  {
   "cell_type": "code",
   "execution_count": 35,
   "metadata": {},
   "outputs": [
    {
     "data": {
      "text/html": [
       "<div>\n",
       "<style scoped>\n",
       "    .dataframe tbody tr th:only-of-type {\n",
       "        vertical-align: middle;\n",
       "    }\n",
       "\n",
       "    .dataframe tbody tr th {\n",
       "        vertical-align: top;\n",
       "    }\n",
       "\n",
       "    .dataframe thead th {\n",
       "        text-align: right;\n",
       "    }\n",
       "</style>\n",
       "<table border=\"1\" class=\"dataframe\">\n",
       "  <thead>\n",
       "    <tr style=\"text-align: right;\">\n",
       "      <th></th>\n",
       "      <th>event_name_list</th>\n",
       "      <th>session_id</th>\n",
       "      <th>user_id</th>\n",
       "    </tr>\n",
       "  </thead>\n",
       "  <tbody>\n",
       "    <tr>\n",
       "      <th>201</th>\n",
       "      <td>tips_show, show_contacts</td>\n",
       "      <td>342</td>\n",
       "      <td>[0103a07d-513f-42b9-8d91-d5891d5655fe, 0103a07...</td>\n",
       "    </tr>\n",
       "    <tr>\n",
       "      <th>134</th>\n",
       "      <td>show_contacts</td>\n",
       "      <td>195</td>\n",
       "      <td>[00157779-810c-4498-9e05-a1e9e3cedf93]</td>\n",
       "    </tr>\n",
       "    <tr>\n",
       "      <th>138</th>\n",
       "      <td>show_contacts, contacts_call</td>\n",
       "      <td>120</td>\n",
       "      <td>[00551e79-152e-4441-9cf7-565d7eb04090, 00551e7...</td>\n",
       "    </tr>\n",
       "    <tr>\n",
       "      <th>51</th>\n",
       "      <td>map, tips_show, show_contacts</td>\n",
       "      <td>94</td>\n",
       "      <td>[007d031d-5018-4e02-b7ee-72a30609173f, 007d031...</td>\n",
       "    </tr>\n",
       "    <tr>\n",
       "      <th>67</th>\n",
       "      <td>photos_show, show_contacts</td>\n",
       "      <td>85</td>\n",
       "      <td>[01d283e1-cb1c-407a-a4e0-9f72f3deecca, 01d283e...</td>\n",
       "    </tr>\n",
       "    <tr>\n",
       "      <th>172</th>\n",
       "      <td>show_contacts, tips_show</td>\n",
       "      <td>73</td>\n",
       "      <td>[005fbea5-2678-406f-88a6-fbe9787e2268, 005fbea...</td>\n",
       "    </tr>\n",
       "    <tr>\n",
       "      <th>121</th>\n",
       "      <td>search, show_contacts, contacts_call</td>\n",
       "      <td>54</td>\n",
       "      <td>[00551e79-152e-4441-9cf7-565d7eb04090, 00551e7...</td>\n",
       "    </tr>\n",
       "    <tr>\n",
       "      <th>87</th>\n",
       "      <td>search, photos_show, show_contacts</td>\n",
       "      <td>45</td>\n",
       "      <td>[00157779-810c-4498-9e05-a1e9e3cedf93, 0015777...</td>\n",
       "    </tr>\n",
       "    <tr>\n",
       "      <th>120</th>\n",
       "      <td>search, show_contacts</td>\n",
       "      <td>44</td>\n",
       "      <td>[03bef3ef-cce8-46ed-8c70-414b6b0486fb, 03bef3e...</td>\n",
       "    </tr>\n",
       "    <tr>\n",
       "      <th>158</th>\n",
       "      <td>show_contacts, photos_show</td>\n",
       "      <td>38</td>\n",
       "      <td>[0420f4cf-29ec-44c6-af9c-247f36efea68, 0420f4c...</td>\n",
       "    </tr>\n",
       "  </tbody>\n",
       "</table>\n",
       "</div>"
      ],
      "text/plain": [
       "                          event_name_list  session_id  \\\n",
       "201              tips_show, show_contacts         342   \n",
       "134                         show_contacts         195   \n",
       "138          show_contacts, contacts_call         120   \n",
       "51          map, tips_show, show_contacts          94   \n",
       "67             photos_show, show_contacts          85   \n",
       "172              show_contacts, tips_show          73   \n",
       "121  search, show_contacts, contacts_call          54   \n",
       "87     search, photos_show, show_contacts          45   \n",
       "120                 search, show_contacts          44   \n",
       "158            show_contacts, photos_show          38   \n",
       "\n",
       "                                               user_id  \n",
       "201  [0103a07d-513f-42b9-8d91-d5891d5655fe, 0103a07...  \n",
       "134             [00157779-810c-4498-9e05-a1e9e3cedf93]  \n",
       "138  [00551e79-152e-4441-9cf7-565d7eb04090, 00551e7...  \n",
       "51   [007d031d-5018-4e02-b7ee-72a30609173f, 007d031...  \n",
       "67   [01d283e1-cb1c-407a-a4e0-9f72f3deecca, 01d283e...  \n",
       "172  [005fbea5-2678-406f-88a6-fbe9787e2268, 005fbea...  \n",
       "121  [00551e79-152e-4441-9cf7-565d7eb04090, 00551e7...  \n",
       "87   [00157779-810c-4498-9e05-a1e9e3cedf93, 0015777...  \n",
       "120  [03bef3ef-cce8-46ed-8c70-414b6b0486fb, 03bef3e...  \n",
       "158  [0420f4cf-29ec-44c6-af9c-247f36efea68, 0420f4c...  "
      ]
     },
     "execution_count": 35,
     "metadata": {},
     "output_type": "execute_result"
    }
   ],
   "source": [
    "filtered_grouped_events = filtered_grouped_events.groupby('event_name_list').agg({'session_id': 'nunique', 'user_id': 'first'}).reset_index()\n",
    "\n",
    "filtered_grouped_events = filtered_grouped_events.sort_values(by='session_id', ascending=False)\n",
    "\n",
    "filtered_grouped_events.groupby('session_id')['event_name_list'].apply(tuple)\n",
    "\n",
    "filtered_grouped_events.head(10)\n"
   ]
  },
  {
   "cell_type": "markdown",
   "metadata": {},
   "source": [
    "Выберем три самых распространенных сценария для построения воронок: \n",
    "    \n",
    "    tips_show, show_contacts;\n",
    "    show_contacts, contacts_call;\n",
    "    map, tips_show, show_contacts."
   ]
  },
  {
   "cell_type": "markdown",
   "metadata": {},
   "source": [
    "##### Промежуточные выводы:\n",
    "<ul>\n",
    "<li>Cредняя длительность сессии 5 минут, 35 секунд.</li>\n",
    "<li>Самое большое количество сессий у одного пользователя – 99.</li>\n",
    "<li>Самое маленькое количество сессий, совершенное одним пользователем - 1.</li>\n",
    "<li>Наиболее часто встречающееся событие – когда пользователь увидел рекомендованное объявление, самое редко встречающееся событие – когда пользователь совершает звонок.</li>\n",
    "<li>В приложении 277 активных пользователей ежедневно и 1381 активный пользователь еженедельно.</li>\n",
    "<li>Чуть более 20% пользователей совершили целевое действие – просмотр контактов.</li>\n",
    "</ul>"
   ]
  },
  {
   "cell_type": "markdown",
   "metadata": {},
   "source": [
    "#### Основные вопросы исследования\n",
    "\n",
    "1. Проанализируем связь целевого события — просмотра контактов — и других действий пользователей\n",
    "<ul>\n",
    "<li>В разрезе сессий отберем 3-4 сценария\\паттерна, которые приводят к просмотру контактов</li>\n",
    "<li>Построим воронки по основным сценариям в разрезе уникальных пользователей</li>\n",
    "</ul>\n",
    "\n",
    "\n",
    "2. Оценим, какие действия чаще совершают те пользователи, которые просматривают контакты\n",
    "\n",
    "Рассчитаем относительную частоту событий в разрезе двух групп пользователей:\n",
    "<ul>\n",
    "<li>группа пользователей, которые смотрели контакты contacts_show</li>\n",
    "<li>группа пользователей, которые не смотрели контакты contacts_show</li>\n",
    "</ul>\n"
   ]
  },
  {
   "cell_type": "markdown",
   "metadata": {},
   "source": [
    "На этапе исследования данных мы выбрали три сценария, которые приводят к просмотру контактов:\n",
    "<ul>\n",
    "<li>tips_show, show_contacts;</li>\n",
    "<li>map, tips_show, show_contacts;</li>\n",
    "<li>show_contacts,contacts_call.</li>\n",
    "</ul>"
   ]
  },
  {
   "cell_type": "markdown",
   "metadata": {},
   "source": [
    "##### Построим воронки по этим сценариям в разрезе уникальных пользователей"
   ]
  },
  {
   "cell_type": "markdown",
   "metadata": {},
   "source": [
    "Построим воронку для сценария tips_show, show_contacts."
   ]
  },
  {
   "cell_type": "code",
   "execution_count": 36,
   "metadata": {},
   "outputs": [],
   "source": [
    "steps = ['tips_show', 'show_contacts']"
   ]
  },
  {
   "cell_type": "code",
   "execution_count": 37,
   "metadata": {},
   "outputs": [
    {
     "data": {
      "text/html": [
       "<div>\n",
       "<style scoped>\n",
       "    .dataframe tbody tr th:only-of-type {\n",
       "        vertical-align: middle;\n",
       "    }\n",
       "\n",
       "    .dataframe tbody tr th {\n",
       "        vertical-align: top;\n",
       "    }\n",
       "\n",
       "    .dataframe thead th {\n",
       "        text-align: right;\n",
       "    }\n",
       "</style>\n",
       "<table border=\"1\" class=\"dataframe\">\n",
       "  <thead>\n",
       "    <tr style=\"text-align: right;\">\n",
       "      <th></th>\n",
       "      <th>step</th>\n",
       "      <th>val</th>\n",
       "      <th>pct</th>\n",
       "      <th>val-1</th>\n",
       "      <th>pct_from_first</th>\n",
       "    </tr>\n",
       "  </thead>\n",
       "  <tbody>\n",
       "    <tr>\n",
       "      <th>0</th>\n",
       "      <td>tips_show</td>\n",
       "      <td>2801</td>\n",
       "      <td>100</td>\n",
       "      <td>NaN</td>\n",
       "      <td>100</td>\n",
       "    </tr>\n",
       "    <tr>\n",
       "      <th>1</th>\n",
       "      <td>show_contacts</td>\n",
       "      <td>496</td>\n",
       "      <td>17</td>\n",
       "      <td>2801.0</td>\n",
       "      <td>17</td>\n",
       "    </tr>\n",
       "  </tbody>\n",
       "</table>\n",
       "</div>"
      ],
      "text/plain": [
       "            step   val  pct   val-1  pct_from_first\n",
       "0      tips_show  2801  100     NaN             100\n",
       "1  show_contacts   496   17  2801.0              17"
      ]
     },
     "execution_count": 37,
     "metadata": {},
     "output_type": "execute_result"
    }
   ],
   "source": [
    "def create_funnel_df(sorted_data, steps, from_date=None, to_date=None, step_interval=0):\n",
    "    sorted_data = sorted_data[['user_id', 'event_name', 'event_time']]\n",
    "    sorted_data = sorted_data[sorted_data['event_name'].isin(steps)]\n",
    "\n",
    "    values = []\n",
    "    dfs = {}\n",
    "    for i, step in enumerate(steps):\n",
    "        if i == 0:\n",
    "            dfs[step] = sorted_data[sorted_data['event_name'] == step] \\\n",
    "                .sort_values(['user_id', 'event_time'], ascending=True) \\\n",
    "                .drop_duplicates(subset=['user_id', 'event_name'], keep='first')\n",
    "\n",
    "            if from_date:\n",
    "                dfs[step] = dfs[step][(dfs[step]['event_time'] >= from_date)]\n",
    "\n",
    "            if to_date:\n",
    "                dfs[step] = dfs[step][(dfs[step]['event_time'] <= to_date)]\n",
    "\n",
    "        else:\n",
    "            dfs[step] = sorted_data[sorted_data['event_name'] == step]\n",
    "\n",
    "            merged = pd.merge(dfs[steps[i - 1]], dfs[step], on='user_id', how='outer')\n",
    "\n",
    "            valid_ids = dfs[steps[i - 1]]['user_id'].unique()\n",
    "            merged = merged[merged['user_id'].isin(valid_ids)]\n",
    "\n",
    "            merged = merged[merged['event_time_y'] >=\n",
    "                (merged['event_time_x'] + pd.to_timedelta(step_interval, unit='days'))].sort_values('event_time_y', ascending=True)\n",
    "\n",
    "            merged = merged.drop_duplicates(subset=['user_id', 'event_name_x', 'event_name_y'], keep='first')\n",
    "\n",
    "            merged = merged[['user_id', 'event_name_y', 'event_time_y']].rename({'event_name_y': 'event_name',\n",
    "                                                                         'event_time_y': 'event_time'}, axis=1)\n",
    "\n",
    "            dfs[step] = merged\n",
    "\n",
    "        values.append(len(dfs[step]))\n",
    "\n",
    "    funnel_df = pd.DataFrame({'step': steps, 'val': values})\n",
    "    funnel_df['pct'] = (100 - 100 * abs(funnel_df['val'].pct_change()).fillna(0)).astype(int)\n",
    "    funnel_df['val-1'] = funnel_df['val'].shift(1)\n",
    "    funnel_df['pct_from_first'] = (funnel_df['val'] / funnel_df['val'].loc[0] * 100).fillna(0).astype(int)\n",
    "\n",
    "    return funnel_df\n",
    "\n",
    "result_df = create_funnel_df(sorted_data, steps)\n",
    "\n",
    "result_df.head()"
   ]
  },
  {
   "cell_type": "code",
   "execution_count": 38,
   "metadata": {},
   "outputs": [],
   "source": [
    "def group_funnel_dfs(sorted_data, steps, col):\n",
    "    dict_ = {}\n",
    "    \n",
    "    ids = dict(sorted_data.groupby([col])['user_id'].apply(set))\n",
    "\n",
    "    for entry in sorted_data[col].dropna().unique():\n",
    "        ids_list = ids[entry]\n",
    "        df = sorted_data[sorted_data['user_id'].isin(ids_list)].copy()\n",
    "        if len(df[df['event_name'] == steps[0]]) > 0:\n",
    "            dict_[entry] = create_funnel_df(df, steps)\n",
    "\n",
    "    return dict_"
   ]
  },
  {
   "cell_type": "code",
   "execution_count": 39,
   "metadata": {},
   "outputs": [
    {
     "data": {
      "image/png": "[encoded data removed]",
      "text/plain": [
       "<Figure size 720x432 with 1 Axes>"
      ]
     },
     "metadata": {
      "needs_background": "light"
     },
     "output_type": "display_data"
    }
   ],
   "source": [
    "def plot_stacked_funnel(sorted_data, steps, col=None, from_date=None, to_date=None, step_interval=0):\n",
    "    data = []\n",
    "    if col:\n",
    "        dict_ = group_funnel_dfs(sorted_data, steps, col)\n",
    "        title = 'Funnel plot per {}'.format(col)\n",
    "    else:\n",
    "        funnel_df = create_funnel_df(sorted_data, steps, from_date=from_date, to_date=to_date, step_interval=step_interval)\n",
    "        dict_ = {'Total': funnel_df}\n",
    "        title = 'Воронка для сценария \"Просмотр рекомендаций/Просмотр контактов\"'\n",
    "\n",
    "    for t in dict_.keys():\n",
    "        plt.figure(figsize=(10, 6))\n",
    "        plt.barh(dict_[t].step.values, dict_[t].val.values)\n",
    "        for i, val in enumerate(dict_[t].val.values):\n",
    "            plt.text(val, i, str(val) + \" (\" + str(dict_[t]['pct'].values[i]) + \"%)\", ha='left', va='center')\n",
    "        plt.xlabel('Количество событий')\n",
    "        plt.ylabel('События')\n",
    "        plt.title(title)\n",
    "        plt.grid(True)\n",
    "        plt.gca().invert_yaxis()\n",
    "        plt.tight_layout()\n",
    "        plt.show()\n",
    "\n",
    "steps = ['tips_show', 'show_contacts']\n",
    "plot_stacked_funnel(sorted_data, steps, from_date=\"2010-10-07\", to_date=\"2019-11-11\")"
   ]
  },
  {
   "cell_type": "markdown",
   "metadata": {},
   "source": [
    "По графику видно, что после просмотра рекламного объявления только около 20% пользователей дошли до второго шага - просмотра номера телефона."
   ]
  },
  {
   "cell_type": "markdown",
   "metadata": {},
   "source": [
    "Рассмотрим второй сценарий - map, tips_show, show_contacts."
   ]
  },
  {
   "cell_type": "code",
   "execution_count": 40,
   "metadata": {},
   "outputs": [
    {
     "data": {
      "text/html": [
       "<div>\n",
       "<style scoped>\n",
       "    .dataframe tbody tr th:only-of-type {\n",
       "        vertical-align: middle;\n",
       "    }\n",
       "\n",
       "    .dataframe tbody tr th {\n",
       "        vertical-align: top;\n",
       "    }\n",
       "\n",
       "    .dataframe thead th {\n",
       "        text-align: right;\n",
       "    }\n",
       "</style>\n",
       "<table border=\"1\" class=\"dataframe\">\n",
       "  <thead>\n",
       "    <tr style=\"text-align: right;\">\n",
       "      <th></th>\n",
       "      <th>step</th>\n",
       "      <th>val</th>\n",
       "      <th>pct</th>\n",
       "      <th>val-1</th>\n",
       "      <th>pct_from_first</th>\n",
       "    </tr>\n",
       "  </thead>\n",
       "  <tbody>\n",
       "    <tr>\n",
       "      <th>0</th>\n",
       "      <td>map</td>\n",
       "      <td>1456</td>\n",
       "      <td>100</td>\n",
       "      <td>NaN</td>\n",
       "      <td>100</td>\n",
       "    </tr>\n",
       "    <tr>\n",
       "      <th>1</th>\n",
       "      <td>tips_show</td>\n",
       "      <td>1312</td>\n",
       "      <td>90</td>\n",
       "      <td>1456.0</td>\n",
       "      <td>90</td>\n",
       "    </tr>\n",
       "    <tr>\n",
       "      <th>2</th>\n",
       "      <td>show_contacts</td>\n",
       "      <td>224</td>\n",
       "      <td>17</td>\n",
       "      <td>1312.0</td>\n",
       "      <td>15</td>\n",
       "    </tr>\n",
       "  </tbody>\n",
       "</table>\n",
       "</div>"
      ],
      "text/plain": [
       "            step   val  pct   val-1  pct_from_first\n",
       "0            map  1456  100     NaN             100\n",
       "1      tips_show  1312   90  1456.0              90\n",
       "2  show_contacts   224   17  1312.0              15"
      ]
     },
     "execution_count": 40,
     "metadata": {},
     "output_type": "execute_result"
    }
   ],
   "source": [
    "steps = ['map','tips_show', 'show_contacts']\n",
    "\n",
    "result_df = create_funnel_df(sorted_data, steps)\n",
    "\n",
    "result_df.head()"
   ]
  },
  {
   "cell_type": "code",
   "execution_count": 41,
   "metadata": {},
   "outputs": [
    {
     "data": {
      "image/png": "[encoded data removed]",
      "text/plain": [
       "<Figure size 720x432 with 1 Axes>"
      ]
     },
     "metadata": {
      "needs_background": "light"
     },
     "output_type": "display_data"
    }
   ],
   "source": [
    "def plot_stacked_funnel(sorted_data, steps, col=None, from_date=None, to_date=None, step_interval=0):\n",
    "    data = []\n",
    "    if col:\n",
    "        dict_ = group_funnel_dfs(sorted_data, steps, col)\n",
    "        title = 'Funnel plot per {}'.format(col)\n",
    "    else:\n",
    "        funnel_df = create_funnel_df(sorted_data, steps, from_date=from_date, to_date=to_date, step_interval=step_interval)\n",
    "        dict_ = {'Total': funnel_df}\n",
    "        title = 'Воронка для сценария \"Просмотр карты и рекомендаций/Просмотр контактов\"'\n",
    "\n",
    "    for t in dict_.keys():\n",
    "        plt.figure(figsize=(10, 6))\n",
    "        plt.barh(dict_[t].step.values, dict_[t].val.values)\n",
    "        for i, val in enumerate(dict_[t].val.values):\n",
    "            plt.text(val, i, str(val) + \" (\" + str(dict_[t]['pct'].values[i]) + \"%)\", ha='left', va='center')\n",
    "        plt.xlabel('Количество событий')\n",
    "        plt.ylabel('События')\n",
    "        plt.title(title)\n",
    "        plt.grid(True)\n",
    "        plt.gca().invert_yaxis()\n",
    "        plt.tight_layout()\n",
    "        plt.show()\n",
    "\n",
    "steps = ['map','tips_show', 'show_contacts']\n",
    "plot_stacked_funnel(sorted_data, steps, from_date=\"2010-10-07\", to_date=\"2019-11-11\")"
   ]
  },
  {
   "cell_type": "markdown",
   "metadata": {},
   "source": [
    "После просмотра карты объявлений всего 10% пользователей отвалилось при переходе на рекомендованные объявления, однако до просмотра контактов дошло всего 17% пользователей. "
   ]
  },
  {
   "cell_type": "markdown",
   "metadata": {},
   "source": [
    "Рассмотрим третий сценарий - show_contacts, contacts_call."
   ]
  },
  {
   "cell_type": "code",
   "execution_count": 42,
   "metadata": {},
   "outputs": [
    {
     "data": {
      "text/html": [
       "<div>\n",
       "<style scoped>\n",
       "    .dataframe tbody tr th:only-of-type {\n",
       "        vertical-align: middle;\n",
       "    }\n",
       "\n",
       "    .dataframe tbody tr th {\n",
       "        vertical-align: top;\n",
       "    }\n",
       "\n",
       "    .dataframe thead th {\n",
       "        text-align: right;\n",
       "    }\n",
       "</style>\n",
       "<table border=\"1\" class=\"dataframe\">\n",
       "  <thead>\n",
       "    <tr style=\"text-align: right;\">\n",
       "      <th></th>\n",
       "      <th>step</th>\n",
       "      <th>val</th>\n",
       "      <th>pct</th>\n",
       "      <th>val-1</th>\n",
       "      <th>pct_from_first</th>\n",
       "    </tr>\n",
       "  </thead>\n",
       "  <tbody>\n",
       "    <tr>\n",
       "      <th>0</th>\n",
       "      <td>show_contacts</td>\n",
       "      <td>981</td>\n",
       "      <td>100</td>\n",
       "      <td>NaN</td>\n",
       "      <td>100</td>\n",
       "    </tr>\n",
       "    <tr>\n",
       "      <th>1</th>\n",
       "      <td>contacts_call</td>\n",
       "      <td>213</td>\n",
       "      <td>21</td>\n",
       "      <td>981.0</td>\n",
       "      <td>21</td>\n",
       "    </tr>\n",
       "  </tbody>\n",
       "</table>\n",
       "</div>"
      ],
      "text/plain": [
       "            step  val  pct  val-1  pct_from_first\n",
       "0  show_contacts  981  100    NaN             100\n",
       "1  contacts_call  213   21  981.0              21"
      ]
     },
     "execution_count": 42,
     "metadata": {},
     "output_type": "execute_result"
    }
   ],
   "source": [
    "steps = ['show_contacts', 'contacts_call']\n",
    "\n",
    "result_df = create_funnel_df(sorted_data, steps)\n",
    "\n",
    "result_df.head()"
   ]
  },
  {
   "cell_type": "code",
   "execution_count": 43,
   "metadata": {},
   "outputs": [
    {
     "data": {
      "image/png": "[encoded data removed]",
      "text/plain": [
       "<Figure size 720x432 with 1 Axes>"
      ]
     },
     "metadata": {
      "needs_background": "light"
     },
     "output_type": "display_data"
    }
   ],
   "source": [
    "def plot_stacked_funnel(sorted_data, steps, col=None, from_date=None, to_date=None, step_interval=0):\n",
    "    data = []\n",
    "    if col:\n",
    "        dict_ = group_funnel_dfs(sorted_data, steps, col)\n",
    "        title = 'Funnel plot per {}'.format(col)\n",
    "    else:\n",
    "        funnel_df = create_funnel_df(sorted_data, steps, from_date=from_date, to_date=to_date, step_interval=step_interval)\n",
    "        dict_ = {'Total': funnel_df}\n",
    "        title = 'Воронка для сценария \"Просмотр контактов/Звонок\"'\n",
    "\n",
    "    for t in dict_.keys():\n",
    "        plt.figure(figsize=(10, 6))\n",
    "        plt.barh(dict_[t].step.values, dict_[t].val.values)\n",
    "        for i, val in enumerate(dict_[t].val.values):\n",
    "            plt.text(val, i, str(val) + \" (\" + str(dict_[t]['pct'].values[i]) + \"%)\", ha='left', va='center')\n",
    "        plt.xlabel('Количество событий')\n",
    "        plt.ylabel('События')\n",
    "        plt.title(title)\n",
    "        plt.grid(True)\n",
    "        plt.gca().invert_yaxis()\n",
    "        plt.tight_layout()\n",
    "        plt.show()\n",
    "\n",
    "steps = ['show_contacts', 'contacts_call']\n",
    "plot_stacked_funnel(sorted_data, steps, from_date=\"2010-10-07\", to_date=\"2019-11-11\")"
   ]
  },
  {
   "cell_type": "markdown",
   "metadata": {},
   "source": [
    "Только около 20% людей дошли до объявления до звонка."
   ]
  },
  {
   "cell_type": "markdown",
   "metadata": {},
   "source": [
    "##### Выделим пользователей, которые смотрели контакты show_contacts и которые не смотрели контакты."
   ]
  },
  {
   "cell_type": "code",
   "execution_count": 44,
   "metadata": {},
   "outputs": [
    {
     "data": {
      "text/plain": [
       "'Кол-во пользователей, посмотревших контакты:'"
      ]
     },
     "metadata": {},
     "output_type": "display_data"
    },
    {
     "data": {
      "text/plain": [
       "981"
      ]
     },
     "metadata": {},
     "output_type": "display_data"
    }
   ],
   "source": [
    "contacts_users = sorted_data.query('event_name==\"show_contacts\"')['user_id'].unique().tolist()\n",
    "display(\"Кол-во пользователей, посмотревших контакты:\", len(contacts_users))"
   ]
  },
  {
   "cell_type": "code",
   "execution_count": 45,
   "metadata": {},
   "outputs": [
    {
     "data": {
      "text/plain": [
       "'Кол-во всех пользователей:'"
      ]
     },
     "metadata": {},
     "output_type": "display_data"
    },
    {
     "data": {
      "text/plain": [
       "4293"
      ]
     },
     "metadata": {},
     "output_type": "display_data"
    }
   ],
   "source": [
    "all_users = sorted_data['user_id'].unique()\n",
    "display(\"Кол-во всех пользователей:\", len(all_users))"
   ]
  },
  {
   "cell_type": "code",
   "execution_count": 46,
   "metadata": {},
   "outputs": [
    {
     "data": {
      "text/plain": [
       "'Кол-во пользователей, не просмотревших контакты:'"
      ]
     },
     "metadata": {},
     "output_type": "display_data"
    },
    {
     "data": {
      "text/plain": [
       "3312"
      ]
     },
     "metadata": {},
     "output_type": "display_data"
    }
   ],
   "source": [
    "no_contacts_users = list( set(all_users) - set(contacts_users) )\n",
    "display(\"Кол-во пользователей, не просмотревших контакты:\", len(no_contacts_users))"
   ]
  },
  {
   "cell_type": "markdown",
   "metadata": {},
   "source": [
    "##### Сравним их действия"
   ]
  },
  {
   "cell_type": "code",
   "execution_count": 47,
   "metadata": {},
   "outputs": [
    {
     "data": {
      "text/plain": [
       "tips_show        27287\n",
       "photos_show       6184\n",
       "search            4700\n",
       "advert_open       4575\n",
       "map               2780\n",
       "favorites_add      993\n",
       "tips_click         481\n",
       "Name: event_name, dtype: int64"
      ]
     },
     "execution_count": 47,
     "metadata": {},
     "output_type": "execute_result"
    }
   ],
   "source": [
    "no_contacts_events = sorted_data.query('user_id==@no_contacts_users')['event_name'].value_counts()\n",
    "no_contacts_events"
   ]
  },
  {
   "cell_type": "code",
   "execution_count": 48,
   "metadata": {},
   "outputs": [
    {
     "data": {
      "text/plain": [
       "tips_show        12768\n",
       "show_contacts     4529\n",
       "photos_show       3828\n",
       "search            2084\n",
       "advert_open       1589\n",
       "map               1101\n",
       "contacts_call      541\n",
       "favorites_add      424\n",
       "tips_click         333\n",
       "Name: event_name, dtype: int64"
      ]
     },
     "execution_count": 48,
     "metadata": {},
     "output_type": "execute_result"
    }
   ],
   "source": [
    "contacts_events = sorted_data.query('user_id==@contacts_users')['event_name'].value_counts()\n",
    "contacts_events"
   ]
  },
  {
   "cell_type": "code",
   "execution_count": 49,
   "metadata": {},
   "outputs": [
    {
     "data": {
      "image/png": "[encoded data removed]",
      "text/plain": [
       "<Figure size 720x720 with 1 Axes>"
      ]
     },
     "metadata": {},
     "output_type": "display_data"
    }
   ],
   "source": [
    "events_colors_contacts = {\n",
    "    'tips_show': '#1f77b4',  \n",
    "    'show_contacts': '#ff7f0e',  \n",
    "    'photos_show': '#2ca02c',  \n",
    "    'search': '#d62728',  \n",
    "    'advert_open': '#9467bd',  \n",
    "    'map': '#8c564b',  \n",
    "    'contacts_call': '#e377c2',  \n",
    "    'favorites_add': '#7f7f7f',  \n",
    "    'tips_click': '#bcbd22'  \n",
    "}\n",
    "plt.figure(figsize=(10,10))\n",
    "plt.pie(contacts_events.values, labels=contacts_events.index, autopct='%1.1f%%', colors=events_colors_contacts.values())\n",
    "plt.title('Пользователи, просматривающие контакты');"
   ]
  },
  {
   "cell_type": "code",
   "execution_count": 50,
   "metadata": {},
   "outputs": [
    {
     "data": {
      "image/png": "[encoded data removed]",
      "text/plain": [
       "<Figure size 720x720 with 1 Axes>"
      ]
     },
     "metadata": {},
     "output_type": "display_data"
    }
   ],
   "source": [
    "events_colors_no_contacts = {\n",
    "    'tips_show': '#1f77b4',  \n",
    "    'photos_show': '#2ca02c',  \n",
    "    'search': '#d62728',  \n",
    "    'advert_open': '#9467bd', \n",
    "    'map': '#8c564b',  \n",
    "    'favorites_add': '#7f7f7f',  \n",
    "    'tips_click': '#bcbd22'\n",
    "}\n",
    "\n",
    "plt.figure(figsize=(10,10))\n",
    "plt.pie(no_contacts_events.values, labels=no_contacts_events.index, autopct='%1.1f%%', colors=events_colors_no_contacts.values())\n",
    "plt.title('Пользователи,  не просматривающие контакты');\n",
    "plt.show();"
   ]
  },
  {
   "cell_type": "markdown",
   "metadata": {},
   "source": [
    "По графику видно, что у тех, кто не просматривал контакты, нет события contacts_call, что логично - без контактов нельзя позвонить.Люди, совершившие целевое событие больше просматривают фотографии, но меньше открывают карточки объявлений."
   ]
  },
  {
   "cell_type": "markdown",
   "metadata": {},
   "source": [
    "#### Статистическое исследование\n",
    "\n",
    "<b>Гипотеза 1.</b>\n",
    "\n",
    "H0 - Конверсия в просмотры контактов одинаковая у пользователей, которые совершают действия tips_show и tips_click и тех, которые совершают только tips_show.\n",
    "\n",
    "H1 - Конверсия в просмотры контактов у пользователей, которые совершают действия tips_show и tips_click и тех, которые совершают только tips_show, разная."
   ]
  },
  {
   "cell_type": "code",
   "execution_count": 51,
   "metadata": {},
   "outputs": [
    {
     "name": "stdout",
     "output_type": "stream",
     "text": [
      "Кол-во пользователей tips_show = 2801\n",
      "Кол-во пользователей tips_show_click = 297\n",
      "Кол-во пользователей только tips_show = 2504\n"
     ]
    }
   ],
   "source": [
    "tips_show_users = sorted_data.query('event_name ==\"tips_show\"')['user_id'].unique().tolist()\n",
    "print('Кол-во пользователей tips_show =', len(tips_show_users))\n",
    "\n",
    "tips_show_click_users = sorted_data.query('event_name ==\"tips_click\" and user_id in @tips_show_users')['user_id'].unique().tolist()\n",
    "print('Кол-во пользователей tips_show_click =', len(tips_show_click_users))\n",
    "\n",
    "only_tips_show_users = list(set(tips_show_users) - set(tips_show_click_users))\n",
    "print('Кол-во пользователей только tips_show =', len(only_tips_show_users))"
   ]
  },
  {
   "cell_type": "code",
   "execution_count": 52,
   "metadata": {},
   "outputs": [
    {
     "name": "stdout",
     "output_type": "stream",
     "text": [
      "Количество пользователей tips_show, просмотревших контакты = 425\n",
      "Количество пользователей tips_show_click, просмотревших контакты = 91\n"
     ]
    }
   ],
   "source": [
    "show_contacts_users = sorted_data.query('event_name == \"show_contacts\"')['user_id'].unique().tolist()\n",
    "\n",
    "only_tips_show_with_contacts_users = list(set(only_tips_show_users) & set(show_contacts_users))\n",
    "print('Количество пользователей tips_show, просмотревших контакты =', len(only_tips_show_with_contacts_users))\n",
    "\n",
    "tips_show_click_with_contacts_users = list(set(tips_show_click_users) & set(show_contacts_users))\n",
    "print('Количество пользователей tips_show_click, просмотревших контакты =', len(tips_show_click_with_contacts_users))\n"
   ]
  },
  {
   "cell_type": "code",
   "execution_count": 53,
   "metadata": {},
   "outputs": [
    {
     "name": "stdout",
     "output_type": "stream",
     "text": [
      "Отвергаем нулевую гипотезу. Конверсия в просмотры контактов различается.\n"
     ]
    }
   ],
   "source": [
    "conversion_show_click = len(tips_show_click_with_contacts_users) / len(tips_show_click_users)\n",
    "conversion_show = len(show_contacts_users) / len(only_tips_show_users)\n",
    "\n",
    "\n",
    "count = np.array([len(tips_show_click_with_contacts_users), len(only_tips_show_with_contacts_users)])\n",
    "nobs = np.array([len(tips_show_click_users), len(only_tips_show_users)])\n",
    "\n",
    "z_stat, p_value = proportions_ztest(count, nobs)\n",
    "\n",
    "\n",
    "alpha = 0.05 \n",
    "\n",
    "if p_value < alpha:\n",
    "    print(\"Отвергаем нулевую гипотезу. Конверсия в просмотры контактов различается.\")\n",
    "else:\n",
    "    print(\"Не удалось отвергнуть нулевую гипотезу. Конверсия в просмотры контактов одинакова.\")"
   ]
  },
  {
   "cell_type": "code",
   "execution_count": 54,
   "metadata": {},
   "outputs": [
    {
     "name": "stdout",
     "output_type": "stream",
     "text": [
      "[ 91 425] [ 297 2504]\n"
     ]
    }
   ],
   "source": [
    "print(count, nobs)"
   ]
  },
  {
   "cell_type": "markdown",
   "metadata": {},
   "source": [
    "<b>Гипотеза 2.</b>\n",
    "\n",
    "Н0 - Конверсия в звонок у пользователей, которые кликнули по объявлению, и у тех, кто не смотрел объявления, одинаковая.\n",
    "\n",
    "Н1 - Конверсия в звонок у пользователей, которые кликнули по объявлению, больше, чем у тех, кто не смотрел объявления."
   ]
  },
  {
   "cell_type": "markdown",
   "metadata": {},
   "source": [
    "Посмотрим, достаточно ли звонков для проведения исследования."
   ]
  },
  {
   "cell_type": "code",
   "execution_count": 55,
   "metadata": {},
   "outputs": [
    {
     "data": {
      "text/plain": [
       "'Количество совершаемых звонков contacts_call:'"
      ]
     },
     "metadata": {},
     "output_type": "display_data"
    },
    {
     "data": {
      "text/plain": [
       "541"
      ]
     },
     "metadata": {},
     "output_type": "display_data"
    }
   ],
   "source": [
    "contacts_call_data = sorted_data[sorted_data['event_name'] == 'contacts_call']\n",
    "\n",
    "number_of_calls = contacts_call_data.shape[0]\n",
    "\n",
    "display(\"Количество совершаемых звонков contacts_call:\", number_of_calls)"
   ]
  },
  {
   "cell_type": "markdown",
   "metadata": {},
   "source": [
    "Это достаточное количество, переходим к проверке."
   ]
  },
  {
   "cell_type": "code",
   "execution_count": 56,
   "metadata": {},
   "outputs": [
    {
     "name": "stdout",
     "output_type": "stream",
     "text": [
      "Количество пользователей, совершивших tips_click и другие действия: 322\n",
      "Количество пользователей, не совершивших tips_click: 3971\n"
     ]
    }
   ],
   "source": [
    "users_per_event = sorted_data.groupby('event_name')['user_id'].nunique()\n",
    "\n",
    "\n",
    "users_with_tips_click = users_per_event.get('tips_click', 0)\n",
    "\n",
    "users_without_tips_click = sorted_data['user_id'].nunique() - users_with_tips_click\n",
    "\n",
    "print(\"Количество пользователей, совершивших tips_click и другие действия:\", users_with_tips_click)\n",
    "print(\"Количество пользователей, не совершивших tips_click:\", users_without_tips_click)"
   ]
  },
  {
   "cell_type": "code",
   "execution_count": 57,
   "metadata": {},
   "outputs": [
    {
     "name": "stdout",
     "output_type": "stream",
     "text": [
      "Количество звонков от пользователей, кликнувших по объявлению: 0\n",
      "Количество звонков от пользователей, не кликнувших по объявлению: 541\n"
     ]
    }
   ],
   "source": [
    "users_clicked_tips = sorted_data.loc[sorted_data['event_name'] == 'tips_click', 'user_id'].unique()\n",
    "\n",
    "calls_from_tips_click_users = sorted_data.loc[(sorted_data['user_id'].isin(users_clicked_tips)) & (sorted_data['event_name'] == 'contacts_call')].shape[0]\n",
    "\n",
    "\n",
    "calls_from_non_tips_click_users = sorted_data.loc[~sorted_data['user_id'].isin(users_clicked_tips) & (sorted_data['event_name'] == 'contacts_call')].shape[0]\n",
    "\n",
    "print(\"Количество звонков от пользователей, кликнувших по объявлению:\", calls_from_tips_click_users)\n",
    "print(\"Количество звонков от пользователей, не кликнувших по объявлению:\", calls_from_non_tips_click_users)"
   ]
  },
  {
   "cell_type": "code",
   "execution_count": 58,
   "metadata": {},
   "outputs": [
    {
     "name": "stdout",
     "output_type": "stream",
     "text": [
      "p-значение:  1.3926637620897964e-12\n",
      "Отвергаем нулевую гипотезу, между выборками есть статистически значимые различия\n"
     ]
    }
   ],
   "source": [
    "def z_test(successes1, successes2, trials1, trials2, alpha=0.05):\n",
    "    p1 = successes1 / trials1\n",
    "    p2 = successes2 / trials2\n",
    "\n",
    "    p_combined = (successes1 + successes2) / (trials1 + trials2)\n",
    "    difference = p1 - p2\n",
    "\n",
    "    z_value = difference / mth.sqrt(p_combined * (1 - p_combined) * (1/trials1 + 1/trials2))\n",
    "    distr = stats.norm(0, 1)\n",
    "    p_value = (1 - distr.cdf(abs(z_value))) * 2\n",
    "    print('p-значение: ', p_value)\n",
    "\n",
    "    if (p_value < alpha):\n",
    "        print('Отвергаем нулевую гипотезу, между выборками есть статистически значимые различия')\n",
    "    else:\n",
    "        print('Не получилось отвергнуть нулевую гипотезу, статистически значимых различий в выборках нет')\n",
    "\n",
    "\n",
    "z_test(calls_from_tips_click_users, calls_from_non_tips_click_users, users_with_tips_click, users_without_tips_click)\n"
   ]
  },
  {
   "cell_type": "markdown",
   "metadata": {},
   "source": [
    "Нулевая гипотеза не верна. Конверсия в звонок у пользователей, которые кликнули по объявлению из рекомендаций, и у тех, кто не смотрел рекомендации, различны."
   ]
  },
  {
   "cell_type": "markdown",
   "metadata": {},
   "source": [
    "<b>Гипотеза 2.</b>\n",
    "\n",
    "H0 - Конверсия в просмотры контактов одинаковая у пользователей, которые совершают действия tips_show и search и тех, которые совершают только tips_show.\n",
    "\n",
    "H1 - Конверсия в просмотры контактов у пользователей, которые совершают действия tips_show и search, и тех, которые совершают только tips_show, разная."
   ]
  },
  {
   "cell_type": "code",
   "execution_count": 59,
   "metadata": {},
   "outputs": [
    {
     "name": "stdout",
     "output_type": "stream",
     "text": [
      "Кол-во пользователей tips_show = 2801\n",
      "Кол-во пользователей tips_show_search = 801\n",
      "Кол-во пользователей только tips_show = 2000\n"
     ]
    }
   ],
   "source": [
    "tips_show_users = sorted_data.query('event_name ==\"tips_show\"')['user_id'].unique().tolist()\n",
    "print('Кол-во пользователей tips_show =', len(tips_show_users))\n",
    "\n",
    "tips_show_search_users = sorted_data.query('event_name ==\"search\" and user_id in @tips_show_users')['user_id'].unique().tolist()\n",
    "print('Кол-во пользователей tips_show_search =', len(tips_show_search_users))\n",
    "\n",
    "only_tips_show_users = list(set(tips_show_users) - set(tips_show_search_users))\n",
    "print('Кол-во пользователей только tips_show =', len(only_tips_show_users))"
   ]
  },
  {
   "cell_type": "code",
   "execution_count": 60,
   "metadata": {},
   "outputs": [
    {
     "name": "stdout",
     "output_type": "stream",
     "text": [
      "Количество пользователей tips_show, просмотревших контакты = 377\n",
      "Количество пользователей tips_show_search, просмотревших контакты = 139\n"
     ]
    }
   ],
   "source": [
    "show_contacts_users = sorted_data.query('event_name == \"show_contacts\"')['user_id'].unique().tolist()\n",
    "\n",
    "only_tips_show_with_contacts_users = list(set(only_tips_show_users) & set(show_contacts_users))\n",
    "print('Количество пользователей tips_show, просмотревших контакты =', len(only_tips_show_with_contacts_users))\n",
    "\n",
    "tips_show_search_with_contacts_users = list(set(tips_show_search_users) & set(show_contacts_users))\n",
    "print('Количество пользователей tips_show_search, просмотревших контакты =', len(tips_show_search_with_contacts_users))\n"
   ]
  },
  {
   "cell_type": "code",
   "execution_count": 61,
   "metadata": {},
   "outputs": [
    {
     "name": "stdout",
     "output_type": "stream",
     "text": [
      "Не удалось отвергнуть нулевую гипотезу. Конверсия в просмотры контактов одинакова.\n"
     ]
    }
   ],
   "source": [
    "conversion_show_search = len(tips_show_search_with_contacts_users) / len(tips_show_search_users)\n",
    "conversion_show = len(show_contacts_users) / len(only_tips_show_users)\n",
    "\n",
    "\n",
    "count = np.array([len(tips_show_search_with_contacts_users), len(only_tips_show_with_contacts_users)])\n",
    "nobs = np.array([len(tips_show_search_users), len(only_tips_show_users)])\n",
    "\n",
    "z_stat, p_value = proportions_ztest(count, nobs)\n",
    "\n",
    "\n",
    "alpha = 0.05 \n",
    "\n",
    "if p_value < alpha:\n",
    "    print(\"Отвергаем нулевую гипотезу. Конверсия в просмотры контактов различается.\")\n",
    "else:\n",
    "    print(\"Не удалось отвергнуть нулевую гипотезу. Конверсия в просмотры контактов одинакова.\")"
   ]
  },
  {
   "cell_type": "code",
   "execution_count": 62,
   "metadata": {},
   "outputs": [
    {
     "name": "stdout",
     "output_type": "stream",
     "text": [
      "[139 377] [ 801 2000]\n"
     ]
    }
   ],
   "source": [
    "print(count, nobs)"
   ]
  },
  {
   "cell_type": "markdown",
   "metadata": {},
   "source": [
    "#### Общие выводы и рекомендации\n",
    "\n",
    "В ходе изучения данных мобильного приложения \"Ненужные вещи\" было выявлено:\n",
    "<ul>\n",
    "    <li>некорректное написание названий столбцов,</li>\n",
    "    <li>некорректный тип данных столбца event_time,</li>\n",
    "</ul>\n",
    "Во время предобработки данных выполнено:\n",
    "<ul>\n",
    "    <li>Переименованы колонки в датасетах.</li>\n",
    "    <li>Заменен тип данных в колонке event_date.</li>\n",
    "    <li>Проверка на пропуски и дубликаты - не обнаружено.</li>\n",
    "    <li>Проверка на аномальное количество событий - их меньше 1%, было принято решение не удалять данные.</li>\n",
    "</ul>    \n",
    "Также был сделан вывод, что датасет располагает информацией за 7 октября - 11 ноября 2019 года.\n",
    "\n",
    "Исследование данных показало, что:\n",
    "<ul>\n",
    "<li>Cредняя длительность сессии 5 минут, 35 секунд.</li>\n",
    "<li>Самое большое количество сессий у одного пользователя – 99.</li>\n",
    "<li>Самое маленькое количество сессий, совершенное одним пользователем - 1.</li>\n",
    "<li>Наиболее часто встречающееся событие – когда пользователь увидел рекомендованное объявление, самое редко встречающееся событие – когда пользователь совершает звонок.</li>\n",
    "<li>В приложении 277 активных пользователей ежедневно и 1381 активный пользователь еженедельно.</li>\n",
    "<li>Чуть более 20% пользователей совершили целевое действие – просмотр контактов.</li>\n",
    "</ul>\n",
    "\n",
    "Были построены воронки по сценариям, которые приводят к просмотру контактов:\n",
    "<ul>\n",
    "<li>tips_show, show_contacts;</li>\n",
    "<li>map, tips_show, show_contacts;</li>\n",
    "<li>show_contacts, contacts_call.</li>\n",
    "</ul>\n",
    "Были сделаны следующие выводы:\n",
    "<ul>\n",
    "<li>после просмотра рекламного объявления только около 20% пользователей дошли до второго шага - просмотра номера телефона. Возможно их не зацепило содержание или сотрудникам отдела маркетинга стоит подумать над более привлекательным оформлением объявлений.</li>\n",
    "<li>После просмотра карты объявлений всего 10% пользователей отвалилось при переходе на рекомендованные объявления, однако до просмотра контактов дошло всего 17%. Видимо, все-таки объявления оказались не слишком релевантны. Рекомендовано перенастроить систему рекомендаций в приложении.</li>\n",
    "<li>Третий сценарий выявил, только около 20% людей дошли от объявления до звонка.</li>\n",
    "</ul>\n",
    "Также были проведены статистические исследования, которые показали, что конверсия в просмотры контактов разная у пользователей, которые совершают действия tips_show и tips_click и тех, которые совершают только tips_show; а также что конверсия в просмотры контактов одинаковая у пользователей, которые совершают действия tips_show и search и тех, которые совершают только tips_show."
   ]
  }
 ],
 "metadata": {
  "ExecuteTimeLog": [
   {
    "duration": 1211,
    "start_time": "2024-03-13T14:32:28.823Z"
   },
   {
    "duration": 69,
    "start_time": "2024-03-13T14:32:38.337Z"
   },
   {
    "duration": 297,
    "start_time": "2024-03-13T14:32:48.732Z"
   },
   {
    "duration": 11,
    "start_time": "2024-03-13T14:33:10.568Z"
   },
   {
    "duration": 19,
    "start_time": "2024-03-13T14:33:21.703Z"
   },
   {
    "duration": 8,
    "start_time": "2024-03-13T14:34:33.366Z"
   },
   {
    "duration": 9,
    "start_time": "2024-03-13T14:34:45.412Z"
   },
   {
    "duration": 33,
    "start_time": "2024-03-13T14:35:08.290Z"
   },
   {
    "duration": 14,
    "start_time": "2024-03-13T14:35:34.077Z"
   },
   {
    "duration": 6,
    "start_time": "2024-03-13T14:35:43.952Z"
   },
   {
    "duration": 30,
    "start_time": "2024-03-13T14:36:20.714Z"
   },
   {
    "duration": 7,
    "start_time": "2024-03-13T14:36:28.222Z"
   },
   {
    "duration": 8,
    "start_time": "2024-03-13T14:37:04.579Z"
   },
   {
    "duration": 29,
    "start_time": "2024-03-13T14:37:26.083Z"
   },
   {
    "duration": 4,
    "start_time": "2024-03-13T14:37:38.096Z"
   },
   {
    "duration": 128,
    "start_time": "2024-03-13T14:37:46.607Z"
   },
   {
    "duration": 7,
    "start_time": "2024-03-13T14:38:11.140Z"
   },
   {
    "duration": 36,
    "start_time": "2024-03-13T14:39:25.145Z"
   },
   {
    "duration": 762,
    "start_time": "2024-03-13T14:39:45.534Z"
   },
   {
    "duration": 1617,
    "start_time": "2024-03-13T14:40:25.516Z"
   },
   {
    "duration": 1348,
    "start_time": "2024-03-13T14:40:48.406Z"
   },
   {
    "duration": 12,
    "start_time": "2024-03-13T14:41:11.464Z"
   },
   {
    "duration": 11,
    "start_time": "2024-03-13T14:41:48.148Z"
   },
   {
    "duration": 14,
    "start_time": "2024-03-13T14:42:26.004Z"
   },
   {
    "duration": 11,
    "start_time": "2024-03-13T14:42:48.951Z"
   },
   {
    "duration": 9,
    "start_time": "2024-03-13T14:43:10.732Z"
   },
   {
    "duration": 495,
    "start_time": "2024-03-13T14:43:34.118Z"
   },
   {
    "duration": 23,
    "start_time": "2024-03-13T14:44:27.798Z"
   },
   {
    "duration": 19,
    "start_time": "2024-03-13T14:44:40.513Z"
   },
   {
    "duration": 21,
    "start_time": "2024-03-13T14:45:04.427Z"
   },
   {
    "duration": 500,
    "start_time": "2024-03-13T14:45:34.201Z"
   },
   {
    "duration": 30,
    "start_time": "2024-03-13T14:45:57.585Z"
   },
   {
    "duration": 14,
    "start_time": "2024-03-13T14:46:24.285Z"
   },
   {
    "duration": 16,
    "start_time": "2024-03-13T14:46:40.967Z"
   },
   {
    "duration": 74,
    "start_time": "2024-03-13T14:48:21.037Z"
   },
   {
    "duration": 4,
    "start_time": "2024-03-13T14:48:30.339Z"
   },
   {
    "duration": 6,
    "start_time": "2024-03-13T14:48:41.379Z"
   },
   {
    "duration": 65,
    "start_time": "2024-03-13T14:48:50.399Z"
   },
   {
    "duration": 85,
    "start_time": "2024-03-13T14:49:25.125Z"
   },
   {
    "duration": 4,
    "start_time": "2024-03-13T14:49:40.744Z"
   },
   {
    "duration": 6,
    "start_time": "2024-03-13T14:49:49.493Z"
   },
   {
    "duration": 75,
    "start_time": "2024-03-13T14:49:58.401Z"
   },
   {
    "duration": 71,
    "start_time": "2024-03-13T14:50:36.571Z"
   },
   {
    "duration": 39,
    "start_time": "2024-03-13T14:50:58.606Z"
   },
   {
    "duration": 4,
    "start_time": "2024-03-13T14:51:13.051Z"
   },
   {
    "duration": 6,
    "start_time": "2024-03-13T14:51:22.322Z"
   },
   {
    "duration": 33,
    "start_time": "2024-03-13T14:51:31.756Z"
   },
   {
    "duration": 22,
    "start_time": "2024-03-13T14:52:10.696Z"
   },
   {
    "duration": 10,
    "start_time": "2024-03-13T14:53:05.237Z"
   },
   {
    "duration": 17,
    "start_time": "2024-03-13T14:53:25.330Z"
   },
   {
    "duration": 1173,
    "start_time": "2024-03-14T07:01:10.095Z"
   },
   {
    "duration": 78,
    "start_time": "2024-03-14T07:01:11.270Z"
   },
   {
    "duration": 654,
    "start_time": "2024-03-14T07:01:11.350Z"
   },
   {
    "duration": 11,
    "start_time": "2024-03-14T07:01:12.006Z"
   },
   {
    "duration": 34,
    "start_time": "2024-03-14T07:01:12.018Z"
   },
   {
    "duration": 16,
    "start_time": "2024-03-14T07:01:12.054Z"
   },
   {
    "duration": 17,
    "start_time": "2024-03-14T07:01:12.072Z"
   },
   {
    "duration": 41,
    "start_time": "2024-03-14T07:01:12.090Z"
   },
   {
    "duration": 11,
    "start_time": "2024-03-14T07:01:12.133Z"
   },
   {
    "duration": 18,
    "start_time": "2024-03-14T07:01:12.147Z"
   },
   {
    "duration": 33,
    "start_time": "2024-03-14T07:01:12.166Z"
   },
   {
    "duration": 6,
    "start_time": "2024-03-14T07:01:12.201Z"
   },
   {
    "duration": 10,
    "start_time": "2024-03-14T07:01:12.209Z"
   },
   {
    "duration": 57,
    "start_time": "2024-03-14T07:01:12.220Z"
   },
   {
    "duration": 3,
    "start_time": "2024-03-14T07:01:12.278Z"
   },
   {
    "duration": 148,
    "start_time": "2024-03-14T07:01:12.283Z"
   },
   {
    "duration": 5,
    "start_time": "2024-03-14T07:01:12.433Z"
   },
   {
    "duration": 43,
    "start_time": "2024-03-14T07:01:12.439Z"
   },
   {
    "duration": 724,
    "start_time": "2024-03-14T07:01:12.483Z"
   },
   {
    "duration": 1515,
    "start_time": "2024-03-14T07:01:13.208Z"
   },
   {
    "duration": 1327,
    "start_time": "2024-03-14T07:01:14.724Z"
   },
   {
    "duration": 18,
    "start_time": "2024-03-14T07:01:16.052Z"
   },
   {
    "duration": 11,
    "start_time": "2024-03-14T07:01:16.072Z"
   },
   {
    "duration": 41,
    "start_time": "2024-03-14T07:01:16.084Z"
   },
   {
    "duration": 18,
    "start_time": "2024-03-14T07:01:16.127Z"
   },
   {
    "duration": 27,
    "start_time": "2024-03-14T07:01:16.146Z"
   },
   {
    "duration": 717,
    "start_time": "2024-03-14T07:01:16.175Z"
   },
   {
    "duration": 21,
    "start_time": "2024-03-14T07:01:16.895Z"
   },
   {
    "duration": 52,
    "start_time": "2024-03-14T07:01:16.917Z"
   },
   {
    "duration": 22,
    "start_time": "2024-03-14T07:01:16.970Z"
   },
   {
    "duration": 513,
    "start_time": "2024-03-14T07:01:16.993Z"
   },
   {
    "duration": 28,
    "start_time": "2024-03-14T07:01:17.508Z"
   },
   {
    "duration": 28,
    "start_time": "2024-03-14T07:01:17.537Z"
   },
   {
    "duration": 17,
    "start_time": "2024-03-14T07:01:17.566Z"
   },
   {
    "duration": 85,
    "start_time": "2024-03-14T07:01:17.585Z"
   },
   {
    "duration": 4,
    "start_time": "2024-03-14T07:01:17.672Z"
   },
   {
    "duration": 13,
    "start_time": "2024-03-14T07:01:17.677Z"
   },
   {
    "duration": 74,
    "start_time": "2024-03-14T07:01:17.691Z"
   },
   {
    "duration": 74,
    "start_time": "2024-03-14T07:01:17.766Z"
   },
   {
    "duration": 3,
    "start_time": "2024-03-14T07:01:17.842Z"
   },
   {
    "duration": 21,
    "start_time": "2024-03-14T07:01:17.846Z"
   },
   {
    "duration": 69,
    "start_time": "2024-03-14T07:01:17.868Z"
   },
   {
    "duration": 49,
    "start_time": "2024-03-14T07:01:17.938Z"
   },
   {
    "duration": 4,
    "start_time": "2024-03-14T07:01:17.988Z"
   },
   {
    "duration": 7,
    "start_time": "2024-03-14T07:01:17.993Z"
   },
   {
    "duration": 30,
    "start_time": "2024-03-14T07:01:18.001Z"
   },
   {
    "duration": 33,
    "start_time": "2024-03-14T07:01:18.033Z"
   },
   {
    "duration": 10,
    "start_time": "2024-03-14T07:01:18.067Z"
   },
   {
    "duration": 15,
    "start_time": "2024-03-14T07:01:18.079Z"
   },
   {
    "duration": 8,
    "start_time": "2024-03-14T07:07:07.160Z"
   },
   {
    "duration": 10,
    "start_time": "2024-03-14T07:10:38.133Z"
   },
   {
    "duration": 71,
    "start_time": "2024-03-14T07:10:51.233Z"
   },
   {
    "duration": 7,
    "start_time": "2024-03-14T07:10:53.299Z"
   },
   {
    "duration": 1458,
    "start_time": "2024-03-14T07:10:56.785Z"
   },
   {
    "duration": 7,
    "start_time": "2024-03-14T07:10:59.608Z"
   },
   {
    "duration": 8,
    "start_time": "2024-03-14T07:11:05.099Z"
   },
   {
    "duration": 11,
    "start_time": "2024-03-14T07:11:12.848Z"
   },
   {
    "duration": 8,
    "start_time": "2024-03-14T07:12:16.406Z"
   },
   {
    "duration": 3,
    "start_time": "2024-03-14T07:18:41.837Z"
   },
   {
    "duration": 21,
    "start_time": "2024-03-14T07:18:43.321Z"
   },
   {
    "duration": 3,
    "start_time": "2024-03-14T07:18:43.641Z"
   },
   {
    "duration": 3,
    "start_time": "2024-03-14T07:20:04.900Z"
   },
   {
    "duration": 3,
    "start_time": "2024-03-14T07:20:08.160Z"
   },
   {
    "duration": 4,
    "start_time": "2024-03-14T07:20:12.256Z"
   },
   {
    "duration": 4,
    "start_time": "2024-03-14T07:20:15.170Z"
   },
   {
    "duration": 71,
    "start_time": "2024-03-14T12:32:04.136Z"
   },
   {
    "duration": 1517,
    "start_time": "2024-03-14T12:32:14.025Z"
   },
   {
    "duration": 84,
    "start_time": "2024-03-14T12:32:15.544Z"
   },
   {
    "duration": 291,
    "start_time": "2024-03-14T12:32:15.630Z"
   },
   {
    "duration": 11,
    "start_time": "2024-03-14T12:32:15.923Z"
   },
   {
    "duration": 39,
    "start_time": "2024-03-14T12:32:15.936Z"
   },
   {
    "duration": 15,
    "start_time": "2024-03-14T12:32:15.977Z"
   },
   {
    "duration": 47,
    "start_time": "2024-03-14T12:32:15.994Z"
   },
   {
    "duration": 55,
    "start_time": "2024-03-14T12:32:16.043Z"
   },
   {
    "duration": 42,
    "start_time": "2024-03-14T12:32:16.100Z"
   },
   {
    "duration": 24,
    "start_time": "2024-03-14T12:32:16.143Z"
   },
   {
    "duration": 70,
    "start_time": "2024-03-14T12:32:16.168Z"
   },
   {
    "duration": 12,
    "start_time": "2024-03-14T12:32:16.240Z"
   },
   {
    "duration": 43,
    "start_time": "2024-03-14T12:32:16.254Z"
   },
   {
    "duration": 48,
    "start_time": "2024-03-14T12:32:16.302Z"
   },
   {
    "duration": 27,
    "start_time": "2024-03-14T12:32:16.352Z"
   },
   {
    "duration": 174,
    "start_time": "2024-03-14T12:32:16.381Z"
   },
   {
    "duration": 8,
    "start_time": "2024-03-14T12:32:16.557Z"
   },
   {
    "duration": 265,
    "start_time": "2024-03-14T12:32:16.573Z"
   },
   {
    "duration": 0,
    "start_time": "2024-03-14T12:32:16.840Z"
   },
   {
    "duration": 0,
    "start_time": "2024-03-14T12:32:16.842Z"
   },
   {
    "duration": 0,
    "start_time": "2024-03-14T12:32:16.843Z"
   },
   {
    "duration": 0,
    "start_time": "2024-03-14T12:32:16.845Z"
   },
   {
    "duration": 0,
    "start_time": "2024-03-14T12:32:16.847Z"
   },
   {
    "duration": 0,
    "start_time": "2024-03-14T12:32:16.848Z"
   },
   {
    "duration": 0,
    "start_time": "2024-03-14T12:32:16.850Z"
   },
   {
    "duration": 0,
    "start_time": "2024-03-14T12:32:16.851Z"
   },
   {
    "duration": 0,
    "start_time": "2024-03-14T12:32:16.853Z"
   },
   {
    "duration": 0,
    "start_time": "2024-03-14T12:32:16.854Z"
   },
   {
    "duration": 0,
    "start_time": "2024-03-14T12:32:16.856Z"
   },
   {
    "duration": 0,
    "start_time": "2024-03-14T12:32:16.858Z"
   },
   {
    "duration": 0,
    "start_time": "2024-03-14T12:32:16.859Z"
   },
   {
    "duration": 0,
    "start_time": "2024-03-14T12:32:16.861Z"
   },
   {
    "duration": 0,
    "start_time": "2024-03-14T12:32:16.862Z"
   },
   {
    "duration": 0,
    "start_time": "2024-03-14T12:32:16.864Z"
   },
   {
    "duration": 0,
    "start_time": "2024-03-14T12:32:16.865Z"
   },
   {
    "duration": 0,
    "start_time": "2024-03-14T12:32:16.867Z"
   },
   {
    "duration": 0,
    "start_time": "2024-03-14T12:32:16.868Z"
   },
   {
    "duration": 0,
    "start_time": "2024-03-14T12:32:16.870Z"
   },
   {
    "duration": 0,
    "start_time": "2024-03-14T12:32:16.872Z"
   },
   {
    "duration": 0,
    "start_time": "2024-03-14T12:32:16.873Z"
   },
   {
    "duration": 0,
    "start_time": "2024-03-14T12:32:16.875Z"
   },
   {
    "duration": 0,
    "start_time": "2024-03-14T12:32:16.877Z"
   },
   {
    "duration": 0,
    "start_time": "2024-03-14T12:32:16.878Z"
   },
   {
    "duration": 0,
    "start_time": "2024-03-14T12:32:16.880Z"
   },
   {
    "duration": 0,
    "start_time": "2024-03-14T12:32:16.881Z"
   },
   {
    "duration": 1,
    "start_time": "2024-03-14T12:32:16.882Z"
   },
   {
    "duration": 0,
    "start_time": "2024-03-14T12:32:16.884Z"
   },
   {
    "duration": 0,
    "start_time": "2024-03-14T12:32:16.886Z"
   },
   {
    "duration": 0,
    "start_time": "2024-03-14T12:32:16.887Z"
   },
   {
    "duration": 0,
    "start_time": "2024-03-14T12:32:16.889Z"
   },
   {
    "duration": 122,
    "start_time": "2024-03-14T12:33:51.728Z"
   },
   {
    "duration": 9,
    "start_time": "2024-03-14T12:42:26.435Z"
   },
   {
    "duration": 3,
    "start_time": "2024-03-14T12:42:38.833Z"
   },
   {
    "duration": 10,
    "start_time": "2024-03-14T12:42:45.347Z"
   },
   {
    "duration": 1339,
    "start_time": "2024-03-14T12:42:52.329Z"
   },
   {
    "duration": 102,
    "start_time": "2024-03-14T12:42:53.670Z"
   },
   {
    "duration": 284,
    "start_time": "2024-03-14T12:42:53.773Z"
   },
   {
    "duration": 14,
    "start_time": "2024-03-14T12:42:54.059Z"
   },
   {
    "duration": 25,
    "start_time": "2024-03-14T12:42:54.074Z"
   },
   {
    "duration": 24,
    "start_time": "2024-03-14T12:42:54.101Z"
   },
   {
    "duration": 18,
    "start_time": "2024-03-14T12:42:54.127Z"
   },
   {
    "duration": 52,
    "start_time": "2024-03-14T12:42:54.148Z"
   },
   {
    "duration": 12,
    "start_time": "2024-03-14T12:42:54.202Z"
   },
   {
    "duration": 5,
    "start_time": "2024-03-14T12:42:54.217Z"
   },
   {
    "duration": 31,
    "start_time": "2024-03-14T12:42:54.224Z"
   },
   {
    "duration": 20,
    "start_time": "2024-03-14T12:42:54.257Z"
   },
   {
    "duration": 15,
    "start_time": "2024-03-14T12:42:54.278Z"
   },
   {
    "duration": 24,
    "start_time": "2024-03-14T12:42:54.294Z"
   },
   {
    "duration": 3,
    "start_time": "2024-03-14T12:42:54.320Z"
   },
   {
    "duration": 160,
    "start_time": "2024-03-14T12:42:54.324Z"
   },
   {
    "duration": 7,
    "start_time": "2024-03-14T12:42:54.486Z"
   },
   {
    "duration": 120,
    "start_time": "2024-03-14T12:42:54.494Z"
   },
   {
    "duration": 0,
    "start_time": "2024-03-14T12:42:54.616Z"
   },
   {
    "duration": 0,
    "start_time": "2024-03-14T12:42:54.617Z"
   },
   {
    "duration": 0,
    "start_time": "2024-03-14T12:42:54.618Z"
   },
   {
    "duration": 0,
    "start_time": "2024-03-14T12:42:54.620Z"
   },
   {
    "duration": 0,
    "start_time": "2024-03-14T12:42:54.621Z"
   },
   {
    "duration": 1,
    "start_time": "2024-03-14T12:42:54.621Z"
   },
   {
    "duration": 0,
    "start_time": "2024-03-14T12:42:54.623Z"
   },
   {
    "duration": 0,
    "start_time": "2024-03-14T12:42:54.624Z"
   },
   {
    "duration": 0,
    "start_time": "2024-03-14T12:42:54.625Z"
   },
   {
    "duration": 0,
    "start_time": "2024-03-14T12:42:54.626Z"
   },
   {
    "duration": 0,
    "start_time": "2024-03-14T12:42:54.627Z"
   },
   {
    "duration": 0,
    "start_time": "2024-03-14T12:42:54.628Z"
   },
   {
    "duration": 0,
    "start_time": "2024-03-14T12:42:54.629Z"
   },
   {
    "duration": 0,
    "start_time": "2024-03-14T12:42:54.630Z"
   },
   {
    "duration": 0,
    "start_time": "2024-03-14T12:42:54.631Z"
   },
   {
    "duration": 0,
    "start_time": "2024-03-14T12:42:54.632Z"
   },
   {
    "duration": 0,
    "start_time": "2024-03-14T12:42:54.633Z"
   },
   {
    "duration": 0,
    "start_time": "2024-03-14T12:42:54.634Z"
   },
   {
    "duration": 0,
    "start_time": "2024-03-14T12:42:54.635Z"
   },
   {
    "duration": 0,
    "start_time": "2024-03-14T12:42:54.636Z"
   },
   {
    "duration": 0,
    "start_time": "2024-03-14T12:42:54.637Z"
   },
   {
    "duration": 0,
    "start_time": "2024-03-14T12:42:54.673Z"
   },
   {
    "duration": 0,
    "start_time": "2024-03-14T12:42:54.674Z"
   },
   {
    "duration": 0,
    "start_time": "2024-03-14T12:42:54.675Z"
   },
   {
    "duration": 0,
    "start_time": "2024-03-14T12:42:54.676Z"
   },
   {
    "duration": 0,
    "start_time": "2024-03-14T12:42:54.677Z"
   },
   {
    "duration": 0,
    "start_time": "2024-03-14T12:42:54.679Z"
   },
   {
    "duration": 0,
    "start_time": "2024-03-14T12:42:54.680Z"
   },
   {
    "duration": 0,
    "start_time": "2024-03-14T12:42:54.681Z"
   },
   {
    "duration": 0,
    "start_time": "2024-03-14T12:42:54.682Z"
   },
   {
    "duration": 0,
    "start_time": "2024-03-14T12:42:54.683Z"
   },
   {
    "duration": 0,
    "start_time": "2024-03-14T12:42:54.684Z"
   },
   {
    "duration": 8,
    "start_time": "2024-03-14T12:43:08.322Z"
   },
   {
    "duration": 5,
    "start_time": "2024-03-14T12:43:34.858Z"
   },
   {
    "duration": 97,
    "start_time": "2024-03-14T12:48:44.562Z"
   },
   {
    "duration": 11,
    "start_time": "2024-03-14T13:06:14.174Z"
   },
   {
    "duration": 1379,
    "start_time": "2024-03-14T13:06:32.568Z"
   },
   {
    "duration": 61,
    "start_time": "2024-03-14T13:06:33.949Z"
   },
   {
    "duration": 293,
    "start_time": "2024-03-14T13:06:34.012Z"
   },
   {
    "duration": 15,
    "start_time": "2024-03-14T13:06:34.307Z"
   },
   {
    "duration": 25,
    "start_time": "2024-03-14T13:06:34.324Z"
   },
   {
    "duration": 7,
    "start_time": "2024-03-14T13:06:34.351Z"
   },
   {
    "duration": 38,
    "start_time": "2024-03-14T13:06:34.359Z"
   },
   {
    "duration": 59,
    "start_time": "2024-03-14T13:06:34.399Z"
   },
   {
    "duration": 11,
    "start_time": "2024-03-14T13:06:34.460Z"
   },
   {
    "duration": 11,
    "start_time": "2024-03-14T13:06:34.475Z"
   },
   {
    "duration": 25,
    "start_time": "2024-03-14T13:06:34.488Z"
   },
   {
    "duration": 6,
    "start_time": "2024-03-14T13:06:34.515Z"
   },
   {
    "duration": 15,
    "start_time": "2024-03-14T13:06:34.522Z"
   },
   {
    "duration": 50,
    "start_time": "2024-03-14T13:06:34.538Z"
   },
   {
    "duration": 3,
    "start_time": "2024-03-14T13:06:34.590Z"
   },
   {
    "duration": 142,
    "start_time": "2024-03-14T13:06:34.595Z"
   },
   {
    "duration": 7,
    "start_time": "2024-03-14T13:06:34.739Z"
   },
   {
    "duration": 6,
    "start_time": "2024-03-14T13:06:34.748Z"
   },
   {
    "duration": 65,
    "start_time": "2024-03-14T13:06:34.755Z"
   },
   {
    "duration": 777,
    "start_time": "2024-03-14T13:06:34.821Z"
   },
   {
    "duration": 1738,
    "start_time": "2024-03-14T13:06:35.600Z"
   },
   {
    "duration": 1488,
    "start_time": "2024-03-14T13:06:37.339Z"
   },
   {
    "duration": 13,
    "start_time": "2024-03-14T13:06:38.829Z"
   },
   {
    "duration": 32,
    "start_time": "2024-03-14T13:06:38.844Z"
   },
   {
    "duration": 15,
    "start_time": "2024-03-14T13:06:38.878Z"
   },
   {
    "duration": 11,
    "start_time": "2024-03-14T13:06:38.894Z"
   },
   {
    "duration": 9,
    "start_time": "2024-03-14T13:06:38.907Z"
   },
   {
    "duration": 462,
    "start_time": "2024-03-14T13:06:38.919Z"
   },
   {
    "duration": 35,
    "start_time": "2024-03-14T13:06:39.383Z"
   },
   {
    "duration": 70,
    "start_time": "2024-03-14T13:06:39.421Z"
   },
   {
    "duration": 20,
    "start_time": "2024-03-14T13:06:39.492Z"
   },
   {
    "duration": 592,
    "start_time": "2024-03-14T13:06:39.514Z"
   },
   {
    "duration": 39,
    "start_time": "2024-03-14T13:06:40.108Z"
   },
   {
    "duration": 34,
    "start_time": "2024-03-14T13:06:40.151Z"
   },
   {
    "duration": 22,
    "start_time": "2024-03-14T13:06:40.187Z"
   },
   {
    "duration": 98,
    "start_time": "2024-03-14T13:06:40.211Z"
   },
   {
    "duration": 5,
    "start_time": "2024-03-14T13:06:40.311Z"
   },
   {
    "duration": 13,
    "start_time": "2024-03-14T13:06:40.318Z"
   },
   {
    "duration": 83,
    "start_time": "2024-03-14T13:06:40.333Z"
   },
   {
    "duration": 99,
    "start_time": "2024-03-14T13:06:40.418Z"
   },
   {
    "duration": 4,
    "start_time": "2024-03-14T13:06:40.519Z"
   },
   {
    "duration": 22,
    "start_time": "2024-03-14T13:06:40.525Z"
   },
   {
    "duration": 87,
    "start_time": "2024-03-14T13:06:40.548Z"
   },
   {
    "duration": 63,
    "start_time": "2024-03-14T13:06:40.637Z"
   },
   {
    "duration": 7,
    "start_time": "2024-03-14T13:06:40.701Z"
   },
   {
    "duration": 8,
    "start_time": "2024-03-14T13:06:40.709Z"
   },
   {
    "duration": 55,
    "start_time": "2024-03-14T13:06:40.718Z"
   },
   {
    "duration": 26,
    "start_time": "2024-03-14T13:06:40.775Z"
   },
   {
    "duration": 10,
    "start_time": "2024-03-14T13:06:40.803Z"
   },
   {
    "duration": 19,
    "start_time": "2024-03-14T13:06:40.814Z"
   },
   {
    "duration": 49,
    "start_time": "2024-03-14T13:13:00.145Z"
   },
   {
    "duration": 82,
    "start_time": "2024-03-14T13:14:26.453Z"
   },
   {
    "duration": 63,
    "start_time": "2024-03-14T13:14:39.022Z"
   },
   {
    "duration": 618,
    "start_time": "2024-03-14T13:17:26.162Z"
   },
   {
    "duration": 34,
    "start_time": "2024-03-14T13:18:15.892Z"
   },
   {
    "duration": 34,
    "start_time": "2024-03-14T13:18:25.578Z"
   },
   {
    "duration": 37,
    "start_time": "2024-03-14T13:18:42.776Z"
   },
   {
    "duration": 57,
    "start_time": "2024-03-14T13:19:57.073Z"
   },
   {
    "duration": 26,
    "start_time": "2024-03-14T13:23:10.162Z"
   },
   {
    "duration": 127,
    "start_time": "2024-03-14T13:23:21.988Z"
   },
   {
    "duration": 36,
    "start_time": "2024-03-14T13:23:48.666Z"
   },
   {
    "duration": 31,
    "start_time": "2024-03-14T13:23:57.566Z"
   },
   {
    "duration": 849,
    "start_time": "2024-03-14T13:59:13.514Z"
   },
   {
    "duration": 864,
    "start_time": "2024-03-14T14:00:07.836Z"
   },
   {
    "duration": 1306,
    "start_time": "2024-03-14T14:00:41.425Z"
   },
   {
    "duration": 93,
    "start_time": "2024-03-14T14:00:42.733Z"
   },
   {
    "duration": 1771,
    "start_time": "2024-03-14T14:00:42.828Z"
   },
   {
    "duration": 12,
    "start_time": "2024-03-14T14:00:44.601Z"
   },
   {
    "duration": 20,
    "start_time": "2024-03-14T14:00:44.615Z"
   },
   {
    "duration": 8,
    "start_time": "2024-03-14T14:00:44.637Z"
   },
   {
    "duration": 31,
    "start_time": "2024-03-14T14:00:44.647Z"
   },
   {
    "duration": 35,
    "start_time": "2024-03-14T14:00:44.679Z"
   },
   {
    "duration": 13,
    "start_time": "2024-03-14T14:00:44.715Z"
   },
   {
    "duration": 9,
    "start_time": "2024-03-14T14:00:44.729Z"
   },
   {
    "duration": 55,
    "start_time": "2024-03-14T14:00:44.739Z"
   },
   {
    "duration": 5,
    "start_time": "2024-03-14T14:00:44.796Z"
   },
   {
    "duration": 16,
    "start_time": "2024-03-14T14:00:44.803Z"
   },
   {
    "duration": 26,
    "start_time": "2024-03-14T14:00:44.822Z"
   },
   {
    "duration": 24,
    "start_time": "2024-03-14T14:00:44.850Z"
   },
   {
    "duration": 140,
    "start_time": "2024-03-14T14:00:44.875Z"
   },
   {
    "duration": 8,
    "start_time": "2024-03-14T14:00:45.016Z"
   },
   {
    "duration": 55,
    "start_time": "2024-03-14T14:00:45.025Z"
   },
   {
    "duration": 118,
    "start_time": "2024-03-14T14:00:45.082Z"
   },
   {
    "duration": 842,
    "start_time": "2024-03-14T14:00:45.202Z"
   },
   {
    "duration": 1704,
    "start_time": "2024-03-14T14:00:46.046Z"
   },
   {
    "duration": 1470,
    "start_time": "2024-03-14T14:00:47.751Z"
   },
   {
    "duration": 12,
    "start_time": "2024-03-14T14:00:49.223Z"
   },
   {
    "duration": 20,
    "start_time": "2024-03-14T14:00:49.237Z"
   },
   {
    "duration": 18,
    "start_time": "2024-03-14T14:00:49.258Z"
   },
   {
    "duration": 18,
    "start_time": "2024-03-14T14:00:49.278Z"
   },
   {
    "duration": 15,
    "start_time": "2024-03-14T14:00:49.297Z"
   },
   {
    "duration": 437,
    "start_time": "2024-03-14T14:00:49.314Z"
   },
   {
    "duration": 32,
    "start_time": "2024-03-14T14:00:49.753Z"
   },
   {
    "duration": 19,
    "start_time": "2024-03-14T14:00:49.787Z"
   },
   {
    "duration": 71,
    "start_time": "2024-03-14T14:00:49.807Z"
   },
   {
    "duration": 548,
    "start_time": "2024-03-14T14:00:49.880Z"
   },
   {
    "duration": 44,
    "start_time": "2024-03-14T14:00:50.430Z"
   },
   {
    "duration": 11,
    "start_time": "2024-03-14T14:00:50.475Z"
   },
   {
    "duration": 17,
    "start_time": "2024-03-14T14:00:50.487Z"
   },
   {
    "duration": 91,
    "start_time": "2024-03-14T14:00:50.505Z"
   },
   {
    "duration": 5,
    "start_time": "2024-03-14T14:00:50.598Z"
   },
   {
    "duration": 11,
    "start_time": "2024-03-14T14:00:50.605Z"
   },
   {
    "duration": 120,
    "start_time": "2024-03-14T14:00:50.618Z"
   },
   {
    "duration": 100,
    "start_time": "2024-03-14T14:00:50.739Z"
   },
   {
    "duration": 4,
    "start_time": "2024-03-14T14:00:50.843Z"
   },
   {
    "duration": 7,
    "start_time": "2024-03-14T14:00:50.848Z"
   },
   {
    "duration": 83,
    "start_time": "2024-03-14T14:00:50.872Z"
   },
   {
    "duration": 52,
    "start_time": "2024-03-14T14:00:50.956Z"
   },
   {
    "duration": 4,
    "start_time": "2024-03-14T14:00:51.010Z"
   },
   {
    "duration": 9,
    "start_time": "2024-03-14T14:00:51.016Z"
   },
   {
    "duration": 56,
    "start_time": "2024-03-14T14:00:51.026Z"
   },
   {
    "duration": 22,
    "start_time": "2024-03-14T14:00:51.084Z"
   },
   {
    "duration": 10,
    "start_time": "2024-03-14T14:00:51.108Z"
   },
   {
    "duration": 38,
    "start_time": "2024-03-14T14:00:51.119Z"
   },
   {
    "duration": 1750,
    "start_time": "2024-03-14T14:01:24.980Z"
   },
   {
    "duration": 941,
    "start_time": "2024-03-14T14:04:22.931Z"
   },
   {
    "duration": 567,
    "start_time": "2024-03-14T14:06:51.270Z"
   },
   {
    "duration": 24,
    "start_time": "2024-03-14T14:07:10.011Z"
   },
   {
    "duration": 17,
    "start_time": "2024-03-14T14:07:38.178Z"
   },
   {
    "duration": 14,
    "start_time": "2024-03-14T14:07:53.320Z"
   },
   {
    "duration": 18,
    "start_time": "2024-03-14T14:07:58.315Z"
   },
   {
    "duration": 17,
    "start_time": "2024-03-14T14:12:27.639Z"
   },
   {
    "duration": 17,
    "start_time": "2024-03-14T14:12:35.161Z"
   },
   {
    "duration": 13,
    "start_time": "2024-03-14T14:12:39.983Z"
   },
   {
    "duration": 19,
    "start_time": "2024-03-14T14:12:43.471Z"
   },
   {
    "duration": 1312,
    "start_time": "2024-03-14T14:15:54.486Z"
   },
   {
    "duration": 64,
    "start_time": "2024-03-14T14:15:55.800Z"
   },
   {
    "duration": 325,
    "start_time": "2024-03-14T14:15:55.866Z"
   },
   {
    "duration": 10,
    "start_time": "2024-03-14T14:15:56.193Z"
   },
   {
    "duration": 36,
    "start_time": "2024-03-14T14:15:56.205Z"
   },
   {
    "duration": 8,
    "start_time": "2024-03-14T14:15:56.242Z"
   },
   {
    "duration": 12,
    "start_time": "2024-03-14T14:15:56.252Z"
   },
   {
    "duration": 39,
    "start_time": "2024-03-14T14:15:56.273Z"
   },
   {
    "duration": 12,
    "start_time": "2024-03-14T14:15:56.313Z"
   },
   {
    "duration": 6,
    "start_time": "2024-03-14T14:15:56.328Z"
   },
   {
    "duration": 44,
    "start_time": "2024-03-14T14:15:56.335Z"
   },
   {
    "duration": 6,
    "start_time": "2024-03-14T14:15:56.380Z"
   },
   {
    "duration": 12,
    "start_time": "2024-03-14T14:15:56.388Z"
   },
   {
    "duration": 26,
    "start_time": "2024-03-14T14:15:56.402Z"
   },
   {
    "duration": 3,
    "start_time": "2024-03-14T14:15:56.429Z"
   },
   {
    "duration": 167,
    "start_time": "2024-03-14T14:15:56.434Z"
   },
   {
    "duration": 7,
    "start_time": "2024-03-14T14:15:56.602Z"
   },
   {
    "duration": 16,
    "start_time": "2024-03-14T14:15:56.610Z"
   },
   {
    "duration": 54,
    "start_time": "2024-03-14T14:15:56.627Z"
   },
   {
    "duration": 835,
    "start_time": "2024-03-14T14:15:56.682Z"
   },
   {
    "duration": 1737,
    "start_time": "2024-03-14T14:15:57.519Z"
   },
   {
    "duration": 1466,
    "start_time": "2024-03-14T14:15:59.258Z"
   },
   {
    "duration": 13,
    "start_time": "2024-03-14T14:16:00.726Z"
   },
   {
    "duration": 44,
    "start_time": "2024-03-14T14:16:00.740Z"
   },
   {
    "duration": 55,
    "start_time": "2024-03-14T14:16:00.786Z"
   },
   {
    "duration": 66,
    "start_time": "2024-03-14T14:16:00.843Z"
   },
   {
    "duration": 51,
    "start_time": "2024-03-14T14:16:00.911Z"
   },
   {
    "duration": 459,
    "start_time": "2024-03-14T14:16:00.966Z"
   },
   {
    "duration": 52,
    "start_time": "2024-03-14T14:16:01.427Z"
   },
   {
    "duration": 20,
    "start_time": "2024-03-14T14:16:01.481Z"
   },
   {
    "duration": 88,
    "start_time": "2024-03-14T14:16:01.503Z"
   },
   {
    "duration": 535,
    "start_time": "2024-03-14T14:16:01.594Z"
   },
   {
    "duration": 14,
    "start_time": "2024-03-14T14:16:02.131Z"
   },
   {
    "duration": 43,
    "start_time": "2024-03-14T14:16:02.146Z"
   },
   {
    "duration": 22,
    "start_time": "2024-03-14T14:16:02.191Z"
   },
   {
    "duration": 79,
    "start_time": "2024-03-14T14:16:02.215Z"
   },
   {
    "duration": 5,
    "start_time": "2024-03-14T14:16:02.295Z"
   },
   {
    "duration": 22,
    "start_time": "2024-03-14T14:16:02.302Z"
   },
   {
    "duration": 116,
    "start_time": "2024-03-14T14:16:02.326Z"
   },
   {
    "duration": 88,
    "start_time": "2024-03-14T14:16:02.444Z"
   },
   {
    "duration": 5,
    "start_time": "2024-03-14T14:16:02.533Z"
   },
   {
    "duration": 27,
    "start_time": "2024-03-14T14:16:02.540Z"
   },
   {
    "duration": 86,
    "start_time": "2024-03-14T14:16:02.568Z"
   },
   {
    "duration": 37,
    "start_time": "2024-03-14T14:16:02.656Z"
   },
   {
    "duration": 5,
    "start_time": "2024-03-14T14:16:02.694Z"
   },
   {
    "duration": 14,
    "start_time": "2024-03-14T14:16:02.700Z"
   },
   {
    "duration": 53,
    "start_time": "2024-03-14T14:16:02.716Z"
   },
   {
    "duration": 24,
    "start_time": "2024-03-14T14:16:02.771Z"
   },
   {
    "duration": 12,
    "start_time": "2024-03-14T14:16:02.798Z"
   },
   {
    "duration": 26,
    "start_time": "2024-03-14T14:16:02.811Z"
   },
   {
    "duration": 9,
    "start_time": "2024-03-14T14:18:25.087Z"
   },
   {
    "duration": 75,
    "start_time": "2024-03-14T14:19:21.212Z"
   },
   {
    "duration": 7,
    "start_time": "2024-03-14T14:19:53.607Z"
   },
   {
    "duration": 37,
    "start_time": "2024-03-14T14:20:54.262Z"
   },
   {
    "duration": 81,
    "start_time": "2024-03-14T14:22:18.997Z"
   },
   {
    "duration": 5,
    "start_time": "2024-03-14T14:22:25.069Z"
   },
   {
    "duration": 6,
    "start_time": "2024-03-14T14:22:29.097Z"
   },
   {
    "duration": 62,
    "start_time": "2024-03-14T14:22:33.823Z"
   },
   {
    "duration": 1308,
    "start_time": "2024-03-14T14:22:49.526Z"
   },
   {
    "duration": 58,
    "start_time": "2024-03-14T14:22:50.836Z"
   },
   {
    "duration": 298,
    "start_time": "2024-03-14T14:22:50.895Z"
   },
   {
    "duration": 12,
    "start_time": "2024-03-14T14:22:51.194Z"
   },
   {
    "duration": 26,
    "start_time": "2024-03-14T14:22:51.208Z"
   },
   {
    "duration": 8,
    "start_time": "2024-03-14T14:22:51.236Z"
   },
   {
    "duration": 30,
    "start_time": "2024-03-14T14:22:51.246Z"
   },
   {
    "duration": 48,
    "start_time": "2024-03-14T14:22:51.278Z"
   },
   {
    "duration": 12,
    "start_time": "2024-03-14T14:22:51.328Z"
   },
   {
    "duration": 18,
    "start_time": "2024-03-14T14:22:51.342Z"
   },
   {
    "duration": 42,
    "start_time": "2024-03-14T14:22:51.362Z"
   },
   {
    "duration": 6,
    "start_time": "2024-03-14T14:22:51.406Z"
   },
   {
    "duration": 24,
    "start_time": "2024-03-14T14:22:51.413Z"
   },
   {
    "duration": 23,
    "start_time": "2024-03-14T14:22:51.441Z"
   },
   {
    "duration": 3,
    "start_time": "2024-03-14T14:22:51.473Z"
   },
   {
    "duration": 142,
    "start_time": "2024-03-14T14:22:51.478Z"
   },
   {
    "duration": 7,
    "start_time": "2024-03-14T14:22:51.622Z"
   },
   {
    "duration": 10,
    "start_time": "2024-03-14T14:22:51.631Z"
   },
   {
    "duration": 59,
    "start_time": "2024-03-14T14:22:51.643Z"
   },
   {
    "duration": 832,
    "start_time": "2024-03-14T14:22:51.704Z"
   },
   {
    "duration": 1749,
    "start_time": "2024-03-14T14:22:52.538Z"
   },
   {
    "duration": 1489,
    "start_time": "2024-03-14T14:22:54.288Z"
   },
   {
    "duration": 12,
    "start_time": "2024-03-14T14:22:55.778Z"
   },
   {
    "duration": 20,
    "start_time": "2024-03-14T14:22:55.792Z"
   },
   {
    "duration": 15,
    "start_time": "2024-03-14T14:22:55.814Z"
   },
   {
    "duration": 15,
    "start_time": "2024-03-14T14:22:55.830Z"
   },
   {
    "duration": 30,
    "start_time": "2024-03-14T14:22:55.847Z"
   },
   {
    "duration": 484,
    "start_time": "2024-03-14T14:22:55.879Z"
   },
   {
    "duration": 29,
    "start_time": "2024-03-14T14:22:56.364Z"
   },
   {
    "duration": 19,
    "start_time": "2024-03-14T14:22:56.394Z"
   },
   {
    "duration": 79,
    "start_time": "2024-03-14T14:22:56.415Z"
   },
   {
    "duration": 545,
    "start_time": "2024-03-14T14:22:56.496Z"
   },
   {
    "duration": 17,
    "start_time": "2024-03-14T14:22:57.043Z"
   },
   {
    "duration": 31,
    "start_time": "2024-03-14T14:22:57.062Z"
   },
   {
    "duration": 23,
    "start_time": "2024-03-14T14:22:57.095Z"
   },
   {
    "duration": 100,
    "start_time": "2024-03-14T14:22:57.120Z"
   },
   {
    "duration": 4,
    "start_time": "2024-03-14T14:22:57.222Z"
   },
   {
    "duration": 15,
    "start_time": "2024-03-14T14:22:57.227Z"
   },
   {
    "duration": 94,
    "start_time": "2024-03-14T14:22:57.244Z"
   },
   {
    "duration": 92,
    "start_time": "2024-03-14T14:22:57.340Z"
   },
   {
    "duration": 6,
    "start_time": "2024-03-14T14:22:57.437Z"
   },
   {
    "duration": 103,
    "start_time": "2024-03-14T14:22:57.444Z"
   },
   {
    "duration": 30,
    "start_time": "2024-03-14T14:22:57.549Z"
   },
   {
    "duration": 4,
    "start_time": "2024-03-14T14:22:57.581Z"
   },
   {
    "duration": 33,
    "start_time": "2024-03-14T14:22:57.587Z"
   },
   {
    "duration": 51,
    "start_time": "2024-03-14T14:22:57.622Z"
   },
   {
    "duration": 22,
    "start_time": "2024-03-14T14:22:57.675Z"
   },
   {
    "duration": 47,
    "start_time": "2024-03-14T14:22:57.699Z"
   },
   {
    "duration": 20,
    "start_time": "2024-03-14T14:22:57.748Z"
   },
   {
    "duration": 80,
    "start_time": "2024-03-14T14:23:54.082Z"
   },
   {
    "duration": 4,
    "start_time": "2024-03-14T14:23:57.369Z"
   },
   {
    "duration": 6,
    "start_time": "2024-03-14T14:23:59.448Z"
   },
   {
    "duration": 63,
    "start_time": "2024-03-14T14:24:01.569Z"
   },
   {
    "duration": 72,
    "start_time": "2024-03-14T14:24:40.735Z"
   },
   {
    "duration": 7,
    "start_time": "2024-03-14T14:26:24.070Z"
   },
   {
    "duration": 4,
    "start_time": "2024-03-14T14:26:42.314Z"
   },
   {
    "duration": 7,
    "start_time": "2024-03-14T14:27:18.089Z"
   },
   {
    "duration": 77,
    "start_time": "2024-03-14T14:27:30.693Z"
   },
   {
    "duration": 27,
    "start_time": "2024-03-14T14:28:34.454Z"
   },
   {
    "duration": 6,
    "start_time": "2024-03-14T14:28:36.687Z"
   },
   {
    "duration": 37,
    "start_time": "2024-03-14T14:28:38.581Z"
   },
   {
    "duration": 26,
    "start_time": "2024-03-14T14:30:15.932Z"
   },
   {
    "duration": 143,
    "start_time": "2024-03-14T14:31:20.026Z"
   },
   {
    "duration": 8,
    "start_time": "2024-03-14T14:31:53.625Z"
   },
   {
    "duration": 27,
    "start_time": "2024-03-14T14:32:36.476Z"
   },
   {
    "duration": 47,
    "start_time": "2024-03-15T05:57:35.120Z"
   },
   {
    "duration": 1414,
    "start_time": "2024-03-15T05:57:43.722Z"
   },
   {
    "duration": 93,
    "start_time": "2024-03-15T05:57:45.138Z"
   },
   {
    "duration": 239,
    "start_time": "2024-03-15T05:57:45.232Z"
   },
   {
    "duration": 12,
    "start_time": "2024-03-15T05:57:45.473Z"
   },
   {
    "duration": 62,
    "start_time": "2024-03-15T05:57:45.486Z"
   },
   {
    "duration": 28,
    "start_time": "2024-03-15T05:57:45.550Z"
   },
   {
    "duration": 46,
    "start_time": "2024-03-15T05:57:45.579Z"
   },
   {
    "duration": 79,
    "start_time": "2024-03-15T05:57:45.626Z"
   },
   {
    "duration": 20,
    "start_time": "2024-03-15T05:57:45.707Z"
   },
   {
    "duration": 18,
    "start_time": "2024-03-15T05:57:45.731Z"
   },
   {
    "duration": 41,
    "start_time": "2024-03-15T05:57:45.751Z"
   },
   {
    "duration": 7,
    "start_time": "2024-03-15T05:57:45.794Z"
   },
   {
    "duration": 17,
    "start_time": "2024-03-15T05:57:45.802Z"
   },
   {
    "duration": 42,
    "start_time": "2024-03-15T05:57:45.820Z"
   },
   {
    "duration": 5,
    "start_time": "2024-03-15T05:57:45.863Z"
   },
   {
    "duration": 142,
    "start_time": "2024-03-15T05:57:45.870Z"
   },
   {
    "duration": 6,
    "start_time": "2024-03-15T05:57:46.013Z"
   },
   {
    "duration": 10,
    "start_time": "2024-03-15T05:57:46.020Z"
   },
   {
    "duration": 43,
    "start_time": "2024-03-15T05:57:46.031Z"
   },
   {
    "duration": 722,
    "start_time": "2024-03-15T05:57:46.076Z"
   },
   {
    "duration": 1606,
    "start_time": "2024-03-15T05:57:46.800Z"
   },
   {
    "duration": 1257,
    "start_time": "2024-03-15T05:57:48.407Z"
   },
   {
    "duration": 11,
    "start_time": "2024-03-15T05:57:49.665Z"
   },
   {
    "duration": 29,
    "start_time": "2024-03-15T05:57:49.677Z"
   },
   {
    "duration": 28,
    "start_time": "2024-03-15T05:57:49.707Z"
   },
   {
    "duration": 26,
    "start_time": "2024-03-15T05:57:49.736Z"
   },
   {
    "duration": 48,
    "start_time": "2024-03-15T05:57:49.764Z"
   },
   {
    "duration": 435,
    "start_time": "2024-03-15T05:57:49.815Z"
   },
   {
    "duration": 21,
    "start_time": "2024-03-15T05:57:50.252Z"
   },
   {
    "duration": 18,
    "start_time": "2024-03-15T05:57:50.274Z"
   },
   {
    "duration": 21,
    "start_time": "2024-03-15T05:57:50.344Z"
   },
   {
    "duration": 458,
    "start_time": "2024-03-15T05:57:50.366Z"
   },
   {
    "duration": 21,
    "start_time": "2024-03-15T05:57:50.825Z"
   },
   {
    "duration": 12,
    "start_time": "2024-03-15T05:57:50.847Z"
   },
   {
    "duration": 35,
    "start_time": "2024-03-15T05:57:50.860Z"
   },
   {
    "duration": 75,
    "start_time": "2024-03-15T05:57:50.896Z"
   },
   {
    "duration": 11,
    "start_time": "2024-03-15T05:57:50.972Z"
   },
   {
    "duration": 32,
    "start_time": "2024-03-15T05:57:50.984Z"
   },
   {
    "duration": 85,
    "start_time": "2024-03-15T05:57:51.018Z"
   },
   {
    "duration": 7,
    "start_time": "2024-03-15T05:57:51.105Z"
   },
   {
    "duration": 19,
    "start_time": "2024-03-15T05:57:51.114Z"
   },
   {
    "duration": 103,
    "start_time": "2024-03-15T05:57:51.135Z"
   },
   {
    "duration": 23,
    "start_time": "2024-03-15T05:57:51.239Z"
   },
   {
    "duration": 7,
    "start_time": "2024-03-15T05:57:51.263Z"
   },
   {
    "duration": 57,
    "start_time": "2024-03-15T05:57:51.271Z"
   },
   {
    "duration": 18,
    "start_time": "2024-03-15T05:57:51.330Z"
   },
   {
    "duration": 20,
    "start_time": "2024-03-15T05:57:51.350Z"
   },
   {
    "duration": 47,
    "start_time": "2024-03-15T05:57:51.372Z"
   },
   {
    "duration": 16,
    "start_time": "2024-03-15T05:59:20.962Z"
   },
   {
    "duration": 13,
    "start_time": "2024-03-15T05:59:26.013Z"
   },
   {
    "duration": 21,
    "start_time": "2024-03-15T05:59:28.586Z"
   },
   {
    "duration": 65,
    "start_time": "2024-03-15T06:00:31.698Z"
   },
   {
    "duration": 6,
    "start_time": "2024-03-15T06:00:43.218Z"
   },
   {
    "duration": 70,
    "start_time": "2024-03-15T06:00:47.601Z"
   },
   {
    "duration": 23,
    "start_time": "2024-03-15T06:00:58.870Z"
   },
   {
    "duration": 6,
    "start_time": "2024-03-15T06:01:14.550Z"
   },
   {
    "duration": 26,
    "start_time": "2024-03-15T06:01:26.763Z"
   },
   {
    "duration": 9,
    "start_time": "2024-03-15T06:11:56.361Z"
   },
   {
    "duration": 407,
    "start_time": "2024-03-15T06:15:40.752Z"
   },
   {
    "duration": 543,
    "start_time": "2024-03-15T06:17:37.962Z"
   },
   {
    "duration": 490,
    "start_time": "2024-03-15T06:18:11.523Z"
   },
   {
    "duration": 30,
    "start_time": "2024-03-15T06:22:27.036Z"
   },
   {
    "duration": 15,
    "start_time": "2024-03-15T06:22:47.596Z"
   },
   {
    "duration": 16,
    "start_time": "2024-03-15T06:22:50.736Z"
   },
   {
    "duration": 13,
    "start_time": "2024-03-15T06:22:57.845Z"
   },
   {
    "duration": 16,
    "start_time": "2024-03-15T06:23:05.024Z"
   },
   {
    "duration": 70,
    "start_time": "2024-03-15T06:23:15.496Z"
   },
   {
    "duration": 3,
    "start_time": "2024-03-15T06:23:21.178Z"
   },
   {
    "duration": 61,
    "start_time": "2024-03-15T06:23:24.894Z"
   },
   {
    "duration": 67,
    "start_time": "2024-03-15T06:24:00.441Z"
   },
   {
    "duration": 6,
    "start_time": "2024-03-15T06:48:52.537Z"
   },
   {
    "duration": 75,
    "start_time": "2024-03-15T06:48:56.297Z"
   },
   {
    "duration": 27,
    "start_time": "2024-03-15T06:51:45.786Z"
   },
   {
    "duration": 7,
    "start_time": "2024-03-15T06:52:10.308Z"
   },
   {
    "duration": 32,
    "start_time": "2024-03-15T06:52:12.289Z"
   },
   {
    "duration": 9,
    "start_time": "2024-03-15T07:03:04.006Z"
   },
   {
    "duration": 9,
    "start_time": "2024-03-15T07:03:30.141Z"
   },
   {
    "duration": 18,
    "start_time": "2024-03-15T07:04:48.892Z"
   },
   {
    "duration": 13,
    "start_time": "2024-03-15T07:05:31.956Z"
   },
   {
    "duration": 6,
    "start_time": "2024-03-15T07:06:48.465Z"
   },
   {
    "duration": 10,
    "start_time": "2024-03-15T07:08:55.004Z"
   },
   {
    "duration": 29,
    "start_time": "2024-03-15T07:09:01.791Z"
   },
   {
    "duration": 14,
    "start_time": "2024-03-15T07:09:13.435Z"
   },
   {
    "duration": 12,
    "start_time": "2024-03-15T07:09:42.534Z"
   },
   {
    "duration": 296,
    "start_time": "2024-03-15T07:11:44.197Z"
   },
   {
    "duration": 283,
    "start_time": "2024-03-15T07:12:09.071Z"
   },
   {
    "duration": 146,
    "start_time": "2024-03-15T07:12:26.623Z"
   },
   {
    "duration": 131,
    "start_time": "2024-03-15T07:12:31.889Z"
   },
   {
    "duration": 12,
    "start_time": "2024-03-15T07:17:58.524Z"
   },
   {
    "duration": 15,
    "start_time": "2024-03-15T07:18:22.721Z"
   },
   {
    "duration": 16,
    "start_time": "2024-03-15T07:18:52.012Z"
   },
   {
    "duration": 21,
    "start_time": "2024-03-15T07:19:18.865Z"
   },
   {
    "duration": 16,
    "start_time": "2024-03-15T07:21:08.625Z"
   },
   {
    "duration": 10,
    "start_time": "2024-03-15T07:32:37.751Z"
   },
   {
    "duration": 16,
    "start_time": "2024-03-15T07:32:55.039Z"
   },
   {
    "duration": 10,
    "start_time": "2024-03-15T07:34:28.335Z"
   },
   {
    "duration": 5,
    "start_time": "2024-03-15T07:35:24.628Z"
   },
   {
    "duration": 10,
    "start_time": "2024-03-15T07:35:45.732Z"
   },
   {
    "duration": 6,
    "start_time": "2024-03-15T07:35:49.017Z"
   },
   {
    "duration": 5,
    "start_time": "2024-03-15T07:36:24.952Z"
   },
   {
    "duration": 6,
    "start_time": "2024-03-15T07:37:00.755Z"
   },
   {
    "duration": 5,
    "start_time": "2024-03-15T07:37:26.077Z"
   },
   {
    "duration": 5,
    "start_time": "2024-03-15T07:37:50.464Z"
   },
   {
    "duration": 4,
    "start_time": "2024-03-15T07:38:02.933Z"
   },
   {
    "duration": 4,
    "start_time": "2024-03-15T07:38:14.756Z"
   },
   {
    "duration": 8,
    "start_time": "2024-03-15T07:38:49.762Z"
   },
   {
    "duration": 9,
    "start_time": "2024-03-15T07:38:55.844Z"
   },
   {
    "duration": 5,
    "start_time": "2024-03-15T07:39:00.090Z"
   },
   {
    "duration": 3,
    "start_time": "2024-03-15T07:39:02.986Z"
   },
   {
    "duration": 75,
    "start_time": "2024-03-15T07:41:19.282Z"
   },
   {
    "duration": 73,
    "start_time": "2024-03-15T07:41:48.129Z"
   },
   {
    "duration": 5,
    "start_time": "2024-03-15T07:42:33.092Z"
   },
   {
    "duration": 4,
    "start_time": "2024-03-15T07:42:49.807Z"
   },
   {
    "duration": 15,
    "start_time": "2024-03-15T07:43:26.038Z"
   },
   {
    "duration": 10,
    "start_time": "2024-03-15T07:43:48.698Z"
   },
   {
    "duration": 5,
    "start_time": "2024-03-15T07:44:08.554Z"
   },
   {
    "duration": 3,
    "start_time": "2024-03-15T07:44:13.072Z"
   },
   {
    "duration": 69,
    "start_time": "2024-03-15T07:44:50.713Z"
   },
   {
    "duration": 9,
    "start_time": "2024-03-15T07:44:59.673Z"
   },
   {
    "duration": 5,
    "start_time": "2024-03-15T07:45:03.847Z"
   },
   {
    "duration": 3,
    "start_time": "2024-03-15T07:45:08.068Z"
   },
   {
    "duration": 14,
    "start_time": "2024-03-15T07:50:09.775Z"
   },
   {
    "duration": 14,
    "start_time": "2024-03-15T07:50:21.741Z"
   },
   {
    "duration": 15,
    "start_time": "2024-03-15T07:50:45.182Z"
   },
   {
    "duration": 917,
    "start_time": "2024-03-15T07:51:33.214Z"
   },
   {
    "duration": 9,
    "start_time": "2024-03-15T07:53:02.559Z"
   },
   {
    "duration": 5,
    "start_time": "2024-03-15T07:53:41.149Z"
   },
   {
    "duration": 18,
    "start_time": "2024-03-15T07:54:09.315Z"
   },
   {
    "duration": 14,
    "start_time": "2024-03-15T07:54:17.945Z"
   },
   {
    "duration": 10,
    "start_time": "2024-03-15T07:54:45.937Z"
   },
   {
    "duration": 10,
    "start_time": "2024-03-15T07:55:12.892Z"
   },
   {
    "duration": 15,
    "start_time": "2024-03-15T07:55:39.460Z"
   },
   {
    "duration": 9,
    "start_time": "2024-03-15T07:55:52.274Z"
   },
   {
    "duration": 12,
    "start_time": "2024-03-15T07:56:36.820Z"
   },
   {
    "duration": 22,
    "start_time": "2024-03-15T07:56:47.944Z"
   },
   {
    "duration": 3,
    "start_time": "2024-03-15T08:02:27.130Z"
   },
   {
    "duration": 21,
    "start_time": "2024-03-15T08:11:44.270Z"
   },
   {
    "duration": 18,
    "start_time": "2024-03-15T08:11:58.124Z"
   },
   {
    "duration": 259,
    "start_time": "2024-03-15T08:15:25.158Z"
   },
   {
    "duration": 219,
    "start_time": "2024-03-15T08:16:00.069Z"
   },
   {
    "duration": 398,
    "start_time": "2024-03-15T08:41:45.675Z"
   },
   {
    "duration": 413,
    "start_time": "2024-03-15T08:45:52.637Z"
   },
   {
    "duration": 25,
    "start_time": "2024-03-15T08:50:15.330Z"
   },
   {
    "duration": 26,
    "start_time": "2024-03-15T08:52:05.187Z"
   },
   {
    "duration": 8,
    "start_time": "2024-03-15T08:55:24.539Z"
   },
   {
    "duration": 3,
    "start_time": "2024-03-15T08:55:32.246Z"
   },
   {
    "duration": 28,
    "start_time": "2024-03-15T08:56:13.007Z"
   },
   {
    "duration": 14,
    "start_time": "2024-03-15T08:56:16.584Z"
   },
   {
    "duration": 7,
    "start_time": "2024-03-15T09:14:45.384Z"
   },
   {
    "duration": 12,
    "start_time": "2024-03-15T10:37:18.819Z"
   },
   {
    "duration": 28,
    "start_time": "2024-03-15T10:38:48.754Z"
   },
   {
    "duration": 13,
    "start_time": "2024-03-15T10:44:43.011Z"
   },
   {
    "duration": 24,
    "start_time": "2024-03-15T10:46:31.339Z"
   },
   {
    "duration": 26,
    "start_time": "2024-03-15T10:49:29.787Z"
   },
   {
    "duration": 23,
    "start_time": "2024-03-15T10:49:31.525Z"
   },
   {
    "duration": 6,
    "start_time": "2024-03-15T10:49:35.133Z"
   },
   {
    "duration": 9,
    "start_time": "2024-03-15T10:49:58.248Z"
   },
   {
    "duration": 38,
    "start_time": "2024-03-15T10:50:01.622Z"
   },
   {
    "duration": 23,
    "start_time": "2024-03-15T10:50:03.492Z"
   },
   {
    "duration": 3,
    "start_time": "2024-03-15T10:50:53.485Z"
   },
   {
    "duration": 6,
    "start_time": "2024-03-15T10:51:34.259Z"
   },
   {
    "duration": 27,
    "start_time": "2024-03-15T10:53:20.653Z"
   },
   {
    "duration": 1183,
    "start_time": "2024-03-15T10:57:08.927Z"
   },
   {
    "duration": 46,
    "start_time": "2024-03-15T10:57:10.111Z"
   },
   {
    "duration": 317,
    "start_time": "2024-03-15T10:57:10.158Z"
   },
   {
    "duration": 9,
    "start_time": "2024-03-15T10:57:10.477Z"
   },
   {
    "duration": 20,
    "start_time": "2024-03-15T10:57:10.487Z"
   },
   {
    "duration": 21,
    "start_time": "2024-03-15T10:57:10.508Z"
   },
   {
    "duration": 17,
    "start_time": "2024-03-15T10:57:10.530Z"
   },
   {
    "duration": 59,
    "start_time": "2024-03-15T10:57:10.548Z"
   },
   {
    "duration": 19,
    "start_time": "2024-03-15T10:57:10.609Z"
   },
   {
    "duration": 28,
    "start_time": "2024-03-15T10:57:10.630Z"
   },
   {
    "duration": 60,
    "start_time": "2024-03-15T10:57:10.659Z"
   },
   {
    "duration": 5,
    "start_time": "2024-03-15T10:57:10.721Z"
   },
   {
    "duration": 16,
    "start_time": "2024-03-15T10:57:10.727Z"
   },
   {
    "duration": 30,
    "start_time": "2024-03-15T10:57:10.746Z"
   },
   {
    "duration": 3,
    "start_time": "2024-03-15T10:57:10.777Z"
   },
   {
    "duration": 120,
    "start_time": "2024-03-15T10:57:10.782Z"
   },
   {
    "duration": 6,
    "start_time": "2024-03-15T10:57:10.903Z"
   },
   {
    "duration": 4,
    "start_time": "2024-03-15T10:57:10.910Z"
   },
   {
    "duration": 47,
    "start_time": "2024-03-15T10:57:10.915Z"
   },
   {
    "duration": 709,
    "start_time": "2024-03-15T10:57:10.964Z"
   },
   {
    "duration": 1425,
    "start_time": "2024-03-15T10:57:11.674Z"
   },
   {
    "duration": 1224,
    "start_time": "2024-03-15T10:57:13.101Z"
   },
   {
    "duration": 10,
    "start_time": "2024-03-15T10:57:14.326Z"
   },
   {
    "duration": 22,
    "start_time": "2024-03-15T10:57:14.345Z"
   },
   {
    "duration": 25,
    "start_time": "2024-03-15T10:57:14.369Z"
   },
   {
    "duration": 8,
    "start_time": "2024-03-15T10:57:14.396Z"
   },
   {
    "duration": 9,
    "start_time": "2024-03-15T10:57:14.405Z"
   },
   {
    "duration": 354,
    "start_time": "2024-03-15T10:57:14.416Z"
   },
   {
    "duration": 19,
    "start_time": "2024-03-15T10:57:14.772Z"
   },
   {
    "duration": 54,
    "start_time": "2024-03-15T10:57:14.792Z"
   },
   {
    "duration": 16,
    "start_time": "2024-03-15T10:57:14.848Z"
   },
   {
    "duration": 415,
    "start_time": "2024-03-15T10:57:14.866Z"
   },
   {
    "duration": 11,
    "start_time": "2024-03-15T10:57:15.282Z"
   },
   {
    "duration": 33,
    "start_time": "2024-03-15T10:57:15.294Z"
   },
   {
    "duration": 67,
    "start_time": "2024-03-15T10:57:15.329Z"
   },
   {
    "duration": 79,
    "start_time": "2024-03-15T10:57:15.398Z"
   },
   {
    "duration": 88,
    "start_time": "2024-03-15T10:57:15.479Z"
   },
   {
    "duration": 47,
    "start_time": "2024-03-15T10:57:15.569Z"
   },
   {
    "duration": 16,
    "start_time": "2024-03-15T10:57:15.617Z"
   },
   {
    "duration": 95,
    "start_time": "2024-03-15T10:57:15.634Z"
   },
   {
    "duration": 59,
    "start_time": "2024-03-15T10:57:15.732Z"
   },
   {
    "duration": 5,
    "start_time": "2024-03-15T10:57:15.793Z"
   },
   {
    "duration": 77,
    "start_time": "2024-03-15T10:57:15.800Z"
   },
   {
    "duration": 27,
    "start_time": "2024-03-15T10:57:15.878Z"
   },
   {
    "duration": 5,
    "start_time": "2024-03-15T10:57:15.906Z"
   },
   {
    "duration": 62,
    "start_time": "2024-03-15T10:57:15.912Z"
   },
   {
    "duration": 8,
    "start_time": "2024-03-15T10:57:15.975Z"
   },
   {
    "duration": 16,
    "start_time": "2024-03-15T10:57:15.984Z"
   },
   {
    "duration": 5,
    "start_time": "2024-03-15T10:57:16.001Z"
   },
   {
    "duration": 39,
    "start_time": "2024-03-15T10:57:16.007Z"
   },
   {
    "duration": 11,
    "start_time": "2024-03-15T10:57:16.047Z"
   },
   {
    "duration": 146,
    "start_time": "2024-03-15T10:57:16.059Z"
   },
   {
    "duration": 153,
    "start_time": "2024-03-15T10:57:16.207Z"
   },
   {
    "duration": 28,
    "start_time": "2024-03-15T10:57:16.361Z"
   },
   {
    "duration": 20,
    "start_time": "2024-03-15T10:57:16.390Z"
   },
   {
    "duration": 24,
    "start_time": "2024-03-15T10:57:16.412Z"
   },
   {
    "duration": 37,
    "start_time": "2024-03-15T10:57:16.437Z"
   },
   {
    "duration": 23,
    "start_time": "2024-03-15T10:57:16.475Z"
   },
   {
    "duration": 22,
    "start_time": "2024-03-15T10:57:16.499Z"
   },
   {
    "duration": 1240,
    "start_time": "2024-03-15T15:56:37.585Z"
   },
   {
    "duration": 67,
    "start_time": "2024-03-15T15:56:38.827Z"
   },
   {
    "duration": 241,
    "start_time": "2024-03-15T15:56:38.895Z"
   },
   {
    "duration": 10,
    "start_time": "2024-03-15T15:56:39.138Z"
   },
   {
    "duration": 45,
    "start_time": "2024-03-15T15:56:39.149Z"
   },
   {
    "duration": 34,
    "start_time": "2024-03-15T15:56:39.196Z"
   },
   {
    "duration": 20,
    "start_time": "2024-03-15T15:56:39.232Z"
   },
   {
    "duration": 75,
    "start_time": "2024-03-15T15:56:39.254Z"
   },
   {
    "duration": 25,
    "start_time": "2024-03-15T15:56:39.330Z"
   },
   {
    "duration": 39,
    "start_time": "2024-03-15T15:56:39.357Z"
   },
   {
    "duration": 39,
    "start_time": "2024-03-15T15:56:39.398Z"
   },
   {
    "duration": 6,
    "start_time": "2024-03-15T15:56:39.438Z"
   },
   {
    "duration": 39,
    "start_time": "2024-03-15T15:56:39.445Z"
   },
   {
    "duration": 32,
    "start_time": "2024-03-15T15:56:39.485Z"
   },
   {
    "duration": 19,
    "start_time": "2024-03-15T15:56:39.519Z"
   },
   {
    "duration": 147,
    "start_time": "2024-03-15T15:56:39.540Z"
   },
   {
    "duration": 6,
    "start_time": "2024-03-15T15:56:39.688Z"
   },
   {
    "duration": 45,
    "start_time": "2024-03-15T15:56:39.695Z"
   },
   {
    "duration": 60,
    "start_time": "2024-03-15T15:56:39.742Z"
   },
   {
    "duration": 750,
    "start_time": "2024-03-15T15:56:39.804Z"
   },
   {
    "duration": 1626,
    "start_time": "2024-03-15T15:56:40.555Z"
   },
   {
    "duration": 1346,
    "start_time": "2024-03-15T15:56:42.182Z"
   },
   {
    "duration": 11,
    "start_time": "2024-03-15T15:56:43.530Z"
   },
   {
    "duration": 27,
    "start_time": "2024-03-15T15:56:43.542Z"
   },
   {
    "duration": 29,
    "start_time": "2024-03-15T15:56:43.572Z"
   },
   {
    "duration": 15,
    "start_time": "2024-03-15T15:56:43.602Z"
   },
   {
    "duration": 38,
    "start_time": "2024-03-15T15:56:43.619Z"
   },
   {
    "duration": 812,
    "start_time": "2024-03-15T15:56:43.660Z"
   },
   {
    "duration": 21,
    "start_time": "2024-03-15T15:56:44.478Z"
   },
   {
    "duration": 68,
    "start_time": "2024-03-15T15:56:44.501Z"
   },
   {
    "duration": 23,
    "start_time": "2024-03-15T15:56:44.573Z"
   },
   {
    "duration": 479,
    "start_time": "2024-03-15T15:56:44.597Z"
   },
   {
    "duration": 14,
    "start_time": "2024-03-15T15:56:45.078Z"
   },
   {
    "duration": 38,
    "start_time": "2024-03-15T15:56:45.093Z"
   },
   {
    "duration": 47,
    "start_time": "2024-03-15T15:56:45.133Z"
   },
   {
    "duration": 30,
    "start_time": "2024-03-15T15:56:45.182Z"
   },
   {
    "duration": 77,
    "start_time": "2024-03-15T15:56:45.214Z"
   },
   {
    "duration": 5,
    "start_time": "2024-03-15T15:56:45.293Z"
   },
   {
    "duration": 19,
    "start_time": "2024-03-15T15:56:45.299Z"
   },
   {
    "duration": 103,
    "start_time": "2024-03-15T15:56:45.319Z"
   },
   {
    "duration": 82,
    "start_time": "2024-03-15T15:56:45.424Z"
   },
   {
    "duration": 6,
    "start_time": "2024-03-15T15:56:45.508Z"
   },
   {
    "duration": 94,
    "start_time": "2024-03-15T15:56:45.516Z"
   },
   {
    "duration": 30,
    "start_time": "2024-03-15T15:56:45.612Z"
   },
   {
    "duration": 22,
    "start_time": "2024-03-15T15:56:45.644Z"
   },
   {
    "duration": 47,
    "start_time": "2024-03-15T15:56:45.668Z"
   },
   {
    "duration": 8,
    "start_time": "2024-03-15T15:56:45.717Z"
   },
   {
    "duration": 30,
    "start_time": "2024-03-15T15:56:45.727Z"
   },
   {
    "duration": 10,
    "start_time": "2024-03-15T15:56:45.759Z"
   },
   {
    "duration": 14,
    "start_time": "2024-03-15T15:56:45.782Z"
   },
   {
    "duration": 12,
    "start_time": "2024-03-15T15:56:45.798Z"
   },
   {
    "duration": 201,
    "start_time": "2024-03-15T15:56:45.811Z"
   },
   {
    "duration": 185,
    "start_time": "2024-03-15T15:56:46.013Z"
   },
   {
    "duration": 28,
    "start_time": "2024-03-15T15:56:46.199Z"
   },
   {
    "duration": 9,
    "start_time": "2024-03-15T15:56:46.229Z"
   },
   {
    "duration": 41,
    "start_time": "2024-03-15T15:56:46.239Z"
   },
   {
    "duration": 35,
    "start_time": "2024-03-15T15:56:46.282Z"
   },
   {
    "duration": 24,
    "start_time": "2024-03-15T15:56:46.318Z"
   },
   {
    "duration": 24,
    "start_time": "2024-03-15T15:56:46.343Z"
   },
   {
    "duration": 4,
    "start_time": "2024-03-15T16:02:11.303Z"
   },
   {
    "duration": 3,
    "start_time": "2024-03-15T16:06:29.502Z"
   },
   {
    "duration": 34,
    "start_time": "2024-03-15T16:10:33.954Z"
   },
   {
    "duration": 43,
    "start_time": "2024-03-16T07:08:06.589Z"
   },
   {
    "duration": 1343,
    "start_time": "2024-03-16T07:08:28.827Z"
   },
   {
    "duration": 103,
    "start_time": "2024-03-16T07:08:30.171Z"
   },
   {
    "duration": 266,
    "start_time": "2024-03-16T07:08:30.276Z"
   },
   {
    "duration": 9,
    "start_time": "2024-03-16T07:08:30.544Z"
   },
   {
    "duration": 112,
    "start_time": "2024-03-16T07:08:30.554Z"
   },
   {
    "duration": 38,
    "start_time": "2024-03-16T07:08:30.667Z"
   },
   {
    "duration": 43,
    "start_time": "2024-03-16T07:08:30.706Z"
   },
   {
    "duration": 67,
    "start_time": "2024-03-16T07:08:30.750Z"
   },
   {
    "duration": 23,
    "start_time": "2024-03-16T07:08:30.819Z"
   },
   {
    "duration": 15,
    "start_time": "2024-03-16T07:08:30.844Z"
   },
   {
    "duration": 53,
    "start_time": "2024-03-16T07:08:30.860Z"
   },
   {
    "duration": 5,
    "start_time": "2024-03-16T07:08:30.914Z"
   },
   {
    "duration": 29,
    "start_time": "2024-03-16T07:08:30.920Z"
   },
   {
    "duration": 29,
    "start_time": "2024-03-16T07:08:30.951Z"
   },
   {
    "duration": 20,
    "start_time": "2024-03-16T07:08:30.981Z"
   },
   {
    "duration": 123,
    "start_time": "2024-03-16T07:08:31.003Z"
   },
   {
    "duration": 5,
    "start_time": "2024-03-16T07:08:31.128Z"
   },
   {
    "duration": 46,
    "start_time": "2024-03-16T07:08:31.135Z"
   },
   {
    "duration": 114,
    "start_time": "2024-03-16T07:08:31.182Z"
   },
   {
    "duration": 758,
    "start_time": "2024-03-16T07:08:31.298Z"
   },
   {
    "duration": 1460,
    "start_time": "2024-03-16T07:08:32.058Z"
   },
   {
    "duration": 1221,
    "start_time": "2024-03-16T07:08:33.519Z"
   },
   {
    "duration": 9,
    "start_time": "2024-03-16T07:08:34.745Z"
   },
   {
    "duration": 14,
    "start_time": "2024-03-16T07:08:34.756Z"
   },
   {
    "duration": 14,
    "start_time": "2024-03-16T07:08:34.771Z"
   },
   {
    "duration": 22,
    "start_time": "2024-03-16T07:08:34.787Z"
   },
   {
    "duration": 45,
    "start_time": "2024-03-16T07:08:34.810Z"
   },
   {
    "duration": 416,
    "start_time": "2024-03-16T07:08:34.858Z"
   },
   {
    "duration": 20,
    "start_time": "2024-03-16T07:08:35.275Z"
   },
   {
    "duration": 20,
    "start_time": "2024-03-16T07:08:35.296Z"
   },
   {
    "duration": 81,
    "start_time": "2024-03-16T07:08:35.317Z"
   },
   {
    "duration": 400,
    "start_time": "2024-03-16T07:08:35.399Z"
   },
   {
    "duration": 10,
    "start_time": "2024-03-16T07:08:35.801Z"
   },
   {
    "duration": 20,
    "start_time": "2024-03-16T07:08:35.813Z"
   },
   {
    "duration": 46,
    "start_time": "2024-03-16T07:08:35.834Z"
   },
   {
    "duration": 22,
    "start_time": "2024-03-16T07:08:35.881Z"
   },
   {
    "duration": 65,
    "start_time": "2024-03-16T07:08:35.904Z"
   },
   {
    "duration": 4,
    "start_time": "2024-03-16T07:08:35.970Z"
   },
   {
    "duration": 34,
    "start_time": "2024-03-16T07:08:35.975Z"
   },
   {
    "duration": 84,
    "start_time": "2024-03-16T07:08:36.010Z"
   },
   {
    "duration": 67,
    "start_time": "2024-03-16T07:08:36.095Z"
   },
   {
    "duration": 5,
    "start_time": "2024-03-16T07:08:36.163Z"
   },
   {
    "duration": 98,
    "start_time": "2024-03-16T07:08:36.170Z"
   },
   {
    "duration": 27,
    "start_time": "2024-03-16T07:08:36.269Z"
   },
   {
    "duration": 12,
    "start_time": "2024-03-16T07:08:36.298Z"
   },
   {
    "duration": 63,
    "start_time": "2024-03-16T07:08:36.311Z"
   },
   {
    "duration": 9,
    "start_time": "2024-03-16T07:08:36.375Z"
   },
   {
    "duration": 46,
    "start_time": "2024-03-16T07:08:36.385Z"
   },
   {
    "duration": 93,
    "start_time": "2024-03-16T07:08:36.433Z"
   },
   {
    "duration": 75,
    "start_time": "2024-03-16T07:08:36.528Z"
   },
   {
    "duration": 19,
    "start_time": "2024-03-16T07:08:36.605Z"
   },
   {
    "duration": 154,
    "start_time": "2024-03-16T07:08:36.626Z"
   },
   {
    "duration": 143,
    "start_time": "2024-03-16T07:08:36.781Z"
   },
   {
    "duration": 32,
    "start_time": "2024-03-16T07:08:36.926Z"
   },
   {
    "duration": 7,
    "start_time": "2024-03-16T07:08:36.959Z"
   },
   {
    "duration": 14,
    "start_time": "2024-03-16T07:08:36.967Z"
   },
   {
    "duration": 27,
    "start_time": "2024-03-16T07:08:36.983Z"
   },
   {
    "duration": 42,
    "start_time": "2024-03-16T07:08:37.011Z"
   },
   {
    "duration": 5,
    "start_time": "2024-03-16T07:08:37.055Z"
   },
   {
    "duration": 129,
    "start_time": "2024-03-16T07:11:40.465Z"
   },
   {
    "duration": 155,
    "start_time": "2024-03-16T07:11:48.897Z"
   },
   {
    "duration": 133,
    "start_time": "2024-03-16T07:14:14.011Z"
   },
   {
    "duration": 9,
    "start_time": "2024-03-16T07:14:33.706Z"
   },
   {
    "duration": 9,
    "start_time": "2024-03-16T07:14:44.612Z"
   },
   {
    "duration": 135,
    "start_time": "2024-03-16T07:16:07.939Z"
   },
   {
    "duration": 223,
    "start_time": "2024-03-16T07:16:16.780Z"
   },
   {
    "duration": 147,
    "start_time": "2024-03-16T07:21:47.401Z"
   },
   {
    "duration": 64,
    "start_time": "2024-03-16T07:24:03.436Z"
   },
   {
    "duration": 141,
    "start_time": "2024-03-16T07:24:26.013Z"
   },
   {
    "duration": 125,
    "start_time": "2024-03-16T07:24:38.340Z"
   },
   {
    "duration": 13,
    "start_time": "2024-03-16T07:30:10.176Z"
   },
   {
    "duration": 12,
    "start_time": "2024-03-16T07:30:32.336Z"
   },
   {
    "duration": 12,
    "start_time": "2024-03-16T07:30:46.116Z"
   },
   {
    "duration": 12,
    "start_time": "2024-03-16T07:31:52.951Z"
   },
   {
    "duration": 152,
    "start_time": "2024-03-16T07:32:31.685Z"
   },
   {
    "duration": 153,
    "start_time": "2024-03-16T07:32:52.136Z"
   },
   {
    "duration": 126,
    "start_time": "2024-03-16T07:34:20.713Z"
   },
   {
    "duration": 134,
    "start_time": "2024-03-16T07:34:38.105Z"
   },
   {
    "duration": 78,
    "start_time": "2024-03-16T07:35:16.790Z"
   },
   {
    "duration": 15,
    "start_time": "2024-03-16T07:48:42.004Z"
   },
   {
    "duration": 8,
    "start_time": "2024-03-16T07:51:42.856Z"
   },
   {
    "duration": 8,
    "start_time": "2024-03-16T07:52:00.258Z"
   },
   {
    "duration": 1126,
    "start_time": "2024-03-16T08:06:09.014Z"
   },
   {
    "duration": 29,
    "start_time": "2024-03-16T08:10:27.321Z"
   },
   {
    "duration": 30,
    "start_time": "2024-03-16T08:14:20.584Z"
   },
   {
    "duration": 172,
    "start_time": "2024-03-16T08:16:49.498Z"
   },
   {
    "duration": 86,
    "start_time": "2024-03-16T08:19:30.703Z"
   },
   {
    "duration": 28,
    "start_time": "2024-03-16T08:19:40.429Z"
   },
   {
    "duration": 86,
    "start_time": "2024-03-16T08:19:42.222Z"
   },
   {
    "duration": 175,
    "start_time": "2024-03-16T08:20:54.877Z"
   },
   {
    "duration": 28,
    "start_time": "2024-03-16T08:21:17.436Z"
   },
   {
    "duration": 8,
    "start_time": "2024-03-16T08:21:18.932Z"
   },
   {
    "duration": 127,
    "start_time": "2024-03-16T08:22:47.353Z"
   },
   {
    "duration": 16,
    "start_time": "2024-03-16T08:27:08.179Z"
   },
   {
    "duration": 53,
    "start_time": "2024-03-16T08:27:22.933Z"
   },
   {
    "duration": 23,
    "start_time": "2024-03-16T08:28:02.970Z"
   },
   {
    "duration": 28,
    "start_time": "2024-03-16T08:30:42.262Z"
   },
   {
    "duration": 28,
    "start_time": "2024-03-16T08:36:40.270Z"
   },
   {
    "duration": 9,
    "start_time": "2024-03-16T08:38:02.539Z"
   },
   {
    "duration": 28,
    "start_time": "2024-03-16T08:38:33.574Z"
   },
   {
    "duration": 8,
    "start_time": "2024-03-16T08:38:36.101Z"
   },
   {
    "duration": 28,
    "start_time": "2024-03-16T08:40:42.320Z"
   },
   {
    "duration": 8,
    "start_time": "2024-03-16T08:40:44.608Z"
   },
   {
    "duration": 153,
    "start_time": "2024-03-16T08:41:17.223Z"
   },
   {
    "duration": 130,
    "start_time": "2024-03-16T08:41:42.226Z"
   },
   {
    "duration": 1382,
    "start_time": "2024-03-17T04:17:34.481Z"
   },
   {
    "duration": 119,
    "start_time": "2024-03-17T04:17:35.865Z"
   },
   {
    "duration": 262,
    "start_time": "2024-03-17T04:17:35.985Z"
   },
   {
    "duration": 9,
    "start_time": "2024-03-17T04:17:36.249Z"
   },
   {
    "duration": 19,
    "start_time": "2024-03-17T04:17:36.260Z"
   },
   {
    "duration": 6,
    "start_time": "2024-03-17T04:17:36.281Z"
   },
   {
    "duration": 12,
    "start_time": "2024-03-17T04:17:36.288Z"
   },
   {
    "duration": 28,
    "start_time": "2024-03-17T04:17:36.302Z"
   },
   {
    "duration": 11,
    "start_time": "2024-03-17T04:17:36.331Z"
   },
   {
    "duration": 5,
    "start_time": "2024-03-17T04:17:36.369Z"
   },
   {
    "duration": 33,
    "start_time": "2024-03-17T04:17:36.376Z"
   },
   {
    "duration": 12,
    "start_time": "2024-03-17T04:17:36.411Z"
   },
   {
    "duration": 8,
    "start_time": "2024-03-17T04:17:36.424Z"
   },
   {
    "duration": 26,
    "start_time": "2024-03-17T04:17:36.434Z"
   },
   {
    "duration": 9,
    "start_time": "2024-03-17T04:17:36.462Z"
   },
   {
    "duration": 133,
    "start_time": "2024-03-17T04:17:36.472Z"
   },
   {
    "duration": 5,
    "start_time": "2024-03-17T04:17:36.607Z"
   },
   {
    "duration": 17,
    "start_time": "2024-03-17T04:17:36.614Z"
   },
   {
    "duration": 49,
    "start_time": "2024-03-17T04:17:36.632Z"
   },
   {
    "duration": 670,
    "start_time": "2024-03-17T04:17:36.682Z"
   },
   {
    "duration": 1474,
    "start_time": "2024-03-17T04:17:37.353Z"
   },
   {
    "duration": 1262,
    "start_time": "2024-03-17T04:17:38.829Z"
   },
   {
    "duration": 10,
    "start_time": "2024-03-17T04:17:40.093Z"
   },
   {
    "duration": 15,
    "start_time": "2024-03-17T04:17:40.104Z"
   },
   {
    "duration": 12,
    "start_time": "2024-03-17T04:17:40.121Z"
   },
   {
    "duration": 11,
    "start_time": "2024-03-17T04:17:40.134Z"
   },
   {
    "duration": 29,
    "start_time": "2024-03-17T04:17:40.147Z"
   },
   {
    "duration": 805,
    "start_time": "2024-03-17T04:17:40.179Z"
   },
   {
    "duration": 27,
    "start_time": "2024-03-17T04:17:40.986Z"
   },
   {
    "duration": 59,
    "start_time": "2024-03-17T04:17:41.014Z"
   },
   {
    "duration": 20,
    "start_time": "2024-03-17T04:17:41.074Z"
   },
   {
    "duration": 455,
    "start_time": "2024-03-17T04:17:41.095Z"
   },
   {
    "duration": 11,
    "start_time": "2024-03-17T04:17:41.551Z"
   },
   {
    "duration": 12,
    "start_time": "2024-03-17T04:17:41.569Z"
   },
   {
    "duration": 30,
    "start_time": "2024-03-17T04:17:41.582Z"
   },
   {
    "duration": 16,
    "start_time": "2024-03-17T04:17:41.613Z"
   },
   {
    "duration": 90,
    "start_time": "2024-03-17T04:17:41.630Z"
   },
   {
    "duration": 3,
    "start_time": "2024-03-17T04:17:41.722Z"
   },
   {
    "duration": 5,
    "start_time": "2024-03-17T04:17:41.727Z"
   },
   {
    "duration": 78,
    "start_time": "2024-03-17T04:17:41.734Z"
   },
   {
    "duration": 72,
    "start_time": "2024-03-17T04:17:41.813Z"
   },
   {
    "duration": 5,
    "start_time": "2024-03-17T04:17:41.887Z"
   },
   {
    "duration": 82,
    "start_time": "2024-03-17T04:17:41.894Z"
   },
   {
    "duration": 29,
    "start_time": "2024-03-17T04:17:41.977Z"
   },
   {
    "duration": 6,
    "start_time": "2024-03-17T04:17:42.007Z"
   },
   {
    "duration": 33,
    "start_time": "2024-03-17T04:17:42.014Z"
   },
   {
    "duration": 28,
    "start_time": "2024-03-17T04:17:42.048Z"
   },
   {
    "duration": 11,
    "start_time": "2024-03-17T04:17:42.077Z"
   },
   {
    "duration": 6,
    "start_time": "2024-03-17T04:17:42.089Z"
   },
   {
    "duration": 13,
    "start_time": "2024-03-17T04:17:42.096Z"
   },
   {
    "duration": 11,
    "start_time": "2024-03-17T04:17:42.111Z"
   },
   {
    "duration": 178,
    "start_time": "2024-03-17T04:17:42.123Z"
   },
   {
    "duration": 0,
    "start_time": "2024-03-17T04:17:42.302Z"
   },
   {
    "duration": 0,
    "start_time": "2024-03-17T04:17:42.303Z"
   },
   {
    "duration": 0,
    "start_time": "2024-03-17T04:17:42.304Z"
   },
   {
    "duration": 0,
    "start_time": "2024-03-17T04:17:42.305Z"
   },
   {
    "duration": 0,
    "start_time": "2024-03-17T04:17:42.307Z"
   },
   {
    "duration": 0,
    "start_time": "2024-03-17T04:17:42.307Z"
   },
   {
    "duration": 0,
    "start_time": "2024-03-17T04:17:42.308Z"
   },
   {
    "duration": 0,
    "start_time": "2024-03-17T04:17:42.309Z"
   },
   {
    "duration": 0,
    "start_time": "2024-03-17T04:17:42.310Z"
   },
   {
    "duration": 47,
    "start_time": "2024-03-17T10:57:06.656Z"
   },
   {
    "duration": 1394,
    "start_time": "2024-03-17T10:57:15.136Z"
   },
   {
    "duration": 86,
    "start_time": "2024-03-17T10:57:16.532Z"
   },
   {
    "duration": 433,
    "start_time": "2024-03-17T10:57:16.619Z"
   },
   {
    "duration": 10,
    "start_time": "2024-03-17T10:57:17.054Z"
   },
   {
    "duration": 19,
    "start_time": "2024-03-17T10:57:17.065Z"
   },
   {
    "duration": 7,
    "start_time": "2024-03-17T10:57:17.086Z"
   },
   {
    "duration": 29,
    "start_time": "2024-03-17T10:57:17.094Z"
   },
   {
    "duration": 28,
    "start_time": "2024-03-17T10:57:17.124Z"
   },
   {
    "duration": 11,
    "start_time": "2024-03-17T10:57:17.153Z"
   },
   {
    "duration": 11,
    "start_time": "2024-03-17T10:57:17.166Z"
   },
   {
    "duration": 46,
    "start_time": "2024-03-17T10:57:17.179Z"
   },
   {
    "duration": 5,
    "start_time": "2024-03-17T10:57:17.227Z"
   },
   {
    "duration": 13,
    "start_time": "2024-03-17T10:57:17.234Z"
   },
   {
    "duration": 21,
    "start_time": "2024-03-17T10:57:17.249Z"
   },
   {
    "duration": 4,
    "start_time": "2024-03-17T10:57:17.271Z"
   },
   {
    "duration": 134,
    "start_time": "2024-03-17T10:57:17.276Z"
   },
   {
    "duration": 9,
    "start_time": "2024-03-17T10:57:17.412Z"
   },
   {
    "duration": 5,
    "start_time": "2024-03-17T10:57:17.423Z"
   },
   {
    "duration": 33,
    "start_time": "2024-03-17T10:57:17.429Z"
   },
   {
    "duration": 744,
    "start_time": "2024-03-17T10:57:17.464Z"
   },
   {
    "duration": 1546,
    "start_time": "2024-03-17T10:57:18.209Z"
   },
   {
    "duration": 1262,
    "start_time": "2024-03-17T10:57:19.757Z"
   },
   {
    "duration": 11,
    "start_time": "2024-03-17T10:57:21.020Z"
   },
   {
    "duration": 21,
    "start_time": "2024-03-17T10:57:21.032Z"
   },
   {
    "duration": 37,
    "start_time": "2024-03-17T10:57:21.054Z"
   },
   {
    "duration": 40,
    "start_time": "2024-03-17T10:57:21.093Z"
   },
   {
    "duration": 28,
    "start_time": "2024-03-17T10:57:21.134Z"
   },
   {
    "duration": 447,
    "start_time": "2024-03-17T10:57:21.166Z"
   },
   {
    "duration": 23,
    "start_time": "2024-03-17T10:57:21.615Z"
   },
   {
    "duration": 22,
    "start_time": "2024-03-17T10:57:21.640Z"
   },
   {
    "duration": 69,
    "start_time": "2024-03-17T10:57:21.664Z"
   },
   {
    "duration": 484,
    "start_time": "2024-03-17T10:57:21.734Z"
   },
   {
    "duration": 11,
    "start_time": "2024-03-17T10:57:22.220Z"
   },
   {
    "duration": 13,
    "start_time": "2024-03-17T10:57:22.233Z"
   },
   {
    "duration": 30,
    "start_time": "2024-03-17T10:57:22.247Z"
   },
   {
    "duration": 41,
    "start_time": "2024-03-17T10:57:22.278Z"
   },
   {
    "duration": 83,
    "start_time": "2024-03-17T10:57:22.320Z"
   },
   {
    "duration": 4,
    "start_time": "2024-03-17T10:57:22.417Z"
   },
   {
    "duration": 19,
    "start_time": "2024-03-17T10:57:22.422Z"
   },
   {
    "duration": 84,
    "start_time": "2024-03-17T10:57:22.442Z"
   },
   {
    "duration": 71,
    "start_time": "2024-03-17T10:57:22.527Z"
   },
   {
    "duration": 18,
    "start_time": "2024-03-17T10:57:22.600Z"
   },
   {
    "duration": 73,
    "start_time": "2024-03-17T10:57:22.619Z"
   },
   {
    "duration": 35,
    "start_time": "2024-03-17T10:57:22.694Z"
   },
   {
    "duration": 6,
    "start_time": "2024-03-17T10:57:22.731Z"
   },
   {
    "duration": 61,
    "start_time": "2024-03-17T10:57:22.739Z"
   },
   {
    "duration": 10,
    "start_time": "2024-03-17T10:57:22.802Z"
   },
   {
    "duration": 16,
    "start_time": "2024-03-17T10:57:22.814Z"
   },
   {
    "duration": 9,
    "start_time": "2024-03-17T10:57:22.832Z"
   },
   {
    "duration": 25,
    "start_time": "2024-03-17T10:57:22.842Z"
   },
   {
    "duration": 14,
    "start_time": "2024-03-17T10:57:22.869Z"
   },
   {
    "duration": 1387,
    "start_time": "2024-03-17T17:19:42.223Z"
   },
   {
    "duration": 107,
    "start_time": "2024-03-17T17:19:43.613Z"
   },
   {
    "duration": 293,
    "start_time": "2024-03-17T17:19:43.722Z"
   },
   {
    "duration": 10,
    "start_time": "2024-03-17T17:19:44.017Z"
   },
   {
    "duration": 33,
    "start_time": "2024-03-17T17:19:44.029Z"
   },
   {
    "duration": 8,
    "start_time": "2024-03-17T17:19:44.064Z"
   },
   {
    "duration": 10,
    "start_time": "2024-03-17T17:19:44.073Z"
   },
   {
    "duration": 35,
    "start_time": "2024-03-17T17:19:44.084Z"
   },
   {
    "duration": 13,
    "start_time": "2024-03-17T17:19:44.121Z"
   },
   {
    "duration": 5,
    "start_time": "2024-03-17T17:19:44.136Z"
   },
   {
    "duration": 21,
    "start_time": "2024-03-17T17:19:44.165Z"
   },
   {
    "duration": 5,
    "start_time": "2024-03-17T17:19:44.188Z"
   },
   {
    "duration": 10,
    "start_time": "2024-03-17T17:19:44.195Z"
   },
   {
    "duration": 24,
    "start_time": "2024-03-17T17:19:44.206Z"
   },
   {
    "duration": 4,
    "start_time": "2024-03-17T17:19:44.232Z"
   },
   {
    "duration": 128,
    "start_time": "2024-03-17T17:19:44.265Z"
   },
   {
    "duration": 6,
    "start_time": "2024-03-17T17:19:44.395Z"
   },
   {
    "duration": 12,
    "start_time": "2024-03-17T17:19:44.402Z"
   },
   {
    "duration": 52,
    "start_time": "2024-03-17T17:19:44.415Z"
   },
   {
    "duration": 755,
    "start_time": "2024-03-17T17:19:44.469Z"
   },
   {
    "duration": 1588,
    "start_time": "2024-03-17T17:19:45.226Z"
   },
   {
    "duration": 1311,
    "start_time": "2024-03-17T17:19:46.816Z"
   },
   {
    "duration": 11,
    "start_time": "2024-03-17T17:19:48.129Z"
   },
   {
    "duration": 10,
    "start_time": "2024-03-17T17:19:48.142Z"
   },
   {
    "duration": 13,
    "start_time": "2024-03-17T17:19:48.165Z"
   },
   {
    "duration": 9,
    "start_time": "2024-03-17T17:19:48.179Z"
   },
   {
    "duration": 24,
    "start_time": "2024-03-17T17:19:48.190Z"
   },
   {
    "duration": 833,
    "start_time": "2024-03-17T17:19:48.218Z"
   },
   {
    "duration": 23,
    "start_time": "2024-03-17T17:19:49.053Z"
   },
   {
    "duration": 17,
    "start_time": "2024-03-17T17:19:49.078Z"
   },
   {
    "duration": 19,
    "start_time": "2024-03-17T17:19:49.096Z"
   },
   {
    "duration": 486,
    "start_time": "2024-03-17T17:19:49.166Z"
   },
   {
    "duration": 14,
    "start_time": "2024-03-17T17:19:49.653Z"
   },
   {
    "duration": 12,
    "start_time": "2024-03-17T17:19:49.668Z"
   },
   {
    "duration": 29,
    "start_time": "2024-03-17T17:19:49.681Z"
   },
   {
    "duration": 16,
    "start_time": "2024-03-17T17:19:49.712Z"
   },
   {
    "duration": 107,
    "start_time": "2024-03-17T17:19:49.730Z"
   },
   {
    "duration": 4,
    "start_time": "2024-03-17T17:19:49.838Z"
   },
   {
    "duration": 21,
    "start_time": "2024-03-17T17:19:49.844Z"
   },
   {
    "duration": 71,
    "start_time": "2024-03-17T17:19:49.867Z"
   },
   {
    "duration": 74,
    "start_time": "2024-03-17T17:19:49.939Z"
   },
   {
    "duration": 5,
    "start_time": "2024-03-17T17:19:50.015Z"
   },
   {
    "duration": 79,
    "start_time": "2024-03-17T17:19:50.022Z"
   },
   {
    "duration": 28,
    "start_time": "2024-03-17T17:19:50.102Z"
   },
   {
    "duration": 5,
    "start_time": "2024-03-17T17:19:50.131Z"
   },
   {
    "duration": 48,
    "start_time": "2024-03-17T17:19:50.137Z"
   },
   {
    "duration": 8,
    "start_time": "2024-03-17T17:19:50.186Z"
   },
   {
    "duration": 25,
    "start_time": "2024-03-17T17:19:50.196Z"
   },
   {
    "duration": 6,
    "start_time": "2024-03-17T17:19:50.223Z"
   },
   {
    "duration": 18,
    "start_time": "2024-03-17T17:19:50.231Z"
   },
   {
    "duration": 23,
    "start_time": "2024-03-17T17:19:50.250Z"
   },
   {
    "duration": 169,
    "start_time": "2024-03-17T17:19:50.275Z"
   },
   {
    "duration": 149,
    "start_time": "2024-03-17T17:19:50.445Z"
   },
   {
    "duration": 31,
    "start_time": "2024-03-17T17:19:50.596Z"
   },
   {
    "duration": 10,
    "start_time": "2024-03-17T17:19:50.629Z"
   },
   {
    "duration": 11,
    "start_time": "2024-03-17T17:19:50.665Z"
   },
   {
    "duration": 30,
    "start_time": "2024-03-17T17:19:50.678Z"
   },
   {
    "duration": 24,
    "start_time": "2024-03-17T17:19:50.710Z"
   },
   {
    "duration": 31,
    "start_time": "2024-03-17T17:19:50.736Z"
   },
   {
    "duration": 45,
    "start_time": "2024-03-17T17:19:50.769Z"
   },
   {
    "duration": 8,
    "start_time": "2024-03-17T17:19:50.816Z"
   },
   {
    "duration": 4,
    "start_time": "2024-03-17T17:20:56.264Z"
   },
   {
    "duration": 29,
    "start_time": "2024-03-17T17:21:02.237Z"
   },
   {
    "duration": 9,
    "start_time": "2024-03-17T17:21:02.879Z"
   },
   {
    "duration": 4,
    "start_time": "2024-03-17T17:21:03.588Z"
   },
   {
    "duration": 4,
    "start_time": "2024-03-17T17:24:32.625Z"
   },
   {
    "duration": 31,
    "start_time": "2024-03-17T17:24:35.834Z"
   },
   {
    "duration": 9,
    "start_time": "2024-03-17T17:24:36.129Z"
   },
   {
    "duration": 4,
    "start_time": "2024-03-17T17:24:37.039Z"
   },
   {
    "duration": 43,
    "start_time": "2024-03-18T06:51:06.554Z"
   },
   {
    "duration": 1361,
    "start_time": "2024-03-18T06:51:15.627Z"
   },
   {
    "duration": 91,
    "start_time": "2024-03-18T06:51:16.990Z"
   },
   {
    "duration": 293,
    "start_time": "2024-03-18T06:51:17.082Z"
   },
   {
    "duration": 11,
    "start_time": "2024-03-18T06:51:17.377Z"
   },
   {
    "duration": 41,
    "start_time": "2024-03-18T06:51:17.389Z"
   },
   {
    "duration": 10,
    "start_time": "2024-03-18T06:51:17.433Z"
   },
   {
    "duration": 13,
    "start_time": "2024-03-18T06:51:17.444Z"
   },
   {
    "duration": 47,
    "start_time": "2024-03-18T06:51:17.459Z"
   },
   {
    "duration": 11,
    "start_time": "2024-03-18T06:51:17.508Z"
   },
   {
    "duration": 13,
    "start_time": "2024-03-18T06:51:17.521Z"
   },
   {
    "duration": 28,
    "start_time": "2024-03-18T06:51:17.536Z"
   },
   {
    "duration": 5,
    "start_time": "2024-03-18T06:51:17.565Z"
   },
   {
    "duration": 10,
    "start_time": "2024-03-18T06:51:17.571Z"
   },
   {
    "duration": 20,
    "start_time": "2024-03-18T06:51:17.582Z"
   },
   {
    "duration": 3,
    "start_time": "2024-03-18T06:51:17.603Z"
   },
   {
    "duration": 144,
    "start_time": "2024-03-18T06:51:17.607Z"
   },
   {
    "duration": 7,
    "start_time": "2024-03-18T06:51:17.753Z"
   },
   {
    "duration": 23,
    "start_time": "2024-03-18T06:51:17.762Z"
   },
   {
    "duration": 58,
    "start_time": "2024-03-18T06:51:17.786Z"
   },
   {
    "duration": 700,
    "start_time": "2024-03-18T06:51:17.845Z"
   },
   {
    "duration": 1476,
    "start_time": "2024-03-18T06:51:18.547Z"
   },
   {
    "duration": 1277,
    "start_time": "2024-03-18T06:51:20.024Z"
   },
   {
    "duration": 11,
    "start_time": "2024-03-18T06:51:21.302Z"
   },
   {
    "duration": 19,
    "start_time": "2024-03-18T06:51:21.314Z"
   },
   {
    "duration": 82,
    "start_time": "2024-03-18T06:51:21.334Z"
   },
   {
    "duration": 29,
    "start_time": "2024-03-18T06:51:21.417Z"
   },
   {
    "duration": 19,
    "start_time": "2024-03-18T06:51:21.447Z"
   },
   {
    "duration": 383,
    "start_time": "2024-03-18T06:51:21.470Z"
   },
   {
    "duration": 20,
    "start_time": "2024-03-18T06:51:21.855Z"
   },
   {
    "duration": 71,
    "start_time": "2024-03-18T06:51:21.877Z"
   },
   {
    "duration": 43,
    "start_time": "2024-03-18T06:51:21.949Z"
   },
   {
    "duration": 410,
    "start_time": "2024-03-18T06:51:21.994Z"
   },
   {
    "duration": 12,
    "start_time": "2024-03-18T06:51:22.405Z"
   },
   {
    "duration": 36,
    "start_time": "2024-03-18T06:51:22.418Z"
   },
   {
    "duration": 55,
    "start_time": "2024-03-18T06:51:22.455Z"
   },
   {
    "duration": 15,
    "start_time": "2024-03-18T06:51:22.511Z"
   },
   {
    "duration": 69,
    "start_time": "2024-03-18T06:51:22.527Z"
   },
   {
    "duration": 4,
    "start_time": "2024-03-18T06:51:22.598Z"
   },
   {
    "duration": 23,
    "start_time": "2024-03-18T06:51:22.603Z"
   },
   {
    "duration": 84,
    "start_time": "2024-03-18T06:51:22.627Z"
   },
   {
    "duration": 62,
    "start_time": "2024-03-18T06:51:22.712Z"
   },
   {
    "duration": 5,
    "start_time": "2024-03-18T06:51:22.776Z"
   },
   {
    "duration": 85,
    "start_time": "2024-03-18T06:51:22.782Z"
   },
   {
    "duration": 27,
    "start_time": "2024-03-18T06:51:22.869Z"
   },
   {
    "duration": 5,
    "start_time": "2024-03-18T06:51:22.898Z"
   },
   {
    "duration": 43,
    "start_time": "2024-03-18T06:51:22.905Z"
   },
   {
    "duration": 8,
    "start_time": "2024-03-18T06:51:22.950Z"
   },
   {
    "duration": 19,
    "start_time": "2024-03-18T06:51:22.959Z"
   },
   {
    "duration": 16,
    "start_time": "2024-03-18T06:51:22.979Z"
   },
   {
    "duration": 20,
    "start_time": "2024-03-18T06:51:22.996Z"
   },
   {
    "duration": 21,
    "start_time": "2024-03-18T06:51:23.017Z"
   },
   {
    "duration": 163,
    "start_time": "2024-03-18T06:51:23.039Z"
   },
   {
    "duration": 151,
    "start_time": "2024-03-18T06:51:23.203Z"
   },
   {
    "duration": 28,
    "start_time": "2024-03-18T06:51:23.355Z"
   },
   {
    "duration": 39,
    "start_time": "2024-03-18T06:51:23.384Z"
   },
   {
    "duration": 23,
    "start_time": "2024-03-18T06:51:23.425Z"
   },
   {
    "duration": 42,
    "start_time": "2024-03-18T06:51:23.449Z"
   },
   {
    "duration": 56,
    "start_time": "2024-03-18T06:51:23.492Z"
   },
   {
    "duration": 34,
    "start_time": "2024-03-18T06:51:23.549Z"
   },
   {
    "duration": 30,
    "start_time": "2024-03-18T06:51:23.584Z"
   },
   {
    "duration": 79,
    "start_time": "2024-03-18T06:51:23.615Z"
   },
   {
    "duration": 8,
    "start_time": "2024-03-18T06:51:23.696Z"
   },
   {
    "duration": 27,
    "start_time": "2024-03-18T06:52:36.667Z"
   },
   {
    "duration": 5,
    "start_time": "2024-03-18T06:53:00.467Z"
   },
   {
    "duration": 66,
    "start_time": "2024-03-18T06:53:13.540Z"
   },
   {
    "duration": 29,
    "start_time": "2024-03-18T06:55:14.628Z"
   },
   {
    "duration": 45,
    "start_time": "2024-03-18T07:08:26.054Z"
   },
   {
    "duration": 1260,
    "start_time": "2024-03-18T07:09:00.630Z"
   },
   {
    "duration": 61,
    "start_time": "2024-03-18T07:09:01.891Z"
   },
   {
    "duration": 646,
    "start_time": "2024-03-18T07:09:01.954Z"
   },
   {
    "duration": 10,
    "start_time": "2024-03-18T07:09:02.601Z"
   },
   {
    "duration": 70,
    "start_time": "2024-03-18T07:09:02.613Z"
   },
   {
    "duration": 28,
    "start_time": "2024-03-18T07:09:02.684Z"
   },
   {
    "duration": 50,
    "start_time": "2024-03-18T07:09:02.714Z"
   },
   {
    "duration": 50,
    "start_time": "2024-03-18T07:09:02.765Z"
   },
   {
    "duration": 30,
    "start_time": "2024-03-18T07:09:02.816Z"
   },
   {
    "duration": 91,
    "start_time": "2024-03-18T07:09:02.847Z"
   },
   {
    "duration": 260,
    "start_time": "2024-03-18T07:09:02.939Z"
   },
   {
    "duration": 25,
    "start_time": "2024-03-18T07:09:03.200Z"
   },
   {
    "duration": 90,
    "start_time": "2024-03-18T07:09:03.227Z"
   },
   {
    "duration": 88,
    "start_time": "2024-03-18T07:09:03.320Z"
   },
   {
    "duration": 9,
    "start_time": "2024-03-18T07:09:03.410Z"
   },
   {
    "duration": 199,
    "start_time": "2024-03-18T07:09:03.421Z"
   },
   {
    "duration": 6,
    "start_time": "2024-03-18T07:09:03.622Z"
   },
   {
    "duration": 30,
    "start_time": "2024-03-18T07:09:03.629Z"
   },
   {
    "duration": 48,
    "start_time": "2024-03-18T07:09:03.660Z"
   },
   {
    "duration": 703,
    "start_time": "2024-03-18T07:09:03.709Z"
   },
   {
    "duration": 1537,
    "start_time": "2024-03-18T07:09:04.414Z"
   },
   {
    "duration": 1281,
    "start_time": "2024-03-18T07:09:05.952Z"
   },
   {
    "duration": 15,
    "start_time": "2024-03-18T07:09:07.234Z"
   },
   {
    "duration": 10,
    "start_time": "2024-03-18T07:09:07.251Z"
   },
   {
    "duration": 14,
    "start_time": "2024-03-18T07:09:07.262Z"
   },
   {
    "duration": 9,
    "start_time": "2024-03-18T07:09:07.277Z"
   },
   {
    "duration": 13,
    "start_time": "2024-03-18T07:09:07.287Z"
   },
   {
    "duration": 453,
    "start_time": "2024-03-18T07:09:07.301Z"
   },
   {
    "duration": 21,
    "start_time": "2024-03-18T07:09:07.755Z"
   },
   {
    "duration": 17,
    "start_time": "2024-03-18T07:09:07.777Z"
   },
   {
    "duration": 63,
    "start_time": "2024-03-18T07:09:07.795Z"
   },
   {
    "duration": 453,
    "start_time": "2024-03-18T07:09:07.860Z"
   },
   {
    "duration": 11,
    "start_time": "2024-03-18T07:09:08.315Z"
   },
   {
    "duration": 25,
    "start_time": "2024-03-18T07:09:08.327Z"
   },
   {
    "duration": 27,
    "start_time": "2024-03-18T07:09:08.353Z"
   },
   {
    "duration": 20,
    "start_time": "2024-03-18T07:09:08.382Z"
   },
   {
    "duration": 77,
    "start_time": "2024-03-18T07:09:08.404Z"
   },
   {
    "duration": 4,
    "start_time": "2024-03-18T07:09:08.482Z"
   },
   {
    "duration": 12,
    "start_time": "2024-03-18T07:09:08.487Z"
   },
   {
    "duration": 73,
    "start_time": "2024-03-18T07:09:08.501Z"
   },
   {
    "duration": 78,
    "start_time": "2024-03-18T07:09:08.579Z"
   },
   {
    "duration": 7,
    "start_time": "2024-03-18T07:09:08.658Z"
   },
   {
    "duration": 79,
    "start_time": "2024-03-18T07:09:08.666Z"
   },
   {
    "duration": 29,
    "start_time": "2024-03-18T07:09:08.746Z"
   },
   {
    "duration": 5,
    "start_time": "2024-03-18T07:09:08.776Z"
   },
   {
    "duration": 60,
    "start_time": "2024-03-18T07:09:08.782Z"
   },
   {
    "duration": 8,
    "start_time": "2024-03-18T07:09:08.843Z"
   },
   {
    "duration": 11,
    "start_time": "2024-03-18T07:09:08.852Z"
   },
   {
    "duration": 11,
    "start_time": "2024-03-18T07:09:08.865Z"
   },
   {
    "duration": 14,
    "start_time": "2024-03-18T07:09:08.877Z"
   },
   {
    "duration": 15,
    "start_time": "2024-03-18T07:09:08.892Z"
   },
   {
    "duration": 179,
    "start_time": "2024-03-18T07:09:08.908Z"
   },
   {
    "duration": 189,
    "start_time": "2024-03-18T07:09:09.088Z"
   },
   {
    "duration": 32,
    "start_time": "2024-03-18T07:09:09.279Z"
   },
   {
    "duration": 48,
    "start_time": "2024-03-18T07:10:52.545Z"
   },
   {
    "duration": 908,
    "start_time": "2024-03-18T07:13:03.627Z"
   },
   {
    "duration": 1183,
    "start_time": "2024-03-18T07:13:26.981Z"
   },
   {
    "duration": 64,
    "start_time": "2024-03-18T07:13:28.166Z"
   },
   {
    "duration": 251,
    "start_time": "2024-03-18T07:13:28.231Z"
   },
   {
    "duration": 10,
    "start_time": "2024-03-18T07:13:28.483Z"
   },
   {
    "duration": 52,
    "start_time": "2024-03-18T07:13:28.496Z"
   },
   {
    "duration": 12,
    "start_time": "2024-03-18T07:13:28.550Z"
   },
   {
    "duration": 24,
    "start_time": "2024-03-18T07:13:28.563Z"
   },
   {
    "duration": 61,
    "start_time": "2024-03-18T07:13:28.589Z"
   },
   {
    "duration": 11,
    "start_time": "2024-03-18T07:13:28.651Z"
   },
   {
    "duration": 29,
    "start_time": "2024-03-18T07:13:28.664Z"
   },
   {
    "duration": 30,
    "start_time": "2024-03-18T07:13:28.695Z"
   },
   {
    "duration": 18,
    "start_time": "2024-03-18T07:13:28.726Z"
   },
   {
    "duration": 22,
    "start_time": "2024-03-18T07:13:28.746Z"
   },
   {
    "duration": 33,
    "start_time": "2024-03-18T07:13:28.771Z"
   },
   {
    "duration": 3,
    "start_time": "2024-03-18T07:13:28.806Z"
   },
   {
    "duration": 131,
    "start_time": "2024-03-18T07:13:28.811Z"
   },
   {
    "duration": 6,
    "start_time": "2024-03-18T07:13:28.944Z"
   },
   {
    "duration": 25,
    "start_time": "2024-03-18T07:13:28.952Z"
   },
   {
    "duration": 51,
    "start_time": "2024-03-18T07:13:28.979Z"
   },
   {
    "duration": 783,
    "start_time": "2024-03-18T07:13:29.031Z"
   },
   {
    "duration": 1756,
    "start_time": "2024-03-18T07:13:29.815Z"
   },
   {
    "duration": 1280,
    "start_time": "2024-03-18T07:13:31.573Z"
   },
   {
    "duration": 10,
    "start_time": "2024-03-18T07:13:32.855Z"
   },
   {
    "duration": 10,
    "start_time": "2024-03-18T07:13:32.866Z"
   },
   {
    "duration": 12,
    "start_time": "2024-03-18T07:13:32.877Z"
   },
   {
    "duration": 9,
    "start_time": "2024-03-18T07:13:32.890Z"
   },
   {
    "duration": 19,
    "start_time": "2024-03-18T07:13:32.900Z"
   },
   {
    "duration": 397,
    "start_time": "2024-03-18T07:13:32.945Z"
   },
   {
    "duration": 21,
    "start_time": "2024-03-18T07:13:33.343Z"
   },
   {
    "duration": 16,
    "start_time": "2024-03-18T07:13:33.365Z"
   },
   {
    "duration": 67,
    "start_time": "2024-03-18T07:13:33.383Z"
   },
   {
    "duration": 466,
    "start_time": "2024-03-18T07:13:33.452Z"
   },
   {
    "duration": 15,
    "start_time": "2024-03-18T07:13:33.920Z"
   },
   {
    "duration": 11,
    "start_time": "2024-03-18T07:13:33.945Z"
   },
   {
    "duration": 31,
    "start_time": "2024-03-18T07:13:33.958Z"
   },
   {
    "duration": 15,
    "start_time": "2024-03-18T07:13:33.991Z"
   },
   {
    "duration": 89,
    "start_time": "2024-03-18T07:13:34.007Z"
   },
   {
    "duration": 4,
    "start_time": "2024-03-18T07:13:34.097Z"
   },
   {
    "duration": 8,
    "start_time": "2024-03-18T07:13:34.102Z"
   },
   {
    "duration": 73,
    "start_time": "2024-03-18T07:13:34.111Z"
   },
   {
    "duration": 74,
    "start_time": "2024-03-18T07:13:34.188Z"
   },
   {
    "duration": 6,
    "start_time": "2024-03-18T07:13:34.263Z"
   },
   {
    "duration": 89,
    "start_time": "2024-03-18T07:13:34.270Z"
   },
   {
    "duration": 33,
    "start_time": "2024-03-18T07:13:34.360Z"
   },
   {
    "duration": 5,
    "start_time": "2024-03-18T07:13:34.395Z"
   },
   {
    "duration": 50,
    "start_time": "2024-03-18T07:13:34.402Z"
   },
   {
    "duration": 10,
    "start_time": "2024-03-18T07:13:34.454Z"
   },
   {
    "duration": 11,
    "start_time": "2024-03-18T07:13:34.466Z"
   },
   {
    "duration": 5,
    "start_time": "2024-03-18T07:13:34.478Z"
   },
   {
    "duration": 13,
    "start_time": "2024-03-18T07:13:34.484Z"
   },
   {
    "duration": 51,
    "start_time": "2024-03-18T07:13:34.498Z"
   },
   {
    "duration": 160,
    "start_time": "2024-03-18T07:13:34.551Z"
   },
   {
    "duration": 147,
    "start_time": "2024-03-18T07:13:34.713Z"
   },
   {
    "duration": 158,
    "start_time": "2024-03-18T07:13:34.861Z"
   },
   {
    "duration": 1,
    "start_time": "2024-03-18T07:13:35.021Z"
   },
   {
    "duration": 0,
    "start_time": "2024-03-18T07:13:35.023Z"
   },
   {
    "duration": 0,
    "start_time": "2024-03-18T07:13:35.024Z"
   },
   {
    "duration": 0,
    "start_time": "2024-03-18T07:13:35.026Z"
   },
   {
    "duration": 0,
    "start_time": "2024-03-18T07:13:35.027Z"
   },
   {
    "duration": 0,
    "start_time": "2024-03-18T07:13:35.028Z"
   },
   {
    "duration": 0,
    "start_time": "2024-03-18T07:13:35.045Z"
   },
   {
    "duration": 0,
    "start_time": "2024-03-18T07:13:35.046Z"
   },
   {
    "duration": 0,
    "start_time": "2024-03-18T07:13:35.048Z"
   },
   {
    "duration": 30,
    "start_time": "2024-03-18T07:14:32.671Z"
   },
   {
    "duration": 14,
    "start_time": "2024-03-18T07:14:40.792Z"
   },
   {
    "duration": 4,
    "start_time": "2024-03-18T07:15:20.740Z"
   },
   {
    "duration": 50,
    "start_time": "2024-03-18T07:16:56.251Z"
   },
   {
    "duration": 5,
    "start_time": "2024-03-18T07:22:44.841Z"
   },
   {
    "duration": 7,
    "start_time": "2024-03-18T07:22:48.803Z"
   },
   {
    "duration": 8,
    "start_time": "2024-03-18T07:23:10.486Z"
   },
   {
    "duration": 1206,
    "start_time": "2024-03-18T07:23:22.231Z"
   },
   {
    "duration": 61,
    "start_time": "2024-03-18T07:23:23.439Z"
   },
   {
    "duration": 302,
    "start_time": "2024-03-18T07:23:23.502Z"
   },
   {
    "duration": 10,
    "start_time": "2024-03-18T07:23:23.806Z"
   },
   {
    "duration": 33,
    "start_time": "2024-03-18T07:23:23.818Z"
   },
   {
    "duration": 6,
    "start_time": "2024-03-18T07:23:23.853Z"
   },
   {
    "duration": 13,
    "start_time": "2024-03-18T07:23:23.860Z"
   },
   {
    "duration": 29,
    "start_time": "2024-03-18T07:23:23.874Z"
   },
   {
    "duration": 11,
    "start_time": "2024-03-18T07:23:23.904Z"
   },
   {
    "duration": 30,
    "start_time": "2024-03-18T07:23:23.918Z"
   },
   {
    "duration": 26,
    "start_time": "2024-03-18T07:23:23.950Z"
   },
   {
    "duration": 6,
    "start_time": "2024-03-18T07:23:23.977Z"
   },
   {
    "duration": 9,
    "start_time": "2024-03-18T07:23:23.984Z"
   },
   {
    "duration": 19,
    "start_time": "2024-03-18T07:23:23.995Z"
   },
   {
    "duration": 2,
    "start_time": "2024-03-18T07:23:24.045Z"
   },
   {
    "duration": 139,
    "start_time": "2024-03-18T07:23:24.049Z"
   },
   {
    "duration": 6,
    "start_time": "2024-03-18T07:23:24.189Z"
   },
   {
    "duration": 7,
    "start_time": "2024-03-18T07:23:24.196Z"
   },
   {
    "duration": 47,
    "start_time": "2024-03-18T07:23:24.204Z"
   },
   {
    "duration": 695,
    "start_time": "2024-03-18T07:23:24.252Z"
   },
   {
    "duration": 1529,
    "start_time": "2024-03-18T07:23:24.948Z"
   },
   {
    "duration": 1302,
    "start_time": "2024-03-18T07:23:26.478Z"
   },
   {
    "duration": 12,
    "start_time": "2024-03-18T07:23:27.781Z"
   },
   {
    "duration": 11,
    "start_time": "2024-03-18T07:23:27.794Z"
   },
   {
    "duration": 17,
    "start_time": "2024-03-18T07:23:27.806Z"
   },
   {
    "duration": 26,
    "start_time": "2024-03-18T07:23:27.824Z"
   },
   {
    "duration": 20,
    "start_time": "2024-03-18T07:23:27.852Z"
   },
   {
    "duration": 436,
    "start_time": "2024-03-18T07:23:27.875Z"
   },
   {
    "duration": 42,
    "start_time": "2024-03-18T07:23:28.313Z"
   },
   {
    "duration": 24,
    "start_time": "2024-03-18T07:23:28.356Z"
   },
   {
    "duration": 71,
    "start_time": "2024-03-18T07:23:28.381Z"
   },
   {
    "duration": 393,
    "start_time": "2024-03-18T07:23:28.453Z"
   },
   {
    "duration": 11,
    "start_time": "2024-03-18T07:23:28.848Z"
   },
   {
    "duration": 11,
    "start_time": "2024-03-18T07:23:28.860Z"
   },
   {
    "duration": 31,
    "start_time": "2024-03-18T07:23:28.872Z"
   },
   {
    "duration": 18,
    "start_time": "2024-03-18T07:23:28.904Z"
   },
   {
    "duration": 97,
    "start_time": "2024-03-18T07:23:28.923Z"
   },
   {
    "duration": 4,
    "start_time": "2024-03-18T07:23:29.021Z"
   },
   {
    "duration": 25,
    "start_time": "2024-03-18T07:23:29.026Z"
   },
   {
    "duration": 62,
    "start_time": "2024-03-18T07:23:29.052Z"
   },
   {
    "duration": 63,
    "start_time": "2024-03-18T07:23:29.116Z"
   },
   {
    "duration": 5,
    "start_time": "2024-03-18T07:23:29.181Z"
   },
   {
    "duration": 73,
    "start_time": "2024-03-18T07:23:29.187Z"
   },
   {
    "duration": 26,
    "start_time": "2024-03-18T07:23:29.262Z"
   },
   {
    "duration": 5,
    "start_time": "2024-03-18T07:23:29.289Z"
   },
   {
    "duration": 34,
    "start_time": "2024-03-18T07:23:29.296Z"
   },
   {
    "duration": 21,
    "start_time": "2024-03-18T07:23:29.331Z"
   },
   {
    "duration": 9,
    "start_time": "2024-03-18T07:23:29.354Z"
   },
   {
    "duration": 4,
    "start_time": "2024-03-18T07:23:29.365Z"
   },
   {
    "duration": 13,
    "start_time": "2024-03-18T07:23:29.371Z"
   },
   {
    "duration": 10,
    "start_time": "2024-03-18T07:23:29.385Z"
   },
   {
    "duration": 181,
    "start_time": "2024-03-18T07:23:29.397Z"
   },
   {
    "duration": 139,
    "start_time": "2024-03-18T07:23:29.579Z"
   },
   {
    "duration": 34,
    "start_time": "2024-03-18T07:23:29.719Z"
   },
   {
    "duration": 8,
    "start_time": "2024-03-18T07:23:29.754Z"
   },
   {
    "duration": 5,
    "start_time": "2024-03-18T07:23:29.763Z"
   },
   {
    "duration": 12,
    "start_time": "2024-03-18T07:23:29.769Z"
   },
   {
    "duration": 25,
    "start_time": "2024-03-18T07:23:29.782Z"
   },
   {
    "duration": 48,
    "start_time": "2024-03-18T07:23:29.808Z"
   },
   {
    "duration": 6,
    "start_time": "2024-03-18T07:23:29.858Z"
   },
   {
    "duration": 37,
    "start_time": "2024-03-18T07:23:29.866Z"
   },
   {
    "duration": 7,
    "start_time": "2024-03-18T07:23:29.904Z"
   },
   {
    "duration": 162,
    "start_time": "2024-03-18T07:30:32.413Z"
   },
   {
    "duration": 26,
    "start_time": "2024-03-18T07:30:49.230Z"
   },
   {
    "duration": 59,
    "start_time": "2024-03-18T07:31:47.706Z"
   },
   {
    "duration": 8,
    "start_time": "2024-03-18T07:34:07.618Z"
   },
   {
    "duration": 8,
    "start_time": "2024-03-18T07:34:12.318Z"
   },
   {
    "duration": 1182,
    "start_time": "2024-03-18T07:34:20.242Z"
   },
   {
    "duration": 62,
    "start_time": "2024-03-18T07:34:21.426Z"
   },
   {
    "duration": 293,
    "start_time": "2024-03-18T07:34:21.489Z"
   },
   {
    "duration": 10,
    "start_time": "2024-03-18T07:34:21.783Z"
   },
   {
    "duration": 28,
    "start_time": "2024-03-18T07:34:21.794Z"
   },
   {
    "duration": 16,
    "start_time": "2024-03-18T07:34:21.824Z"
   },
   {
    "duration": 44,
    "start_time": "2024-03-18T07:34:21.841Z"
   },
   {
    "duration": 39,
    "start_time": "2024-03-18T07:34:21.886Z"
   },
   {
    "duration": 12,
    "start_time": "2024-03-18T07:34:21.926Z"
   },
   {
    "duration": 24,
    "start_time": "2024-03-18T07:34:21.940Z"
   },
   {
    "duration": 54,
    "start_time": "2024-03-18T07:34:21.965Z"
   },
   {
    "duration": 14,
    "start_time": "2024-03-18T07:34:22.020Z"
   },
   {
    "duration": 11,
    "start_time": "2024-03-18T07:34:22.035Z"
   },
   {
    "duration": 29,
    "start_time": "2024-03-18T07:34:22.047Z"
   },
   {
    "duration": 4,
    "start_time": "2024-03-18T07:34:22.078Z"
   },
   {
    "duration": 131,
    "start_time": "2024-03-18T07:34:22.084Z"
   },
   {
    "duration": 6,
    "start_time": "2024-03-18T07:34:22.216Z"
   },
   {
    "duration": 9,
    "start_time": "2024-03-18T07:34:22.223Z"
   },
   {
    "duration": 38,
    "start_time": "2024-03-18T07:34:22.233Z"
   },
   {
    "duration": 664,
    "start_time": "2024-03-18T07:34:22.273Z"
   },
   {
    "duration": 1453,
    "start_time": "2024-03-18T07:34:22.945Z"
   },
   {
    "duration": 1254,
    "start_time": "2024-03-18T07:34:24.400Z"
   },
   {
    "duration": 9,
    "start_time": "2024-03-18T07:34:25.656Z"
   },
   {
    "duration": 8,
    "start_time": "2024-03-18T07:34:25.667Z"
   },
   {
    "duration": 11,
    "start_time": "2024-03-18T07:34:25.677Z"
   },
   {
    "duration": 9,
    "start_time": "2024-03-18T07:34:25.689Z"
   },
   {
    "duration": 8,
    "start_time": "2024-03-18T07:34:25.699Z"
   },
   {
    "duration": 404,
    "start_time": "2024-03-18T07:34:25.747Z"
   },
   {
    "duration": 20,
    "start_time": "2024-03-18T07:34:26.152Z"
   },
   {
    "duration": 16,
    "start_time": "2024-03-18T07:34:26.174Z"
   },
   {
    "duration": 67,
    "start_time": "2024-03-18T07:34:26.191Z"
   },
   {
    "duration": 418,
    "start_time": "2024-03-18T07:34:26.259Z"
   },
   {
    "duration": 10,
    "start_time": "2024-03-18T07:34:26.678Z"
   },
   {
    "duration": 10,
    "start_time": "2024-03-18T07:34:26.690Z"
   },
   {
    "duration": 44,
    "start_time": "2024-03-18T07:34:26.701Z"
   },
   {
    "duration": 15,
    "start_time": "2024-03-18T07:34:26.746Z"
   },
   {
    "duration": 64,
    "start_time": "2024-03-18T07:34:26.762Z"
   },
   {
    "duration": 19,
    "start_time": "2024-03-18T07:34:26.828Z"
   },
   {
    "duration": 12,
    "start_time": "2024-03-18T07:34:26.848Z"
   },
   {
    "duration": 63,
    "start_time": "2024-03-18T07:34:26.861Z"
   },
   {
    "duration": 73,
    "start_time": "2024-03-18T07:34:26.925Z"
   },
   {
    "duration": 7,
    "start_time": "2024-03-18T07:34:26.999Z"
   },
   {
    "duration": 69,
    "start_time": "2024-03-18T07:34:27.007Z"
   },
   {
    "duration": 28,
    "start_time": "2024-03-18T07:34:27.077Z"
   },
   {
    "duration": 7,
    "start_time": "2024-03-18T07:34:27.107Z"
   },
   {
    "duration": 54,
    "start_time": "2024-03-18T07:34:27.115Z"
   },
   {
    "duration": 9,
    "start_time": "2024-03-18T07:34:27.171Z"
   },
   {
    "duration": 12,
    "start_time": "2024-03-18T07:34:27.181Z"
   },
   {
    "duration": 21,
    "start_time": "2024-03-18T07:34:27.194Z"
   },
   {
    "duration": 15,
    "start_time": "2024-03-18T07:34:27.217Z"
   },
   {
    "duration": 22,
    "start_time": "2024-03-18T07:34:27.233Z"
   },
   {
    "duration": 151,
    "start_time": "2024-03-18T07:34:27.257Z"
   },
   {
    "duration": 145,
    "start_time": "2024-03-18T07:34:27.409Z"
   },
   {
    "duration": 27,
    "start_time": "2024-03-18T07:34:27.555Z"
   },
   {
    "duration": 8,
    "start_time": "2024-03-18T07:34:27.583Z"
   },
   {
    "duration": 8,
    "start_time": "2024-03-18T07:34:27.592Z"
   },
   {
    "duration": 15,
    "start_time": "2024-03-18T07:34:27.601Z"
   },
   {
    "duration": 50,
    "start_time": "2024-03-18T07:34:27.617Z"
   },
   {
    "duration": 25,
    "start_time": "2024-03-18T07:34:27.669Z"
   },
   {
    "duration": 6,
    "start_time": "2024-03-18T07:34:27.695Z"
   },
   {
    "duration": 56,
    "start_time": "2024-03-18T07:34:27.703Z"
   },
   {
    "duration": 9,
    "start_time": "2024-03-18T07:34:27.761Z"
   },
   {
    "duration": 11,
    "start_time": "2024-03-18T07:35:00.481Z"
   },
   {
    "duration": 9,
    "start_time": "2024-03-18T07:35:17.466Z"
   },
   {
    "duration": 144,
    "start_time": "2024-03-18T10:39:44.116Z"
   },
   {
    "duration": 19,
    "start_time": "2024-03-18T10:39:58.121Z"
   },
   {
    "duration": 17,
    "start_time": "2024-03-18T10:40:44.251Z"
   },
   {
    "duration": 1133,
    "start_time": "2024-03-18T10:42:11.332Z"
   },
   {
    "duration": 1129,
    "start_time": "2024-03-18T10:42:23.655Z"
   },
   {
    "duration": 1169,
    "start_time": "2024-03-18T10:43:06.048Z"
   },
   {
    "duration": 30,
    "start_time": "2024-03-18T10:43:17.973Z"
   },
   {
    "duration": 24,
    "start_time": "2024-03-18T10:43:30.263Z"
   },
   {
    "duration": 79,
    "start_time": "2024-03-18T10:45:24.363Z"
   },
   {
    "duration": 69,
    "start_time": "2024-03-18T10:46:02.900Z"
   },
   {
    "duration": 69,
    "start_time": "2024-03-18T10:47:03.823Z"
   },
   {
    "duration": 25,
    "start_time": "2024-03-18T10:47:12.396Z"
   },
   {
    "duration": 4,
    "start_time": "2024-03-18T10:49:51.396Z"
   },
   {
    "duration": 1164,
    "start_time": "2024-03-18T10:49:59.595Z"
   },
   {
    "duration": 26,
    "start_time": "2024-03-18T10:50:17.636Z"
   },
   {
    "duration": 29,
    "start_time": "2024-03-18T10:50:48.665Z"
   },
   {
    "duration": 19,
    "start_time": "2024-03-18T10:51:08.266Z"
   },
   {
    "duration": 14,
    "start_time": "2024-03-18T10:52:08.719Z"
   },
   {
    "duration": 8,
    "start_time": "2024-03-18T10:52:35.732Z"
   },
   {
    "duration": 14,
    "start_time": "2024-03-18T10:52:49.749Z"
   },
   {
    "duration": 10,
    "start_time": "2024-03-18T10:57:52.202Z"
   },
   {
    "duration": 15,
    "start_time": "2024-03-18T10:58:23.329Z"
   },
   {
    "duration": 4,
    "start_time": "2024-03-18T10:59:53.002Z"
   },
   {
    "duration": 3,
    "start_time": "2024-03-18T11:00:11.400Z"
   },
   {
    "duration": 4,
    "start_time": "2024-03-18T11:00:51.381Z"
   },
   {
    "duration": 4,
    "start_time": "2024-03-18T11:01:12.247Z"
   },
   {
    "duration": 3,
    "start_time": "2024-03-18T11:01:24.746Z"
   },
   {
    "duration": 17,
    "start_time": "2024-03-18T11:04:42.469Z"
   },
   {
    "duration": 16,
    "start_time": "2024-03-18T11:05:04.158Z"
   },
   {
    "duration": 8,
    "start_time": "2024-03-18T11:05:15.890Z"
   },
   {
    "duration": 30,
    "start_time": "2024-03-18T11:07:37.493Z"
   },
   {
    "duration": 13,
    "start_time": "2024-03-18T11:08:14.523Z"
   },
   {
    "duration": 15,
    "start_time": "2024-03-18T11:12:30.282Z"
   },
   {
    "duration": 14,
    "start_time": "2024-03-18T11:13:24.004Z"
   },
   {
    "duration": 17,
    "start_time": "2024-03-18T11:13:38.080Z"
   },
   {
    "duration": 31,
    "start_time": "2024-03-18T11:14:59.150Z"
   },
   {
    "duration": 35,
    "start_time": "2024-03-18T11:16:07.419Z"
   },
   {
    "duration": 20,
    "start_time": "2024-03-18T11:16:45.916Z"
   },
   {
    "duration": 7,
    "start_time": "2024-03-18T11:19:55.307Z"
   },
   {
    "duration": 1279,
    "start_time": "2024-03-18T11:20:56.214Z"
   },
   {
    "duration": 105,
    "start_time": "2024-03-18T11:20:57.495Z"
   },
   {
    "duration": 256,
    "start_time": "2024-03-18T11:20:57.601Z"
   },
   {
    "duration": 12,
    "start_time": "2024-03-18T11:20:57.859Z"
   },
   {
    "duration": 26,
    "start_time": "2024-03-18T11:20:57.873Z"
   },
   {
    "duration": 7,
    "start_time": "2024-03-18T11:20:57.901Z"
   },
   {
    "duration": 9,
    "start_time": "2024-03-18T11:20:57.910Z"
   },
   {
    "duration": 48,
    "start_time": "2024-03-18T11:20:57.920Z"
   },
   {
    "duration": 11,
    "start_time": "2024-03-18T11:20:57.970Z"
   },
   {
    "duration": 25,
    "start_time": "2024-03-18T11:20:57.984Z"
   },
   {
    "duration": 46,
    "start_time": "2024-03-18T11:20:58.010Z"
   },
   {
    "duration": 5,
    "start_time": "2024-03-18T11:20:58.058Z"
   },
   {
    "duration": 29,
    "start_time": "2024-03-18T11:20:58.064Z"
   },
   {
    "duration": 24,
    "start_time": "2024-03-18T11:20:58.094Z"
   },
   {
    "duration": 3,
    "start_time": "2024-03-18T11:20:58.119Z"
   },
   {
    "duration": 127,
    "start_time": "2024-03-18T11:20:58.124Z"
   },
   {
    "duration": 6,
    "start_time": "2024-03-18T11:20:58.253Z"
   },
   {
    "duration": 15,
    "start_time": "2024-03-18T11:20:58.260Z"
   },
   {
    "duration": 47,
    "start_time": "2024-03-18T11:20:58.277Z"
   },
   {
    "duration": 750,
    "start_time": "2024-03-18T11:20:58.326Z"
   },
   {
    "duration": 1556,
    "start_time": "2024-03-18T11:20:59.078Z"
   },
   {
    "duration": 1338,
    "start_time": "2024-03-18T11:21:00.635Z"
   },
   {
    "duration": 11,
    "start_time": "2024-03-18T11:21:01.974Z"
   },
   {
    "duration": 30,
    "start_time": "2024-03-18T11:21:01.986Z"
   },
   {
    "duration": 45,
    "start_time": "2024-03-18T11:21:02.018Z"
   },
   {
    "duration": 50,
    "start_time": "2024-03-18T11:21:02.065Z"
   },
   {
    "duration": 75,
    "start_time": "2024-03-18T11:21:02.116Z"
   },
   {
    "duration": 460,
    "start_time": "2024-03-18T11:21:02.194Z"
   },
   {
    "duration": 21,
    "start_time": "2024-03-18T11:21:02.656Z"
   },
   {
    "duration": 74,
    "start_time": "2024-03-18T11:21:02.678Z"
   },
   {
    "duration": 19,
    "start_time": "2024-03-18T11:21:02.754Z"
   },
   {
    "duration": 441,
    "start_time": "2024-03-18T11:21:02.774Z"
   },
   {
    "duration": 12,
    "start_time": "2024-03-18T11:21:03.216Z"
   },
   {
    "duration": 63,
    "start_time": "2024-03-18T11:21:03.230Z"
   },
   {
    "duration": 29,
    "start_time": "2024-03-18T11:21:03.295Z"
   },
   {
    "duration": 15,
    "start_time": "2024-03-18T11:21:03.326Z"
   },
   {
    "duration": 72,
    "start_time": "2024-03-18T11:21:03.343Z"
   },
   {
    "duration": 3,
    "start_time": "2024-03-18T11:21:03.417Z"
   },
   {
    "duration": 18,
    "start_time": "2024-03-18T11:21:03.422Z"
   },
   {
    "duration": 102,
    "start_time": "2024-03-18T11:21:03.442Z"
   },
   {
    "duration": 68,
    "start_time": "2024-03-18T11:21:03.545Z"
   },
   {
    "duration": 6,
    "start_time": "2024-03-18T11:21:03.615Z"
   },
   {
    "duration": 95,
    "start_time": "2024-03-18T11:21:03.622Z"
   },
   {
    "duration": 37,
    "start_time": "2024-03-18T11:21:03.718Z"
   },
   {
    "duration": 6,
    "start_time": "2024-03-18T11:21:03.756Z"
   },
   {
    "duration": 41,
    "start_time": "2024-03-18T11:21:03.763Z"
   },
   {
    "duration": 9,
    "start_time": "2024-03-18T11:21:03.805Z"
   },
   {
    "duration": 31,
    "start_time": "2024-03-18T11:21:03.815Z"
   },
   {
    "duration": 26,
    "start_time": "2024-03-18T11:21:03.848Z"
   },
   {
    "duration": 17,
    "start_time": "2024-03-18T11:21:03.875Z"
   },
   {
    "duration": 12,
    "start_time": "2024-03-18T11:21:03.893Z"
   },
   {
    "duration": 164,
    "start_time": "2024-03-18T11:21:03.906Z"
   },
   {
    "duration": 147,
    "start_time": "2024-03-18T11:21:04.072Z"
   },
   {
    "duration": 40,
    "start_time": "2024-03-18T11:21:04.221Z"
   },
   {
    "duration": 18,
    "start_time": "2024-03-18T11:21:04.262Z"
   },
   {
    "duration": 8,
    "start_time": "2024-03-18T11:21:04.282Z"
   },
   {
    "duration": 22,
    "start_time": "2024-03-18T11:21:04.291Z"
   },
   {
    "duration": 51,
    "start_time": "2024-03-18T11:21:04.314Z"
   },
   {
    "duration": 25,
    "start_time": "2024-03-18T11:21:04.366Z"
   },
   {
    "duration": 7,
    "start_time": "2024-03-18T11:21:04.392Z"
   },
   {
    "duration": 52,
    "start_time": "2024-03-18T11:21:04.400Z"
   },
   {
    "duration": 17,
    "start_time": "2024-03-18T11:21:04.454Z"
   },
   {
    "duration": 8,
    "start_time": "2024-03-18T11:21:04.473Z"
   },
   {
    "duration": 1542,
    "start_time": "2024-03-19T01:27:05.554Z"
   },
   {
    "duration": 118,
    "start_time": "2024-03-19T01:27:07.098Z"
   },
   {
    "duration": 274,
    "start_time": "2024-03-19T01:27:07.218Z"
   },
   {
    "duration": 10,
    "start_time": "2024-03-19T01:27:07.494Z"
   },
   {
    "duration": 18,
    "start_time": "2024-03-19T01:27:07.506Z"
   },
   {
    "duration": 10,
    "start_time": "2024-03-19T01:27:07.525Z"
   },
   {
    "duration": 9,
    "start_time": "2024-03-19T01:27:07.536Z"
   },
   {
    "duration": 48,
    "start_time": "2024-03-19T01:27:07.547Z"
   },
   {
    "duration": 12,
    "start_time": "2024-03-19T01:27:07.596Z"
   },
   {
    "duration": 5,
    "start_time": "2024-03-19T01:27:07.610Z"
   },
   {
    "duration": 28,
    "start_time": "2024-03-19T01:27:07.616Z"
   },
   {
    "duration": 29,
    "start_time": "2024-03-19T01:27:07.645Z"
   },
   {
    "duration": 8,
    "start_time": "2024-03-19T01:27:07.675Z"
   },
   {
    "duration": 23,
    "start_time": "2024-03-19T01:27:07.684Z"
   },
   {
    "duration": 3,
    "start_time": "2024-03-19T01:27:07.708Z"
   },
   {
    "duration": 154,
    "start_time": "2024-03-19T01:27:07.712Z"
   },
   {
    "duration": 9,
    "start_time": "2024-03-19T01:27:07.867Z"
   },
   {
    "duration": 13,
    "start_time": "2024-03-19T01:27:07.878Z"
   },
   {
    "duration": 38,
    "start_time": "2024-03-19T01:27:07.892Z"
   },
   {
    "duration": 757,
    "start_time": "2024-03-19T01:27:07.932Z"
   },
   {
    "duration": 1611,
    "start_time": "2024-03-19T01:27:08.691Z"
   },
   {
    "duration": 1405,
    "start_time": "2024-03-19T01:27:10.304Z"
   },
   {
    "duration": 13,
    "start_time": "2024-03-19T01:27:11.710Z"
   },
   {
    "duration": 11,
    "start_time": "2024-03-19T01:27:11.724Z"
   },
   {
    "duration": 14,
    "start_time": "2024-03-19T01:27:11.736Z"
   },
   {
    "duration": 10,
    "start_time": "2024-03-19T01:27:11.774Z"
   },
   {
    "duration": 14,
    "start_time": "2024-03-19T01:27:11.786Z"
   },
   {
    "duration": 841,
    "start_time": "2024-03-19T01:27:11.804Z"
   },
   {
    "duration": 30,
    "start_time": "2024-03-19T01:27:12.647Z"
   },
   {
    "duration": 17,
    "start_time": "2024-03-19T01:27:12.679Z"
   },
   {
    "duration": 75,
    "start_time": "2024-03-19T01:27:12.698Z"
   },
   {
    "duration": 464,
    "start_time": "2024-03-19T01:27:12.775Z"
   },
   {
    "duration": 11,
    "start_time": "2024-03-19T01:27:13.241Z"
   },
   {
    "duration": 32,
    "start_time": "2024-03-19T01:27:13.254Z"
   },
   {
    "duration": 31,
    "start_time": "2024-03-19T01:27:13.288Z"
   },
   {
    "duration": 17,
    "start_time": "2024-03-19T01:27:13.321Z"
   },
   {
    "duration": 87,
    "start_time": "2024-03-19T01:27:13.340Z"
   },
   {
    "duration": 5,
    "start_time": "2024-03-19T01:27:13.428Z"
   },
   {
    "duration": 8,
    "start_time": "2024-03-19T01:27:13.434Z"
   },
   {
    "duration": 90,
    "start_time": "2024-03-19T01:27:13.444Z"
   },
   {
    "duration": 78,
    "start_time": "2024-03-19T01:27:13.535Z"
   },
   {
    "duration": 6,
    "start_time": "2024-03-19T01:27:13.615Z"
   },
   {
    "duration": 90,
    "start_time": "2024-03-19T01:27:13.622Z"
   },
   {
    "duration": 32,
    "start_time": "2024-03-19T01:27:13.714Z"
   },
   {
    "duration": 7,
    "start_time": "2024-03-19T01:27:13.748Z"
   },
   {
    "duration": 36,
    "start_time": "2024-03-19T01:27:13.773Z"
   },
   {
    "duration": 10,
    "start_time": "2024-03-19T01:27:13.811Z"
   },
   {
    "duration": 17,
    "start_time": "2024-03-19T01:27:13.823Z"
   },
   {
    "duration": 10,
    "start_time": "2024-03-19T01:27:13.842Z"
   },
   {
    "duration": 15,
    "start_time": "2024-03-19T01:27:13.873Z"
   },
   {
    "duration": 20,
    "start_time": "2024-03-19T01:27:13.889Z"
   },
   {
    "duration": 187,
    "start_time": "2024-03-19T01:27:13.910Z"
   },
   {
    "duration": 161,
    "start_time": "2024-03-19T01:27:14.099Z"
   },
   {
    "duration": 39,
    "start_time": "2024-03-19T01:27:14.262Z"
   },
   {
    "duration": 18,
    "start_time": "2024-03-19T01:27:14.303Z"
   },
   {
    "duration": 8,
    "start_time": "2024-03-19T01:27:14.323Z"
   },
   {
    "duration": 41,
    "start_time": "2024-03-19T01:27:14.333Z"
   },
   {
    "duration": 30,
    "start_time": "2024-03-19T01:27:14.376Z"
   },
   {
    "duration": 26,
    "start_time": "2024-03-19T01:27:14.408Z"
   },
   {
    "duration": 6,
    "start_time": "2024-03-19T01:27:14.436Z"
   },
   {
    "duration": 59,
    "start_time": "2024-03-19T01:27:14.444Z"
   },
   {
    "duration": 19,
    "start_time": "2024-03-19T01:27:14.504Z"
   },
   {
    "duration": 9,
    "start_time": "2024-03-19T01:27:14.524Z"
   },
   {
    "duration": 46,
    "start_time": "2024-03-19T06:33:37.683Z"
   },
   {
    "duration": 8,
    "start_time": "2024-03-19T06:33:42.920Z"
   },
   {
    "duration": 1475,
    "start_time": "2024-03-19T06:34:06.317Z"
   },
   {
    "duration": 87,
    "start_time": "2024-03-19T06:34:07.795Z"
   },
   {
    "duration": 277,
    "start_time": "2024-03-19T06:34:07.884Z"
   },
   {
    "duration": 11,
    "start_time": "2024-03-19T06:34:08.166Z"
   },
   {
    "duration": 22,
    "start_time": "2024-03-19T06:34:08.179Z"
   },
   {
    "duration": 33,
    "start_time": "2024-03-19T06:34:08.203Z"
   },
   {
    "duration": 15,
    "start_time": "2024-03-19T06:34:08.237Z"
   },
   {
    "duration": 43,
    "start_time": "2024-03-19T06:34:08.253Z"
   },
   {
    "duration": 11,
    "start_time": "2024-03-19T06:34:08.299Z"
   },
   {
    "duration": 24,
    "start_time": "2024-03-19T06:34:08.312Z"
   },
   {
    "duration": 27,
    "start_time": "2024-03-19T06:34:08.338Z"
   },
   {
    "duration": 6,
    "start_time": "2024-03-19T06:34:08.366Z"
   },
   {
    "duration": 23,
    "start_time": "2024-03-19T06:34:08.373Z"
   },
   {
    "duration": 24,
    "start_time": "2024-03-19T06:34:08.397Z"
   },
   {
    "duration": 3,
    "start_time": "2024-03-19T06:34:08.423Z"
   },
   {
    "duration": 153,
    "start_time": "2024-03-19T06:34:08.428Z"
   },
   {
    "duration": 7,
    "start_time": "2024-03-19T06:34:08.583Z"
   },
   {
    "duration": 9,
    "start_time": "2024-03-19T06:34:08.592Z"
   },
   {
    "duration": 64,
    "start_time": "2024-03-19T06:34:08.603Z"
   },
   {
    "duration": 800,
    "start_time": "2024-03-19T06:34:08.669Z"
   },
   {
    "duration": 1559,
    "start_time": "2024-03-19T06:34:09.471Z"
   },
   {
    "duration": 1327,
    "start_time": "2024-03-19T06:34:11.032Z"
   },
   {
    "duration": 15,
    "start_time": "2024-03-19T06:34:12.360Z"
   },
   {
    "duration": 13,
    "start_time": "2024-03-19T06:34:12.376Z"
   },
   {
    "duration": 21,
    "start_time": "2024-03-19T06:34:12.390Z"
   },
   {
    "duration": 15,
    "start_time": "2024-03-19T06:34:12.413Z"
   },
   {
    "duration": 17,
    "start_time": "2024-03-19T06:34:12.430Z"
   },
   {
    "duration": 460,
    "start_time": "2024-03-19T06:34:12.451Z"
   },
   {
    "duration": 22,
    "start_time": "2024-03-19T06:34:12.912Z"
   },
   {
    "duration": 38,
    "start_time": "2024-03-19T06:34:12.935Z"
   },
   {
    "duration": 27,
    "start_time": "2024-03-19T06:34:12.975Z"
   },
   {
    "duration": 474,
    "start_time": "2024-03-19T06:34:13.004Z"
   },
   {
    "duration": 12,
    "start_time": "2024-03-19T06:34:13.480Z"
   },
   {
    "duration": 11,
    "start_time": "2024-03-19T06:34:13.494Z"
   },
   {
    "duration": 29,
    "start_time": "2024-03-19T06:34:13.506Z"
   },
   {
    "duration": 42,
    "start_time": "2024-03-19T06:34:13.536Z"
   },
   {
    "duration": 70,
    "start_time": "2024-03-19T06:34:13.580Z"
   },
   {
    "duration": 15,
    "start_time": "2024-03-19T06:34:13.652Z"
   },
   {
    "duration": 26,
    "start_time": "2024-03-19T06:34:13.669Z"
   },
   {
    "duration": 75,
    "start_time": "2024-03-19T06:34:13.696Z"
   },
   {
    "duration": 68,
    "start_time": "2024-03-19T06:34:13.772Z"
   },
   {
    "duration": 5,
    "start_time": "2024-03-19T06:34:13.842Z"
   },
   {
    "duration": 88,
    "start_time": "2024-03-19T06:34:13.848Z"
   },
   {
    "duration": 39,
    "start_time": "2024-03-19T06:34:13.937Z"
   },
   {
    "duration": 6,
    "start_time": "2024-03-19T06:34:13.977Z"
   },
   {
    "duration": 42,
    "start_time": "2024-03-19T06:34:13.984Z"
   },
   {
    "duration": 10,
    "start_time": "2024-03-19T06:34:14.027Z"
   },
   {
    "duration": 30,
    "start_time": "2024-03-19T06:34:14.038Z"
   },
   {
    "duration": 9,
    "start_time": "2024-03-19T06:34:14.070Z"
   },
   {
    "duration": 27,
    "start_time": "2024-03-19T06:34:14.081Z"
   },
   {
    "duration": 15,
    "start_time": "2024-03-19T06:34:14.110Z"
   },
   {
    "duration": 185,
    "start_time": "2024-03-19T06:34:14.126Z"
   },
   {
    "duration": 169,
    "start_time": "2024-03-19T06:34:14.313Z"
   },
   {
    "duration": 19,
    "start_time": "2024-03-19T06:34:14.484Z"
   },
   {
    "duration": 11,
    "start_time": "2024-03-19T06:34:14.505Z"
   },
   {
    "duration": 15,
    "start_time": "2024-03-19T06:34:14.518Z"
   },
   {
    "duration": 53,
    "start_time": "2024-03-19T06:34:14.534Z"
   },
   {
    "duration": 25,
    "start_time": "2024-03-19T06:34:14.589Z"
   },
   {
    "duration": 10,
    "start_time": "2024-03-19T06:34:14.616Z"
   },
   {
    "duration": 205,
    "start_time": "2024-03-19T06:34:14.627Z"
   },
   {
    "duration": 0,
    "start_time": "2024-03-19T06:34:14.833Z"
   },
   {
    "duration": 0,
    "start_time": "2024-03-19T06:34:14.834Z"
   },
   {
    "duration": 12,
    "start_time": "2024-03-19T06:41:19.016Z"
   },
   {
    "duration": 4,
    "start_time": "2024-03-19T06:41:24.794Z"
   },
   {
    "duration": 16,
    "start_time": "2024-03-19T06:44:21.700Z"
   },
   {
    "duration": 22,
    "start_time": "2024-03-19T06:44:30.664Z"
   },
   {
    "duration": 14,
    "start_time": "2024-03-19T06:45:45.048Z"
   },
   {
    "duration": 19,
    "start_time": "2024-03-19T06:45:56.017Z"
   },
   {
    "duration": 41,
    "start_time": "2024-03-19T06:51:16.660Z"
   },
   {
    "duration": 3,
    "start_time": "2024-03-19T06:51:38.745Z"
   },
   {
    "duration": 1117,
    "start_time": "2024-03-19T07:02:04.552Z"
   },
   {
    "duration": 1197,
    "start_time": "2024-03-19T07:02:17.567Z"
   },
   {
    "duration": 21,
    "start_time": "2024-03-19T07:02:37.103Z"
   },
   {
    "duration": 34,
    "start_time": "2024-03-19T07:08:45.164Z"
   },
   {
    "duration": 23,
    "start_time": "2024-03-19T07:09:35.644Z"
   },
   {
    "duration": 9,
    "start_time": "2024-03-19T07:12:18.613Z"
   },
   {
    "duration": 15,
    "start_time": "2024-03-19T07:46:25.184Z"
   },
   {
    "duration": 16,
    "start_time": "2024-03-19T07:47:13.389Z"
   },
   {
    "duration": 11,
    "start_time": "2024-03-19T07:47:48.567Z"
   },
   {
    "duration": 10,
    "start_time": "2024-03-19T07:47:55.336Z"
   },
   {
    "duration": 5,
    "start_time": "2024-03-19T07:48:02.299Z"
   },
   {
    "duration": 24,
    "start_time": "2024-03-19T07:51:41.754Z"
   },
   {
    "duration": 9,
    "start_time": "2024-03-19T07:52:57.511Z"
   },
   {
    "duration": 9,
    "start_time": "2024-03-19T07:53:07.720Z"
   },
   {
    "duration": 5,
    "start_time": "2024-03-19T07:54:09.252Z"
   },
   {
    "duration": 4,
    "start_time": "2024-03-19T07:54:20.403Z"
   },
   {
    "duration": 1468,
    "start_time": "2024-03-19T12:39:56.657Z"
   },
   {
    "duration": 92,
    "start_time": "2024-03-19T12:39:58.127Z"
   },
   {
    "duration": 317,
    "start_time": "2024-03-19T12:39:58.221Z"
   },
   {
    "duration": 11,
    "start_time": "2024-03-19T12:39:58.540Z"
   },
   {
    "duration": 55,
    "start_time": "2024-03-19T12:39:58.552Z"
   },
   {
    "duration": 10,
    "start_time": "2024-03-19T12:39:58.608Z"
   },
   {
    "duration": 30,
    "start_time": "2024-03-19T12:39:58.619Z"
   },
   {
    "duration": 58,
    "start_time": "2024-03-19T12:39:58.651Z"
   },
   {
    "duration": 12,
    "start_time": "2024-03-19T12:39:58.710Z"
   },
   {
    "duration": 50,
    "start_time": "2024-03-19T12:39:58.724Z"
   },
   {
    "duration": 55,
    "start_time": "2024-03-19T12:39:58.776Z"
   },
   {
    "duration": 5,
    "start_time": "2024-03-19T12:39:58.833Z"
   },
   {
    "duration": 24,
    "start_time": "2024-03-19T12:39:58.840Z"
   },
   {
    "duration": 47,
    "start_time": "2024-03-19T12:39:58.866Z"
   },
   {
    "duration": 3,
    "start_time": "2024-03-19T12:39:58.915Z"
   },
   {
    "duration": 154,
    "start_time": "2024-03-19T12:39:58.920Z"
   },
   {
    "duration": 6,
    "start_time": "2024-03-19T12:39:59.076Z"
   },
   {
    "duration": 22,
    "start_time": "2024-03-19T12:39:59.083Z"
   },
   {
    "duration": 49,
    "start_time": "2024-03-19T12:39:59.106Z"
   },
   {
    "duration": 804,
    "start_time": "2024-03-19T12:39:59.156Z"
   },
   {
    "duration": 1643,
    "start_time": "2024-03-19T12:39:59.961Z"
   },
   {
    "duration": 1380,
    "start_time": "2024-03-19T12:40:01.606Z"
   },
   {
    "duration": 12,
    "start_time": "2024-03-19T12:40:02.988Z"
   },
   {
    "duration": 220,
    "start_time": "2024-03-19T12:40:03.002Z"
   },
   {
    "duration": 89,
    "start_time": "2024-03-19T12:40:03.224Z"
   },
   {
    "duration": 45,
    "start_time": "2024-03-19T12:40:03.315Z"
   },
   {
    "duration": 104,
    "start_time": "2024-03-19T12:40:03.362Z"
   },
   {
    "duration": 1009,
    "start_time": "2024-03-19T12:40:03.471Z"
   },
   {
    "duration": 25,
    "start_time": "2024-03-19T12:40:04.482Z"
   },
   {
    "duration": 93,
    "start_time": "2024-03-19T12:40:04.509Z"
   },
   {
    "duration": 21,
    "start_time": "2024-03-19T12:40:04.604Z"
   },
   {
    "duration": 508,
    "start_time": "2024-03-19T12:40:04.628Z"
   },
   {
    "duration": 15,
    "start_time": "2024-03-19T12:40:05.138Z"
   },
   {
    "duration": 64,
    "start_time": "2024-03-19T12:40:05.155Z"
   },
   {
    "duration": 95,
    "start_time": "2024-03-19T12:40:05.221Z"
   },
   {
    "duration": 55,
    "start_time": "2024-03-19T12:40:05.318Z"
   },
   {
    "duration": 115,
    "start_time": "2024-03-19T12:40:05.375Z"
   },
   {
    "duration": 11,
    "start_time": "2024-03-19T12:40:05.492Z"
   },
   {
    "duration": 74,
    "start_time": "2024-03-19T12:40:05.505Z"
   },
   {
    "duration": 191,
    "start_time": "2024-03-19T12:40:05.580Z"
   },
   {
    "duration": 86,
    "start_time": "2024-03-19T12:40:05.773Z"
   },
   {
    "duration": 7,
    "start_time": "2024-03-19T12:40:05.861Z"
   },
   {
    "duration": 148,
    "start_time": "2024-03-19T12:40:05.870Z"
   },
   {
    "duration": 31,
    "start_time": "2024-03-19T12:40:06.020Z"
   },
   {
    "duration": 6,
    "start_time": "2024-03-19T12:40:06.052Z"
   },
   {
    "duration": 83,
    "start_time": "2024-03-19T12:40:06.060Z"
   },
   {
    "duration": 45,
    "start_time": "2024-03-19T12:40:06.145Z"
   },
   {
    "duration": 69,
    "start_time": "2024-03-19T12:40:06.192Z"
   },
   {
    "duration": 54,
    "start_time": "2024-03-19T12:40:06.263Z"
   },
   {
    "duration": 32,
    "start_time": "2024-03-19T12:40:06.319Z"
   },
   {
    "duration": 19,
    "start_time": "2024-03-19T12:40:06.353Z"
   },
   {
    "duration": 244,
    "start_time": "2024-03-19T12:40:06.374Z"
   },
   {
    "duration": 221,
    "start_time": "2024-03-19T12:40:06.620Z"
   },
   {
    "duration": 22,
    "start_time": "2024-03-19T12:40:06.843Z"
   },
   {
    "duration": 38,
    "start_time": "2024-03-19T12:40:06.867Z"
   },
   {
    "duration": 24,
    "start_time": "2024-03-19T12:40:06.908Z"
   },
   {
    "duration": 59,
    "start_time": "2024-03-19T12:40:06.934Z"
   },
   {
    "duration": 40,
    "start_time": "2024-03-19T12:40:06.995Z"
   },
   {
    "duration": 88,
    "start_time": "2024-03-19T12:40:07.037Z"
   },
   {
    "duration": 84,
    "start_time": "2024-03-19T12:40:07.127Z"
   },
   {
    "duration": 34,
    "start_time": "2024-03-19T12:40:07.213Z"
   },
   {
    "duration": 160,
    "start_time": "2024-03-19T12:40:07.249Z"
   },
   {
    "duration": 55,
    "start_time": "2024-03-19T12:40:07.412Z"
   },
   {
    "duration": 119,
    "start_time": "2024-03-19T12:40:07.469Z"
   },
   {
    "duration": 45,
    "start_time": "2024-03-19T12:40:07.590Z"
   },
   {
    "duration": 54,
    "start_time": "2024-04-07T10:42:42.876Z"
   },
   {
    "duration": 1199,
    "start_time": "2024-04-07T10:42:55.958Z"
   },
   {
    "duration": 80,
    "start_time": "2024-04-07T10:42:57.159Z"
   },
   {
    "duration": 243,
    "start_time": "2024-04-07T10:42:57.240Z"
   },
   {
    "duration": 8,
    "start_time": "2024-04-07T10:42:57.485Z"
   },
   {
    "duration": 13,
    "start_time": "2024-04-07T10:42:57.494Z"
   },
   {
    "duration": 5,
    "start_time": "2024-04-07T10:42:57.509Z"
   },
   {
    "duration": 7,
    "start_time": "2024-04-07T10:42:57.515Z"
   },
   {
    "duration": 23,
    "start_time": "2024-04-07T10:42:57.523Z"
   },
   {
    "duration": 8,
    "start_time": "2024-04-07T10:42:57.547Z"
   },
   {
    "duration": 30,
    "start_time": "2024-04-07T10:42:57.557Z"
   },
   {
    "duration": 19,
    "start_time": "2024-04-07T10:42:57.588Z"
   },
   {
    "duration": 4,
    "start_time": "2024-04-07T10:42:57.608Z"
   },
   {
    "duration": 17,
    "start_time": "2024-04-07T10:42:57.613Z"
   },
   {
    "duration": 20,
    "start_time": "2024-04-07T10:42:57.631Z"
   },
   {
    "duration": 3,
    "start_time": "2024-04-07T10:42:57.652Z"
   },
   {
    "duration": 116,
    "start_time": "2024-04-07T10:42:57.656Z"
   },
   {
    "duration": 4,
    "start_time": "2024-04-07T10:42:57.773Z"
   },
   {
    "duration": 35,
    "start_time": "2024-04-07T10:42:57.778Z"
   },
   {
    "duration": 620,
    "start_time": "2024-04-07T10:42:57.814Z"
   },
   {
    "duration": 1366,
    "start_time": "2024-04-07T10:42:58.435Z"
   },
   {
    "duration": 1205,
    "start_time": "2024-04-07T10:42:59.802Z"
   },
   {
    "duration": 10,
    "start_time": "2024-04-07T10:43:01.008Z"
   },
   {
    "duration": 79,
    "start_time": "2024-04-07T10:43:01.019Z"
   },
   {
    "duration": 44,
    "start_time": "2024-04-07T10:43:01.099Z"
   },
   {
    "duration": 19,
    "start_time": "2024-04-07T10:43:01.144Z"
   },
   {
    "duration": 25,
    "start_time": "2024-04-07T10:43:01.164Z"
   },
   {
    "duration": 387,
    "start_time": "2024-04-07T10:43:01.190Z"
   },
   {
    "duration": 20,
    "start_time": "2024-04-07T10:43:01.580Z"
   },
   {
    "duration": 22,
    "start_time": "2024-04-07T10:43:01.601Z"
   },
   {
    "duration": 68,
    "start_time": "2024-04-07T10:43:01.624Z"
   },
   {
    "duration": 371,
    "start_time": "2024-04-07T10:43:01.693Z"
   },
   {
    "duration": 9,
    "start_time": "2024-04-07T10:43:02.066Z"
   },
   {
    "duration": 29,
    "start_time": "2024-04-07T10:43:02.084Z"
   },
   {
    "duration": 79,
    "start_time": "2024-04-07T10:43:02.114Z"
   },
   {
    "duration": 19,
    "start_time": "2024-04-07T10:43:02.194Z"
   },
   {
    "duration": 72,
    "start_time": "2024-04-07T10:43:02.215Z"
   },
   {
    "duration": 3,
    "start_time": "2024-04-07T10:43:02.289Z"
   },
   {
    "duration": 37,
    "start_time": "2024-04-07T10:43:02.293Z"
   },
   {
    "duration": 128,
    "start_time": "2024-04-07T10:43:02.331Z"
   },
   {
    "duration": 57,
    "start_time": "2024-04-07T10:43:02.460Z"
   },
   {
    "duration": 5,
    "start_time": "2024-04-07T10:43:02.518Z"
   },
   {
    "duration": 65,
    "start_time": "2024-04-07T10:43:02.524Z"
   },
   {
    "duration": 23,
    "start_time": "2024-04-07T10:43:02.590Z"
   },
   {
    "duration": 5,
    "start_time": "2024-04-07T10:43:02.614Z"
   },
   {
    "duration": 72,
    "start_time": "2024-04-07T10:43:02.620Z"
   },
   {
    "duration": 9,
    "start_time": "2024-04-07T10:43:02.693Z"
   },
   {
    "duration": 21,
    "start_time": "2024-04-07T10:43:02.704Z"
   },
   {
    "duration": 34,
    "start_time": "2024-04-07T10:43:02.726Z"
   },
   {
    "duration": 54,
    "start_time": "2024-04-07T10:43:02.762Z"
   },
   {
    "duration": 15,
    "start_time": "2024-04-07T10:43:02.817Z"
   },
   {
    "duration": 136,
    "start_time": "2024-04-07T10:43:02.833Z"
   },
   {
    "duration": 123,
    "start_time": "2024-04-07T10:43:02.970Z"
   },
   {
    "duration": 17,
    "start_time": "2024-04-07T10:43:03.094Z"
   },
   {
    "duration": 14,
    "start_time": "2024-04-07T10:43:03.112Z"
   },
   {
    "duration": 5,
    "start_time": "2024-04-07T10:43:03.128Z"
   },
   {
    "duration": 16,
    "start_time": "2024-04-07T10:43:03.134Z"
   },
   {
    "duration": 19,
    "start_time": "2024-04-07T10:43:03.151Z"
   },
   {
    "duration": 59,
    "start_time": "2024-04-07T10:43:03.172Z"
   },
   {
    "duration": 19,
    "start_time": "2024-04-07T10:43:03.232Z"
   },
   {
    "duration": 12,
    "start_time": "2024-04-07T10:43:03.252Z"
   },
   {
    "duration": 53,
    "start_time": "2024-04-07T10:43:03.265Z"
   },
   {
    "duration": 7,
    "start_time": "2024-04-07T10:43:03.319Z"
   },
   {
    "duration": 44,
    "start_time": "2024-04-07T10:43:03.327Z"
   },
   {
    "duration": 10,
    "start_time": "2024-04-07T10:43:03.372Z"
   },
   {
    "duration": 1062,
    "start_time": "2024-04-07T10:50:49.120Z"
   },
   {
    "duration": 53,
    "start_time": "2024-04-07T10:50:50.185Z"
   },
   {
    "duration": 170,
    "start_time": "2024-04-07T10:50:50.240Z"
   },
   {
    "duration": 8,
    "start_time": "2024-04-07T10:50:50.411Z"
   },
   {
    "duration": 15,
    "start_time": "2024-04-07T10:50:50.421Z"
   },
   {
    "duration": 11,
    "start_time": "2024-04-07T10:50:50.437Z"
   },
   {
    "duration": 15,
    "start_time": "2024-04-07T10:50:50.449Z"
   },
   {
    "duration": 42,
    "start_time": "2024-04-07T10:50:50.465Z"
   },
   {
    "duration": 12,
    "start_time": "2024-04-07T10:50:50.509Z"
   },
   {
    "duration": 30,
    "start_time": "2024-04-07T10:50:50.521Z"
   },
   {
    "duration": 46,
    "start_time": "2024-04-07T10:50:50.552Z"
   },
   {
    "duration": 13,
    "start_time": "2024-04-07T10:50:50.599Z"
   },
   {
    "duration": 19,
    "start_time": "2024-04-07T10:50:50.614Z"
   },
   {
    "duration": 41,
    "start_time": "2024-04-07T10:50:50.635Z"
   },
   {
    "duration": 5,
    "start_time": "2024-04-07T10:50:50.677Z"
   },
   {
    "duration": 119,
    "start_time": "2024-04-07T10:50:50.684Z"
   },
   {
    "duration": 3,
    "start_time": "2024-04-07T10:50:50.804Z"
   },
   {
    "duration": 40,
    "start_time": "2024-04-07T10:50:50.809Z"
   },
   {
    "duration": 658,
    "start_time": "2024-04-07T10:50:50.850Z"
   },
   {
    "duration": 1399,
    "start_time": "2024-04-07T10:50:51.509Z"
   },
   {
    "duration": 1190,
    "start_time": "2024-04-07T10:50:52.909Z"
   },
   {
    "duration": 9,
    "start_time": "2024-04-07T10:50:54.100Z"
   },
   {
    "duration": 35,
    "start_time": "2024-04-07T10:50:54.110Z"
   },
   {
    "duration": 20,
    "start_time": "2024-04-07T10:50:54.147Z"
   },
   {
    "duration": 15,
    "start_time": "2024-04-07T10:50:54.169Z"
   },
   {
    "duration": 17,
    "start_time": "2024-04-07T10:50:54.185Z"
   },
   {
    "duration": 341,
    "start_time": "2024-04-07T10:50:54.203Z"
   },
   {
    "duration": 16,
    "start_time": "2024-04-07T10:50:54.545Z"
   },
   {
    "duration": 33,
    "start_time": "2024-04-07T10:50:54.562Z"
   },
   {
    "duration": 24,
    "start_time": "2024-04-07T10:50:54.596Z"
   },
   {
    "duration": 401,
    "start_time": "2024-04-07T10:50:54.621Z"
   },
   {
    "duration": 11,
    "start_time": "2024-04-07T10:50:55.023Z"
   },
   {
    "duration": 33,
    "start_time": "2024-04-07T10:50:55.035Z"
   },
   {
    "duration": 45,
    "start_time": "2024-04-07T10:50:55.069Z"
   },
   {
    "duration": 17,
    "start_time": "2024-04-07T10:50:55.116Z"
   },
   {
    "duration": 68,
    "start_time": "2024-04-07T10:50:55.134Z"
   },
   {
    "duration": 3,
    "start_time": "2024-04-07T10:50:55.204Z"
   },
   {
    "duration": 37,
    "start_time": "2024-04-07T10:50:55.208Z"
   },
   {
    "duration": 98,
    "start_time": "2024-04-07T10:50:55.247Z"
   },
   {
    "duration": 55,
    "start_time": "2024-04-07T10:50:55.347Z"
   },
   {
    "duration": 5,
    "start_time": "2024-04-07T10:50:55.405Z"
   },
   {
    "duration": 75,
    "start_time": "2024-04-07T10:50:55.411Z"
   },
   {
    "duration": 23,
    "start_time": "2024-04-07T10:50:55.487Z"
   },
   {
    "duration": 23,
    "start_time": "2024-04-07T10:50:55.511Z"
   },
   {
    "duration": 57,
    "start_time": "2024-04-07T10:50:55.536Z"
   },
   {
    "duration": 18,
    "start_time": "2024-04-07T10:50:55.594Z"
   },
   {
    "duration": 24,
    "start_time": "2024-04-07T10:50:55.613Z"
   },
   {
    "duration": 36,
    "start_time": "2024-04-07T10:50:55.638Z"
   },
   {
    "duration": 29,
    "start_time": "2024-04-07T10:50:55.675Z"
   },
   {
    "duration": 22,
    "start_time": "2024-04-07T10:50:55.705Z"
   },
   {
    "duration": 157,
    "start_time": "2024-04-07T10:50:55.728Z"
   },
   {
    "duration": 128,
    "start_time": "2024-04-07T10:50:55.886Z"
   },
   {
    "duration": 16,
    "start_time": "2024-04-07T10:50:56.016Z"
   },
   {
    "duration": 32,
    "start_time": "2024-04-07T10:50:56.034Z"
   },
   {
    "duration": 4,
    "start_time": "2024-04-07T10:50:56.067Z"
   },
   {
    "duration": 25,
    "start_time": "2024-04-07T10:50:56.072Z"
   },
   {
    "duration": 43,
    "start_time": "2024-04-07T10:50:56.098Z"
   },
   {
    "duration": 46,
    "start_time": "2024-04-07T10:50:56.142Z"
   },
   {
    "duration": 20,
    "start_time": "2024-04-07T10:50:56.189Z"
   },
   {
    "duration": 22,
    "start_time": "2024-04-07T10:50:56.210Z"
   },
   {
    "duration": 43,
    "start_time": "2024-04-07T10:50:56.233Z"
   },
   {
    "duration": 11,
    "start_time": "2024-04-07T10:50:56.277Z"
   },
   {
    "duration": 27,
    "start_time": "2024-04-07T10:50:56.289Z"
   },
   {
    "duration": 11,
    "start_time": "2024-04-07T10:50:56.317Z"
   },
   {
    "duration": 1628,
    "start_time": "2024-04-07T15:11:26.940Z"
   },
   {
    "duration": 119,
    "start_time": "2024-04-07T15:11:28.570Z"
   },
   {
    "duration": 248,
    "start_time": "2024-04-07T15:11:28.691Z"
   },
   {
    "duration": 13,
    "start_time": "2024-04-07T15:11:28.942Z"
   },
   {
    "duration": 31,
    "start_time": "2024-04-07T15:11:28.956Z"
   },
   {
    "duration": 8,
    "start_time": "2024-04-07T15:11:28.989Z"
   },
   {
    "duration": 11,
    "start_time": "2024-04-07T15:11:28.999Z"
   },
   {
    "duration": 40,
    "start_time": "2024-04-07T15:11:29.011Z"
   },
   {
    "duration": 31,
    "start_time": "2024-04-07T15:11:29.052Z"
   },
   {
    "duration": 8,
    "start_time": "2024-04-07T15:11:29.086Z"
   },
   {
    "duration": 45,
    "start_time": "2024-04-07T15:11:29.095Z"
   },
   {
    "duration": 7,
    "start_time": "2024-04-07T15:11:29.142Z"
   },
   {
    "duration": 15,
    "start_time": "2024-04-07T15:11:29.151Z"
   },
   {
    "duration": 36,
    "start_time": "2024-04-07T15:11:29.168Z"
   },
   {
    "duration": 4,
    "start_time": "2024-04-07T15:11:29.205Z"
   },
   {
    "duration": 144,
    "start_time": "2024-04-07T15:11:29.210Z"
   },
   {
    "duration": 5,
    "start_time": "2024-04-07T15:11:29.356Z"
   },
   {
    "duration": 52,
    "start_time": "2024-04-07T15:11:29.363Z"
   },
   {
    "duration": 847,
    "start_time": "2024-04-07T15:11:29.417Z"
   },
   {
    "duration": 1706,
    "start_time": "2024-04-07T15:11:30.266Z"
   },
   {
    "duration": 1440,
    "start_time": "2024-04-07T15:11:31.982Z"
   },
   {
    "duration": 15,
    "start_time": "2024-04-07T15:11:33.423Z"
   },
   {
    "duration": 11,
    "start_time": "2024-04-07T15:11:33.440Z"
   },
   {
    "duration": 36,
    "start_time": "2024-04-07T15:11:33.453Z"
   },
   {
    "duration": 11,
    "start_time": "2024-04-07T15:11:33.490Z"
   },
   {
    "duration": 9,
    "start_time": "2024-04-07T15:11:33.503Z"
   },
   {
    "duration": 464,
    "start_time": "2024-04-07T15:11:33.514Z"
   },
   {
    "duration": 24,
    "start_time": "2024-04-07T15:11:33.982Z"
   },
   {
    "duration": 20,
    "start_time": "2024-04-07T15:11:34.007Z"
   },
   {
    "duration": 22,
    "start_time": "2024-04-07T15:11:34.081Z"
   },
   {
    "duration": 544,
    "start_time": "2024-04-07T15:11:34.104Z"
   },
   {
    "duration": 13,
    "start_time": "2024-04-07T15:11:34.650Z"
   },
   {
    "duration": 33,
    "start_time": "2024-04-07T15:11:34.664Z"
   },
   {
    "duration": 59,
    "start_time": "2024-04-07T15:11:34.699Z"
   },
   {
    "duration": 22,
    "start_time": "2024-04-07T15:11:34.760Z"
   },
   {
    "duration": 104,
    "start_time": "2024-04-07T15:11:34.784Z"
   },
   {
    "duration": 4,
    "start_time": "2024-04-07T15:11:34.890Z"
   },
   {
    "duration": 14,
    "start_time": "2024-04-07T15:11:34.895Z"
   },
   {
    "duration": 81,
    "start_time": "2024-04-07T15:11:34.910Z"
   },
   {
    "duration": 76,
    "start_time": "2024-04-07T15:11:34.993Z"
   },
   {
    "duration": 14,
    "start_time": "2024-04-07T15:11:35.071Z"
   },
   {
    "duration": 102,
    "start_time": "2024-04-07T15:11:35.087Z"
   },
   {
    "duration": 39,
    "start_time": "2024-04-07T15:11:35.191Z"
   },
   {
    "duration": 6,
    "start_time": "2024-04-07T15:11:35.232Z"
   },
   {
    "duration": 55,
    "start_time": "2024-04-07T15:11:35.240Z"
   },
   {
    "duration": 10,
    "start_time": "2024-04-07T15:11:35.297Z"
   },
   {
    "duration": 23,
    "start_time": "2024-04-07T15:11:35.309Z"
   },
   {
    "duration": 7,
    "start_time": "2024-04-07T15:11:35.334Z"
   },
   {
    "duration": 39,
    "start_time": "2024-04-07T15:11:35.342Z"
   },
   {
    "duration": 15,
    "start_time": "2024-04-07T15:11:35.382Z"
   },
   {
    "duration": 191,
    "start_time": "2024-04-07T15:11:35.398Z"
   },
   {
    "duration": 168,
    "start_time": "2024-04-07T15:11:35.591Z"
   },
   {
    "duration": 34,
    "start_time": "2024-04-07T15:11:35.761Z"
   },
   {
    "duration": 16,
    "start_time": "2024-04-07T15:11:35.796Z"
   },
   {
    "duration": 11,
    "start_time": "2024-04-07T15:11:35.814Z"
   },
   {
    "duration": 29,
    "start_time": "2024-04-07T15:11:35.827Z"
   },
   {
    "duration": 20,
    "start_time": "2024-04-07T15:11:35.858Z"
   },
   {
    "duration": 55,
    "start_time": "2024-04-07T15:11:35.879Z"
   },
   {
    "duration": 27,
    "start_time": "2024-04-07T15:11:35.935Z"
   },
   {
    "duration": 9,
    "start_time": "2024-04-07T15:11:35.964Z"
   },
   {
    "duration": 31,
    "start_time": "2024-04-07T15:11:35.975Z"
   },
   {
    "duration": 9,
    "start_time": "2024-04-07T15:11:36.008Z"
   },
   {
    "duration": 50,
    "start_time": "2024-04-07T15:11:36.019Z"
   },
   {
    "duration": 9,
    "start_time": "2024-04-07T15:11:36.071Z"
   },
   {
    "duration": 1349,
    "start_time": "2024-04-08T08:46:44.935Z"
   },
   {
    "duration": 94,
    "start_time": "2024-04-08T08:46:46.286Z"
   },
   {
    "duration": 269,
    "start_time": "2024-04-08T08:46:46.382Z"
   },
   {
    "duration": 11,
    "start_time": "2024-04-08T08:46:46.653Z"
   },
   {
    "duration": 53,
    "start_time": "2024-04-08T08:46:46.666Z"
   },
   {
    "duration": 33,
    "start_time": "2024-04-08T08:46:46.720Z"
   },
   {
    "duration": 16,
    "start_time": "2024-04-08T08:46:46.755Z"
   },
   {
    "duration": 44,
    "start_time": "2024-04-08T08:46:46.773Z"
   },
   {
    "duration": 14,
    "start_time": "2024-04-08T08:46:46.818Z"
   },
   {
    "duration": 18,
    "start_time": "2024-04-08T08:46:46.834Z"
   },
   {
    "duration": 54,
    "start_time": "2024-04-08T08:46:46.854Z"
   },
   {
    "duration": 20,
    "start_time": "2024-04-08T08:46:46.910Z"
   },
   {
    "duration": 25,
    "start_time": "2024-04-08T08:46:46.932Z"
   },
   {
    "duration": 39,
    "start_time": "2024-04-08T08:46:46.958Z"
   },
   {
    "duration": 12,
    "start_time": "2024-04-08T08:46:46.999Z"
   },
   {
    "duration": 152,
    "start_time": "2024-04-08T08:46:47.013Z"
   },
   {
    "duration": 5,
    "start_time": "2024-04-08T08:46:47.166Z"
   },
   {
    "duration": 56,
    "start_time": "2024-04-08T08:46:47.173Z"
   },
   {
    "duration": 801,
    "start_time": "2024-04-08T08:46:47.231Z"
   },
   {
    "duration": 1730,
    "start_time": "2024-04-08T08:46:48.034Z"
   },
   {
    "duration": 1505,
    "start_time": "2024-04-08T08:46:49.765Z"
   },
   {
    "duration": 23,
    "start_time": "2024-04-08T08:46:51.273Z"
   },
   {
    "duration": 15,
    "start_time": "2024-04-08T08:46:51.298Z"
   },
   {
    "duration": 28,
    "start_time": "2024-04-08T08:46:51.315Z"
   },
   {
    "duration": 14,
    "start_time": "2024-04-08T08:46:51.344Z"
   },
   {
    "duration": 25,
    "start_time": "2024-04-08T08:46:51.360Z"
   },
   {
    "duration": 467,
    "start_time": "2024-04-08T08:46:51.387Z"
   },
   {
    "duration": 40,
    "start_time": "2024-04-08T08:46:51.859Z"
   },
   {
    "duration": 85,
    "start_time": "2024-04-08T08:46:51.901Z"
   },
   {
    "duration": 35,
    "start_time": "2024-04-08T08:46:51.988Z"
   },
   {
    "duration": 526,
    "start_time": "2024-04-08T08:46:52.082Z"
   },
   {
    "duration": 13,
    "start_time": "2024-04-08T08:46:52.609Z"
   },
   {
    "duration": 12,
    "start_time": "2024-04-08T08:46:52.623Z"
   },
   {
    "duration": 49,
    "start_time": "2024-04-08T08:46:52.637Z"
   },
   {
    "duration": 17,
    "start_time": "2024-04-08T08:46:52.688Z"
   },
   {
    "duration": 95,
    "start_time": "2024-04-08T08:46:52.707Z"
   },
   {
    "duration": 4,
    "start_time": "2024-04-08T08:46:52.803Z"
   },
   {
    "duration": 11,
    "start_time": "2024-04-08T08:46:52.809Z"
   },
   {
    "duration": 81,
    "start_time": "2024-04-08T08:46:52.822Z"
   },
   {
    "duration": 87,
    "start_time": "2024-04-08T08:46:52.905Z"
   },
   {
    "duration": 6,
    "start_time": "2024-04-08T08:46:52.994Z"
   },
   {
    "duration": 102,
    "start_time": "2024-04-08T08:46:53.002Z"
   },
   {
    "duration": 32,
    "start_time": "2024-04-08T08:46:53.106Z"
   },
   {
    "duration": 6,
    "start_time": "2024-04-08T08:46:53.140Z"
   },
   {
    "duration": 57,
    "start_time": "2024-04-08T08:46:53.148Z"
   },
   {
    "duration": 12,
    "start_time": "2024-04-08T08:46:53.207Z"
   },
   {
    "duration": 13,
    "start_time": "2024-04-08T08:46:53.220Z"
   },
   {
    "duration": 7,
    "start_time": "2024-04-08T08:46:53.235Z"
   },
   {
    "duration": 17,
    "start_time": "2024-04-08T08:46:53.281Z"
   },
   {
    "duration": 13,
    "start_time": "2024-04-08T08:46:53.299Z"
   },
   {
    "duration": 199,
    "start_time": "2024-04-08T08:46:53.313Z"
   },
   {
    "duration": 168,
    "start_time": "2024-04-08T08:46:53.514Z"
   },
   {
    "duration": 23,
    "start_time": "2024-04-08T08:46:53.684Z"
   },
   {
    "duration": 9,
    "start_time": "2024-04-08T08:46:53.709Z"
   },
   {
    "duration": 13,
    "start_time": "2024-04-08T08:46:53.719Z"
   },
   {
    "duration": 8,
    "start_time": "2024-04-08T08:46:53.733Z"
   },
   {
    "duration": 44,
    "start_time": "2024-04-08T08:46:53.742Z"
   },
   {
    "duration": 30,
    "start_time": "2024-04-08T08:46:53.788Z"
   },
   {
    "duration": 82,
    "start_time": "2024-04-08T08:46:53.820Z"
   },
   {
    "duration": 8,
    "start_time": "2024-04-08T08:46:53.904Z"
   },
   {
    "duration": 56,
    "start_time": "2024-04-08T08:46:53.914Z"
   },
   {
    "duration": 14,
    "start_time": "2024-04-08T08:46:53.974Z"
   },
   {
    "duration": 8,
    "start_time": "2024-04-08T08:46:53.990Z"
   },
   {
    "duration": 7,
    "start_time": "2024-04-08T08:46:53.999Z"
   },
   {
    "duration": 204,
    "start_time": "2024-04-08T08:47:17.865Z"
   },
   {
    "duration": 198,
    "start_time": "2024-04-08T08:47:38.911Z"
   },
   {
    "duration": 184,
    "start_time": "2024-04-08T08:48:45.295Z"
   },
   {
    "duration": 336,
    "start_time": "2024-04-08T08:55:44.606Z"
   },
   {
    "duration": 165,
    "start_time": "2024-04-08T08:57:55.690Z"
   },
   {
    "duration": 5,
    "start_time": "2024-04-08T08:58:07.711Z"
   },
   {
    "duration": 342,
    "start_time": "2024-04-08T08:58:23.947Z"
   },
   {
    "duration": 326,
    "start_time": "2024-04-08T08:59:58.711Z"
   },
   {
    "duration": 301,
    "start_time": "2024-04-08T09:02:01.253Z"
   },
   {
    "duration": 366,
    "start_time": "2024-04-08T09:03:34.150Z"
   },
   {
    "duration": 312,
    "start_time": "2024-04-08T09:04:42.522Z"
   },
   {
    "duration": 1294,
    "start_time": "2024-04-08T09:05:34.792Z"
   },
   {
    "duration": 69,
    "start_time": "2024-04-08T09:05:36.088Z"
   },
   {
    "duration": 324,
    "start_time": "2024-04-08T09:05:36.158Z"
   },
   {
    "duration": 11,
    "start_time": "2024-04-08T09:05:36.484Z"
   },
   {
    "duration": 22,
    "start_time": "2024-04-08T09:05:36.498Z"
   },
   {
    "duration": 8,
    "start_time": "2024-04-08T09:05:36.522Z"
   },
   {
    "duration": 14,
    "start_time": "2024-04-08T09:05:36.531Z"
   },
   {
    "duration": 63,
    "start_time": "2024-04-08T09:05:36.547Z"
   },
   {
    "duration": 20,
    "start_time": "2024-04-08T09:05:36.611Z"
   },
   {
    "duration": 10,
    "start_time": "2024-04-08T09:05:36.633Z"
   },
   {
    "duration": 40,
    "start_time": "2024-04-08T09:05:36.645Z"
   },
   {
    "duration": 6,
    "start_time": "2024-04-08T09:05:36.687Z"
   },
   {
    "duration": 22,
    "start_time": "2024-04-08T09:05:36.694Z"
   },
   {
    "duration": 23,
    "start_time": "2024-04-08T09:05:36.719Z"
   },
   {
    "duration": 4,
    "start_time": "2024-04-08T09:05:36.744Z"
   },
   {
    "duration": 150,
    "start_time": "2024-04-08T09:05:36.749Z"
   },
   {
    "duration": 5,
    "start_time": "2024-04-08T09:05:36.901Z"
   },
   {
    "duration": 44,
    "start_time": "2024-04-08T09:05:36.908Z"
   },
   {
    "duration": 763,
    "start_time": "2024-04-08T09:05:36.954Z"
   },
   {
    "duration": 1659,
    "start_time": "2024-04-08T09:05:37.719Z"
   },
   {
    "duration": 1433,
    "start_time": "2024-04-08T09:05:39.381Z"
   },
   {
    "duration": 12,
    "start_time": "2024-04-08T09:05:40.815Z"
   },
   {
    "duration": 11,
    "start_time": "2024-04-08T09:05:40.828Z"
   },
   {
    "duration": 14,
    "start_time": "2024-04-08T09:05:40.840Z"
   },
   {
    "duration": 34,
    "start_time": "2024-04-08T09:05:40.855Z"
   },
   {
    "duration": 10,
    "start_time": "2024-04-08T09:05:40.891Z"
   },
   {
    "duration": 201,
    "start_time": "2024-04-08T09:05:40.903Z"
   },
   {
    "duration": 24,
    "start_time": "2024-04-08T09:05:41.105Z"
   },
   {
    "duration": 20,
    "start_time": "2024-04-08T09:05:41.130Z"
   },
   {
    "duration": 49,
    "start_time": "2024-04-08T09:05:41.151Z"
   },
   {
    "duration": 531,
    "start_time": "2024-04-08T09:05:41.202Z"
   },
   {
    "duration": 13,
    "start_time": "2024-04-08T09:05:41.734Z"
   },
   {
    "duration": 13,
    "start_time": "2024-04-08T09:05:41.748Z"
   },
   {
    "duration": 47,
    "start_time": "2024-04-08T09:05:41.762Z"
   },
   {
    "duration": 28,
    "start_time": "2024-04-08T09:05:41.811Z"
   },
   {
    "duration": 130,
    "start_time": "2024-04-08T09:05:41.841Z"
   },
   {
    "duration": 0,
    "start_time": "2024-04-08T09:05:41.973Z"
   },
   {
    "duration": 0,
    "start_time": "2024-04-08T09:05:41.974Z"
   },
   {
    "duration": 0,
    "start_time": "2024-04-08T09:05:41.982Z"
   },
   {
    "duration": 0,
    "start_time": "2024-04-08T09:05:41.983Z"
   },
   {
    "duration": 0,
    "start_time": "2024-04-08T09:05:41.984Z"
   },
   {
    "duration": 0,
    "start_time": "2024-04-08T09:05:41.985Z"
   },
   {
    "duration": 0,
    "start_time": "2024-04-08T09:05:41.986Z"
   },
   {
    "duration": 0,
    "start_time": "2024-04-08T09:05:41.987Z"
   },
   {
    "duration": 0,
    "start_time": "2024-04-08T09:05:41.988Z"
   },
   {
    "duration": 0,
    "start_time": "2024-04-08T09:05:41.989Z"
   },
   {
    "duration": 0,
    "start_time": "2024-04-08T09:05:41.990Z"
   },
   {
    "duration": 0,
    "start_time": "2024-04-08T09:05:41.992Z"
   },
   {
    "duration": 0,
    "start_time": "2024-04-08T09:05:41.993Z"
   },
   {
    "duration": 0,
    "start_time": "2024-04-08T09:05:41.994Z"
   },
   {
    "duration": 0,
    "start_time": "2024-04-08T09:05:41.994Z"
   },
   {
    "duration": 0,
    "start_time": "2024-04-08T09:05:41.995Z"
   },
   {
    "duration": 0,
    "start_time": "2024-04-08T09:05:41.997Z"
   },
   {
    "duration": 0,
    "start_time": "2024-04-08T09:05:41.997Z"
   },
   {
    "duration": 0,
    "start_time": "2024-04-08T09:05:41.999Z"
   },
   {
    "duration": 0,
    "start_time": "2024-04-08T09:05:42.000Z"
   },
   {
    "duration": 0,
    "start_time": "2024-04-08T09:05:42.001Z"
   },
   {
    "duration": 0,
    "start_time": "2024-04-08T09:05:42.002Z"
   },
   {
    "duration": 0,
    "start_time": "2024-04-08T09:05:42.003Z"
   },
   {
    "duration": 0,
    "start_time": "2024-04-08T09:05:42.004Z"
   },
   {
    "duration": 0,
    "start_time": "2024-04-08T09:05:42.005Z"
   },
   {
    "duration": 2,
    "start_time": "2024-04-08T09:07:08.093Z"
   },
   {
    "duration": 1349,
    "start_time": "2024-04-08T09:07:21.870Z"
   },
   {
    "duration": 81,
    "start_time": "2024-04-08T09:07:23.221Z"
   },
   {
    "duration": 523,
    "start_time": "2024-04-08T09:07:23.303Z"
   },
   {
    "duration": 13,
    "start_time": "2024-04-08T09:07:23.829Z"
   },
   {
    "duration": 37,
    "start_time": "2024-04-08T09:07:23.844Z"
   },
   {
    "duration": 21,
    "start_time": "2024-04-08T09:07:23.883Z"
   },
   {
    "duration": 25,
    "start_time": "2024-04-08T09:07:23.906Z"
   },
   {
    "duration": 67,
    "start_time": "2024-04-08T09:07:23.932Z"
   },
   {
    "duration": 13,
    "start_time": "2024-04-08T09:07:24.001Z"
   },
   {
    "duration": 34,
    "start_time": "2024-04-08T09:07:24.016Z"
   },
   {
    "duration": 31,
    "start_time": "2024-04-08T09:07:24.051Z"
   },
   {
    "duration": 6,
    "start_time": "2024-04-08T09:07:24.083Z"
   },
   {
    "duration": 29,
    "start_time": "2024-04-08T09:07:24.090Z"
   },
   {
    "duration": 38,
    "start_time": "2024-04-08T09:07:24.121Z"
   },
   {
    "duration": 29,
    "start_time": "2024-04-08T09:07:24.160Z"
   },
   {
    "duration": 174,
    "start_time": "2024-04-08T09:07:24.191Z"
   },
   {
    "duration": 5,
    "start_time": "2024-04-08T09:07:24.367Z"
   },
   {
    "duration": 50,
    "start_time": "2024-04-08T09:07:24.373Z"
   },
   {
    "duration": 780,
    "start_time": "2024-04-08T09:07:24.425Z"
   },
   {
    "duration": 1718,
    "start_time": "2024-04-08T09:07:25.207Z"
   },
   {
    "duration": 1484,
    "start_time": "2024-04-08T09:07:26.927Z"
   },
   {
    "duration": 13,
    "start_time": "2024-04-08T09:07:28.412Z"
   },
   {
    "duration": 14,
    "start_time": "2024-04-08T09:07:28.426Z"
   },
   {
    "duration": 15,
    "start_time": "2024-04-08T09:07:28.441Z"
   },
   {
    "duration": 32,
    "start_time": "2024-04-08T09:07:28.457Z"
   },
   {
    "duration": 15,
    "start_time": "2024-04-08T09:07:28.490Z"
   },
   {
    "duration": 199,
    "start_time": "2024-04-08T09:07:28.507Z"
   },
   {
    "duration": 22,
    "start_time": "2024-04-08T09:07:28.710Z"
   },
   {
    "duration": 18,
    "start_time": "2024-04-08T09:07:28.734Z"
   },
   {
    "duration": 43,
    "start_time": "2024-04-08T09:07:28.754Z"
   },
   {
    "duration": 530,
    "start_time": "2024-04-08T09:07:28.799Z"
   },
   {
    "duration": 14,
    "start_time": "2024-04-08T09:07:29.331Z"
   },
   {
    "duration": 36,
    "start_time": "2024-04-08T09:07:29.346Z"
   },
   {
    "duration": 49,
    "start_time": "2024-04-08T09:07:29.384Z"
   },
   {
    "duration": 17,
    "start_time": "2024-04-08T09:07:29.435Z"
   },
   {
    "duration": 3,
    "start_time": "2024-04-08T09:07:29.453Z"
   },
   {
    "duration": 98,
    "start_time": "2024-04-08T09:07:29.458Z"
   },
   {
    "duration": 7,
    "start_time": "2024-04-08T09:07:29.559Z"
   },
   {
    "duration": 348,
    "start_time": "2024-04-08T09:07:29.583Z"
   },
   {
    "duration": 88,
    "start_time": "2024-04-08T09:07:29.932Z"
   },
   {
    "duration": 361,
    "start_time": "2024-04-08T09:07:30.021Z"
   },
   {
    "duration": 32,
    "start_time": "2024-04-08T09:07:30.384Z"
   },
   {
    "duration": 315,
    "start_time": "2024-04-08T09:07:30.417Z"
   },
   {
    "duration": 9,
    "start_time": "2024-04-08T09:07:30.734Z"
   },
   {
    "duration": 110,
    "start_time": "2024-04-08T09:07:30.745Z"
   },
   {
    "duration": 132,
    "start_time": "2024-04-08T09:07:30.857Z"
   },
   {
    "duration": 92,
    "start_time": "2024-04-08T09:07:30.991Z"
   },
   {
    "duration": 101,
    "start_time": "2024-04-08T09:07:31.085Z"
   },
   {
    "duration": 252,
    "start_time": "2024-04-08T09:07:31.188Z"
   },
   {
    "duration": 167,
    "start_time": "2024-04-08T09:07:31.442Z"
   },
   {
    "duration": 21,
    "start_time": "2024-04-08T09:07:31.611Z"
   },
   {
    "duration": 33,
    "start_time": "2024-04-08T09:07:31.634Z"
   },
   {
    "duration": 30,
    "start_time": "2024-04-08T09:07:31.668Z"
   },
   {
    "duration": 25,
    "start_time": "2024-04-08T09:07:31.700Z"
   },
   {
    "duration": 16,
    "start_time": "2024-04-08T09:07:31.727Z"
   },
   {
    "duration": 37,
    "start_time": "2024-04-08T09:07:31.744Z"
   },
   {
    "duration": 27,
    "start_time": "2024-04-08T09:07:31.783Z"
   },
   {
    "duration": 10,
    "start_time": "2024-04-08T09:07:31.812Z"
   },
   {
    "duration": 45,
    "start_time": "2024-04-08T09:07:31.824Z"
   },
   {
    "duration": 16,
    "start_time": "2024-04-08T09:07:31.871Z"
   },
   {
    "duration": 18,
    "start_time": "2024-04-08T09:07:31.888Z"
   },
   {
    "duration": 30,
    "start_time": "2024-04-08T09:07:31.908Z"
   }
  ],
  "kernelspec": {
   "display_name": "Python 3 (ipykernel)",
   "language": "python",
   "name": "python3"
  },
  "language_info": {
   "codemirror_mode": {
    "name": "ipython",
    "version": 3
   },
   "file_extension": ".py",
   "mimetype": "text/x-python",
   "name": "python",
   "nbconvert_exporter": "python",
   "pygments_lexer": "ipython3",
   "version": "3.9.5"
  },
  "toc": {
   "base_numbering": 1,
   "nav_menu": {},
   "number_sections": true,
   "sideBar": true,
   "skip_h1_title": true,
   "title_cell": "Table of Contents",
   "title_sidebar": "Contents",
   "toc_cell": false,
   "toc_position": {},
   "toc_section_display": true,
   "toc_window_display": false
  }
 },
 "nbformat": 4,
 "nbformat_minor": 2
}
