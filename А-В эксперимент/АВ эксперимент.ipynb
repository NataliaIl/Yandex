{
 "cells": [
  {
   "cell_type": "markdown",
   "metadata": {},
   "source": [
    "<h4>Исследование поведения пользователей мобильного приложения</h4>"
   ]
  },
  {
   "cell_type": "markdown",
   "metadata": {},
   "source": [
    "##### План работы\n",
    "<ul>\n",
    "<li>Для работы с датафреймом изучим данные мобильного приложения, проведем предобработку, а затем приступим к исследованию.</li>\n",
    "<li>В рамках исследования поведения пользователей мобильного приложения изучим воронку продаж, узнаем, как пользователи доходят до покупки, на каких шагах они застревают.</li>\n",
    "<li>После этого исследуем результаты A/A/B-эксперимента и сделаем выводы.</li>\n",
    "</ul>"
   ]
  },
  {
   "cell_type": "markdown",
   "metadata": {},
   "source": [
    "##### Описание данных"
   ]
  },
  {
   "cell_type": "markdown",
   "metadata": {},
   "source": [
    "На входе мы получили датасет с логами, где каждая запись в логе — это действие пользователя или событие. "
   ]
  },
  {
   "cell_type": "markdown",
   "metadata": {},
   "source": [
    "##### Изучение данных и предобработка"
   ]
  },
  {
   "cell_type": "code",
   "execution_count": 1,
   "metadata": {},
   "outputs": [],
   "source": [
    "import pandas as pd\n",
    "import matplotlib.pyplot as plt\n",
    "import numpy as np\n",
    "from scipy import stats as st\n",
    "from scipy.stats import ttest_ind\n",
    "import plotly.express as px"
   ]
  },
  {
   "cell_type": "code",
   "execution_count": 2,
   "metadata": {},
   "outputs": [],
   "source": [
    "data = pd.read_csv('/datasets/logs_exp.csv', sep='\\t')"
   ]
  },
  {
   "cell_type": "code",
   "execution_count": 3,
   "metadata": {},
   "outputs": [
    {
     "data": {
      "text/html": [
       "<div>\n",
       "<style scoped>\n",
       "    .dataframe tbody tr th:only-of-type {\n",
       "        vertical-align: middle;\n",
       "    }\n",
       "\n",
       "    .dataframe tbody tr th {\n",
       "        vertical-align: top;\n",
       "    }\n",
       "\n",
       "    .dataframe thead th {\n",
       "        text-align: right;\n",
       "    }\n",
       "</style>\n",
       "<table border=\"1\" class=\"dataframe\">\n",
       "  <thead>\n",
       "    <tr style=\"text-align: right;\">\n",
       "      <th></th>\n",
       "      <th>EventName</th>\n",
       "      <th>DeviceIDHash</th>\n",
       "      <th>EventTimestamp</th>\n",
       "      <th>ExpId</th>\n",
       "    </tr>\n",
       "  </thead>\n",
       "  <tbody>\n",
       "    <tr>\n",
       "      <th>0</th>\n",
       "      <td>MainScreenAppear</td>\n",
       "      <td>4575588528974610257</td>\n",
       "      <td>1564029816</td>\n",
       "      <td>246</td>\n",
       "    </tr>\n",
       "    <tr>\n",
       "      <th>1</th>\n",
       "      <td>MainScreenAppear</td>\n",
       "      <td>7416695313311560658</td>\n",
       "      <td>1564053102</td>\n",
       "      <td>246</td>\n",
       "    </tr>\n",
       "    <tr>\n",
       "      <th>2</th>\n",
       "      <td>PaymentScreenSuccessful</td>\n",
       "      <td>3518123091307005509</td>\n",
       "      <td>1564054127</td>\n",
       "      <td>248</td>\n",
       "    </tr>\n",
       "    <tr>\n",
       "      <th>3</th>\n",
       "      <td>CartScreenAppear</td>\n",
       "      <td>3518123091307005509</td>\n",
       "      <td>1564054127</td>\n",
       "      <td>248</td>\n",
       "    </tr>\n",
       "    <tr>\n",
       "      <th>4</th>\n",
       "      <td>PaymentScreenSuccessful</td>\n",
       "      <td>6217807653094995999</td>\n",
       "      <td>1564055322</td>\n",
       "      <td>248</td>\n",
       "    </tr>\n",
       "    <tr>\n",
       "      <th>5</th>\n",
       "      <td>CartScreenAppear</td>\n",
       "      <td>6217807653094995999</td>\n",
       "      <td>1564055323</td>\n",
       "      <td>248</td>\n",
       "    </tr>\n",
       "    <tr>\n",
       "      <th>6</th>\n",
       "      <td>OffersScreenAppear</td>\n",
       "      <td>8351860793733343758</td>\n",
       "      <td>1564066242</td>\n",
       "      <td>246</td>\n",
       "    </tr>\n",
       "    <tr>\n",
       "      <th>7</th>\n",
       "      <td>MainScreenAppear</td>\n",
       "      <td>5682100281902512875</td>\n",
       "      <td>1564085677</td>\n",
       "      <td>246</td>\n",
       "    </tr>\n",
       "    <tr>\n",
       "      <th>8</th>\n",
       "      <td>MainScreenAppear</td>\n",
       "      <td>1850981295691852772</td>\n",
       "      <td>1564086702</td>\n",
       "      <td>247</td>\n",
       "    </tr>\n",
       "    <tr>\n",
       "      <th>9</th>\n",
       "      <td>MainScreenAppear</td>\n",
       "      <td>5407636962369102641</td>\n",
       "      <td>1564112112</td>\n",
       "      <td>246</td>\n",
       "    </tr>\n",
       "  </tbody>\n",
       "</table>\n",
       "</div>"
      ],
      "text/plain": [
       "                 EventName         DeviceIDHash  EventTimestamp  ExpId\n",
       "0         MainScreenAppear  4575588528974610257      1564029816    246\n",
       "1         MainScreenAppear  7416695313311560658      1564053102    246\n",
       "2  PaymentScreenSuccessful  3518123091307005509      1564054127    248\n",
       "3         CartScreenAppear  3518123091307005509      1564054127    248\n",
       "4  PaymentScreenSuccessful  6217807653094995999      1564055322    248\n",
       "5         CartScreenAppear  6217807653094995999      1564055323    248\n",
       "6       OffersScreenAppear  8351860793733343758      1564066242    246\n",
       "7         MainScreenAppear  5682100281902512875      1564085677    246\n",
       "8         MainScreenAppear  1850981295691852772      1564086702    247\n",
       "9         MainScreenAppear  5407636962369102641      1564112112    246"
      ]
     },
     "execution_count": 3,
     "metadata": {},
     "output_type": "execute_result"
    }
   ],
   "source": [
    "data.head(10)"
   ]
  },
  {
   "cell_type": "markdown",
   "metadata": {},
   "source": [
    "Переименуем названия колонок."
   ]
  },
  {
   "cell_type": "code",
   "execution_count": 4,
   "metadata": {},
   "outputs": [],
   "source": [
    "data.rename(columns={\n",
    "    'EventName': 'event_name',\n",
    "    'DeviceIDHash': 'device_id_hash',\n",
    "    'EventTimestamp': 'event_timestamp',\n",
    "    'ExpId': 'exp_id'\n",
    "}, inplace=True)"
   ]
  },
  {
   "cell_type": "code",
   "execution_count": 5,
   "metadata": {},
   "outputs": [
    {
     "data": {
      "text/html": [
       "<div>\n",
       "<style scoped>\n",
       "    .dataframe tbody tr th:only-of-type {\n",
       "        vertical-align: middle;\n",
       "    }\n",
       "\n",
       "    .dataframe tbody tr th {\n",
       "        vertical-align: top;\n",
       "    }\n",
       "\n",
       "    .dataframe thead th {\n",
       "        text-align: right;\n",
       "    }\n",
       "</style>\n",
       "<table border=\"1\" class=\"dataframe\">\n",
       "  <thead>\n",
       "    <tr style=\"text-align: right;\">\n",
       "      <th></th>\n",
       "      <th>event_name</th>\n",
       "      <th>device_id_hash</th>\n",
       "      <th>event_timestamp</th>\n",
       "      <th>exp_id</th>\n",
       "    </tr>\n",
       "  </thead>\n",
       "  <tbody>\n",
       "    <tr>\n",
       "      <th>0</th>\n",
       "      <td>MainScreenAppear</td>\n",
       "      <td>4575588528974610257</td>\n",
       "      <td>1564029816</td>\n",
       "      <td>246</td>\n",
       "    </tr>\n",
       "    <tr>\n",
       "      <th>1</th>\n",
       "      <td>MainScreenAppear</td>\n",
       "      <td>7416695313311560658</td>\n",
       "      <td>1564053102</td>\n",
       "      <td>246</td>\n",
       "    </tr>\n",
       "    <tr>\n",
       "      <th>2</th>\n",
       "      <td>PaymentScreenSuccessful</td>\n",
       "      <td>3518123091307005509</td>\n",
       "      <td>1564054127</td>\n",
       "      <td>248</td>\n",
       "    </tr>\n",
       "    <tr>\n",
       "      <th>3</th>\n",
       "      <td>CartScreenAppear</td>\n",
       "      <td>3518123091307005509</td>\n",
       "      <td>1564054127</td>\n",
       "      <td>248</td>\n",
       "    </tr>\n",
       "    <tr>\n",
       "      <th>4</th>\n",
       "      <td>PaymentScreenSuccessful</td>\n",
       "      <td>6217807653094995999</td>\n",
       "      <td>1564055322</td>\n",
       "      <td>248</td>\n",
       "    </tr>\n",
       "  </tbody>\n",
       "</table>\n",
       "</div>"
      ],
      "text/plain": [
       "                event_name       device_id_hash  event_timestamp  exp_id\n",
       "0         MainScreenAppear  4575588528974610257       1564029816     246\n",
       "1         MainScreenAppear  7416695313311560658       1564053102     246\n",
       "2  PaymentScreenSuccessful  3518123091307005509       1564054127     248\n",
       "3         CartScreenAppear  3518123091307005509       1564054127     248\n",
       "4  PaymentScreenSuccessful  6217807653094995999       1564055322     248"
      ]
     },
     "execution_count": 5,
     "metadata": {},
     "output_type": "execute_result"
    }
   ],
   "source": [
    "data.head()"
   ]
  },
  {
   "cell_type": "markdown",
   "metadata": {},
   "source": [
    "Проверим типы данных."
   ]
  },
  {
   "cell_type": "code",
   "execution_count": 6,
   "metadata": {},
   "outputs": [
    {
     "name": "stdout",
     "output_type": "stream",
     "text": [
      "<class 'pandas.core.frame.DataFrame'>\n",
      "RangeIndex: 244126 entries, 0 to 244125\n",
      "Data columns (total 4 columns):\n",
      " #   Column           Non-Null Count   Dtype \n",
      "---  ------           --------------   ----- \n",
      " 0   event_name       244126 non-null  object\n",
      " 1   device_id_hash   244126 non-null  int64 \n",
      " 2   event_timestamp  244126 non-null  int64 \n",
      " 3   exp_id           244126 non-null  int64 \n",
      "dtypes: int64(3), object(1)\n",
      "memory usage: 7.5+ MB\n"
     ]
    }
   ],
   "source": [
    "data.info()"
   ]
  },
  {
   "cell_type": "markdown",
   "metadata": {},
   "source": [
    "Столбец 'EventTimestamp' должен иметь формат datetime, поменяем его."
   ]
  },
  {
   "cell_type": "code",
   "execution_count": 7,
   "metadata": {},
   "outputs": [],
   "source": [
    "data['event_timestamp'] = pd.to_datetime(data['event_timestamp'], unit='s')"
   ]
  },
  {
   "cell_type": "code",
   "execution_count": 8,
   "metadata": {},
   "outputs": [
    {
     "name": "stdout",
     "output_type": "stream",
     "text": [
      "<class 'pandas.core.frame.DataFrame'>\n",
      "RangeIndex: 244126 entries, 0 to 244125\n",
      "Data columns (total 4 columns):\n",
      " #   Column           Non-Null Count   Dtype         \n",
      "---  ------           --------------   -----         \n",
      " 0   event_name       244126 non-null  object        \n",
      " 1   device_id_hash   244126 non-null  int64         \n",
      " 2   event_timestamp  244126 non-null  datetime64[ns]\n",
      " 3   exp_id           244126 non-null  int64         \n",
      "dtypes: datetime64[ns](1), int64(2), object(1)\n",
      "memory usage: 7.5+ MB\n"
     ]
    }
   ],
   "source": [
    "data.info()"
   ]
  },
  {
   "cell_type": "markdown",
   "metadata": {},
   "source": [
    "Проверим, есть ли в данных пропуски."
   ]
  },
  {
   "cell_type": "code",
   "execution_count": 9,
   "metadata": {},
   "outputs": [
    {
     "name": "stdout",
     "output_type": "stream",
     "text": [
      "Пропусков НЕТ\n"
     ]
    }
   ],
   "source": [
    "count = 0\n",
    "shape_0 = data.shape[0]\n",
    "for element in data.columns:\n",
    "    if data[element].isna().sum() > 0: \n",
    "        print(element, ' - ', data[element].isna().sum(), 'пропусков, ', round(\n",
    "            data[element].isna().sum() * 100 / shape_0,2), '% от числа строк.' )\n",
    "        count = +1\n",
    "if count == 0:\n",
    "        print('Пропусков НЕТ')"
   ]
  },
  {
   "cell_type": "markdown",
   "metadata": {},
   "source": [
    "Пропусков найдено не было."
   ]
  },
  {
   "cell_type": "markdown",
   "metadata": {},
   "source": [
    "Добавим столбец с датой."
   ]
  },
  {
   "cell_type": "code",
   "execution_count": 10,
   "metadata": {},
   "outputs": [],
   "source": [
    "data['date'] = data['event_timestamp'].dt.date\n",
    "data['date'] = data['event_timestamp'].astype('datetime64[D]')"
   ]
  },
  {
   "cell_type": "code",
   "execution_count": 11,
   "metadata": {},
   "outputs": [
    {
     "name": "stdout",
     "output_type": "stream",
     "text": [
      "<class 'pandas.core.frame.DataFrame'>\n",
      "RangeIndex: 244126 entries, 0 to 244125\n",
      "Data columns (total 5 columns):\n",
      " #   Column           Non-Null Count   Dtype         \n",
      "---  ------           --------------   -----         \n",
      " 0   event_name       244126 non-null  object        \n",
      " 1   device_id_hash   244126 non-null  int64         \n",
      " 2   event_timestamp  244126 non-null  datetime64[ns]\n",
      " 3   exp_id           244126 non-null  int64         \n",
      " 4   date             244126 non-null  datetime64[ns]\n",
      "dtypes: datetime64[ns](2), int64(2), object(1)\n",
      "memory usage: 9.3+ MB\n"
     ]
    }
   ],
   "source": [
    "data.info()"
   ]
  },
  {
   "cell_type": "code",
   "execution_count": 12,
   "metadata": {},
   "outputs": [
    {
     "data": {
      "text/plain": [
       "413"
      ]
     },
     "execution_count": 12,
     "metadata": {},
     "output_type": "execute_result"
    }
   ],
   "source": [
    "# проверим данные на дубликаты\n",
    "num_duplicates = data.duplicated().sum()\n",
    "num_duplicates"
   ]
  },
  {
   "cell_type": "code",
   "execution_count": 13,
   "metadata": {},
   "outputs": [
    {
     "name": "stdout",
     "output_type": "stream",
     "text": [
      "0.16917493425526162\n"
     ]
    }
   ],
   "source": [
    "# посмотрим, сколько это процентов из всего датафрейма\n",
    "total_rows = len(data)\n",
    "percentage_duplicates = (num_duplicates / total_rows) * 100\n",
    "print(percentage_duplicates)"
   ]
  },
  {
   "cell_type": "code",
   "execution_count": 14,
   "metadata": {},
   "outputs": [],
   "source": [
    "# В датафрейме почти 17% дубликатов, удалим их.\n",
    "\n",
    "data = data.drop_duplicates().reset_index(drop=True)"
   ]
  },
  {
   "cell_type": "markdown",
   "metadata": {},
   "source": [
    "###### Промежуточный вывод:\n",
    "\n",
    "В рамках предобработки был изменен тип данных, названия колонок, а также произведена проверка пропусков и дубликатов – пропусков не оказалось, дубликаты были удалены. Был также добавлен новый столбец с датой."
   ]
  },
  {
   "cell_type": "markdown",
   "metadata": {},
   "source": [
    "##### Изучим и проверим данные."
   ]
  },
  {
   "cell_type": "code",
   "execution_count": 15,
   "metadata": {},
   "outputs": [
    {
     "data": {
      "text/plain": [
       "243713"
      ]
     },
     "execution_count": 15,
     "metadata": {},
     "output_type": "execute_result"
    }
   ],
   "source": [
    "# Сколько всего событий в логе?\n",
    "\n",
    "data['event_timestamp'].count()"
   ]
  },
  {
   "cell_type": "markdown",
   "metadata": {},
   "source": [
    "Всего в логе 243713 событий."
   ]
  },
  {
   "cell_type": "code",
   "execution_count": 16,
   "metadata": {},
   "outputs": [
    {
     "data": {
      "text/plain": [
       "7551"
      ]
     },
     "execution_count": 16,
     "metadata": {},
     "output_type": "execute_result"
    }
   ],
   "source": [
    "# сколько всего пользователей в логе?\n",
    "\n",
    "data['device_id_hash'].nunique()"
   ]
  },
  {
   "cell_type": "markdown",
   "metadata": {},
   "source": [
    "Всего в логе 7551 уникальный пользователь."
   ]
  },
  {
   "cell_type": "code",
   "execution_count": 17,
   "metadata": {},
   "outputs": [
    {
     "data": {
      "text/plain": [
       "32.27559263673685"
      ]
     },
     "execution_count": 17,
     "metadata": {},
     "output_type": "execute_result"
    }
   ],
   "source": [
    "# Сколько в среднем событий приходится на пользователя?\n",
    "\n",
    "data.groupby('device_id_hash')['event_timestamp'].count().mean()"
   ]
  },
  {
   "cell_type": "markdown",
   "metadata": {},
   "source": [
    "В среднем  на пользователя приходится 32 события."
   ]
  },
  {
   "cell_type": "code",
   "execution_count": 18,
   "metadata": {},
   "outputs": [
    {
     "name": "stdout",
     "output_type": "stream",
     "text": [
      "Максимальная дата: 2019-08-07 21:15:17\n",
      "Минимальная дата: 2019-07-25 04:43:36\n"
     ]
    }
   ],
   "source": [
    "# Найдем максимальную и минимальную дату.\n",
    "\n",
    "max_date = data['event_timestamp'].max()\n",
    "min_date = data['event_timestamp'].min()\n",
    "\n",
    "print(\"Максимальная дата:\", max_date)\n",
    "print(\"Минимальная дата:\", min_date)"
   ]
  },
  {
   "cell_type": "markdown",
   "metadata": {},
   "source": [
    "На первый взгляд мы располагаем данными с 25 июля по 7 августа 2019 года."
   ]
  },
  {
   "cell_type": "code",
   "execution_count": 19,
   "metadata": {},
   "outputs": [
    {
     "data": {
      "image/png": "[encoded data removed]",
      "text/plain": [
       "<Figure size 1080x360 with 1 Axes>"
      ]
     },
     "metadata": {
      "needs_background": "light"
     },
     "output_type": "display_data"
    }
   ],
   "source": [
    "# Изучим распределение событий во времени\n",
    "plt.title('Распределение логов по дате и времени', loc='left')\n",
    "data['event_timestamp'].hist(bins=100, xrot=15,  figsize=(15, 5), alpha=0.6)\n",
    "plt.show()"
   ]
  },
  {
   "cell_type": "markdown",
   "metadata": {},
   "source": [
    "По графику видно, что нет логов в период с 25 июля до 31 июля. Из исследования видно, что мы располагаем данными с 1 по 7 августа."
   ]
  },
  {
   "cell_type": "code",
   "execution_count": 20,
   "metadata": {},
   "outputs": [
    {
     "name": "stdout",
     "output_type": "stream",
     "text": [
      "<class 'pandas.core.frame.DataFrame'>\n",
      "RangeIndex: 243713 entries, 0 to 243712\n",
      "Data columns (total 5 columns):\n",
      " #   Column           Non-Null Count   Dtype         \n",
      "---  ------           --------------   -----         \n",
      " 0   event_name       243713 non-null  object        \n",
      " 1   device_id_hash   243713 non-null  int64         \n",
      " 2   event_timestamp  243713 non-null  datetime64[ns]\n",
      " 3   exp_id           243713 non-null  int64         \n",
      " 4   date             243713 non-null  datetime64[ns]\n",
      "dtypes: datetime64[ns](2), int64(2), object(1)\n",
      "memory usage: 9.3+ MB\n"
     ]
    }
   ],
   "source": [
    "data.info()"
   ]
  },
  {
   "cell_type": "code",
   "execution_count": 21,
   "metadata": {},
   "outputs": [
    {
     "name": "stdout",
     "output_type": "stream",
     "text": [
      "Всего логов до удаления: 243713\n",
      "Всего пользователей до удаления: 7551\n",
      "Сколько логов потеряли: 2826\n",
      "Сколько пользователей потеряли: 17\n"
     ]
    }
   ],
   "source": [
    "# Отбросим старые данные и посчитаем, сколько событий и пользователей мы потеряли.\n",
    "all_before_del = data.shape[0]\n",
    "print('Всего логов до удаления:', all_before_del)\n",
    "users_before_del = data['device_id_hash'].nunique()\n",
    "print('Всего пользователей до удаления:', users_before_del)\n",
    "data = data[data['date'] >= '2019-08-01']\n",
    "after_del = data.shape[0]\n",
    "print('Сколько логов потеряли:', (all_before_del - after_del))\n",
    "users_after = data['device_id_hash'].nunique()\n",
    "print('Сколько пользователей потеряли:', (users_before_del - users_after))"
   ]
  },
  {
   "cell_type": "code",
   "execution_count": 22,
   "metadata": {},
   "outputs": [
    {
     "name": "stdout",
     "output_type": "stream",
     "text": [
      "Потери логов в %: 1.159560630741897\n",
      "Потери юзеров в %: 0.22513574361011784\n"
     ]
    }
   ],
   "source": [
    "# Пересчитаем потери в относительных показателях\n",
    "print('Потери логов в %:', ((all_before_del - after_del) / all_before_del) * 100)\n",
    "print('Потери юзеров в %:', ((users_before_del - users_after) / users_before_del) * 100)"
   ]
  },
  {
   "cell_type": "markdown",
   "metadata": {},
   "source": [
    "Потери не критичны."
   ]
  },
  {
   "cell_type": "code",
   "execution_count": 23,
   "metadata": {},
   "outputs": [
    {
     "data": {
      "text/plain": [
       "array([246, 247, 248])"
      ]
     },
     "execution_count": 23,
     "metadata": {},
     "output_type": "execute_result"
    }
   ],
   "source": [
    "# Проверим, есть ли у нас пользователи из трех экспериментальных групп.\n",
    "data['exp_id'].unique()"
   ]
  },
  {
   "cell_type": "code",
   "execution_count": 24,
   "metadata": {},
   "outputs": [
    {
     "data": {
      "text/html": [
       "<div>\n",
       "<style scoped>\n",
       "    .dataframe tbody tr th:only-of-type {\n",
       "        vertical-align: middle;\n",
       "    }\n",
       "\n",
       "    .dataframe tbody tr th {\n",
       "        vertical-align: top;\n",
       "    }\n",
       "\n",
       "    .dataframe thead th {\n",
       "        text-align: right;\n",
       "    }\n",
       "</style>\n",
       "<table border=\"1\" class=\"dataframe\">\n",
       "  <thead>\n",
       "    <tr style=\"text-align: right;\">\n",
       "      <th></th>\n",
       "      <th>device_id_hash</th>\n",
       "    </tr>\n",
       "    <tr>\n",
       "      <th>exp_id</th>\n",
       "      <th></th>\n",
       "    </tr>\n",
       "  </thead>\n",
       "  <tbody>\n",
       "    <tr>\n",
       "      <th>248</th>\n",
       "      <td>84563</td>\n",
       "    </tr>\n",
       "    <tr>\n",
       "      <th>246</th>\n",
       "      <td>79302</td>\n",
       "    </tr>\n",
       "    <tr>\n",
       "      <th>247</th>\n",
       "      <td>77022</td>\n",
       "    </tr>\n",
       "  </tbody>\n",
       "</table>\n",
       "</div>"
      ],
      "text/plain": [
       "        device_id_hash\n",
       "exp_id                \n",
       "248              84563\n",
       "246              79302\n",
       "247              77022"
      ]
     },
     "execution_count": 24,
     "metadata": {},
     "output_type": "execute_result"
    }
   ],
   "source": [
    "data.groupby('exp_id').agg({'device_id_hash': 'count'}).sort_values(by='device_id_hash', ascending=False)"
   ]
  },
  {
   "cell_type": "markdown",
   "metadata": {},
   "source": [
    "В датафрейме присутствуют пользователи из трех экспериментальных групп."
   ]
  },
  {
   "cell_type": "markdown",
   "metadata": {},
   "source": [
    "###### Промежуточные выводы:\n",
    "\n",
    "Всего в логе 243713 событий, 7551 уникальный пользователь. В среднем на пользователя приходится 32 события.\n",
    "\n",
    "Исследование показало, что мы располагаем данными с 1 по 7 августа 2019 года.\n"
   ]
  },
  {
   "cell_type": "markdown",
   "metadata": {},
   "source": [
    "##### Изучим воронку событий"
   ]
  },
  {
   "cell_type": "code",
   "execution_count": 25,
   "metadata": {},
   "outputs": [
    {
     "data": {
      "text/html": [
       "<div>\n",
       "<style scoped>\n",
       "    .dataframe tbody tr th:only-of-type {\n",
       "        vertical-align: middle;\n",
       "    }\n",
       "\n",
       "    .dataframe tbody tr th {\n",
       "        vertical-align: top;\n",
       "    }\n",
       "\n",
       "    .dataframe thead th {\n",
       "        text-align: right;\n",
       "    }\n",
       "</style>\n",
       "<table border=\"1\" class=\"dataframe\">\n",
       "  <thead>\n",
       "    <tr style=\"text-align: right;\">\n",
       "      <th></th>\n",
       "      <th>device_id_hash</th>\n",
       "    </tr>\n",
       "    <tr>\n",
       "      <th>event_name</th>\n",
       "      <th></th>\n",
       "    </tr>\n",
       "  </thead>\n",
       "  <tbody>\n",
       "    <tr>\n",
       "      <th>MainScreenAppear</th>\n",
       "      <td>117328</td>\n",
       "    </tr>\n",
       "    <tr>\n",
       "      <th>OffersScreenAppear</th>\n",
       "      <td>46333</td>\n",
       "    </tr>\n",
       "    <tr>\n",
       "      <th>CartScreenAppear</th>\n",
       "      <td>42303</td>\n",
       "    </tr>\n",
       "    <tr>\n",
       "      <th>PaymentScreenSuccessful</th>\n",
       "      <td>33918</td>\n",
       "    </tr>\n",
       "    <tr>\n",
       "      <th>Tutorial</th>\n",
       "      <td>1005</td>\n",
       "    </tr>\n",
       "  </tbody>\n",
       "</table>\n",
       "</div>"
      ],
      "text/plain": [
       "                         device_id_hash\n",
       "event_name                             \n",
       "MainScreenAppear                 117328\n",
       "OffersScreenAppear                46333\n",
       "CartScreenAppear                  42303\n",
       "PaymentScreenSuccessful           33918\n",
       "Tutorial                           1005"
      ]
     },
     "execution_count": 25,
     "metadata": {},
     "output_type": "execute_result"
    }
   ],
   "source": [
    "# Посмотрим, какие события есть в логах, как часто они встречаются. Отсортируем события по частоте.\n",
    "data.groupby('event_name').agg({'device_id_hash': 'count'}).sort_values(by='device_id_hash', ascending=False)"
   ]
  },
  {
   "cell_type": "markdown",
   "metadata": {},
   "source": [
    "Всего в датафрейме 5 уникальных событий: переход на основную страницу, предложения, тележка, успешная оплата, обучение. Наиболее часто встречающееся событие - это переход на главную страницу, меньше всего пользователи ходят на страницу с обучающим контентом."
   ]
  },
  {
   "cell_type": "code",
   "execution_count": 26,
   "metadata": {},
   "outputs": [
    {
     "data": {
      "text/html": [
       "<div>\n",
       "<style scoped>\n",
       "    .dataframe tbody tr th:only-of-type {\n",
       "        vertical-align: middle;\n",
       "    }\n",
       "\n",
       "    .dataframe tbody tr th {\n",
       "        vertical-align: top;\n",
       "    }\n",
       "\n",
       "    .dataframe thead th {\n",
       "        text-align: right;\n",
       "    }\n",
       "</style>\n",
       "<table border=\"1\" class=\"dataframe\">\n",
       "  <thead>\n",
       "    <tr style=\"text-align: right;\">\n",
       "      <th></th>\n",
       "      <th>event_name</th>\n",
       "      <th>num_users</th>\n",
       "      <th>rate</th>\n",
       "    </tr>\n",
       "  </thead>\n",
       "  <tbody>\n",
       "    <tr>\n",
       "      <th>1</th>\n",
       "      <td>MainScreenAppear</td>\n",
       "      <td>7419</td>\n",
       "      <td>98.473586</td>\n",
       "    </tr>\n",
       "    <tr>\n",
       "      <th>2</th>\n",
       "      <td>OffersScreenAppear</td>\n",
       "      <td>4593</td>\n",
       "      <td>60.963632</td>\n",
       "    </tr>\n",
       "    <tr>\n",
       "      <th>0</th>\n",
       "      <td>CartScreenAppear</td>\n",
       "      <td>3734</td>\n",
       "      <td>49.561986</td>\n",
       "    </tr>\n",
       "    <tr>\n",
       "      <th>3</th>\n",
       "      <td>PaymentScreenSuccessful</td>\n",
       "      <td>3539</td>\n",
       "      <td>46.973719</td>\n",
       "    </tr>\n",
       "    <tr>\n",
       "      <th>4</th>\n",
       "      <td>Tutorial</td>\n",
       "      <td>840</td>\n",
       "      <td>11.149456</td>\n",
       "    </tr>\n",
       "  </tbody>\n",
       "</table>\n",
       "</div>"
      ],
      "text/plain": [
       "                event_name  num_users       rate\n",
       "1         MainScreenAppear       7419  98.473586\n",
       "2       OffersScreenAppear       4593  60.963632\n",
       "0         CartScreenAppear       3734  49.561986\n",
       "3  PaymentScreenSuccessful       3539  46.973719\n",
       "4                 Tutorial        840  11.149456"
      ]
     },
     "execution_count": 26,
     "metadata": {},
     "output_type": "execute_result"
    }
   ],
   "source": [
    "# Посчитаем, сколько пользователей совершали каждое из этих событий. Отсортируем события по числу пользователей.Посчтаем долю пользователей, которые хоть раз совершали событие.\n",
    "events_by_users = data.groupby('event_name')['device_id_hash'].nunique().reset_index(name='num_users')\n",
    "\n",
    "events_by_users = events_by_users.sort_values(by='num_users', ascending=False)\n",
    "events_by_users['rate'] = events_by_users['num_users'] / data['device_id_hash'].nunique() * 100\n",
    "events_by_users"
   ]
  },
  {
   "cell_type": "markdown",
   "metadata": {},
   "source": [
    "Больше всего пользователей (почти все) заходили на основную страницу, меньше всего (11%) - пользовались обучающими материалами.46% конвертировались в платящих."
   ]
  },
  {
   "cell_type": "markdown",
   "metadata": {},
   "source": [
    "Можно предположить, что все события происходят последовательно, кроме шага с обучением. Возможно интерфейс и так понятен и пользователи не хотят тратить время на дополнительное обучение. Можно удалить этот шаг на этом этапе.\n"
   ]
  },
  {
   "cell_type": "code",
   "execution_count": 27,
   "metadata": {},
   "outputs": [],
   "source": [
    "events_by_users['event_name'] = events_by_users[events_by_users['event_name'] != 'Tutorial']"
   ]
  },
  {
   "cell_type": "code",
   "execution_count": 28,
   "metadata": {},
   "outputs": [
    {
     "name": "stdout",
     "output_type": "stream",
     "text": [
      "Ознакомились с предложениями в % от предыдущего шага: (61.9%)\n",
      "Положили товар в козину в % от предыдущего шага: (81.3%)\n",
      "Произвели оплату в % от предыдущего шага: (94.8%)\n"
     ]
    }
   ],
   "source": [
    "# По воронке событий посчитаем, какая доля пользователей проходит на следующий шаг воронки. \n",
    "\n",
    "users = data.pivot_table(\n",
    "    index='device_id_hash', \n",
    "    columns='event_name', \n",
    "    values='event_timestamp',\n",
    "    aggfunc='min')\n",
    "\n",
    "\n",
    "print('Ознакомились с предложениями в % от предыдущего шага:', \n",
    "      '({:.1%})'.format(users['OffersScreenAppear'].count() / users['MainScreenAppear'].count() ))\n",
    "print('Положили товар в козину в % от предыдущего шага:', \n",
    "      '({:.1%})'.format(users['CartScreenAppear'].count() / users['OffersScreenAppear'].count()))\n",
    "print('Произвели оплату в % от предыдущего шага:',\n",
    "      '({:.1%})'.format(users['PaymentScreenSuccessful'].count() / users['CartScreenAppear'].count()))"
   ]
  },
  {
   "cell_type": "markdown",
   "metadata": {},
   "source": [
    "Больше всего пользователей отваливаются на втором шаге. Возможно они понимают, что не будут сейчас делать покупок и поэтому уходят из приложения."
   ]
  },
  {
   "cell_type": "code",
   "execution_count": 29,
   "metadata": {},
   "outputs": [
    {
     "name": "stdout",
     "output_type": "stream",
     "text": [
      "Произвели оплату в % от первого шага: (47.7%)\n"
     ]
    }
   ],
   "source": [
    "print('Произвели оплату в % от первого шага:',\n",
    "      '({:.1%})'.format(users['PaymentScreenSuccessful'].count() / users['MainScreenAppear'].count()))"
   ]
  },
  {
   "cell_type": "code",
   "execution_count": 30,
   "metadata": {},
   "outputs": [],
   "source": [
    "events_by_users = events_by_users[events_by_users['event_name'] != 'Tutorial']\n",
    "events_by_users['total_users'] = data.pivot_table"
   ]
  },
  {
   "cell_type": "code",
   "execution_count": 31,
   "metadata": {},
   "outputs": [
    {
     "data": {
      "image/png": "[encoded data removed]",
      "text/plain": [
       "<Figure size 576x432 with 1 Axes>"
      ]
     },
     "metadata": {
      "needs_background": "light"
     },
     "output_type": "display_data"
    }
   ],
   "source": [
    "nan_mask = events_by_users['event_name'].apply(lambda x: isinstance(x, str) and x.lower() == 'nan')\n",
    "\n",
    "events_by_users['event_name'] = events_by_users['event_name'].replace('nan', np.nan)\n",
    "\n",
    "events_by_users = events_by_users.dropna(subset=['event_name'])\n",
    "\n",
    "plt.figure(figsize=(8, 6))\n",
    "plt.barh(events_by_users['event_name'], events_by_users['num_users'], color='skyblue', alpha=0.6)\n",
    "\n",
    "for i, num_users in enumerate(events_by_users['num_users']):\n",
    "    plt.text(num_users / 2, i, f'{num_users} ({num_users / events_by_users[\"num_users\"].sum() * 100:.1f}%)',\n",
    "             ha='center', va='center', color='black')\n",
    "\n",
    "plt.title('Воронка событий')\n",
    "plt.xlabel('Количество пользователей')\n",
    "plt.ylabel('Событие')\n",
    "plt.show()"
   ]
  },
  {
   "cell_type": "markdown",
   "metadata": {},
   "source": [
    "47% пользователей доходят от первого шага воронки до оплаты."
   ]
  },
  {
   "cell_type": "markdown",
   "metadata": {},
   "source": [
    "##### Промежуточные выводы:\n",
    "\n",
    "Всего в датафрейме 5 уникальных событий: переход на основную страницу, предложения, тележка, успешная оплата, обучение. Наиболее часто встречающееся событие - это переход на главную страницу, меньше всего пользователи ходят на страницу с обучающим контентом.\n",
    "\n",
    "Больше всего пользователей (почти все) заходили на основную страницу, меньше всего (11%) - пользовались обучающими материалами.46% конвертировались в платящих.\n",
    "\n",
    "Больше всего пользователей не доходят до второго шага – переход на страницу с предложениями. 47% пользователей доходят от первого шага воронки до оплаты.\n"
   ]
  },
  {
   "cell_type": "markdown",
   "metadata": {},
   "source": [
    "##### Изучим результаты эксперимента."
   ]
  },
  {
   "cell_type": "code",
   "execution_count": 32,
   "metadata": {},
   "outputs": [
    {
     "data": {
      "text/html": [
       "<div>\n",
       "<style scoped>\n",
       "    .dataframe tbody tr th:only-of-type {\n",
       "        vertical-align: middle;\n",
       "    }\n",
       "\n",
       "    .dataframe tbody tr th {\n",
       "        vertical-align: top;\n",
       "    }\n",
       "\n",
       "    .dataframe thead th {\n",
       "        text-align: right;\n",
       "    }\n",
       "</style>\n",
       "<table border=\"1\" class=\"dataframe\">\n",
       "  <thead>\n",
       "    <tr style=\"text-align: right;\">\n",
       "      <th></th>\n",
       "      <th>exp_id</th>\n",
       "      <th>num_users</th>\n",
       "    </tr>\n",
       "  </thead>\n",
       "  <tbody>\n",
       "    <tr>\n",
       "      <th>0</th>\n",
       "      <td>246</td>\n",
       "      <td>2484</td>\n",
       "    </tr>\n",
       "    <tr>\n",
       "      <th>1</th>\n",
       "      <td>247</td>\n",
       "      <td>2513</td>\n",
       "    </tr>\n",
       "    <tr>\n",
       "      <th>2</th>\n",
       "      <td>248</td>\n",
       "      <td>2537</td>\n",
       "    </tr>\n",
       "  </tbody>\n",
       "</table>\n",
       "</div>"
      ],
      "text/plain": [
       "   exp_id  num_users\n",
       "0     246       2484\n",
       "1     247       2513\n",
       "2     248       2537"
      ]
     },
     "execution_count": 32,
     "metadata": {},
     "output_type": "execute_result"
    }
   ],
   "source": [
    "# Сколько пользователей в каждой экспериментальной группе.\n",
    "users_by_group = data.groupby('exp_id')['device_id_hash'].nunique().reset_index(name='num_users')\n",
    "users_by_group"
   ]
  },
  {
   "cell_type": "markdown",
   "metadata": {},
   "source": [
    "В контрольной группе пользователей в 2 раза больше, чем в экспериментальной."
   ]
  },
  {
   "cell_type": "code",
   "execution_count": 33,
   "metadata": {},
   "outputs": [
    {
     "name": "stdout",
     "output_type": "stream",
     "text": [
      "Каждый user id принадлежит только одной группе\n"
     ]
    }
   ],
   "source": [
    "total_unique_users = data['device_id_hash'].nunique()\n",
    "\n",
    "if total_unique_users == users_by_group['num_users'].sum():\n",
    "    print(\"Каждый user id принадлежит только одной группе\")\n",
    "else:\n",
    "    print(\"В датафрейме есть юзеры, принадлежащие к нескольким группам\")"
   ]
  },
  {
   "cell_type": "code",
   "execution_count": 34,
   "metadata": {},
   "outputs": [
    {
     "data": {
      "text/html": [
       "<div>\n",
       "<style scoped>\n",
       "    .dataframe tbody tr th:only-of-type {\n",
       "        vertical-align: middle;\n",
       "    }\n",
       "\n",
       "    .dataframe tbody tr th {\n",
       "        vertical-align: top;\n",
       "    }\n",
       "\n",
       "    .dataframe thead th {\n",
       "        text-align: right;\n",
       "    }\n",
       "</style>\n",
       "<table border=\"1\" class=\"dataframe\">\n",
       "  <thead>\n",
       "    <tr style=\"text-align: right;\">\n",
       "      <th></th>\n",
       "      <th>exp_id</th>\n",
       "    </tr>\n",
       "    <tr>\n",
       "      <th>device_id_hash</th>\n",
       "      <th></th>\n",
       "    </tr>\n",
       "  </thead>\n",
       "  <tbody>\n",
       "  </tbody>\n",
       "</table>\n",
       "</div>"
      ],
      "text/plain": [
       "Empty DataFrame\n",
       "Columns: [exp_id]\n",
       "Index: []"
      ]
     },
     "execution_count": 34,
     "metadata": {},
     "output_type": "execute_result"
    }
   ],
   "source": [
    "# Проверим пользователей, которые могли участвовать в двух или нескольких группах одновременно:\n",
    "data.groupby('device_id_hash').agg({'exp_id':'nunique'}).query('exp_id > 1') "
   ]
  },
  {
   "cell_type": "markdown",
   "metadata": {},
   "source": [
    "Предыдущие исследования показали, что самое популярное событие - переход на главную страницу 'MainScreenAppear'."
   ]
  },
  {
   "cell_type": "code",
   "execution_count": 35,
   "metadata": {},
   "outputs": [
    {
     "data": {
      "text/plain": [
       "exp_id\n",
       "246    2450\n",
       "247    2476\n",
       "Name: device_id_hash, dtype: int64"
      ]
     },
     "execution_count": 35,
     "metadata": {},
     "output_type": "execute_result"
    }
   ],
   "source": [
    "# Посчитаем число пользователей, совершивших это событие в каждой из контрольных групп\n",
    "filtered_data = data[(data['event_name'] == 'MainScreenAppear') & ((data['exp_id'] == 246) | (data['exp_id'] == 247))]\n",
    "user_counts = filtered_data.groupby('exp_id')['device_id_hash'].nunique()\n",
    "user_counts"
   ]
  },
  {
   "cell_type": "markdown",
   "metadata": {},
   "source": [
    "Количество людей в каждой из групп, совершивших это событие, практически одинаково, в 247й чуть больше."
   ]
  },
  {
   "cell_type": "code",
   "execution_count": 36,
   "metadata": {},
   "outputs": [
    {
     "name": "stdout",
     "output_type": "stream",
     "text": [
      "Доля пользователей из группы 246, совершивших заход на основную страницу: 98.63123993558777\n",
      "Доля пользователей из группы 247, совершивших заход на основную страницу: 98.52765618782333\n"
     ]
    }
   ],
   "source": [
    "# Подсчитаем долю пользователей в контрольных группах, которые совершили это событие\n",
    "\n",
    "total_users_246 = data[data['exp_id'] == 246]['device_id_hash'].nunique()\n",
    "total_users_247 = data[data['exp_id'] == 247]['device_id_hash'].nunique()\n",
    "\n",
    "percentage_246 = (filtered_data[filtered_data['exp_id'] == 246]['device_id_hash'].nunique() / total_users_246) * 100\n",
    "percentage_247 = (filtered_data[filtered_data['exp_id'] == 247]['device_id_hash'].nunique() / total_users_247) * 100\n",
    "\n",
    "print('Доля пользователей из группы 246, совершивших заход на основную страницу:', percentage_246)\n",
    "print('Доля пользователей из группы 247, совершивших заход на основную страницу:', percentage_247)"
   ]
  },
  {
   "cell_type": "markdown",
   "metadata": {},
   "source": [
    "Проверим, будет ли отличие между группами статистически достоверным.\n",
    "\n",
    "Н0 - Доли посетителей, побывавших на основной странице, одинаковы.\n",
    "\n",
    "Н1 - Доли посетителей, побывавших на основной странице, разные."
   ]
  },
  {
   "cell_type": "markdown",
   "metadata": {},
   "source": [
    "Попробуем сделать A/A тест через z-test, используя поправку Бонферрони для корректировки уровня значимости."
   ]
  },
  {
   "cell_type": "code",
   "execution_count": 37,
   "metadata": {},
   "outputs": [],
   "source": [
    "def z_test(group_1, group_2, event_name, alpha, n):\n",
    "\n",
    "    bonferroni_alpha = alpha / n\n",
    " \n",
    "    n_users = np.array([group_1['device_id_hash'].nunique(), \n",
    "                        group_2['device_id_hash'].nunique()])\n",
    "\n",
    "    success = np.array([group_1[group_1['event_name'] == event_name]['device_id_hash'].nunique(), \n",
    "                        group_2[group_2['event_name'] == event_name]['device_id_hash'].nunique()])\n",
    "\n",
    "    p1 = success[0]/n_users[0]\n",
    "    p2 = success[1]/n_users[1]\n",
    "    \n",
    "    p_combined = (success[0] + success[1]) / (n_users[0] + n_users[1])\n",
    "\n",
    "    difference = p1 - p2 \n",
    "\n",
    "    z_value = difference /  np.sqrt(p_combined * (1 - p_combined) * (1/n_users[0] + 1/n_users[1]))\n",
    "\n",
    "    distr = st.norm(0, 1)  \n",
    "\n",
    "    p_value = (1 - distr.cdf(abs(z_value))) * 2  \n",
    "    \n",
    "    print('Событие:', event_name)\n",
    "    print('p-значение: ', p_value)\n",
    "\n",
    "    if p_value < bonferroni_alpha:\n",
    "        print('Отвергаем нулевую гипотезу: между долями есть разница')\n",
    "    else:\n",
    "        print(\n",
    "        'Не получилось отвергнуть нулевую гипотезу, нет оснований считать доли разными')"
   ]
  },
  {
   "cell_type": "code",
   "execution_count": 38,
   "metadata": {},
   "outputs": [
    {
     "name": "stdout",
     "output_type": "stream",
     "text": [
      "Событие: MainScreenAppear\n",
      "p-значение:  0.7570597232046099\n",
      "Не получилось отвергнуть нулевую гипотезу, нет оснований считать доли разными\n",
      "\n",
      "Событие: OffersScreenAppear\n",
      "p-значение:  0.2480954578522181\n",
      "Не получилось отвергнуть нулевую гипотезу, нет оснований считать доли разными\n",
      "\n",
      "Событие: CartScreenAppear\n",
      "p-значение:  0.22883372237997213\n",
      "Не получилось отвергнуть нулевую гипотезу, нет оснований считать доли разными\n",
      "\n",
      "Событие: PaymentScreenSuccessful\n",
      "p-значение:  0.11456679313141849\n",
      "Не получилось отвергнуть нулевую гипотезу, нет оснований считать доли разными\n",
      "\n"
     ]
    }
   ],
   "source": [
    "# проверим, есть ли статистически значимая разница между контрольными группами 246 и 247:\n",
    "for event_name in events_by_users['event_name'].unique():\n",
    "    z_test(data[data['exp_id'] == 246], data[data['exp_id'] == 247], event_name,.05, 16)\n",
    "    \n",
    "    print()"
   ]
  },
  {
   "cell_type": "markdown",
   "metadata": {},
   "source": [
    "Поскольку нет оснований считать доли контрольных групп разными, проведем A/B тест."
   ]
  },
  {
   "cell_type": "code",
   "execution_count": 39,
   "metadata": {},
   "outputs": [
    {
     "name": "stdout",
     "output_type": "stream",
     "text": [
      "Событие: MainScreenAppear\n",
      "p-значение:  0.2949721933554552\n",
      "Не получилось отвергнуть нулевую гипотезу, нет оснований считать доли разными\n",
      "\n",
      "Событие: OffersScreenAppear\n",
      "p-значение:  0.20836205402738917\n",
      "Не получилось отвергнуть нулевую гипотезу, нет оснований считать доли разными\n",
      "\n",
      "Событие: CartScreenAppear\n",
      "p-значение:  0.07842923237520116\n",
      "Не получилось отвергнуть нулевую гипотезу, нет оснований считать доли разными\n",
      "\n",
      "Событие: PaymentScreenSuccessful\n",
      "p-значение:  0.2122553275697796\n",
      "Не получилось отвергнуть нулевую гипотезу, нет оснований считать доли разными\n",
      "\n"
     ]
    }
   ],
   "source": [
    "# проверим, есть ли статистически значимая разница между контрольной группой 246 и экспериментальной 248:\n",
    "for event_name in events_by_users['event_name'].unique():\n",
    "    z_test(data[data['exp_id'] == 246], data[data['exp_id'] == 248], event_name,.05, 16)\n",
    "    print()"
   ]
  },
  {
   "cell_type": "markdown",
   "metadata": {},
   "source": [
    "Так же нет оснований считать доли исследуемых групп разными."
   ]
  },
  {
   "cell_type": "code",
   "execution_count": 40,
   "metadata": {},
   "outputs": [
    {
     "name": "stdout",
     "output_type": "stream",
     "text": [
      "Событие: MainScreenAppear\n",
      "p-значение:  0.4587053616621515\n",
      "Не получилось отвергнуть нулевую гипотезу, нет оснований считать доли разными\n",
      "\n",
      "Событие: OffersScreenAppear\n",
      "p-значение:  0.9197817830592261\n",
      "Не получилось отвергнуть нулевую гипотезу, нет оснований считать доли разными\n",
      "\n",
      "Событие: CartScreenAppear\n",
      "p-значение:  0.5786197879539783\n",
      "Не получилось отвергнуть нулевую гипотезу, нет оснований считать доли разными\n",
      "\n",
      "Событие: PaymentScreenSuccessful\n",
      "p-значение:  0.7373415053803964\n",
      "Не получилось отвергнуть нулевую гипотезу, нет оснований считать доли разными\n",
      "\n"
     ]
    }
   ],
   "source": [
    "# проверим, есть ли статистически значимая разница между контрольной группой 247 и экспериментальной 248:\n",
    "for event_name in events_by_users['event_name'].unique():\n",
    "    z_test(data[data['exp_id'] == 247], data[data['exp_id'] == 248], event_name,.05, 16)\n",
    "    print()"
   ]
  },
  {
   "cell_type": "markdown",
   "metadata": {},
   "source": [
    "Результат аналогичный."
   ]
  },
  {
   "cell_type": "code",
   "execution_count": 41,
   "metadata": {},
   "outputs": [
    {
     "name": "stdout",
     "output_type": "stream",
     "text": [
      "Событие: MainScreenAppear\n",
      "p-значение:  0.29424526837179577\n",
      "Не получилось отвергнуть нулевую гипотезу, нет оснований считать доли разными\n",
      "\n",
      "Событие: OffersScreenAppear\n",
      "p-значение:  0.43425549655188256\n",
      "Не получилось отвергнуть нулевую гипотезу, нет оснований считать доли разными\n",
      "\n",
      "Событие: CartScreenAppear\n",
      "p-значение:  0.18175875284404386\n",
      "Не получилось отвергнуть нулевую гипотезу, нет оснований считать доли разными\n",
      "\n",
      "Событие: PaymentScreenSuccessful\n",
      "p-значение:  0.6004294282308704\n",
      "Не получилось отвергнуть нулевую гипотезу, нет оснований считать доли разными\n",
      "\n"
     ]
    }
   ],
   "source": [
    "# проверим есть ли статистически значимая разница между контрольными и экпериментальной группами:\n",
    "for event_name in events_by_users['event_name'].unique():\n",
    "    z_test(data[data['exp_id'] != 248], data[data['exp_id'] == 248], event_name,.05, 16)\n",
    "    print()"
   ]
  },
  {
   "cell_type": "markdown",
   "metadata": {},
   "source": [
    "Результаты тестов показали, что изменение шрифтов во всём приложении на поведение пользователей не повлияло."
   ]
  },
  {
   "cell_type": "markdown",
   "metadata": {},
   "source": [
    "#### Выводы\n",
    "<ul>\n",
    "<li>В рамках работы были изучены данные мобильного приложения, проведена предобработка, а затем проведено исследование.</li>\n",
    "<li>В рамках исследования поведения пользователей мобильного приложения была изучена воронка продаж, как пользователи доходят до покупки, на каких шагах они застревают, а также исследованы результаты A/A/B-эксперимента.</li>\n",
    "<li>В рамках предобработки был изменен тип данных, названия колонок, а также произведена проверка пропусков – их не оказалось. Было найдено около 17% дубликатов, которые были удалены. Был также добавлен новый столбец с датой.</li>\n",
    "<li>Всего в логе 243713 событий, 7551 уникальный пользователь. В среднем на пользователя приходится 32 события.</li>\n",
    "<li>Исследование показало, что мы располагаем данными с 1 по 7 августа 2019 года.</li>\n",
    "<li>Всего в датафрейме 5 уникальных событий: переход на основную страницу, предложения, тележка, успешная оплата, обучение. Наиболее часто встречающееся событие - это переход на главную страницу, меньше всего пользователи ходят на страницу с обучающим контентом.</li>\n",
    "<li>Больше всего пользователей (почти все) заходили на основную страницу, меньше всего (11%) - пользовались обучающими материалами.46% конвертировались в платящих.</li>\n",
    "<li>Больше всего пользователей не доходят до второго шага – переход на страницу с предложениями. 47% пользователей доходят от первого шага воронки до оплаты.</li>\n",
    "<li>В контрольной группе пользователей в 2 раза больше, чем в экспериментальной.</li>\n",
    "<li>Количество людей в каждой из групп, совершивших самое популярное событие – переход на главную страницу, практически одинаково, в 247-й чуть больше.</li>\n",
    "<li>Изменение шрифтов во всём приложении на поведение пользователей не повлияло.</li>\n",
    "</ul>"
   ]
  }
 ],
 "metadata": {
  "ExecuteTimeLog": [
   {
    "duration": 373,
    "start_time": "2024-01-15T08:12:35.875Z"
   },
   {
    "duration": 643,
    "start_time": "2024-01-15T09:00:27.141Z"
   },
   {
    "duration": 12,
    "start_time": "2024-01-15T09:00:37.546Z"
   },
   {
    "duration": 601,
    "start_time": "2024-01-15T09:00:53.645Z"
   },
   {
    "duration": 183,
    "start_time": "2024-01-15T09:03:30.085Z"
   },
   {
    "duration": 8,
    "start_time": "2024-01-15T09:03:36.691Z"
   },
   {
    "duration": 49,
    "start_time": "2024-01-15T09:04:03.198Z"
   },
   {
    "duration": 22,
    "start_time": "2024-01-15T09:04:19.998Z"
   },
   {
    "duration": 4,
    "start_time": "2024-01-15T09:12:32.853Z"
   },
   {
    "duration": 8,
    "start_time": "2024-01-15T09:12:43.276Z"
   },
   {
    "duration": 16,
    "start_time": "2024-01-15T09:15:18.982Z"
   },
   {
    "duration": 9,
    "start_time": "2024-01-15T11:09:21.752Z"
   },
   {
    "duration": 24,
    "start_time": "2024-01-15T11:09:31.761Z"
   },
   {
    "duration": 9,
    "start_time": "2024-01-15T11:10:15.810Z"
   },
   {
    "duration": 10,
    "start_time": "2024-01-15T11:12:39.733Z"
   },
   {
    "duration": 69,
    "start_time": "2024-01-15T11:12:46.784Z"
   },
   {
    "duration": 9,
    "start_time": "2024-01-15T11:12:49.473Z"
   },
   {
    "duration": 5,
    "start_time": "2024-01-15T11:18:48.536Z"
   },
   {
    "duration": 9,
    "start_time": "2024-01-15T11:23:15.489Z"
   },
   {
    "duration": 12,
    "start_time": "2024-01-15T11:24:28.007Z"
   },
   {
    "duration": 12,
    "start_time": "2024-01-15T11:28:00.089Z"
   },
   {
    "duration": 6,
    "start_time": "2024-01-15T11:33:05.183Z"
   },
   {
    "duration": 437,
    "start_time": "2024-01-15T11:45:33.626Z"
   },
   {
    "duration": 514,
    "start_time": "2024-01-15T11:45:34.065Z"
   },
   {
    "duration": 13,
    "start_time": "2024-01-15T11:45:34.580Z"
   },
   {
    "duration": 15,
    "start_time": "2024-01-15T11:45:34.594Z"
   },
   {
    "duration": 29,
    "start_time": "2024-01-15T11:45:34.611Z"
   },
   {
    "duration": 36,
    "start_time": "2024-01-15T11:45:34.641Z"
   },
   {
    "duration": 12,
    "start_time": "2024-01-15T11:45:34.679Z"
   },
   {
    "duration": 21,
    "start_time": "2024-01-15T11:45:34.693Z"
   },
   {
    "duration": 36,
    "start_time": "2024-01-15T11:45:34.716Z"
   },
   {
    "duration": 92,
    "start_time": "2024-01-15T11:45:34.754Z"
   },
   {
    "duration": 12,
    "start_time": "2024-01-15T11:45:34.848Z"
   },
   {
    "duration": 18,
    "start_time": "2024-01-15T11:45:34.862Z"
   },
   {
    "duration": 34,
    "start_time": "2024-01-15T11:45:34.883Z"
   },
   {
    "duration": 34,
    "start_time": "2024-01-15T11:45:34.920Z"
   },
   {
    "duration": 28,
    "start_time": "2024-01-15T11:45:34.956Z"
   },
   {
    "duration": 48,
    "start_time": "2024-01-15T11:54:14.873Z"
   },
   {
    "duration": 375,
    "start_time": "2024-01-15T11:54:56.985Z"
   },
   {
    "duration": 521,
    "start_time": "2024-01-15T11:54:57.362Z"
   },
   {
    "duration": 14,
    "start_time": "2024-01-15T11:54:57.884Z"
   },
   {
    "duration": 6,
    "start_time": "2024-01-15T11:54:57.899Z"
   },
   {
    "duration": 15,
    "start_time": "2024-01-15T11:54:57.907Z"
   },
   {
    "duration": 38,
    "start_time": "2024-01-15T11:54:57.924Z"
   },
   {
    "duration": 13,
    "start_time": "2024-01-15T11:54:57.963Z"
   },
   {
    "duration": 20,
    "start_time": "2024-01-15T11:54:57.978Z"
   },
   {
    "duration": 17,
    "start_time": "2024-01-15T11:54:58.000Z"
   },
   {
    "duration": 99,
    "start_time": "2024-01-15T11:54:58.019Z"
   },
   {
    "duration": 11,
    "start_time": "2024-01-15T11:54:58.120Z"
   },
   {
    "duration": 5,
    "start_time": "2024-01-15T11:54:58.141Z"
   },
   {
    "duration": 25,
    "start_time": "2024-01-15T11:54:58.148Z"
   },
   {
    "duration": 14,
    "start_time": "2024-01-15T11:54:58.176Z"
   },
   {
    "duration": 7,
    "start_time": "2024-01-15T11:54:58.191Z"
   },
   {
    "duration": 81,
    "start_time": "2024-01-15T11:54:58.199Z"
   },
   {
    "duration": 0,
    "start_time": "2024-01-15T11:54:58.281Z"
   },
   {
    "duration": 57,
    "start_time": "2024-01-15T11:55:07.108Z"
   },
   {
    "duration": 37,
    "start_time": "2024-01-15T11:55:28.580Z"
   },
   {
    "duration": 443,
    "start_time": "2024-01-15T11:56:17.632Z"
   },
   {
    "duration": 2,
    "start_time": "2024-01-15T11:56:55.953Z"
   },
   {
    "duration": 642,
    "start_time": "2024-01-15T11:57:02.924Z"
   },
   {
    "duration": 175,
    "start_time": "2024-01-15T11:57:03.567Z"
   },
   {
    "duration": 11,
    "start_time": "2024-01-15T11:57:03.744Z"
   },
   {
    "duration": 4,
    "start_time": "2024-01-15T11:57:03.757Z"
   },
   {
    "duration": 8,
    "start_time": "2024-01-15T11:57:03.763Z"
   },
   {
    "duration": 25,
    "start_time": "2024-01-15T11:57:03.772Z"
   },
   {
    "duration": 45,
    "start_time": "2024-01-15T11:57:03.799Z"
   },
   {
    "duration": 28,
    "start_time": "2024-01-15T11:57:03.846Z"
   },
   {
    "duration": 19,
    "start_time": "2024-01-15T11:57:03.876Z"
   },
   {
    "duration": 96,
    "start_time": "2024-01-15T11:57:03.896Z"
   },
   {
    "duration": 9,
    "start_time": "2024-01-15T11:57:03.993Z"
   },
   {
    "duration": 21,
    "start_time": "2024-01-15T11:57:04.003Z"
   },
   {
    "duration": 34,
    "start_time": "2024-01-15T11:57:04.026Z"
   },
   {
    "duration": 11,
    "start_time": "2024-01-15T11:57:04.062Z"
   },
   {
    "duration": 8,
    "start_time": "2024-01-15T11:57:04.074Z"
   },
   {
    "duration": 199,
    "start_time": "2024-01-15T11:57:04.083Z"
   },
   {
    "duration": 198,
    "start_time": "2024-01-15T11:57:04.284Z"
   },
   {
    "duration": 822,
    "start_time": "2024-01-16T07:20:13.394Z"
   },
   {
    "duration": 549,
    "start_time": "2024-01-16T07:20:14.219Z"
   },
   {
    "duration": 14,
    "start_time": "2024-01-16T07:20:14.769Z"
   },
   {
    "duration": 21,
    "start_time": "2024-01-16T07:20:14.785Z"
   },
   {
    "duration": 25,
    "start_time": "2024-01-16T07:20:14.808Z"
   },
   {
    "duration": 34,
    "start_time": "2024-01-16T07:20:14.834Z"
   },
   {
    "duration": 52,
    "start_time": "2024-01-16T07:20:14.871Z"
   },
   {
    "duration": 28,
    "start_time": "2024-01-16T07:20:14.924Z"
   },
   {
    "duration": 26,
    "start_time": "2024-01-16T07:20:14.954Z"
   },
   {
    "duration": 87,
    "start_time": "2024-01-16T07:20:14.982Z"
   },
   {
    "duration": 111,
    "start_time": "2024-01-16T07:20:15.071Z"
   },
   {
    "duration": 68,
    "start_time": "2024-01-16T07:20:15.184Z"
   },
   {
    "duration": 25,
    "start_time": "2024-01-16T07:20:15.253Z"
   },
   {
    "duration": 30,
    "start_time": "2024-01-16T07:20:15.281Z"
   },
   {
    "duration": 7,
    "start_time": "2024-01-16T07:20:15.312Z"
   },
   {
    "duration": 223,
    "start_time": "2024-01-16T07:20:15.320Z"
   },
   {
    "duration": 214,
    "start_time": "2024-01-16T07:20:15.545Z"
   },
   {
    "duration": 640,
    "start_time": "2024-01-16T07:23:05.413Z"
   },
   {
    "duration": 184,
    "start_time": "2024-01-16T07:23:06.055Z"
   },
   {
    "duration": 18,
    "start_time": "2024-01-16T07:23:06.241Z"
   },
   {
    "duration": 3,
    "start_time": "2024-01-16T07:23:06.261Z"
   },
   {
    "duration": 8,
    "start_time": "2024-01-16T07:23:06.267Z"
   },
   {
    "duration": 41,
    "start_time": "2024-01-16T07:23:06.277Z"
   },
   {
    "duration": 15,
    "start_time": "2024-01-16T07:23:06.320Z"
   },
   {
    "duration": 40,
    "start_time": "2024-01-16T07:23:06.337Z"
   },
   {
    "duration": 19,
    "start_time": "2024-01-16T07:23:06.379Z"
   },
   {
    "duration": 89,
    "start_time": "2024-01-16T07:23:06.400Z"
   },
   {
    "duration": 9,
    "start_time": "2024-01-16T07:23:06.491Z"
   },
   {
    "duration": 11,
    "start_time": "2024-01-16T07:23:06.502Z"
   },
   {
    "duration": 13,
    "start_time": "2024-01-16T07:23:06.514Z"
   },
   {
    "duration": 38,
    "start_time": "2024-01-16T07:23:06.530Z"
   },
   {
    "duration": 24,
    "start_time": "2024-01-16T07:23:06.570Z"
   },
   {
    "duration": 723,
    "start_time": "2024-01-16T07:27:15.439Z"
   },
   {
    "duration": 519,
    "start_time": "2024-01-16T07:27:16.164Z"
   },
   {
    "duration": 12,
    "start_time": "2024-01-16T07:27:16.685Z"
   },
   {
    "duration": 13,
    "start_time": "2024-01-16T07:27:16.699Z"
   },
   {
    "duration": 61,
    "start_time": "2024-01-16T07:27:16.715Z"
   },
   {
    "duration": 37,
    "start_time": "2024-01-16T07:27:16.778Z"
   },
   {
    "duration": 15,
    "start_time": "2024-01-16T07:27:16.817Z"
   },
   {
    "duration": 25,
    "start_time": "2024-01-16T07:27:16.834Z"
   },
   {
    "duration": 19,
    "start_time": "2024-01-16T07:27:16.860Z"
   },
   {
    "duration": 103,
    "start_time": "2024-01-16T07:27:16.881Z"
   },
   {
    "duration": 12,
    "start_time": "2024-01-16T07:27:16.986Z"
   },
   {
    "duration": 10,
    "start_time": "2024-01-16T07:27:17.000Z"
   },
   {
    "duration": 25,
    "start_time": "2024-01-16T07:27:17.012Z"
   },
   {
    "duration": 26,
    "start_time": "2024-01-16T07:27:17.040Z"
   },
   {
    "duration": 6,
    "start_time": "2024-01-16T07:27:17.068Z"
   },
   {
    "duration": 433,
    "start_time": "2024-01-16T07:27:17.077Z"
   },
   {
    "duration": 387,
    "start_time": "2024-01-16T07:27:50.969Z"
   },
   {
    "duration": 5,
    "start_time": "2024-01-16T07:37:57.941Z"
   },
   {
    "duration": 87,
    "start_time": "2024-01-16T07:38:35.305Z"
   },
   {
    "duration": 3,
    "start_time": "2024-01-16T07:38:45.969Z"
   },
   {
    "duration": 11,
    "start_time": "2024-01-16T07:40:10.075Z"
   },
   {
    "duration": 74,
    "start_time": "2024-01-16T07:44:54.587Z"
   },
   {
    "duration": 43,
    "start_time": "2024-01-16T07:45:17.148Z"
   },
   {
    "duration": 37,
    "start_time": "2024-01-16T07:46:13.607Z"
   },
   {
    "duration": 6,
    "start_time": "2024-01-16T07:48:16.854Z"
   },
   {
    "duration": 324,
    "start_time": "2024-01-16T07:49:52.045Z"
   },
   {
    "duration": 5,
    "start_time": "2024-01-16T07:51:26.171Z"
   },
   {
    "duration": 619,
    "start_time": "2024-01-16T07:52:42.990Z"
   },
   {
    "duration": 2,
    "start_time": "2024-01-16T07:55:02.144Z"
   },
   {
    "duration": 20,
    "start_time": "2024-01-16T08:04:15.421Z"
   },
   {
    "duration": 27,
    "start_time": "2024-01-16T08:06:05.872Z"
   },
   {
    "duration": 27,
    "start_time": "2024-01-16T08:09:05.794Z"
   },
   {
    "duration": 54,
    "start_time": "2024-01-16T08:22:03.205Z"
   },
   {
    "duration": 62,
    "start_time": "2024-01-16T08:22:27.566Z"
   },
   {
    "duration": 71,
    "start_time": "2024-01-16T08:26:06.846Z"
   },
   {
    "duration": 64,
    "start_time": "2024-01-16T08:26:43.911Z"
   },
   {
    "duration": 1336,
    "start_time": "2024-01-16T08:40:25.637Z"
   },
   {
    "duration": 11,
    "start_time": "2024-01-16T08:41:04.993Z"
   },
   {
    "duration": 46,
    "start_time": "2024-01-16T08:41:16.634Z"
   },
   {
    "duration": 35,
    "start_time": "2024-01-16T08:41:26.871Z"
   },
   {
    "duration": 32,
    "start_time": "2024-01-16T08:43:24.750Z"
   },
   {
    "duration": 1444,
    "start_time": "2024-01-16T08:44:08.263Z"
   },
   {
    "duration": 95,
    "start_time": "2024-01-16T08:44:47.432Z"
   },
   {
    "duration": 24,
    "start_time": "2024-01-16T08:44:52.267Z"
   },
   {
    "duration": 717,
    "start_time": "2024-01-16T08:45:02.426Z"
   },
   {
    "duration": 188,
    "start_time": "2024-01-16T08:45:03.145Z"
   },
   {
    "duration": 11,
    "start_time": "2024-01-16T08:45:03.335Z"
   },
   {
    "duration": 66,
    "start_time": "2024-01-16T08:45:03.348Z"
   },
   {
    "duration": 33,
    "start_time": "2024-01-16T08:45:03.417Z"
   },
   {
    "duration": 44,
    "start_time": "2024-01-16T08:45:03.452Z"
   },
   {
    "duration": 30,
    "start_time": "2024-01-16T08:45:03.498Z"
   },
   {
    "duration": 27,
    "start_time": "2024-01-16T08:45:03.529Z"
   },
   {
    "duration": 41,
    "start_time": "2024-01-16T08:45:03.558Z"
   },
   {
    "duration": 146,
    "start_time": "2024-01-16T08:45:03.601Z"
   },
   {
    "duration": 33,
    "start_time": "2024-01-16T08:45:03.748Z"
   },
   {
    "duration": 21,
    "start_time": "2024-01-16T08:45:03.783Z"
   },
   {
    "duration": 53,
    "start_time": "2024-01-16T08:45:03.806Z"
   },
   {
    "duration": 21,
    "start_time": "2024-01-16T08:45:03.862Z"
   },
   {
    "duration": 10,
    "start_time": "2024-01-16T08:45:03.885Z"
   },
   {
    "duration": 434,
    "start_time": "2024-01-16T08:45:03.897Z"
   },
   {
    "duration": 31,
    "start_time": "2024-01-16T08:45:04.333Z"
   },
   {
    "duration": 33,
    "start_time": "2024-01-16T08:45:04.365Z"
   },
   {
    "duration": 3,
    "start_time": "2024-01-16T08:45:04.400Z"
   },
   {
    "duration": 64,
    "start_time": "2024-01-16T08:45:04.404Z"
   },
   {
    "duration": 67,
    "start_time": "2024-01-16T08:45:04.470Z"
   },
   {
    "duration": 1458,
    "start_time": "2024-01-16T08:45:04.539Z"
   },
   {
    "duration": 5,
    "start_time": "2024-01-16T08:46:24.603Z"
   },
   {
    "duration": 7,
    "start_time": "2024-01-16T08:47:47.114Z"
   },
   {
    "duration": 5,
    "start_time": "2024-01-16T08:47:53.509Z"
   },
   {
    "duration": 2,
    "start_time": "2024-01-16T08:49:16.445Z"
   },
   {
    "duration": 69,
    "start_time": "2024-01-16T08:54:30.738Z"
   },
   {
    "duration": 4,
    "start_time": "2024-01-16T08:57:24.047Z"
   },
   {
    "duration": 2,
    "start_time": "2024-01-16T08:59:41.148Z"
   },
   {
    "duration": 55,
    "start_time": "2024-01-17T08:24:35.849Z"
   },
   {
    "duration": 798,
    "start_time": "2024-01-17T08:24:43.535Z"
   },
   {
    "duration": 502,
    "start_time": "2024-01-17T08:24:44.336Z"
   },
   {
    "duration": 12,
    "start_time": "2024-01-17T08:24:44.839Z"
   },
   {
    "duration": 9,
    "start_time": "2024-01-17T08:24:44.852Z"
   },
   {
    "duration": 26,
    "start_time": "2024-01-17T08:24:44.863Z"
   },
   {
    "duration": 46,
    "start_time": "2024-01-17T08:24:44.891Z"
   },
   {
    "duration": 15,
    "start_time": "2024-01-17T08:24:44.939Z"
   },
   {
    "duration": 34,
    "start_time": "2024-01-17T08:24:44.955Z"
   },
   {
    "duration": 61,
    "start_time": "2024-01-17T08:24:44.991Z"
   },
   {
    "duration": 120,
    "start_time": "2024-01-17T08:24:45.054Z"
   },
   {
    "duration": 43,
    "start_time": "2024-01-17T08:24:45.176Z"
   },
   {
    "duration": 27,
    "start_time": "2024-01-17T08:24:45.221Z"
   },
   {
    "duration": 46,
    "start_time": "2024-01-17T08:24:45.249Z"
   },
   {
    "duration": 50,
    "start_time": "2024-01-17T08:24:45.298Z"
   },
   {
    "duration": 36,
    "start_time": "2024-01-17T08:24:45.350Z"
   },
   {
    "duration": 408,
    "start_time": "2024-01-17T08:24:45.388Z"
   },
   {
    "duration": 21,
    "start_time": "2024-01-17T08:24:45.798Z"
   },
   {
    "duration": 47,
    "start_time": "2024-01-17T08:24:45.827Z"
   },
   {
    "duration": 5,
    "start_time": "2024-01-17T08:24:45.875Z"
   },
   {
    "duration": 55,
    "start_time": "2024-01-17T08:24:45.882Z"
   },
   {
    "duration": 64,
    "start_time": "2024-01-17T08:24:45.939Z"
   },
   {
    "duration": 5,
    "start_time": "2024-01-17T08:24:46.005Z"
   },
   {
    "duration": 86,
    "start_time": "2024-01-17T08:24:46.012Z"
   },
   {
    "duration": 4,
    "start_time": "2024-01-17T08:24:46.100Z"
   },
   {
    "duration": 126,
    "start_time": "2024-01-17T08:24:46.106Z"
   },
   {
    "duration": 34,
    "start_time": "2024-01-17T08:25:10.415Z"
   },
   {
    "duration": 3,
    "start_time": "2024-01-17T08:38:54.285Z"
   },
   {
    "duration": 23,
    "start_time": "2024-01-17T08:46:18.059Z"
   },
   {
    "duration": 41,
    "start_time": "2024-01-17T09:00:39.142Z"
   },
   {
    "duration": 77,
    "start_time": "2024-01-17T09:01:26.975Z"
   },
   {
    "duration": 24,
    "start_time": "2024-01-17T09:06:43.834Z"
   },
   {
    "duration": 19,
    "start_time": "2024-01-17T09:08:17.048Z"
   },
   {
    "duration": 21,
    "start_time": "2024-01-17T09:08:45.486Z"
   },
   {
    "duration": 452,
    "start_time": "2024-01-17T09:15:53.619Z"
   },
   {
    "duration": 1090,
    "start_time": "2024-01-17T09:16:02.562Z"
   },
   {
    "duration": 179,
    "start_time": "2024-01-17T09:16:03.655Z"
   },
   {
    "duration": 12,
    "start_time": "2024-01-17T09:16:03.835Z"
   },
   {
    "duration": 21,
    "start_time": "2024-01-17T09:16:03.849Z"
   },
   {
    "duration": 49,
    "start_time": "2024-01-17T09:16:03.872Z"
   },
   {
    "duration": 40,
    "start_time": "2024-01-17T09:16:03.922Z"
   },
   {
    "duration": 14,
    "start_time": "2024-01-17T09:16:03.964Z"
   },
   {
    "duration": 44,
    "start_time": "2024-01-17T09:16:03.979Z"
   },
   {
    "duration": 36,
    "start_time": "2024-01-17T09:16:04.024Z"
   },
   {
    "duration": 109,
    "start_time": "2024-01-17T09:16:04.062Z"
   },
   {
    "duration": 22,
    "start_time": "2024-01-17T09:16:04.172Z"
   },
   {
    "duration": 25,
    "start_time": "2024-01-17T09:16:04.195Z"
   },
   {
    "duration": 28,
    "start_time": "2024-01-17T09:16:04.221Z"
   },
   {
    "duration": 33,
    "start_time": "2024-01-17T09:16:04.252Z"
   },
   {
    "duration": 41,
    "start_time": "2024-01-17T09:16:04.287Z"
   },
   {
    "duration": 387,
    "start_time": "2024-01-17T09:16:04.330Z"
   },
   {
    "duration": 22,
    "start_time": "2024-01-17T09:16:04.719Z"
   },
   {
    "duration": 57,
    "start_time": "2024-01-17T09:16:04.743Z"
   },
   {
    "duration": 5,
    "start_time": "2024-01-17T09:16:04.802Z"
   },
   {
    "duration": 29,
    "start_time": "2024-01-17T09:16:04.809Z"
   },
   {
    "duration": 71,
    "start_time": "2024-01-17T09:16:04.840Z"
   },
   {
    "duration": 5,
    "start_time": "2024-01-17T09:16:04.912Z"
   },
   {
    "duration": 82,
    "start_time": "2024-01-17T09:16:04.918Z"
   },
   {
    "duration": 4,
    "start_time": "2024-01-17T09:16:05.001Z"
   },
   {
    "duration": 56,
    "start_time": "2024-01-17T09:16:05.006Z"
   },
   {
    "duration": 3,
    "start_time": "2024-01-17T09:16:05.063Z"
   },
   {
    "duration": 77,
    "start_time": "2024-01-17T09:16:05.067Z"
   },
   {
    "duration": 18,
    "start_time": "2024-01-17T09:16:05.146Z"
   },
   {
    "duration": 30,
    "start_time": "2024-01-17T09:16:05.166Z"
   },
   {
    "duration": 8,
    "start_time": "2024-01-17T09:17:05.814Z"
   },
   {
    "duration": 10,
    "start_time": "2024-01-17T09:19:01.498Z"
   },
   {
    "duration": 10,
    "start_time": "2024-01-17T09:21:53.102Z"
   },
   {
    "duration": 86,
    "start_time": "2024-01-17T09:34:59.782Z"
   },
   {
    "duration": 6,
    "start_time": "2024-01-17T09:35:47.739Z"
   },
   {
    "duration": 6,
    "start_time": "2024-01-17T09:37:07.179Z"
   },
   {
    "duration": 5,
    "start_time": "2024-01-17T09:38:13.315Z"
   },
   {
    "duration": 38,
    "start_time": "2024-01-17T09:40:44.767Z"
   },
   {
    "duration": 5,
    "start_time": "2024-01-17T09:41:48.169Z"
   },
   {
    "duration": 6,
    "start_time": "2024-01-17T09:42:34.325Z"
   },
   {
    "duration": 36,
    "start_time": "2024-01-17T09:42:38.403Z"
   },
   {
    "duration": 6,
    "start_time": "2024-01-17T09:43:03.729Z"
   },
   {
    "duration": 93,
    "start_time": "2024-01-17T13:23:34.341Z"
   },
   {
    "duration": 72,
    "start_time": "2024-01-17T13:23:50.538Z"
   },
   {
    "duration": 37,
    "start_time": "2024-01-17T13:24:44.930Z"
   },
   {
    "duration": 33,
    "start_time": "2024-01-17T13:25:14.808Z"
   },
   {
    "duration": 6,
    "start_time": "2024-01-17T13:26:52.083Z"
   },
   {
    "duration": 39,
    "start_time": "2024-01-17T13:26:57.931Z"
   },
   {
    "duration": 42,
    "start_time": "2024-01-17T13:27:01.750Z"
   },
   {
    "duration": 36,
    "start_time": "2024-01-17T13:27:07.595Z"
   },
   {
    "duration": 35,
    "start_time": "2024-01-17T13:35:35.253Z"
   },
   {
    "duration": 35,
    "start_time": "2024-01-17T13:36:17.450Z"
   },
   {
    "duration": 38,
    "start_time": "2024-01-17T13:36:26.936Z"
   },
   {
    "duration": 46,
    "start_time": "2024-01-17T13:37:06.630Z"
   },
   {
    "duration": 34,
    "start_time": "2024-01-17T13:37:43.366Z"
   },
   {
    "duration": 37,
    "start_time": "2024-01-17T13:38:38.817Z"
   },
   {
    "duration": 35,
    "start_time": "2024-01-17T13:39:10.878Z"
   },
   {
    "duration": 38,
    "start_time": "2024-01-17T13:39:38.805Z"
   },
   {
    "duration": 34,
    "start_time": "2024-01-17T13:40:07.259Z"
   },
   {
    "duration": 1341,
    "start_time": "2024-01-18T07:13:59.122Z"
   },
   {
    "duration": 515,
    "start_time": "2024-01-18T07:14:00.465Z"
   },
   {
    "duration": 14,
    "start_time": "2024-01-18T07:14:00.982Z"
   },
   {
    "duration": 135,
    "start_time": "2024-01-18T07:14:00.997Z"
   },
   {
    "duration": 86,
    "start_time": "2024-01-18T07:14:01.134Z"
   },
   {
    "duration": 96,
    "start_time": "2024-01-18T07:14:01.222Z"
   },
   {
    "duration": 145,
    "start_time": "2024-01-18T07:14:01.320Z"
   },
   {
    "duration": 82,
    "start_time": "2024-01-18T07:14:01.467Z"
   },
   {
    "duration": 105,
    "start_time": "2024-01-18T07:14:01.551Z"
   },
   {
    "duration": 198,
    "start_time": "2024-01-18T07:14:01.658Z"
   },
   {
    "duration": 92,
    "start_time": "2024-01-18T07:14:01.858Z"
   },
   {
    "duration": 115,
    "start_time": "2024-01-18T07:14:01.951Z"
   },
   {
    "duration": 54,
    "start_time": "2024-01-18T07:14:02.068Z"
   },
   {
    "duration": 51,
    "start_time": "2024-01-18T07:14:02.125Z"
   },
   {
    "duration": 23,
    "start_time": "2024-01-18T07:14:02.177Z"
   },
   {
    "duration": 447,
    "start_time": "2024-01-18T07:14:02.201Z"
   },
   {
    "duration": 22,
    "start_time": "2024-01-18T07:14:02.649Z"
   },
   {
    "duration": 87,
    "start_time": "2024-01-18T07:14:02.682Z"
   },
   {
    "duration": 5,
    "start_time": "2024-01-18T07:14:02.770Z"
   },
   {
    "duration": 46,
    "start_time": "2024-01-18T07:14:02.777Z"
   },
   {
    "duration": 92,
    "start_time": "2024-01-18T07:14:02.824Z"
   },
   {
    "duration": 5,
    "start_time": "2024-01-18T07:14:02.917Z"
   },
   {
    "duration": 79,
    "start_time": "2024-01-18T07:14:02.923Z"
   },
   {
    "duration": 4,
    "start_time": "2024-01-18T07:14:03.003Z"
   },
   {
    "duration": 42,
    "start_time": "2024-01-18T07:14:03.008Z"
   },
   {
    "duration": 53,
    "start_time": "2024-01-18T07:14:03.052Z"
   },
   {
    "duration": 27,
    "start_time": "2024-01-18T07:14:03.107Z"
   },
   {
    "duration": 10,
    "start_time": "2024-01-18T07:14:03.136Z"
   },
   {
    "duration": 34,
    "start_time": "2024-01-18T07:14:03.148Z"
   },
   {
    "duration": 38,
    "start_time": "2024-01-18T07:14:03.184Z"
   },
   {
    "duration": 38,
    "start_time": "2024-01-18T07:14:03.224Z"
   },
   {
    "duration": 36,
    "start_time": "2024-01-18T07:14:03.281Z"
   },
   {
    "duration": 38,
    "start_time": "2024-01-18T07:14:03.319Z"
   },
   {
    "duration": 52,
    "start_time": "2024-01-18T07:14:03.358Z"
   },
   {
    "duration": 38,
    "start_time": "2024-01-18T07:14:03.411Z"
   },
   {
    "duration": 55,
    "start_time": "2024-01-18T07:14:03.451Z"
   },
   {
    "duration": 38,
    "start_time": "2024-01-18T07:14:03.507Z"
   },
   {
    "duration": 57,
    "start_time": "2024-01-18T07:14:03.546Z"
   },
   {
    "duration": 39,
    "start_time": "2024-01-18T07:14:03.604Z"
   },
   {
    "duration": 55,
    "start_time": "2024-01-18T07:14:03.644Z"
   },
   {
    "duration": 6,
    "start_time": "2024-01-18T07:43:05.616Z"
   },
   {
    "duration": 1378,
    "start_time": "2024-01-18T07:45:27.812Z"
   },
   {
    "duration": 18,
    "start_time": "2024-01-18T07:51:58.548Z"
   },
   {
    "duration": 3,
    "start_time": "2024-01-18T07:52:20.077Z"
   },
   {
    "duration": 1214,
    "start_time": "2024-01-18T07:52:31.554Z"
   },
   {
    "duration": 193,
    "start_time": "2024-01-18T07:52:32.769Z"
   },
   {
    "duration": 20,
    "start_time": "2024-01-18T07:52:32.963Z"
   },
   {
    "duration": 10,
    "start_time": "2024-01-18T07:52:32.984Z"
   },
   {
    "duration": 17,
    "start_time": "2024-01-18T07:52:32.996Z"
   },
   {
    "duration": 62,
    "start_time": "2024-01-18T07:52:33.015Z"
   },
   {
    "duration": 29,
    "start_time": "2024-01-18T07:52:33.079Z"
   },
   {
    "duration": 35,
    "start_time": "2024-01-18T07:52:33.110Z"
   },
   {
    "duration": 18,
    "start_time": "2024-01-18T07:52:33.146Z"
   },
   {
    "duration": 127,
    "start_time": "2024-01-18T07:52:33.166Z"
   },
   {
    "duration": 23,
    "start_time": "2024-01-18T07:52:33.295Z"
   },
   {
    "duration": 35,
    "start_time": "2024-01-18T07:52:33.319Z"
   },
   {
    "duration": 18,
    "start_time": "2024-01-18T07:52:33.355Z"
   },
   {
    "duration": 13,
    "start_time": "2024-01-18T07:52:33.376Z"
   },
   {
    "duration": 17,
    "start_time": "2024-01-18T07:52:33.391Z"
   },
   {
    "duration": 457,
    "start_time": "2024-01-18T07:52:33.409Z"
   },
   {
    "duration": 26,
    "start_time": "2024-01-18T07:52:33.868Z"
   },
   {
    "duration": 33,
    "start_time": "2024-01-18T07:52:33.896Z"
   },
   {
    "duration": 7,
    "start_time": "2024-01-18T07:52:33.931Z"
   },
   {
    "duration": 70,
    "start_time": "2024-01-18T07:52:33.940Z"
   },
   {
    "duration": 83,
    "start_time": "2024-01-18T07:52:34.012Z"
   },
   {
    "duration": 5,
    "start_time": "2024-01-18T07:52:34.097Z"
   },
   {
    "duration": 80,
    "start_time": "2024-01-18T07:52:34.104Z"
   },
   {
    "duration": 5,
    "start_time": "2024-01-18T07:52:34.186Z"
   },
   {
    "duration": 51,
    "start_time": "2024-01-18T07:52:34.192Z"
   },
   {
    "duration": 51,
    "start_time": "2024-01-18T07:52:34.245Z"
   },
   {
    "duration": 23,
    "start_time": "2024-01-18T07:52:34.298Z"
   },
   {
    "duration": 52,
    "start_time": "2024-01-18T07:52:34.323Z"
   },
   {
    "duration": 27,
    "start_time": "2024-01-18T07:52:34.377Z"
   },
   {
    "duration": 45,
    "start_time": "2024-01-18T07:52:34.407Z"
   },
   {
    "duration": 41,
    "start_time": "2024-01-18T07:52:34.453Z"
   },
   {
    "duration": 38,
    "start_time": "2024-01-18T07:52:34.496Z"
   },
   {
    "duration": 60,
    "start_time": "2024-01-18T07:52:34.536Z"
   },
   {
    "duration": 51,
    "start_time": "2024-01-18T07:52:34.598Z"
   },
   {
    "duration": 49,
    "start_time": "2024-01-18T07:52:34.650Z"
   },
   {
    "duration": 57,
    "start_time": "2024-01-18T07:52:34.701Z"
   },
   {
    "duration": 65,
    "start_time": "2024-01-18T07:52:34.760Z"
   },
   {
    "duration": 69,
    "start_time": "2024-01-18T07:52:34.827Z"
   },
   {
    "duration": 44,
    "start_time": "2024-01-18T07:52:34.898Z"
   },
   {
    "duration": 54,
    "start_time": "2024-01-18T07:52:34.944Z"
   },
   {
    "duration": 9,
    "start_time": "2024-01-18T07:52:35.003Z"
   },
   {
    "duration": 149,
    "start_time": "2024-01-18T07:52:35.013Z"
   },
   {
    "duration": 0,
    "start_time": "2024-01-18T07:52:35.164Z"
   },
   {
    "duration": 3,
    "start_time": "2024-01-18T07:53:10.231Z"
   },
   {
    "duration": 1164,
    "start_time": "2024-01-18T07:53:16.490Z"
   },
   {
    "duration": 191,
    "start_time": "2024-01-18T07:53:17.655Z"
   },
   {
    "duration": 18,
    "start_time": "2024-01-18T07:53:17.848Z"
   },
   {
    "duration": 20,
    "start_time": "2024-01-18T07:53:17.867Z"
   },
   {
    "duration": 23,
    "start_time": "2024-01-18T07:53:17.890Z"
   },
   {
    "duration": 49,
    "start_time": "2024-01-18T07:53:17.914Z"
   },
   {
    "duration": 16,
    "start_time": "2024-01-18T07:53:17.965Z"
   },
   {
    "duration": 49,
    "start_time": "2024-01-18T07:53:17.983Z"
   },
   {
    "duration": 32,
    "start_time": "2024-01-18T07:53:18.034Z"
   },
   {
    "duration": 128,
    "start_time": "2024-01-18T07:53:18.068Z"
   },
   {
    "duration": 23,
    "start_time": "2024-01-18T07:53:18.197Z"
   },
   {
    "duration": 5,
    "start_time": "2024-01-18T07:53:18.222Z"
   },
   {
    "duration": 15,
    "start_time": "2024-01-18T07:53:18.229Z"
   },
   {
    "duration": 40,
    "start_time": "2024-01-18T07:53:18.248Z"
   },
   {
    "duration": 7,
    "start_time": "2024-01-18T07:53:18.289Z"
   },
   {
    "duration": 445,
    "start_time": "2024-01-18T07:53:18.298Z"
   },
   {
    "duration": 23,
    "start_time": "2024-01-18T07:53:18.745Z"
   },
   {
    "duration": 43,
    "start_time": "2024-01-18T07:53:18.770Z"
   },
   {
    "duration": 6,
    "start_time": "2024-01-18T07:53:18.815Z"
   },
   {
    "duration": 69,
    "start_time": "2024-01-18T07:53:18.823Z"
   },
   {
    "duration": 121,
    "start_time": "2024-01-18T07:53:18.894Z"
   },
   {
    "duration": 5,
    "start_time": "2024-01-18T07:53:19.017Z"
   },
   {
    "duration": 91,
    "start_time": "2024-01-18T07:53:19.024Z"
   },
   {
    "duration": 4,
    "start_time": "2024-01-18T07:53:19.117Z"
   },
   {
    "duration": 65,
    "start_time": "2024-01-18T07:53:19.123Z"
   },
   {
    "duration": 36,
    "start_time": "2024-01-18T07:53:19.190Z"
   },
   {
    "duration": 32,
    "start_time": "2024-01-18T07:53:19.228Z"
   },
   {
    "duration": 25,
    "start_time": "2024-01-18T07:53:19.261Z"
   },
   {
    "duration": 25,
    "start_time": "2024-01-18T07:53:19.288Z"
   },
   {
    "duration": 89,
    "start_time": "2024-01-18T07:53:19.315Z"
   },
   {
    "duration": 58,
    "start_time": "2024-01-18T07:53:19.406Z"
   },
   {
    "duration": 70,
    "start_time": "2024-01-18T07:53:19.466Z"
   },
   {
    "duration": 70,
    "start_time": "2024-01-18T07:53:19.538Z"
   },
   {
    "duration": 54,
    "start_time": "2024-01-18T07:53:19.610Z"
   },
   {
    "duration": 57,
    "start_time": "2024-01-18T07:53:19.666Z"
   },
   {
    "duration": 50,
    "start_time": "2024-01-18T07:53:19.725Z"
   },
   {
    "duration": 40,
    "start_time": "2024-01-18T07:53:19.782Z"
   },
   {
    "duration": 69,
    "start_time": "2024-01-18T07:53:19.823Z"
   },
   {
    "duration": 43,
    "start_time": "2024-01-18T07:53:19.893Z"
   },
   {
    "duration": 57,
    "start_time": "2024-01-18T07:53:19.938Z"
   },
   {
    "duration": 6,
    "start_time": "2024-01-18T07:53:19.999Z"
   },
   {
    "duration": 94,
    "start_time": "2024-01-18T07:53:20.008Z"
   },
   {
    "duration": 8,
    "start_time": "2024-01-18T07:53:20.105Z"
   },
   {
    "duration": 84,
    "start_time": "2024-01-18T07:57:52.014Z"
   },
   {
    "duration": 78,
    "start_time": "2024-01-18T07:58:57.973Z"
   },
   {
    "duration": 77,
    "start_time": "2024-01-18T08:00:33.456Z"
   },
   {
    "duration": 280,
    "start_time": "2024-01-18T08:00:41.681Z"
   },
   {
    "duration": 1203,
    "start_time": "2024-01-18T08:24:38.553Z"
   },
   {
    "duration": 211,
    "start_time": "2024-01-18T08:24:39.759Z"
   },
   {
    "duration": 19,
    "start_time": "2024-01-18T08:24:39.972Z"
   },
   {
    "duration": 3,
    "start_time": "2024-01-18T08:24:39.993Z"
   },
   {
    "duration": 9,
    "start_time": "2024-01-18T08:24:39.998Z"
   },
   {
    "duration": 26,
    "start_time": "2024-01-18T08:24:40.008Z"
   },
   {
    "duration": 48,
    "start_time": "2024-01-18T08:24:40.036Z"
   },
   {
    "duration": 26,
    "start_time": "2024-01-18T08:24:40.086Z"
   },
   {
    "duration": 20,
    "start_time": "2024-01-18T08:24:40.113Z"
   },
   {
    "duration": 138,
    "start_time": "2024-01-18T08:24:40.134Z"
   },
   {
    "duration": 52,
    "start_time": "2024-01-18T08:24:40.274Z"
   },
   {
    "duration": 5,
    "start_time": "2024-01-18T08:24:40.328Z"
   },
   {
    "duration": 12,
    "start_time": "2024-01-18T08:24:40.335Z"
   },
   {
    "duration": 33,
    "start_time": "2024-01-18T08:24:40.351Z"
   },
   {
    "duration": 7,
    "start_time": "2024-01-18T08:24:40.386Z"
   },
   {
    "duration": 454,
    "start_time": "2024-01-18T08:24:40.395Z"
   },
   {
    "duration": 31,
    "start_time": "2024-01-18T08:24:40.851Z"
   },
   {
    "duration": 36,
    "start_time": "2024-01-18T08:24:40.884Z"
   },
   {
    "duration": 7,
    "start_time": "2024-01-18T08:24:40.922Z"
   },
   {
    "duration": 58,
    "start_time": "2024-01-18T08:24:40.931Z"
   },
   {
    "duration": 68,
    "start_time": "2024-01-18T08:24:40.991Z"
   },
   {
    "duration": 21,
    "start_time": "2024-01-18T08:24:41.061Z"
   },
   {
    "duration": 76,
    "start_time": "2024-01-18T08:24:41.084Z"
   },
   {
    "duration": 4,
    "start_time": "2024-01-18T08:24:41.162Z"
   },
   {
    "duration": 84,
    "start_time": "2024-01-18T08:24:41.182Z"
   },
   {
    "duration": 36,
    "start_time": "2024-01-18T08:24:41.268Z"
   },
   {
    "duration": 23,
    "start_time": "2024-01-18T08:24:41.305Z"
   },
   {
    "duration": 11,
    "start_time": "2024-01-18T08:24:41.329Z"
   },
   {
    "duration": 8,
    "start_time": "2024-01-18T08:24:41.342Z"
   },
   {
    "duration": 49,
    "start_time": "2024-01-18T08:24:41.382Z"
   },
   {
    "duration": 79,
    "start_time": "2024-01-18T08:24:41.433Z"
   },
   {
    "duration": 38,
    "start_time": "2024-01-18T08:24:41.515Z"
   },
   {
    "duration": 71,
    "start_time": "2024-01-18T08:24:41.555Z"
   },
   {
    "duration": 41,
    "start_time": "2024-01-18T08:24:41.628Z"
   },
   {
    "duration": 52,
    "start_time": "2024-01-18T08:24:41.671Z"
   },
   {
    "duration": 63,
    "start_time": "2024-01-18T08:24:41.725Z"
   },
   {
    "duration": 40,
    "start_time": "2024-01-18T08:24:41.790Z"
   },
   {
    "duration": 76,
    "start_time": "2024-01-18T08:24:41.832Z"
   },
   {
    "duration": 39,
    "start_time": "2024-01-18T08:24:41.910Z"
   },
   {
    "duration": 56,
    "start_time": "2024-01-18T08:24:41.950Z"
   },
   {
    "duration": 6,
    "start_time": "2024-01-18T08:24:42.009Z"
   },
   {
    "duration": 106,
    "start_time": "2024-01-18T08:24:42.017Z"
   },
   {
    "duration": 104,
    "start_time": "2024-01-18T08:24:42.125Z"
   },
   {
    "duration": 97,
    "start_time": "2024-01-18T08:24:42.231Z"
   },
   {
    "duration": 297,
    "start_time": "2024-01-18T08:24:42.330Z"
   },
   {
    "duration": 1278,
    "start_time": "2024-01-19T07:25:43.148Z"
   },
   {
    "duration": 501,
    "start_time": "2024-01-19T07:25:44.428Z"
   },
   {
    "duration": 13,
    "start_time": "2024-01-19T07:25:44.930Z"
   },
   {
    "duration": 23,
    "start_time": "2024-01-19T07:25:44.946Z"
   },
   {
    "duration": 63,
    "start_time": "2024-01-19T07:25:44.971Z"
   },
   {
    "duration": 54,
    "start_time": "2024-01-19T07:25:45.035Z"
   },
   {
    "duration": 16,
    "start_time": "2024-01-19T07:25:45.091Z"
   },
   {
    "duration": 40,
    "start_time": "2024-01-19T07:25:45.108Z"
   },
   {
    "duration": 31,
    "start_time": "2024-01-19T07:25:45.150Z"
   },
   {
    "duration": 98,
    "start_time": "2024-01-19T07:25:45.184Z"
   },
   {
    "duration": 22,
    "start_time": "2024-01-19T07:25:45.284Z"
   },
   {
    "duration": 16,
    "start_time": "2024-01-19T07:25:45.308Z"
   },
   {
    "duration": 33,
    "start_time": "2024-01-19T07:25:45.326Z"
   },
   {
    "duration": 23,
    "start_time": "2024-01-19T07:25:45.361Z"
   },
   {
    "duration": 45,
    "start_time": "2024-01-19T07:25:45.386Z"
   },
   {
    "duration": 404,
    "start_time": "2024-01-19T07:25:45.433Z"
   },
   {
    "duration": 36,
    "start_time": "2024-01-19T07:25:45.839Z"
   },
   {
    "duration": 59,
    "start_time": "2024-01-19T07:25:45.877Z"
   },
   {
    "duration": 7,
    "start_time": "2024-01-19T07:25:45.938Z"
   },
   {
    "duration": 65,
    "start_time": "2024-01-19T07:25:45.947Z"
   },
   {
    "duration": 71,
    "start_time": "2024-01-19T07:25:46.014Z"
   },
   {
    "duration": 4,
    "start_time": "2024-01-19T07:25:46.086Z"
   },
   {
    "duration": 104,
    "start_time": "2024-01-19T07:25:46.092Z"
   },
   {
    "duration": 4,
    "start_time": "2024-01-19T07:25:46.197Z"
   },
   {
    "duration": 64,
    "start_time": "2024-01-19T07:25:46.202Z"
   },
   {
    "duration": 35,
    "start_time": "2024-01-19T07:25:46.268Z"
   },
   {
    "duration": 20,
    "start_time": "2024-01-19T07:25:46.305Z"
   },
   {
    "duration": 37,
    "start_time": "2024-01-19T07:25:46.328Z"
   },
   {
    "duration": 17,
    "start_time": "2024-01-19T07:25:46.367Z"
   },
   {
    "duration": 60,
    "start_time": "2024-01-19T07:25:46.386Z"
   },
   {
    "duration": 36,
    "start_time": "2024-01-19T07:25:46.447Z"
   },
   {
    "duration": 38,
    "start_time": "2024-01-19T07:25:46.484Z"
   },
   {
    "duration": 44,
    "start_time": "2024-01-19T07:25:46.524Z"
   },
   {
    "duration": 36,
    "start_time": "2024-01-19T07:25:46.570Z"
   },
   {
    "duration": 65,
    "start_time": "2024-01-19T07:25:46.608Z"
   },
   {
    "duration": 38,
    "start_time": "2024-01-19T07:25:46.675Z"
   },
   {
    "duration": 36,
    "start_time": "2024-01-19T07:25:46.714Z"
   },
   {
    "duration": 54,
    "start_time": "2024-01-19T07:25:46.751Z"
   },
   {
    "duration": 36,
    "start_time": "2024-01-19T07:25:46.807Z"
   },
   {
    "duration": 44,
    "start_time": "2024-01-19T07:25:46.845Z"
   },
   {
    "duration": 7,
    "start_time": "2024-01-19T07:25:46.891Z"
   },
   {
    "duration": 85,
    "start_time": "2024-01-19T07:25:46.899Z"
   },
   {
    "duration": 90,
    "start_time": "2024-01-19T07:25:46.986Z"
   },
   {
    "duration": 88,
    "start_time": "2024-01-19T07:25:47.078Z"
   },
   {
    "duration": 263,
    "start_time": "2024-01-19T07:25:47.168Z"
   },
   {
    "duration": 63,
    "start_time": "2024-01-19T07:29:41.152Z"
   },
   {
    "duration": 59,
    "start_time": "2024-01-19T07:33:01.000Z"
   },
   {
    "duration": 79,
    "start_time": "2024-01-19T07:33:41.260Z"
   },
   {
    "duration": 4,
    "start_time": "2024-01-19T07:34:08.178Z"
   },
   {
    "duration": 69,
    "start_time": "2024-01-19T07:34:42.489Z"
   },
   {
    "duration": 3,
    "start_time": "2024-01-19T07:34:53.791Z"
   },
   {
    "duration": 4,
    "start_time": "2024-01-19T07:36:18.592Z"
   },
   {
    "duration": 4,
    "start_time": "2024-01-19T07:37:52.651Z"
   },
   {
    "duration": 79,
    "start_time": "2024-01-19T07:38:32.962Z"
   },
   {
    "duration": 1039,
    "start_time": "2024-01-19T07:38:39.472Z"
   },
   {
    "duration": 172,
    "start_time": "2024-01-19T07:38:40.513Z"
   },
   {
    "duration": 11,
    "start_time": "2024-01-19T07:38:40.686Z"
   },
   {
    "duration": 20,
    "start_time": "2024-01-19T07:38:40.699Z"
   },
   {
    "duration": 36,
    "start_time": "2024-01-19T07:38:40.721Z"
   },
   {
    "duration": 56,
    "start_time": "2024-01-19T07:38:40.758Z"
   },
   {
    "duration": 29,
    "start_time": "2024-01-19T07:38:40.816Z"
   },
   {
    "duration": 20,
    "start_time": "2024-01-19T07:38:40.847Z"
   },
   {
    "duration": 27,
    "start_time": "2024-01-19T07:38:40.868Z"
   },
   {
    "duration": 106,
    "start_time": "2024-01-19T07:38:40.897Z"
   },
   {
    "duration": 20,
    "start_time": "2024-01-19T07:38:41.005Z"
   },
   {
    "duration": 95,
    "start_time": "2024-01-19T07:38:41.027Z"
   },
   {
    "duration": 3,
    "start_time": "2024-01-19T07:38:41.124Z"
   },
   {
    "duration": 90,
    "start_time": "2024-01-19T07:38:41.129Z"
   },
   {
    "duration": 4,
    "start_time": "2024-01-19T07:38:41.221Z"
   },
   {
    "duration": 17,
    "start_time": "2024-01-19T07:38:41.228Z"
   },
   {
    "duration": 27,
    "start_time": "2024-01-19T07:38:41.246Z"
   },
   {
    "duration": 6,
    "start_time": "2024-01-19T07:38:41.275Z"
   },
   {
    "duration": 391,
    "start_time": "2024-01-19T07:38:41.283Z"
   },
   {
    "duration": 21,
    "start_time": "2024-01-19T07:38:41.676Z"
   },
   {
    "duration": 19,
    "start_time": "2024-01-19T07:38:41.699Z"
   },
   {
    "duration": 4,
    "start_time": "2024-01-19T07:38:41.720Z"
   },
   {
    "duration": 49,
    "start_time": "2024-01-19T07:38:41.726Z"
   },
   {
    "duration": 57,
    "start_time": "2024-01-19T07:38:41.777Z"
   },
   {
    "duration": 5,
    "start_time": "2024-01-19T07:38:41.835Z"
   },
   {
    "duration": 70,
    "start_time": "2024-01-19T07:38:41.841Z"
   },
   {
    "duration": 4,
    "start_time": "2024-01-19T07:38:41.912Z"
   },
   {
    "duration": 37,
    "start_time": "2024-01-19T07:38:41.918Z"
   },
   {
    "duration": 32,
    "start_time": "2024-01-19T07:38:41.965Z"
   },
   {
    "duration": 18,
    "start_time": "2024-01-19T07:38:41.998Z"
   },
   {
    "duration": 9,
    "start_time": "2024-01-19T07:38:42.017Z"
   },
   {
    "duration": 5,
    "start_time": "2024-01-19T07:38:42.027Z"
   },
   {
    "duration": 62,
    "start_time": "2024-01-19T07:38:42.033Z"
   },
   {
    "duration": 34,
    "start_time": "2024-01-19T07:38:42.096Z"
   },
   {
    "duration": 47,
    "start_time": "2024-01-19T07:38:42.132Z"
   },
   {
    "duration": 33,
    "start_time": "2024-01-19T07:38:42.181Z"
   },
   {
    "duration": 50,
    "start_time": "2024-01-19T07:38:42.215Z"
   },
   {
    "duration": 36,
    "start_time": "2024-01-19T07:38:42.267Z"
   },
   {
    "duration": 32,
    "start_time": "2024-01-19T07:38:42.304Z"
   },
   {
    "duration": 49,
    "start_time": "2024-01-19T07:38:42.338Z"
   },
   {
    "duration": 34,
    "start_time": "2024-01-19T07:38:42.390Z"
   },
   {
    "duration": 55,
    "start_time": "2024-01-19T07:38:42.426Z"
   },
   {
    "duration": 33,
    "start_time": "2024-01-19T07:38:42.483Z"
   },
   {
    "duration": 6,
    "start_time": "2024-01-19T07:38:42.517Z"
   },
   {
    "duration": 94,
    "start_time": "2024-01-19T07:38:42.524Z"
   },
   {
    "duration": 86,
    "start_time": "2024-01-19T07:38:42.620Z"
   },
   {
    "duration": 82,
    "start_time": "2024-01-19T07:38:42.708Z"
   },
   {
    "duration": 207,
    "start_time": "2024-01-19T07:38:42.791Z"
   },
   {
    "duration": 63,
    "start_time": "2024-01-19T07:40:56.143Z"
   },
   {
    "duration": 4,
    "start_time": "2024-01-19T07:45:38.993Z"
   },
   {
    "duration": 4,
    "start_time": "2024-01-19T07:45:46.190Z"
   },
   {
    "duration": 109,
    "start_time": "2024-01-19T07:46:34.686Z"
   },
   {
    "duration": 3,
    "start_time": "2024-01-19T07:50:28.145Z"
   },
   {
    "duration": 4,
    "start_time": "2024-01-19T07:53:57.886Z"
   },
   {
    "duration": 14,
    "start_time": "2024-01-19T07:57:06.075Z"
   },
   {
    "duration": 1090,
    "start_time": "2024-01-19T07:57:50.687Z"
   },
   {
    "duration": 184,
    "start_time": "2024-01-19T07:57:51.779Z"
   },
   {
    "duration": 12,
    "start_time": "2024-01-19T07:57:51.964Z"
   },
   {
    "duration": 13,
    "start_time": "2024-01-19T07:57:51.978Z"
   },
   {
    "duration": 21,
    "start_time": "2024-01-19T07:57:51.994Z"
   },
   {
    "duration": 31,
    "start_time": "2024-01-19T07:57:52.017Z"
   },
   {
    "duration": 14,
    "start_time": "2024-01-19T07:57:52.050Z"
   },
   {
    "duration": 28,
    "start_time": "2024-01-19T07:57:52.066Z"
   },
   {
    "duration": 25,
    "start_time": "2024-01-19T07:57:52.096Z"
   },
   {
    "duration": 106,
    "start_time": "2024-01-19T07:57:52.123Z"
   },
   {
    "duration": 26,
    "start_time": "2024-01-19T07:57:52.231Z"
   },
   {
    "duration": 75,
    "start_time": "2024-01-19T07:57:52.265Z"
   },
   {
    "duration": 4,
    "start_time": "2024-01-19T07:57:52.342Z"
   },
   {
    "duration": 100,
    "start_time": "2024-01-19T07:57:52.350Z"
   },
   {
    "duration": 4,
    "start_time": "2024-01-19T07:57:52.451Z"
   },
   {
    "duration": 26,
    "start_time": "2024-01-19T07:57:52.457Z"
   },
   {
    "duration": 51,
    "start_time": "2024-01-19T07:57:52.485Z"
   },
   {
    "duration": 9,
    "start_time": "2024-01-19T07:57:52.538Z"
   },
   {
    "duration": 393,
    "start_time": "2024-01-19T07:57:52.549Z"
   },
   {
    "duration": 36,
    "start_time": "2024-01-19T07:57:52.944Z"
   },
   {
    "duration": 20,
    "start_time": "2024-01-19T07:57:52.982Z"
   },
   {
    "duration": 4,
    "start_time": "2024-01-19T07:57:53.003Z"
   },
   {
    "duration": 9,
    "start_time": "2024-01-19T07:57:53.008Z"
   },
   {
    "duration": 12,
    "start_time": "2024-01-19T07:57:53.019Z"
   },
   {
    "duration": 49,
    "start_time": "2024-01-19T07:57:53.032Z"
   },
   {
    "duration": 89,
    "start_time": "2024-01-19T07:57:53.083Z"
   },
   {
    "duration": 4,
    "start_time": "2024-01-19T07:57:53.173Z"
   },
   {
    "duration": 172,
    "start_time": "2024-01-19T07:57:53.179Z"
   },
   {
    "duration": 3,
    "start_time": "2024-01-19T07:57:53.353Z"
   },
   {
    "duration": 38,
    "start_time": "2024-01-19T07:57:53.358Z"
   },
   {
    "duration": 33,
    "start_time": "2024-01-19T07:57:53.397Z"
   },
   {
    "duration": 21,
    "start_time": "2024-01-19T07:57:53.432Z"
   },
   {
    "duration": 10,
    "start_time": "2024-01-19T07:57:53.466Z"
   },
   {
    "duration": 22,
    "start_time": "2024-01-19T07:57:53.477Z"
   },
   {
    "duration": 57,
    "start_time": "2024-01-19T07:57:53.500Z"
   },
   {
    "duration": 45,
    "start_time": "2024-01-19T07:57:53.559Z"
   },
   {
    "duration": 36,
    "start_time": "2024-01-19T07:57:53.605Z"
   },
   {
    "duration": 52,
    "start_time": "2024-01-19T07:57:53.642Z"
   },
   {
    "duration": 37,
    "start_time": "2024-01-19T07:57:53.696Z"
   },
   {
    "duration": 55,
    "start_time": "2024-01-19T07:57:53.735Z"
   },
   {
    "duration": 35,
    "start_time": "2024-01-19T07:57:53.793Z"
   },
   {
    "duration": 51,
    "start_time": "2024-01-19T07:57:53.830Z"
   },
   {
    "duration": 35,
    "start_time": "2024-01-19T07:57:53.883Z"
   },
   {
    "duration": 56,
    "start_time": "2024-01-19T07:57:53.919Z"
   },
   {
    "duration": 34,
    "start_time": "2024-01-19T07:57:53.977Z"
   },
   {
    "duration": 5,
    "start_time": "2024-01-19T07:57:54.013Z"
   },
   {
    "duration": 88,
    "start_time": "2024-01-19T07:57:54.019Z"
   },
   {
    "duration": 86,
    "start_time": "2024-01-19T07:57:54.109Z"
   },
   {
    "duration": 86,
    "start_time": "2024-01-19T07:57:54.197Z"
   },
   {
    "duration": 225,
    "start_time": "2024-01-19T07:57:54.285Z"
   },
   {
    "duration": 96,
    "start_time": "2024-01-19T08:05:50.170Z"
   },
   {
    "duration": 123,
    "start_time": "2024-01-19T08:07:05.859Z"
   },
   {
    "duration": 1229,
    "start_time": "2024-01-19T08:07:12.378Z"
   },
   {
    "duration": 180,
    "start_time": "2024-01-19T08:07:13.609Z"
   },
   {
    "duration": 12,
    "start_time": "2024-01-19T08:07:13.790Z"
   },
   {
    "duration": 5,
    "start_time": "2024-01-19T08:07:13.804Z"
   },
   {
    "duration": 10,
    "start_time": "2024-01-19T08:07:13.811Z"
   },
   {
    "duration": 37,
    "start_time": "2024-01-19T08:07:13.823Z"
   },
   {
    "duration": 12,
    "start_time": "2024-01-19T08:07:13.865Z"
   },
   {
    "duration": 21,
    "start_time": "2024-01-19T08:07:13.879Z"
   },
   {
    "duration": 20,
    "start_time": "2024-01-19T08:07:13.901Z"
   },
   {
    "duration": 111,
    "start_time": "2024-01-19T08:07:13.923Z"
   },
   {
    "duration": 30,
    "start_time": "2024-01-19T08:07:14.035Z"
   },
   {
    "duration": 70,
    "start_time": "2024-01-19T08:07:14.067Z"
   },
   {
    "duration": 4,
    "start_time": "2024-01-19T08:07:14.138Z"
   },
   {
    "duration": 101,
    "start_time": "2024-01-19T08:07:14.143Z"
   },
   {
    "duration": 4,
    "start_time": "2024-01-19T08:07:14.246Z"
   },
   {
    "duration": 17,
    "start_time": "2024-01-19T08:07:14.252Z"
   },
   {
    "duration": 10,
    "start_time": "2024-01-19T08:07:14.270Z"
   },
   {
    "duration": 13,
    "start_time": "2024-01-19T08:07:14.281Z"
   },
   {
    "duration": 407,
    "start_time": "2024-01-19T08:07:14.296Z"
   },
   {
    "duration": 24,
    "start_time": "2024-01-19T08:07:14.706Z"
   },
   {
    "duration": 34,
    "start_time": "2024-01-19T08:07:14.731Z"
   },
   {
    "duration": 47,
    "start_time": "2024-01-19T08:07:14.767Z"
   },
   {
    "duration": 7,
    "start_time": "2024-01-19T08:07:14.816Z"
   },
   {
    "duration": 15,
    "start_time": "2024-01-19T08:07:14.824Z"
   },
   {
    "duration": 27,
    "start_time": "2024-01-19T08:07:14.840Z"
   },
   {
    "duration": 61,
    "start_time": "2024-01-19T08:07:14.869Z"
   },
   {
    "duration": 4,
    "start_time": "2024-01-19T08:07:14.932Z"
   },
   {
    "duration": 75,
    "start_time": "2024-01-19T08:07:14.941Z"
   },
   {
    "duration": 4,
    "start_time": "2024-01-19T08:07:15.018Z"
   },
   {
    "duration": 199,
    "start_time": "2024-01-19T08:07:15.024Z"
   },
   {
    "duration": 49,
    "start_time": "2024-01-19T08:07:15.224Z"
   },
   {
    "duration": 34,
    "start_time": "2024-01-19T08:07:15.275Z"
   },
   {
    "duration": 73,
    "start_time": "2024-01-19T08:07:15.311Z"
   },
   {
    "duration": 24,
    "start_time": "2024-01-19T08:07:15.386Z"
   },
   {
    "duration": 13,
    "start_time": "2024-01-19T08:07:15.411Z"
   },
   {
    "duration": 60,
    "start_time": "2024-01-19T08:07:15.426Z"
   },
   {
    "duration": 39,
    "start_time": "2024-01-19T08:07:15.487Z"
   },
   {
    "duration": 51,
    "start_time": "2024-01-19T08:07:15.527Z"
   },
   {
    "duration": 36,
    "start_time": "2024-01-19T08:07:15.580Z"
   },
   {
    "duration": 50,
    "start_time": "2024-01-19T08:07:15.617Z"
   },
   {
    "duration": 48,
    "start_time": "2024-01-19T08:07:15.668Z"
   },
   {
    "duration": 35,
    "start_time": "2024-01-19T08:07:15.717Z"
   },
   {
    "duration": 41,
    "start_time": "2024-01-19T08:07:15.753Z"
   },
   {
    "duration": 39,
    "start_time": "2024-01-19T08:07:15.796Z"
   },
   {
    "duration": 59,
    "start_time": "2024-01-19T08:07:15.837Z"
   },
   {
    "duration": 51,
    "start_time": "2024-01-19T08:07:15.898Z"
   },
   {
    "duration": 15,
    "start_time": "2024-01-19T08:07:15.951Z"
   },
   {
    "duration": 111,
    "start_time": "2024-01-19T08:07:15.967Z"
   },
   {
    "duration": 111,
    "start_time": "2024-01-19T08:07:16.080Z"
   },
   {
    "duration": 84,
    "start_time": "2024-01-19T08:07:16.193Z"
   },
   {
    "duration": 227,
    "start_time": "2024-01-19T08:07:16.279Z"
   },
   {
    "duration": 1342,
    "start_time": "2024-01-19T08:09:22.163Z"
   },
   {
    "duration": 13,
    "start_time": "2024-01-19T08:09:57.368Z"
   },
   {
    "duration": 11,
    "start_time": "2024-01-19T08:10:31.851Z"
   },
   {
    "duration": 12,
    "start_time": "2024-01-19T08:10:37.475Z"
   },
   {
    "duration": 30,
    "start_time": "2024-01-19T08:12:23.627Z"
   },
   {
    "duration": 29,
    "start_time": "2024-01-19T08:12:43.399Z"
   },
   {
    "duration": 1231,
    "start_time": "2024-01-19T08:12:50.983Z"
   },
   {
    "duration": 182,
    "start_time": "2024-01-19T08:12:52.216Z"
   },
   {
    "duration": 12,
    "start_time": "2024-01-19T08:12:52.399Z"
   },
   {
    "duration": 29,
    "start_time": "2024-01-19T08:12:52.413Z"
   },
   {
    "duration": 16,
    "start_time": "2024-01-19T08:12:52.444Z"
   },
   {
    "duration": 28,
    "start_time": "2024-01-19T08:12:52.462Z"
   },
   {
    "duration": 39,
    "start_time": "2024-01-19T08:12:52.492Z"
   },
   {
    "duration": 38,
    "start_time": "2024-01-19T08:12:52.533Z"
   },
   {
    "duration": 32,
    "start_time": "2024-01-19T08:12:52.572Z"
   },
   {
    "duration": 111,
    "start_time": "2024-01-19T08:12:52.607Z"
   },
   {
    "duration": 24,
    "start_time": "2024-01-19T08:12:52.720Z"
   },
   {
    "duration": 93,
    "start_time": "2024-01-19T08:12:52.746Z"
   },
   {
    "duration": 4,
    "start_time": "2024-01-19T08:12:52.841Z"
   },
   {
    "duration": 108,
    "start_time": "2024-01-19T08:12:52.847Z"
   },
   {
    "duration": 5,
    "start_time": "2024-01-19T08:12:52.956Z"
   },
   {
    "duration": 29,
    "start_time": "2024-01-19T08:12:52.965Z"
   },
   {
    "duration": 25,
    "start_time": "2024-01-19T08:12:52.996Z"
   },
   {
    "duration": 33,
    "start_time": "2024-01-19T08:12:53.023Z"
   },
   {
    "duration": 425,
    "start_time": "2024-01-19T08:12:53.058Z"
   },
   {
    "duration": 20,
    "start_time": "2024-01-19T08:12:53.484Z"
   },
   {
    "duration": 45,
    "start_time": "2024-01-19T08:12:53.506Z"
   },
   {
    "duration": 8,
    "start_time": "2024-01-19T08:12:53.553Z"
   },
   {
    "duration": 38,
    "start_time": "2024-01-19T08:12:53.563Z"
   },
   {
    "duration": 29,
    "start_time": "2024-01-19T08:12:53.603Z"
   },
   {
    "duration": 131,
    "start_time": "2024-01-19T08:12:53.634Z"
   },
   {
    "duration": 0,
    "start_time": "2024-01-19T08:12:53.767Z"
   },
   {
    "duration": 0,
    "start_time": "2024-01-19T08:12:53.769Z"
   },
   {
    "duration": 0,
    "start_time": "2024-01-19T08:12:53.770Z"
   },
   {
    "duration": 0,
    "start_time": "2024-01-19T08:12:53.771Z"
   },
   {
    "duration": 0,
    "start_time": "2024-01-19T08:12:53.772Z"
   },
   {
    "duration": 0,
    "start_time": "2024-01-19T08:12:53.773Z"
   },
   {
    "duration": 0,
    "start_time": "2024-01-19T08:12:53.775Z"
   },
   {
    "duration": 0,
    "start_time": "2024-01-19T08:12:53.776Z"
   },
   {
    "duration": 0,
    "start_time": "2024-01-19T08:12:53.778Z"
   },
   {
    "duration": 0,
    "start_time": "2024-01-19T08:12:53.779Z"
   },
   {
    "duration": 0,
    "start_time": "2024-01-19T08:12:53.780Z"
   },
   {
    "duration": 0,
    "start_time": "2024-01-19T08:12:53.782Z"
   },
   {
    "duration": 0,
    "start_time": "2024-01-19T08:12:53.784Z"
   },
   {
    "duration": 0,
    "start_time": "2024-01-19T08:12:53.786Z"
   },
   {
    "duration": 0,
    "start_time": "2024-01-19T08:12:53.787Z"
   },
   {
    "duration": 0,
    "start_time": "2024-01-19T08:12:53.789Z"
   },
   {
    "duration": 0,
    "start_time": "2024-01-19T08:12:53.790Z"
   },
   {
    "duration": 0,
    "start_time": "2024-01-19T08:12:53.791Z"
   },
   {
    "duration": 0,
    "start_time": "2024-01-19T08:12:53.792Z"
   },
   {
    "duration": 0,
    "start_time": "2024-01-19T08:12:53.793Z"
   },
   {
    "duration": 0,
    "start_time": "2024-01-19T08:12:53.794Z"
   },
   {
    "duration": 0,
    "start_time": "2024-01-19T08:12:53.795Z"
   },
   {
    "duration": 0,
    "start_time": "2024-01-19T08:12:53.797Z"
   },
   {
    "duration": 0,
    "start_time": "2024-01-19T08:12:53.798Z"
   },
   {
    "duration": 0,
    "start_time": "2024-01-19T08:12:53.799Z"
   },
   {
    "duration": 0,
    "start_time": "2024-01-19T08:12:53.800Z"
   },
   {
    "duration": 25,
    "start_time": "2024-01-19T08:13:35.168Z"
   },
   {
    "duration": 1200,
    "start_time": "2024-01-19T08:13:54.532Z"
   },
   {
    "duration": 258,
    "start_time": "2024-01-19T08:13:55.734Z"
   },
   {
    "duration": 15,
    "start_time": "2024-01-19T08:13:55.994Z"
   },
   {
    "duration": 15,
    "start_time": "2024-01-19T08:13:56.012Z"
   },
   {
    "duration": 24,
    "start_time": "2024-01-19T08:13:56.029Z"
   },
   {
    "duration": 48,
    "start_time": "2024-01-19T08:13:56.055Z"
   },
   {
    "duration": 13,
    "start_time": "2024-01-19T08:13:56.104Z"
   },
   {
    "duration": 41,
    "start_time": "2024-01-19T08:13:56.119Z"
   },
   {
    "duration": 38,
    "start_time": "2024-01-19T08:13:56.162Z"
   },
   {
    "duration": 111,
    "start_time": "2024-01-19T08:13:56.202Z"
   },
   {
    "duration": 23,
    "start_time": "2024-01-19T08:13:56.314Z"
   },
   {
    "duration": 72,
    "start_time": "2024-01-19T08:13:56.338Z"
   },
   {
    "duration": 3,
    "start_time": "2024-01-19T08:13:56.412Z"
   },
   {
    "duration": 111,
    "start_time": "2024-01-19T08:13:56.416Z"
   },
   {
    "duration": 5,
    "start_time": "2024-01-19T08:13:56.528Z"
   },
   {
    "duration": 30,
    "start_time": "2024-01-19T08:13:56.534Z"
   },
   {
    "duration": 32,
    "start_time": "2024-01-19T08:13:56.565Z"
   },
   {
    "duration": 30,
    "start_time": "2024-01-19T08:13:56.599Z"
   },
   {
    "duration": 394,
    "start_time": "2024-01-19T08:13:56.631Z"
   },
   {
    "duration": 21,
    "start_time": "2024-01-19T08:13:57.027Z"
   },
   {
    "duration": 40,
    "start_time": "2024-01-19T08:13:57.049Z"
   },
   {
    "duration": 9,
    "start_time": "2024-01-19T08:13:57.090Z"
   },
   {
    "duration": 29,
    "start_time": "2024-01-19T08:13:57.101Z"
   },
   {
    "duration": 55,
    "start_time": "2024-01-19T08:13:57.132Z"
   },
   {
    "duration": 44,
    "start_time": "2024-01-19T08:13:57.189Z"
   },
   {
    "duration": 68,
    "start_time": "2024-01-19T08:13:57.235Z"
   },
   {
    "duration": 5,
    "start_time": "2024-01-19T08:13:57.305Z"
   },
   {
    "duration": 71,
    "start_time": "2024-01-19T08:13:57.313Z"
   },
   {
    "duration": 4,
    "start_time": "2024-01-19T08:13:57.386Z"
   },
   {
    "duration": 169,
    "start_time": "2024-01-19T08:13:57.391Z"
   },
   {
    "duration": 31,
    "start_time": "2024-01-19T08:13:57.562Z"
   },
   {
    "duration": 83,
    "start_time": "2024-01-19T08:13:57.595Z"
   },
   {
    "duration": 19,
    "start_time": "2024-01-19T08:13:57.680Z"
   },
   {
    "duration": 9,
    "start_time": "2024-01-19T08:13:57.700Z"
   },
   {
    "duration": 26,
    "start_time": "2024-01-19T08:13:57.710Z"
   },
   {
    "duration": 54,
    "start_time": "2024-01-19T08:13:57.738Z"
   },
   {
    "duration": 38,
    "start_time": "2024-01-19T08:13:57.793Z"
   },
   {
    "duration": 52,
    "start_time": "2024-01-19T08:13:57.833Z"
   },
   {
    "duration": 37,
    "start_time": "2024-01-19T08:13:57.887Z"
   },
   {
    "duration": 52,
    "start_time": "2024-01-19T08:13:57.926Z"
   },
   {
    "duration": 38,
    "start_time": "2024-01-19T08:13:57.980Z"
   },
   {
    "duration": 56,
    "start_time": "2024-01-19T08:13:58.019Z"
   },
   {
    "duration": 36,
    "start_time": "2024-01-19T08:13:58.076Z"
   },
   {
    "duration": 52,
    "start_time": "2024-01-19T08:13:58.114Z"
   },
   {
    "duration": 39,
    "start_time": "2024-01-19T08:13:58.167Z"
   },
   {
    "duration": 35,
    "start_time": "2024-01-19T08:13:58.208Z"
   },
   {
    "duration": 23,
    "start_time": "2024-01-19T08:13:58.245Z"
   },
   {
    "duration": 100,
    "start_time": "2024-01-19T08:13:58.270Z"
   },
   {
    "duration": 99,
    "start_time": "2024-01-19T08:13:58.372Z"
   },
   {
    "duration": 95,
    "start_time": "2024-01-19T08:13:58.473Z"
   },
   {
    "duration": 239,
    "start_time": "2024-01-19T08:13:58.570Z"
   },
   {
    "duration": 11,
    "start_time": "2024-01-19T08:19:11.791Z"
   },
   {
    "duration": 7,
    "start_time": "2024-01-19T08:20:05.201Z"
   },
   {
    "duration": 81,
    "start_time": "2024-01-19T08:21:06.517Z"
   },
   {
    "duration": 3,
    "start_time": "2024-01-19T08:22:13.171Z"
   },
   {
    "duration": 38,
    "start_time": "2024-01-19T08:24:15.720Z"
   },
   {
    "duration": 5,
    "start_time": "2024-01-19T08:25:01.356Z"
   },
   {
    "duration": 110,
    "start_time": "2024-01-19T08:26:14.791Z"
   },
   {
    "duration": 6,
    "start_time": "2024-01-19T08:26:49.081Z"
   },
   {
    "duration": 109,
    "start_time": "2024-01-19T08:27:19.657Z"
   },
   {
    "duration": 123,
    "start_time": "2024-01-19T08:28:22.971Z"
   },
   {
    "duration": 154,
    "start_time": "2024-01-19T08:28:37.362Z"
   },
   {
    "duration": 103,
    "start_time": "2024-01-19T08:32:00.663Z"
   },
   {
    "duration": 107,
    "start_time": "2024-01-19T08:35:08.690Z"
   },
   {
    "duration": 105,
    "start_time": "2024-01-19T08:35:23.406Z"
   },
   {
    "duration": 110,
    "start_time": "2024-01-19T08:35:33.330Z"
   },
   {
    "duration": 46,
    "start_time": "2024-01-19T14:02:37.384Z"
   },
   {
    "duration": 1161,
    "start_time": "2024-01-19T14:03:16.663Z"
   },
   {
    "duration": 173,
    "start_time": "2024-01-19T14:03:17.826Z"
   },
   {
    "duration": 11,
    "start_time": "2024-01-19T14:03:18.001Z"
   },
   {
    "duration": 25,
    "start_time": "2024-01-19T14:03:18.014Z"
   },
   {
    "duration": 19,
    "start_time": "2024-01-19T14:03:18.041Z"
   },
   {
    "duration": 29,
    "start_time": "2024-01-19T14:03:18.061Z"
   },
   {
    "duration": 13,
    "start_time": "2024-01-19T14:03:18.092Z"
   },
   {
    "duration": 22,
    "start_time": "2024-01-19T14:03:18.106Z"
   },
   {
    "duration": 17,
    "start_time": "2024-01-19T14:03:18.129Z"
   },
   {
    "duration": 103,
    "start_time": "2024-01-19T14:03:18.149Z"
   },
   {
    "duration": 21,
    "start_time": "2024-01-19T14:03:18.254Z"
   },
   {
    "duration": 77,
    "start_time": "2024-01-19T14:03:18.276Z"
   },
   {
    "duration": 3,
    "start_time": "2024-01-19T14:03:18.355Z"
   },
   {
    "duration": 101,
    "start_time": "2024-01-19T14:03:18.359Z"
   },
   {
    "duration": 4,
    "start_time": "2024-01-19T14:03:18.462Z"
   },
   {
    "duration": 26,
    "start_time": "2024-01-19T14:03:18.468Z"
   },
   {
    "duration": 31,
    "start_time": "2024-01-19T14:03:18.497Z"
   },
   {
    "duration": 6,
    "start_time": "2024-01-19T14:03:18.529Z"
   },
   {
    "duration": 401,
    "start_time": "2024-01-19T14:03:18.537Z"
   },
   {
    "duration": 22,
    "start_time": "2024-01-19T14:03:18.940Z"
   },
   {
    "duration": 35,
    "start_time": "2024-01-19T14:03:18.964Z"
   },
   {
    "duration": 5,
    "start_time": "2024-01-19T14:03:19.001Z"
   },
   {
    "duration": 38,
    "start_time": "2024-01-19T14:03:19.007Z"
   },
   {
    "duration": 25,
    "start_time": "2024-01-19T14:03:19.046Z"
   },
   {
    "duration": 50,
    "start_time": "2024-01-19T14:03:19.073Z"
   },
   {
    "duration": 75,
    "start_time": "2024-01-19T14:03:19.125Z"
   },
   {
    "duration": 5,
    "start_time": "2024-01-19T14:03:19.202Z"
   },
   {
    "duration": 71,
    "start_time": "2024-01-19T14:03:19.210Z"
   },
   {
    "duration": 4,
    "start_time": "2024-01-19T14:03:19.282Z"
   },
   {
    "duration": 348,
    "start_time": "2024-01-19T14:03:19.287Z"
   },
   {
    "duration": 68,
    "start_time": "2024-01-19T14:03:19.637Z"
   },
   {
    "duration": 7,
    "start_time": "2024-01-19T14:03:19.706Z"
   },
   {
    "duration": 93,
    "start_time": "2024-01-19T14:03:19.715Z"
   },
   {
    "duration": 33,
    "start_time": "2024-01-19T14:03:19.809Z"
   },
   {
    "duration": 39,
    "start_time": "2024-01-19T14:03:19.843Z"
   },
   {
    "duration": 44,
    "start_time": "2024-01-19T14:03:19.884Z"
   },
   {
    "duration": 62,
    "start_time": "2024-01-19T14:03:19.930Z"
   },
   {
    "duration": 170,
    "start_time": "2024-01-19T14:03:19.994Z"
   },
   {
    "duration": 118,
    "start_time": "2024-01-19T14:03:20.166Z"
   },
   {
    "duration": 115,
    "start_time": "2024-01-19T14:03:20.294Z"
   },
   {
    "duration": 176,
    "start_time": "2024-01-19T14:03:20.410Z"
   },
   {
    "duration": 72,
    "start_time": "2024-01-19T14:08:44.249Z"
   },
   {
    "duration": 41,
    "start_time": "2024-01-19T14:08:59.335Z"
   },
   {
    "duration": 1327,
    "start_time": "2024-01-19T14:09:10.239Z"
   },
   {
    "duration": 488,
    "start_time": "2024-01-19T14:09:11.568Z"
   },
   {
    "duration": 11,
    "start_time": "2024-01-19T14:09:12.058Z"
   },
   {
    "duration": 3,
    "start_time": "2024-01-19T14:09:12.071Z"
   },
   {
    "duration": 7,
    "start_time": "2024-01-19T14:09:12.076Z"
   },
   {
    "duration": 22,
    "start_time": "2024-01-19T14:09:12.084Z"
   },
   {
    "duration": 20,
    "start_time": "2024-01-19T14:09:12.108Z"
   },
   {
    "duration": 20,
    "start_time": "2024-01-19T14:09:12.129Z"
   },
   {
    "duration": 14,
    "start_time": "2024-01-19T14:09:12.151Z"
   },
   {
    "duration": 102,
    "start_time": "2024-01-19T14:09:12.167Z"
   },
   {
    "duration": 21,
    "start_time": "2024-01-19T14:09:12.270Z"
   },
   {
    "duration": 74,
    "start_time": "2024-01-19T14:09:12.293Z"
   },
   {
    "duration": 3,
    "start_time": "2024-01-19T14:09:12.369Z"
   },
   {
    "duration": 101,
    "start_time": "2024-01-19T14:09:12.373Z"
   },
   {
    "duration": 4,
    "start_time": "2024-01-19T14:09:12.476Z"
   },
   {
    "duration": 24,
    "start_time": "2024-01-19T14:09:12.481Z"
   },
   {
    "duration": 10,
    "start_time": "2024-01-19T14:09:12.507Z"
   },
   {
    "duration": 21,
    "start_time": "2024-01-19T14:09:12.519Z"
   },
   {
    "duration": 362,
    "start_time": "2024-01-19T14:09:12.542Z"
   },
   {
    "duration": 28,
    "start_time": "2024-01-19T14:09:12.906Z"
   },
   {
    "duration": 24,
    "start_time": "2024-01-19T14:09:12.936Z"
   },
   {
    "duration": 4,
    "start_time": "2024-01-19T14:09:12.961Z"
   },
   {
    "duration": 6,
    "start_time": "2024-01-19T14:09:12.966Z"
   },
   {
    "duration": 10,
    "start_time": "2024-01-19T14:09:12.974Z"
   },
   {
    "duration": 50,
    "start_time": "2024-01-19T14:09:12.985Z"
   },
   {
    "duration": 56,
    "start_time": "2024-01-19T14:09:13.037Z"
   },
   {
    "duration": 4,
    "start_time": "2024-01-19T14:09:13.095Z"
   },
   {
    "duration": 52,
    "start_time": "2024-01-19T14:09:13.118Z"
   },
   {
    "duration": 4,
    "start_time": "2024-01-19T14:09:13.171Z"
   },
   {
    "duration": 136,
    "start_time": "2024-01-19T14:09:13.176Z"
   },
   {
    "duration": 33,
    "start_time": "2024-01-19T14:09:13.313Z"
   },
   {
    "duration": 6,
    "start_time": "2024-01-19T14:09:13.348Z"
   },
   {
    "duration": 92,
    "start_time": "2024-01-19T14:09:13.355Z"
   },
   {
    "duration": 72,
    "start_time": "2024-01-19T14:09:13.448Z"
   },
   {
    "duration": 19,
    "start_time": "2024-01-19T14:09:13.522Z"
   },
   {
    "duration": 4,
    "start_time": "2024-01-19T14:09:13.542Z"
   },
   {
    "duration": 5,
    "start_time": "2024-01-19T14:09:13.547Z"
   },
   {
    "duration": 133,
    "start_time": "2024-01-19T14:09:13.553Z"
   },
   {
    "duration": 136,
    "start_time": "2024-01-19T14:09:13.688Z"
   },
   {
    "duration": 122,
    "start_time": "2024-01-19T14:09:13.825Z"
   },
   {
    "duration": 171,
    "start_time": "2024-01-19T14:09:13.948Z"
   },
   {
    "duration": 152,
    "start_time": "2024-01-19T14:09:24.347Z"
   },
   {
    "duration": 111,
    "start_time": "2024-01-19T14:10:52.283Z"
   },
   {
    "duration": 111,
    "start_time": "2024-01-19T14:11:03.115Z"
   },
   {
    "duration": 7292,
    "start_time": "2024-01-19T14:12:26.186Z"
   },
   {
    "duration": 103,
    "start_time": "2024-01-19T14:12:45.377Z"
   },
   {
    "duration": 5,
    "start_time": "2024-01-19T14:16:04.659Z"
   },
   {
    "duration": 130,
    "start_time": "2024-01-19T14:16:08.594Z"
   },
   {
    "duration": 1464,
    "start_time": "2024-01-19T14:16:55.598Z"
   },
   {
    "duration": 5,
    "start_time": "2024-01-19T14:17:08.961Z"
   },
   {
    "duration": 103,
    "start_time": "2024-01-19T14:17:24.596Z"
   },
   {
    "duration": 1154,
    "start_time": "2024-01-19T14:19:05.580Z"
   },
   {
    "duration": 177,
    "start_time": "2024-01-19T14:19:06.736Z"
   },
   {
    "duration": 12,
    "start_time": "2024-01-19T14:19:06.914Z"
   },
   {
    "duration": 3,
    "start_time": "2024-01-19T14:19:06.927Z"
   },
   {
    "duration": 7,
    "start_time": "2024-01-19T14:19:06.932Z"
   },
   {
    "duration": 20,
    "start_time": "2024-01-19T14:19:06.941Z"
   },
   {
    "duration": 12,
    "start_time": "2024-01-19T14:19:06.962Z"
   },
   {
    "duration": 46,
    "start_time": "2024-01-19T14:19:06.975Z"
   },
   {
    "duration": 16,
    "start_time": "2024-01-19T14:19:07.023Z"
   },
   {
    "duration": 99,
    "start_time": "2024-01-19T14:19:07.041Z"
   },
   {
    "duration": 22,
    "start_time": "2024-01-19T14:19:07.142Z"
   },
   {
    "duration": 80,
    "start_time": "2024-01-19T14:19:07.165Z"
   },
   {
    "duration": 4,
    "start_time": "2024-01-19T14:19:07.246Z"
   },
   {
    "duration": 95,
    "start_time": "2024-01-19T14:19:07.252Z"
   },
   {
    "duration": 4,
    "start_time": "2024-01-19T14:19:07.349Z"
   },
   {
    "duration": 7,
    "start_time": "2024-01-19T14:19:07.355Z"
   },
   {
    "duration": 9,
    "start_time": "2024-01-19T14:19:07.363Z"
   },
   {
    "duration": 5,
    "start_time": "2024-01-19T14:19:07.373Z"
   },
   {
    "duration": 385,
    "start_time": "2024-01-19T14:19:07.379Z"
   },
   {
    "duration": 21,
    "start_time": "2024-01-19T14:19:07.765Z"
   },
   {
    "duration": 36,
    "start_time": "2024-01-19T14:19:07.787Z"
   },
   {
    "duration": 4,
    "start_time": "2024-01-19T14:19:07.824Z"
   },
   {
    "duration": 26,
    "start_time": "2024-01-19T14:19:07.829Z"
   },
   {
    "duration": 27,
    "start_time": "2024-01-19T14:19:07.856Z"
   },
   {
    "duration": 30,
    "start_time": "2024-01-19T14:19:07.885Z"
   },
   {
    "duration": 59,
    "start_time": "2024-01-19T14:19:07.917Z"
   },
   {
    "duration": 5,
    "start_time": "2024-01-19T14:19:07.978Z"
   },
   {
    "duration": 72,
    "start_time": "2024-01-19T14:19:07.984Z"
   },
   {
    "duration": 4,
    "start_time": "2024-01-19T14:19:08.058Z"
   },
   {
    "duration": 132,
    "start_time": "2024-01-19T14:19:08.063Z"
   },
   {
    "duration": 39,
    "start_time": "2024-01-19T14:19:08.197Z"
   },
   {
    "duration": 7,
    "start_time": "2024-01-19T14:19:08.237Z"
   },
   {
    "duration": 98,
    "start_time": "2024-01-19T14:19:08.245Z"
   },
   {
    "duration": 32,
    "start_time": "2024-01-19T14:19:08.345Z"
   },
   {
    "duration": 52,
    "start_time": "2024-01-19T14:19:08.378Z"
   },
   {
    "duration": 2,
    "start_time": "2024-01-19T14:19:08.431Z"
   },
   {
    "duration": 11,
    "start_time": "2024-01-19T14:19:08.434Z"
   },
   {
    "duration": 1693,
    "start_time": "2024-01-19T14:19:08.446Z"
   },
   {
    "duration": 118,
    "start_time": "2024-01-19T14:19:10.141Z"
   },
   {
    "duration": 123,
    "start_time": "2024-01-19T14:19:10.261Z"
   },
   {
    "duration": 165,
    "start_time": "2024-01-19T14:19:10.389Z"
   },
   {
    "duration": 1559,
    "start_time": "2024-01-19T19:12:34.144Z"
   },
   {
    "duration": 552,
    "start_time": "2024-01-19T19:12:35.705Z"
   },
   {
    "duration": 16,
    "start_time": "2024-01-19T19:12:36.266Z"
   },
   {
    "duration": 3,
    "start_time": "2024-01-19T19:12:36.284Z"
   },
   {
    "duration": 10,
    "start_time": "2024-01-19T19:12:36.289Z"
   },
   {
    "duration": 35,
    "start_time": "2024-01-19T19:12:36.300Z"
   },
   {
    "duration": 14,
    "start_time": "2024-01-19T19:12:36.336Z"
   },
   {
    "duration": 31,
    "start_time": "2024-01-19T19:12:36.362Z"
   },
   {
    "duration": 18,
    "start_time": "2024-01-19T19:12:36.394Z"
   },
   {
    "duration": 119,
    "start_time": "2024-01-19T19:12:36.415Z"
   },
   {
    "duration": 39,
    "start_time": "2024-01-19T19:12:36.536Z"
   },
   {
    "duration": 92,
    "start_time": "2024-01-19T19:12:36.576Z"
   },
   {
    "duration": 4,
    "start_time": "2024-01-19T19:12:36.670Z"
   },
   {
    "duration": 101,
    "start_time": "2024-01-19T19:12:36.675Z"
   },
   {
    "duration": 6,
    "start_time": "2024-01-19T19:12:36.777Z"
   },
   {
    "duration": 9,
    "start_time": "2024-01-19T19:12:36.784Z"
   },
   {
    "duration": 12,
    "start_time": "2024-01-19T19:12:36.795Z"
   },
   {
    "duration": 6,
    "start_time": "2024-01-19T19:12:36.809Z"
   },
   {
    "duration": 483,
    "start_time": "2024-01-19T19:12:36.817Z"
   },
   {
    "duration": 22,
    "start_time": "2024-01-19T19:12:37.302Z"
   },
   {
    "duration": 42,
    "start_time": "2024-01-19T19:12:37.326Z"
   },
   {
    "duration": 5,
    "start_time": "2024-01-19T19:12:37.370Z"
   },
   {
    "duration": 9,
    "start_time": "2024-01-19T19:12:37.377Z"
   },
   {
    "duration": 13,
    "start_time": "2024-01-19T19:12:37.388Z"
   },
   {
    "duration": 67,
    "start_time": "2024-01-19T19:12:37.403Z"
   },
   {
    "duration": 66,
    "start_time": "2024-01-19T19:12:37.472Z"
   },
   {
    "duration": 5,
    "start_time": "2024-01-19T19:12:37.539Z"
   },
   {
    "duration": 70,
    "start_time": "2024-01-19T19:12:37.559Z"
   },
   {
    "duration": 4,
    "start_time": "2024-01-19T19:12:37.630Z"
   },
   {
    "duration": 416,
    "start_time": "2024-01-19T19:12:37.635Z"
   },
   {
    "duration": 45,
    "start_time": "2024-01-19T19:12:38.053Z"
   },
   {
    "duration": 14,
    "start_time": "2024-01-19T19:12:38.100Z"
   },
   {
    "duration": 107,
    "start_time": "2024-01-19T19:12:38.116Z"
   },
   {
    "duration": 67,
    "start_time": "2024-01-19T19:12:38.225Z"
   },
   {
    "duration": 36,
    "start_time": "2024-01-19T19:12:38.293Z"
   },
   {
    "duration": 2,
    "start_time": "2024-01-19T19:12:38.330Z"
   },
   {
    "duration": 7,
    "start_time": "2024-01-19T19:12:38.334Z"
   },
   {
    "duration": 72,
    "start_time": "2024-01-19T19:12:38.343Z"
   },
   {
    "duration": 0,
    "start_time": "2024-01-19T19:12:38.417Z"
   },
   {
    "duration": 0,
    "start_time": "2024-01-19T19:12:38.418Z"
   },
   {
    "duration": 0,
    "start_time": "2024-01-19T19:12:38.419Z"
   },
   {
    "duration": 142,
    "start_time": "2024-01-19T19:13:05.784Z"
   },
   {
    "duration": 4,
    "start_time": "2024-01-19T19:14:09.597Z"
   },
   {
    "duration": 1225,
    "start_time": "2024-01-19T19:14:34.602Z"
   },
   {
    "duration": 182,
    "start_time": "2024-01-19T19:14:35.829Z"
   },
   {
    "duration": 13,
    "start_time": "2024-01-19T19:14:36.012Z"
   },
   {
    "duration": 4,
    "start_time": "2024-01-19T19:14:36.027Z"
   },
   {
    "duration": 27,
    "start_time": "2024-01-19T19:14:36.034Z"
   },
   {
    "duration": 24,
    "start_time": "2024-01-19T19:14:36.063Z"
   },
   {
    "duration": 15,
    "start_time": "2024-01-19T19:14:36.089Z"
   },
   {
    "duration": 22,
    "start_time": "2024-01-19T19:14:36.105Z"
   },
   {
    "duration": 42,
    "start_time": "2024-01-19T19:14:36.129Z"
   },
   {
    "duration": 116,
    "start_time": "2024-01-19T19:14:36.173Z"
   },
   {
    "duration": 24,
    "start_time": "2024-01-19T19:14:36.290Z"
   },
   {
    "duration": 86,
    "start_time": "2024-01-19T19:14:36.316Z"
   },
   {
    "duration": 3,
    "start_time": "2024-01-19T19:14:36.404Z"
   },
   {
    "duration": 102,
    "start_time": "2024-01-19T19:14:36.410Z"
   },
   {
    "duration": 5,
    "start_time": "2024-01-19T19:14:36.514Z"
   },
   {
    "duration": 23,
    "start_time": "2024-01-19T19:14:36.520Z"
   },
   {
    "duration": 14,
    "start_time": "2024-01-19T19:14:36.545Z"
   },
   {
    "duration": 6,
    "start_time": "2024-01-19T19:14:36.561Z"
   },
   {
    "duration": 440,
    "start_time": "2024-01-19T19:14:36.569Z"
   },
   {
    "duration": 23,
    "start_time": "2024-01-19T19:14:37.011Z"
   },
   {
    "duration": 38,
    "start_time": "2024-01-19T19:14:37.036Z"
   },
   {
    "duration": 4,
    "start_time": "2024-01-19T19:14:37.076Z"
   },
   {
    "duration": 15,
    "start_time": "2024-01-19T19:14:37.082Z"
   },
   {
    "duration": 12,
    "start_time": "2024-01-19T19:14:37.098Z"
   },
   {
    "duration": 53,
    "start_time": "2024-01-19T19:14:37.111Z"
   },
   {
    "duration": 63,
    "start_time": "2024-01-19T19:14:37.166Z"
   },
   {
    "duration": 5,
    "start_time": "2024-01-19T19:14:37.230Z"
   },
   {
    "duration": 74,
    "start_time": "2024-01-19T19:14:37.236Z"
   },
   {
    "duration": 4,
    "start_time": "2024-01-19T19:14:37.312Z"
   },
   {
    "duration": 409,
    "start_time": "2024-01-19T19:14:37.318Z"
   },
   {
    "duration": 41,
    "start_time": "2024-01-19T19:14:37.729Z"
   },
   {
    "duration": 7,
    "start_time": "2024-01-19T19:14:37.772Z"
   },
   {
    "duration": 98,
    "start_time": "2024-01-19T19:14:37.781Z"
   },
   {
    "duration": 34,
    "start_time": "2024-01-19T19:14:37.881Z"
   },
   {
    "duration": 48,
    "start_time": "2024-01-19T19:14:37.917Z"
   },
   {
    "duration": 2,
    "start_time": "2024-01-19T19:14:37.967Z"
   },
   {
    "duration": 10,
    "start_time": "2024-01-19T19:14:37.971Z"
   },
   {
    "duration": 20,
    "start_time": "2024-01-19T19:14:37.982Z"
   },
   {
    "duration": 125,
    "start_time": "2024-01-19T19:14:38.003Z"
   },
   {
    "duration": 96,
    "start_time": "2024-01-19T19:14:38.130Z"
   },
   {
    "duration": 0,
    "start_time": "2024-01-19T19:14:38.228Z"
   },
   {
    "duration": 0,
    "start_time": "2024-01-19T19:14:38.230Z"
   },
   {
    "duration": 0,
    "start_time": "2024-01-19T19:14:38.232Z"
   },
   {
    "duration": 7,
    "start_time": "2024-01-19T19:15:18.715Z"
   },
   {
    "duration": 11,
    "start_time": "2024-01-19T19:15:39.237Z"
   },
   {
    "duration": 1243,
    "start_time": "2024-01-19T19:15:55.471Z"
   },
   {
    "duration": 182,
    "start_time": "2024-01-19T19:15:56.715Z"
   },
   {
    "duration": 12,
    "start_time": "2024-01-19T19:15:56.899Z"
   },
   {
    "duration": 4,
    "start_time": "2024-01-19T19:15:56.913Z"
   },
   {
    "duration": 19,
    "start_time": "2024-01-19T19:15:56.919Z"
   },
   {
    "duration": 36,
    "start_time": "2024-01-19T19:15:56.940Z"
   },
   {
    "duration": 16,
    "start_time": "2024-01-19T19:15:56.977Z"
   },
   {
    "duration": 29,
    "start_time": "2024-01-19T19:15:56.995Z"
   },
   {
    "duration": 38,
    "start_time": "2024-01-19T19:15:57.026Z"
   },
   {
    "duration": 109,
    "start_time": "2024-01-19T19:15:57.066Z"
   },
   {
    "duration": 23,
    "start_time": "2024-01-19T19:15:57.177Z"
   },
   {
    "duration": 85,
    "start_time": "2024-01-19T19:15:57.203Z"
   },
   {
    "duration": 4,
    "start_time": "2024-01-19T19:15:57.290Z"
   },
   {
    "duration": 101,
    "start_time": "2024-01-19T19:15:57.298Z"
   },
   {
    "duration": 5,
    "start_time": "2024-01-19T19:15:57.401Z"
   },
   {
    "duration": 11,
    "start_time": "2024-01-19T19:15:57.408Z"
   },
   {
    "duration": 12,
    "start_time": "2024-01-19T19:15:57.421Z"
   },
   {
    "duration": 28,
    "start_time": "2024-01-19T19:15:57.435Z"
   },
   {
    "duration": 418,
    "start_time": "2024-01-19T19:15:57.465Z"
   },
   {
    "duration": 25,
    "start_time": "2024-01-19T19:15:57.885Z"
   },
   {
    "duration": 21,
    "start_time": "2024-01-19T19:15:57.912Z"
   },
   {
    "duration": 5,
    "start_time": "2024-01-19T19:15:57.959Z"
   },
   {
    "duration": 7,
    "start_time": "2024-01-19T19:15:57.966Z"
   },
   {
    "duration": 12,
    "start_time": "2024-01-19T19:15:57.975Z"
   },
   {
    "duration": 26,
    "start_time": "2024-01-19T19:15:57.990Z"
   },
   {
    "duration": 98,
    "start_time": "2024-01-19T19:15:58.018Z"
   },
   {
    "duration": 4,
    "start_time": "2024-01-19T19:15:58.118Z"
   },
   {
    "duration": 74,
    "start_time": "2024-01-19T19:15:58.124Z"
   },
   {
    "duration": 4,
    "start_time": "2024-01-19T19:15:58.199Z"
   },
   {
    "duration": 418,
    "start_time": "2024-01-19T19:15:58.204Z"
   },
   {
    "duration": 44,
    "start_time": "2024-01-19T19:15:58.624Z"
   },
   {
    "duration": 7,
    "start_time": "2024-01-19T19:15:58.669Z"
   },
   {
    "duration": 93,
    "start_time": "2024-01-19T19:15:58.678Z"
   },
   {
    "duration": 34,
    "start_time": "2024-01-19T19:15:58.773Z"
   },
   {
    "duration": 53,
    "start_time": "2024-01-19T19:15:58.809Z"
   },
   {
    "duration": 3,
    "start_time": "2024-01-19T19:15:58.863Z"
   },
   {
    "duration": 14,
    "start_time": "2024-01-19T19:15:58.867Z"
   },
   {
    "duration": 122,
    "start_time": "2024-01-19T19:15:58.883Z"
   },
   {
    "duration": 135,
    "start_time": "2024-01-19T19:15:59.007Z"
   },
   {
    "duration": 163,
    "start_time": "2024-01-19T19:15:59.144Z"
   },
   {
    "duration": 199,
    "start_time": "2024-01-19T19:15:59.311Z"
   },
   {
    "duration": 1236,
    "start_time": "2024-04-08T07:38:02.127Z"
   },
   {
    "duration": 304,
    "start_time": "2024-04-08T07:38:03.365Z"
   },
   {
    "duration": 12,
    "start_time": "2024-04-08T07:38:03.671Z"
   },
   {
    "duration": 6,
    "start_time": "2024-04-08T07:38:03.685Z"
   },
   {
    "duration": 16,
    "start_time": "2024-04-08T07:38:03.693Z"
   },
   {
    "duration": 24,
    "start_time": "2024-04-08T07:38:03.711Z"
   },
   {
    "duration": 15,
    "start_time": "2024-04-08T07:38:03.737Z"
   },
   {
    "duration": 41,
    "start_time": "2024-04-08T07:38:03.754Z"
   },
   {
    "duration": 18,
    "start_time": "2024-04-08T07:38:03.797Z"
   },
   {
    "duration": 123,
    "start_time": "2024-04-08T07:38:03.817Z"
   },
   {
    "duration": 22,
    "start_time": "2024-04-08T07:38:03.941Z"
   },
   {
    "duration": 80,
    "start_time": "2024-04-08T07:38:03.964Z"
   },
   {
    "duration": 3,
    "start_time": "2024-04-08T07:38:04.045Z"
   },
   {
    "duration": 96,
    "start_time": "2024-04-08T07:38:04.052Z"
   },
   {
    "duration": 4,
    "start_time": "2024-04-08T07:38:04.150Z"
   },
   {
    "duration": 11,
    "start_time": "2024-04-08T07:38:04.156Z"
   },
   {
    "duration": 11,
    "start_time": "2024-04-08T07:38:04.182Z"
   },
   {
    "duration": 8,
    "start_time": "2024-04-08T07:38:04.195Z"
   },
   {
    "duration": 415,
    "start_time": "2024-04-08T07:38:04.205Z"
   },
   {
    "duration": 23,
    "start_time": "2024-04-08T07:38:04.622Z"
   },
   {
    "duration": 39,
    "start_time": "2024-04-08T07:38:04.647Z"
   },
   {
    "duration": 5,
    "start_time": "2024-04-08T07:38:04.688Z"
   },
   {
    "duration": 7,
    "start_time": "2024-04-08T07:38:04.695Z"
   },
   {
    "duration": 18,
    "start_time": "2024-04-08T07:38:04.703Z"
   },
   {
    "duration": 27,
    "start_time": "2024-04-08T07:38:04.723Z"
   },
   {
    "duration": 89,
    "start_time": "2024-04-08T07:38:04.752Z"
   },
   {
    "duration": 4,
    "start_time": "2024-04-08T07:38:04.843Z"
   },
   {
    "duration": 76,
    "start_time": "2024-04-08T07:38:04.848Z"
   },
   {
    "duration": 4,
    "start_time": "2024-04-08T07:38:04.925Z"
   },
   {
    "duration": 190,
    "start_time": "2024-04-08T07:38:04.930Z"
   },
   {
    "duration": 35,
    "start_time": "2024-04-08T07:38:05.122Z"
   },
   {
    "duration": 24,
    "start_time": "2024-04-08T07:38:05.159Z"
   },
   {
    "duration": 106,
    "start_time": "2024-04-08T07:38:05.185Z"
   },
   {
    "duration": 34,
    "start_time": "2024-04-08T07:38:05.292Z"
   },
   {
    "duration": 19,
    "start_time": "2024-04-08T07:38:05.328Z"
   },
   {
    "duration": 3,
    "start_time": "2024-04-08T07:38:05.349Z"
   },
   {
    "duration": 31,
    "start_time": "2024-04-08T07:38:05.353Z"
   },
   {
    "duration": 132,
    "start_time": "2024-04-08T07:38:05.386Z"
   },
   {
    "duration": 129,
    "start_time": "2024-04-08T07:38:05.519Z"
   },
   {
    "duration": 126,
    "start_time": "2024-04-08T07:38:05.650Z"
   },
   {
    "duration": 189,
    "start_time": "2024-04-08T07:38:05.784Z"
   },
   {
    "duration": 122,
    "start_time": "2024-04-08T07:41:49.832Z"
   },
   {
    "duration": 132,
    "start_time": "2024-04-08T07:42:48.039Z"
   },
   {
    "duration": 1239,
    "start_time": "2024-04-08T07:43:40.485Z"
   },
   {
    "duration": 205,
    "start_time": "2024-04-08T07:43:41.726Z"
   },
   {
    "duration": 13,
    "start_time": "2024-04-08T07:43:41.933Z"
   },
   {
    "duration": 4,
    "start_time": "2024-04-08T07:43:41.948Z"
   },
   {
    "duration": 18,
    "start_time": "2024-04-08T07:43:41.953Z"
   },
   {
    "duration": 23,
    "start_time": "2024-04-08T07:43:41.982Z"
   },
   {
    "duration": 13,
    "start_time": "2024-04-08T07:43:42.007Z"
   },
   {
    "duration": 21,
    "start_time": "2024-04-08T07:43:42.022Z"
   },
   {
    "duration": 41,
    "start_time": "2024-04-08T07:43:42.044Z"
   },
   {
    "duration": 105,
    "start_time": "2024-04-08T07:43:42.088Z"
   },
   {
    "duration": 23,
    "start_time": "2024-04-08T07:43:42.195Z"
   },
   {
    "duration": 85,
    "start_time": "2024-04-08T07:43:42.219Z"
   },
   {
    "duration": 3,
    "start_time": "2024-04-08T07:43:42.306Z"
   },
   {
    "duration": 110,
    "start_time": "2024-04-08T07:43:42.310Z"
   },
   {
    "duration": 4,
    "start_time": "2024-04-08T07:43:42.422Z"
   },
   {
    "duration": 9,
    "start_time": "2024-04-08T07:43:42.428Z"
   },
   {
    "duration": 12,
    "start_time": "2024-04-08T07:43:42.439Z"
   },
   {
    "duration": 30,
    "start_time": "2024-04-08T07:43:42.452Z"
   },
   {
    "duration": 448,
    "start_time": "2024-04-08T07:43:42.484Z"
   },
   {
    "duration": 22,
    "start_time": "2024-04-08T07:43:42.933Z"
   },
   {
    "duration": 36,
    "start_time": "2024-04-08T07:43:42.957Z"
   },
   {
    "duration": 4,
    "start_time": "2024-04-08T07:43:42.994Z"
   },
   {
    "duration": 9,
    "start_time": "2024-04-08T07:43:43.000Z"
   },
   {
    "duration": 11,
    "start_time": "2024-04-08T07:43:43.011Z"
   },
   {
    "duration": 25,
    "start_time": "2024-04-08T07:43:43.023Z"
   },
   {
    "duration": 92,
    "start_time": "2024-04-08T07:43:43.049Z"
   },
   {
    "duration": 5,
    "start_time": "2024-04-08T07:43:43.142Z"
   },
   {
    "duration": 78,
    "start_time": "2024-04-08T07:43:43.151Z"
   },
   {
    "duration": 4,
    "start_time": "2024-04-08T07:43:43.231Z"
   },
   {
    "duration": 156,
    "start_time": "2024-04-08T07:43:43.236Z"
   },
   {
    "duration": 318,
    "start_time": "2024-04-08T07:43:43.394Z"
   },
   {
    "duration": 0,
    "start_time": "2024-04-08T07:43:43.714Z"
   },
   {
    "duration": 0,
    "start_time": "2024-04-08T07:43:43.717Z"
   },
   {
    "duration": 0,
    "start_time": "2024-04-08T07:43:43.718Z"
   },
   {
    "duration": 0,
    "start_time": "2024-04-08T07:43:43.719Z"
   },
   {
    "duration": 0,
    "start_time": "2024-04-08T07:43:43.720Z"
   },
   {
    "duration": 0,
    "start_time": "2024-04-08T07:43:43.721Z"
   },
   {
    "duration": 0,
    "start_time": "2024-04-08T07:43:43.722Z"
   },
   {
    "duration": 0,
    "start_time": "2024-04-08T07:43:43.723Z"
   },
   {
    "duration": 0,
    "start_time": "2024-04-08T07:43:43.724Z"
   },
   {
    "duration": 0,
    "start_time": "2024-04-08T07:43:43.725Z"
   },
   {
    "duration": 0,
    "start_time": "2024-04-08T07:43:43.726Z"
   },
   {
    "duration": 13,
    "start_time": "2024-04-08T07:44:53.719Z"
   },
   {
    "duration": 131,
    "start_time": "2024-04-08T07:45:39.096Z"
   },
   {
    "duration": 125,
    "start_time": "2024-04-08T07:45:51.492Z"
   },
   {
    "duration": 203,
    "start_time": "2024-04-08T07:46:35.559Z"
   },
   {
    "duration": 132,
    "start_time": "2024-04-08T07:47:25.065Z"
   },
   {
    "duration": 164,
    "start_time": "2024-04-08T07:48:34.649Z"
   },
   {
    "duration": 172,
    "start_time": "2024-04-08T07:49:58.467Z"
   },
   {
    "duration": 166,
    "start_time": "2024-04-08T07:51:26.328Z"
   },
   {
    "duration": 160,
    "start_time": "2024-04-08T07:51:58.801Z"
   },
   {
    "duration": 5,
    "start_time": "2024-04-08T07:53:24.862Z"
   },
   {
    "duration": 170,
    "start_time": "2024-04-08T07:53:52.680Z"
   },
   {
    "duration": 1300,
    "start_time": "2024-04-08T07:54:43.451Z"
   },
   {
    "duration": 193,
    "start_time": "2024-04-08T07:54:44.753Z"
   },
   {
    "duration": 20,
    "start_time": "2024-04-08T07:54:44.948Z"
   },
   {
    "duration": 12,
    "start_time": "2024-04-08T07:54:44.971Z"
   },
   {
    "duration": 14,
    "start_time": "2024-04-08T07:54:44.986Z"
   },
   {
    "duration": 38,
    "start_time": "2024-04-08T07:54:45.001Z"
   },
   {
    "duration": 27,
    "start_time": "2024-04-08T07:54:45.041Z"
   },
   {
    "duration": 23,
    "start_time": "2024-04-08T07:54:45.069Z"
   },
   {
    "duration": 50,
    "start_time": "2024-04-08T07:54:45.094Z"
   },
   {
    "duration": 131,
    "start_time": "2024-04-08T07:54:45.145Z"
   },
   {
    "duration": 26,
    "start_time": "2024-04-08T07:54:45.278Z"
   },
   {
    "duration": 112,
    "start_time": "2024-04-08T07:54:45.306Z"
   },
   {
    "duration": 4,
    "start_time": "2024-04-08T07:54:45.419Z"
   },
   {
    "duration": 139,
    "start_time": "2024-04-08T07:54:45.425Z"
   },
   {
    "duration": 4,
    "start_time": "2024-04-08T07:54:45.565Z"
   },
   {
    "duration": 27,
    "start_time": "2024-04-08T07:54:45.571Z"
   },
   {
    "duration": 33,
    "start_time": "2024-04-08T07:54:45.600Z"
   },
   {
    "duration": 6,
    "start_time": "2024-04-08T07:54:45.635Z"
   },
   {
    "duration": 416,
    "start_time": "2024-04-08T07:54:45.642Z"
   },
   {
    "duration": 32,
    "start_time": "2024-04-08T07:54:46.059Z"
   },
   {
    "duration": 22,
    "start_time": "2024-04-08T07:54:46.093Z"
   },
   {
    "duration": 4,
    "start_time": "2024-04-08T07:54:46.117Z"
   },
   {
    "duration": 11,
    "start_time": "2024-04-08T07:54:46.122Z"
   },
   {
    "duration": 12,
    "start_time": "2024-04-08T07:54:46.134Z"
   },
   {
    "duration": 56,
    "start_time": "2024-04-08T07:54:46.147Z"
   },
   {
    "duration": 66,
    "start_time": "2024-04-08T07:54:46.204Z"
   },
   {
    "duration": 6,
    "start_time": "2024-04-08T07:54:46.282Z"
   },
   {
    "duration": 60,
    "start_time": "2024-04-08T07:54:46.290Z"
   },
   {
    "duration": 4,
    "start_time": "2024-04-08T07:54:46.352Z"
   },
   {
    "duration": 31,
    "start_time": "2024-04-08T07:54:46.357Z"
   },
   {
    "duration": 171,
    "start_time": "2024-04-08T07:54:46.390Z"
   },
   {
    "duration": 41,
    "start_time": "2024-04-08T07:54:46.563Z"
   },
   {
    "duration": 8,
    "start_time": "2024-04-08T07:54:46.606Z"
   },
   {
    "duration": 77,
    "start_time": "2024-04-08T07:54:46.615Z"
   },
   {
    "duration": 50,
    "start_time": "2024-04-08T07:54:46.694Z"
   },
   {
    "duration": 37,
    "start_time": "2024-04-08T07:54:46.746Z"
   },
   {
    "duration": 27,
    "start_time": "2024-04-08T07:54:46.785Z"
   },
   {
    "duration": 22,
    "start_time": "2024-04-08T07:54:46.814Z"
   },
   {
    "duration": 172,
    "start_time": "2024-04-08T07:54:46.838Z"
   },
   {
    "duration": 123,
    "start_time": "2024-04-08T07:54:47.011Z"
   },
   {
    "duration": 124,
    "start_time": "2024-04-08T07:54:47.138Z"
   },
   {
    "duration": 178,
    "start_time": "2024-04-08T07:54:47.264Z"
   },
   {
    "duration": 67,
    "start_time": "2024-04-08T07:56:22.810Z"
   },
   {
    "duration": 59,
    "start_time": "2024-04-08T07:56:59.591Z"
   },
   {
    "duration": 10,
    "start_time": "2024-04-08T07:58:36.558Z"
   },
   {
    "duration": 4,
    "start_time": "2024-04-08T07:58:46.790Z"
   },
   {
    "duration": 10,
    "start_time": "2024-04-08T07:58:48.310Z"
   },
   {
    "duration": 22,
    "start_time": "2024-04-08T07:58:55.801Z"
   },
   {
    "duration": 59,
    "start_time": "2024-04-08T07:59:26.004Z"
   },
   {
    "duration": 4,
    "start_time": "2024-04-08T07:59:31.336Z"
   },
   {
    "duration": 5,
    "start_time": "2024-04-08T07:59:51.616Z"
   },
   {
    "duration": 7,
    "start_time": "2024-04-08T08:00:00.214Z"
   },
   {
    "duration": 2,
    "start_time": "2024-04-08T08:00:22.663Z"
   },
   {
    "duration": 1216,
    "start_time": "2024-04-08T08:00:28.944Z"
   },
   {
    "duration": 189,
    "start_time": "2024-04-08T08:00:30.162Z"
   },
   {
    "duration": 13,
    "start_time": "2024-04-08T08:00:30.353Z"
   },
   {
    "duration": 79,
    "start_time": "2024-04-08T08:00:30.367Z"
   },
   {
    "duration": 72,
    "start_time": "2024-04-08T08:00:30.449Z"
   },
   {
    "duration": 104,
    "start_time": "2024-04-08T08:00:30.523Z"
   },
   {
    "duration": 48,
    "start_time": "2024-04-08T08:00:30.629Z"
   },
   {
    "duration": 58,
    "start_time": "2024-04-08T08:00:30.679Z"
   },
   {
    "duration": 94,
    "start_time": "2024-04-08T08:00:30.739Z"
   },
   {
    "duration": 181,
    "start_time": "2024-04-08T08:00:30.835Z"
   },
   {
    "duration": 25,
    "start_time": "2024-04-08T08:00:31.018Z"
   },
   {
    "duration": 140,
    "start_time": "2024-04-08T08:00:31.045Z"
   },
   {
    "duration": 3,
    "start_time": "2024-04-08T08:00:31.187Z"
   },
   {
    "duration": 97,
    "start_time": "2024-04-08T08:00:31.193Z"
   },
   {
    "duration": 3,
    "start_time": "2024-04-08T08:00:31.291Z"
   },
   {
    "duration": 111,
    "start_time": "2024-04-08T08:00:31.296Z"
   },
   {
    "duration": 4,
    "start_time": "2024-04-08T08:00:31.409Z"
   },
   {
    "duration": 22,
    "start_time": "2024-04-08T08:00:31.414Z"
   },
   {
    "duration": 29,
    "start_time": "2024-04-08T08:00:31.438Z"
   },
   {
    "duration": 30,
    "start_time": "2024-04-08T08:00:31.468Z"
   },
   {
    "duration": 426,
    "start_time": "2024-04-08T08:00:31.500Z"
   },
   {
    "duration": 22,
    "start_time": "2024-04-08T08:00:31.927Z"
   },
   {
    "duration": 36,
    "start_time": "2024-04-08T08:00:31.951Z"
   },
   {
    "duration": 4,
    "start_time": "2024-04-08T08:00:31.989Z"
   },
   {
    "duration": 17,
    "start_time": "2024-04-08T08:00:31.995Z"
   },
   {
    "duration": 22,
    "start_time": "2024-04-08T08:00:32.014Z"
   },
   {
    "duration": 30,
    "start_time": "2024-04-08T08:00:32.038Z"
   },
   {
    "duration": 66,
    "start_time": "2024-04-08T08:00:32.070Z"
   },
   {
    "duration": 4,
    "start_time": "2024-04-08T08:00:32.138Z"
   },
   {
    "duration": 71,
    "start_time": "2024-04-08T08:00:32.144Z"
   },
   {
    "duration": 4,
    "start_time": "2024-04-08T08:00:32.216Z"
   },
   {
    "duration": 8,
    "start_time": "2024-04-08T08:00:32.222Z"
   },
   {
    "duration": 183,
    "start_time": "2024-04-08T08:00:32.232Z"
   },
   {
    "duration": 38,
    "start_time": "2024-04-08T08:00:32.417Z"
   },
   {
    "duration": 28,
    "start_time": "2024-04-08T08:00:32.457Z"
   },
   {
    "duration": 53,
    "start_time": "2024-04-08T08:00:32.487Z"
   },
   {
    "duration": 51,
    "start_time": "2024-04-08T08:00:32.542Z"
   },
   {
    "duration": 20,
    "start_time": "2024-04-08T08:00:32.595Z"
   },
   {
    "duration": 2,
    "start_time": "2024-04-08T08:00:32.617Z"
   },
   {
    "duration": 7,
    "start_time": "2024-04-08T08:00:32.621Z"
   },
   {
    "duration": 140,
    "start_time": "2024-04-08T08:00:32.632Z"
   },
   {
    "duration": 124,
    "start_time": "2024-04-08T08:00:32.774Z"
   },
   {
    "duration": 115,
    "start_time": "2024-04-08T08:00:32.900Z"
   },
   {
    "duration": 178,
    "start_time": "2024-04-08T08:00:33.017Z"
   },
   {
    "duration": 74,
    "start_time": "2024-04-08T08:01:11.722Z"
   },
   {
    "duration": 1239,
    "start_time": "2024-04-08T08:02:07.203Z"
   },
   {
    "duration": 183,
    "start_time": "2024-04-08T08:02:08.444Z"
   },
   {
    "duration": 13,
    "start_time": "2024-04-08T08:02:08.628Z"
   },
   {
    "duration": 5,
    "start_time": "2024-04-08T08:02:08.642Z"
   },
   {
    "duration": 31,
    "start_time": "2024-04-08T08:02:08.649Z"
   },
   {
    "duration": 29,
    "start_time": "2024-04-08T08:02:08.682Z"
   },
   {
    "duration": 14,
    "start_time": "2024-04-08T08:02:08.713Z"
   },
   {
    "duration": 23,
    "start_time": "2024-04-08T08:02:08.729Z"
   },
   {
    "duration": 33,
    "start_time": "2024-04-08T08:02:08.753Z"
   },
   {
    "duration": 110,
    "start_time": "2024-04-08T08:02:08.788Z"
   },
   {
    "duration": 24,
    "start_time": "2024-04-08T08:02:08.900Z"
   },
   {
    "duration": 92,
    "start_time": "2024-04-08T08:02:08.926Z"
   },
   {
    "duration": 4,
    "start_time": "2024-04-08T08:02:09.020Z"
   },
   {
    "duration": 103,
    "start_time": "2024-04-08T08:02:09.027Z"
   },
   {
    "duration": 6,
    "start_time": "2024-04-08T08:02:09.141Z"
   },
   {
    "duration": 16,
    "start_time": "2024-04-08T08:02:09.149Z"
   },
   {
    "duration": 24,
    "start_time": "2024-04-08T08:02:09.167Z"
   },
   {
    "duration": 6,
    "start_time": "2024-04-08T08:02:09.193Z"
   },
   {
    "duration": 408,
    "start_time": "2024-04-08T08:02:09.201Z"
   },
   {
    "duration": 21,
    "start_time": "2024-04-08T08:02:09.611Z"
   },
   {
    "duration": 21,
    "start_time": "2024-04-08T08:02:09.634Z"
   },
   {
    "duration": 26,
    "start_time": "2024-04-08T08:02:09.656Z"
   },
   {
    "duration": 24,
    "start_time": "2024-04-08T08:02:09.684Z"
   },
   {
    "duration": 12,
    "start_time": "2024-04-08T08:02:09.710Z"
   },
   {
    "duration": 25,
    "start_time": "2024-04-08T08:02:09.724Z"
   },
   {
    "duration": 75,
    "start_time": "2024-04-08T08:02:09.750Z"
   },
   {
    "duration": 4,
    "start_time": "2024-04-08T08:02:09.827Z"
   },
   {
    "duration": 75,
    "start_time": "2024-04-08T08:02:09.833Z"
   },
   {
    "duration": 4,
    "start_time": "2024-04-08T08:02:09.910Z"
   },
   {
    "duration": 11,
    "start_time": "2024-04-08T08:02:09.915Z"
   },
   {
    "duration": 181,
    "start_time": "2024-04-08T08:02:09.928Z"
   },
   {
    "duration": 34,
    "start_time": "2024-04-08T08:02:10.110Z"
   },
   {
    "duration": 7,
    "start_time": "2024-04-08T08:02:10.145Z"
   },
   {
    "duration": 66,
    "start_time": "2024-04-08T08:02:10.153Z"
   },
   {
    "duration": 36,
    "start_time": "2024-04-08T08:02:10.221Z"
   },
   {
    "duration": 35,
    "start_time": "2024-04-08T08:02:10.259Z"
   },
   {
    "duration": 2,
    "start_time": "2024-04-08T08:02:10.296Z"
   },
   {
    "duration": 13,
    "start_time": "2024-04-08T08:02:10.300Z"
   },
   {
    "duration": 128,
    "start_time": "2024-04-08T08:02:10.314Z"
   },
   {
    "duration": 120,
    "start_time": "2024-04-08T08:02:10.444Z"
   },
   {
    "duration": 136,
    "start_time": "2024-04-08T08:02:10.568Z"
   },
   {
    "duration": 168,
    "start_time": "2024-04-08T08:02:10.705Z"
   },
   {
    "duration": 4,
    "start_time": "2024-04-08T08:04:57.505Z"
   },
   {
    "duration": 4,
    "start_time": "2024-04-08T08:06:55.258Z"
   },
   {
    "duration": 167,
    "start_time": "2024-04-08T08:07:09.155Z"
   },
   {
    "duration": 42,
    "start_time": "2024-04-08T08:07:40.333Z"
   },
   {
    "duration": 36,
    "start_time": "2024-04-08T08:07:48.565Z"
   },
   {
    "duration": 99,
    "start_time": "2024-04-08T08:09:42.316Z"
   },
   {
    "duration": 108,
    "start_time": "2024-04-08T08:10:16.847Z"
   },
   {
    "duration": 118,
    "start_time": "2024-04-08T08:10:23.322Z"
   },
   {
    "duration": 168,
    "start_time": "2024-04-08T08:10:29.530Z"
   },
   {
    "duration": 1234,
    "start_time": "2024-04-08T08:11:31.298Z"
   },
   {
    "duration": 191,
    "start_time": "2024-04-08T08:11:32.534Z"
   },
   {
    "duration": 13,
    "start_time": "2024-04-08T08:11:32.726Z"
   },
   {
    "duration": 4,
    "start_time": "2024-04-08T08:11:32.740Z"
   },
   {
    "duration": 10,
    "start_time": "2024-04-08T08:11:32.746Z"
   },
   {
    "duration": 37,
    "start_time": "2024-04-08T08:11:32.758Z"
   },
   {
    "duration": 15,
    "start_time": "2024-04-08T08:11:32.796Z"
   },
   {
    "duration": 33,
    "start_time": "2024-04-08T08:11:32.812Z"
   },
   {
    "duration": 18,
    "start_time": "2024-04-08T08:11:32.846Z"
   },
   {
    "duration": 117,
    "start_time": "2024-04-08T08:11:32.865Z"
   },
   {
    "duration": 23,
    "start_time": "2024-04-08T08:11:32.984Z"
   },
   {
    "duration": 90,
    "start_time": "2024-04-08T08:11:33.008Z"
   },
   {
    "duration": 3,
    "start_time": "2024-04-08T08:11:33.101Z"
   },
   {
    "duration": 107,
    "start_time": "2024-04-08T08:11:33.109Z"
   },
   {
    "duration": 5,
    "start_time": "2024-04-08T08:11:33.217Z"
   },
   {
    "duration": 18,
    "start_time": "2024-04-08T08:11:33.223Z"
   },
   {
    "duration": 9,
    "start_time": "2024-04-08T08:11:33.243Z"
   },
   {
    "duration": 6,
    "start_time": "2024-04-08T08:11:33.254Z"
   },
   {
    "duration": 432,
    "start_time": "2024-04-08T08:11:33.261Z"
   },
   {
    "duration": 26,
    "start_time": "2024-04-08T08:11:33.694Z"
   },
   {
    "duration": 20,
    "start_time": "2024-04-08T08:11:33.722Z"
   },
   {
    "duration": 4,
    "start_time": "2024-04-08T08:11:33.744Z"
   },
   {
    "duration": 35,
    "start_time": "2024-04-08T08:11:33.750Z"
   },
   {
    "duration": 13,
    "start_time": "2024-04-08T08:11:33.787Z"
   },
   {
    "duration": 28,
    "start_time": "2024-04-08T08:11:33.802Z"
   },
   {
    "duration": 103,
    "start_time": "2024-04-08T08:11:33.832Z"
   },
   {
    "duration": 5,
    "start_time": "2024-04-08T08:11:33.937Z"
   },
   {
    "duration": 86,
    "start_time": "2024-04-08T08:11:33.944Z"
   },
   {
    "duration": 5,
    "start_time": "2024-04-08T08:11:34.032Z"
   },
   {
    "duration": 12,
    "start_time": "2024-04-08T08:11:34.039Z"
   },
   {
    "duration": 173,
    "start_time": "2024-04-08T08:11:34.053Z"
   },
   {
    "duration": 37,
    "start_time": "2024-04-08T08:11:34.228Z"
   },
   {
    "duration": 8,
    "start_time": "2024-04-08T08:11:34.282Z"
   },
   {
    "duration": 44,
    "start_time": "2024-04-08T08:11:34.292Z"
   },
   {
    "duration": 60,
    "start_time": "2024-04-08T08:11:34.338Z"
   },
   {
    "duration": 22,
    "start_time": "2024-04-08T08:11:34.400Z"
   },
   {
    "duration": 7,
    "start_time": "2024-04-08T08:11:34.424Z"
   },
   {
    "duration": 134,
    "start_time": "2024-04-08T08:11:34.433Z"
   },
   {
    "duration": 124,
    "start_time": "2024-04-08T08:11:34.569Z"
   },
   {
    "duration": 120,
    "start_time": "2024-04-08T08:11:34.695Z"
   },
   {
    "duration": 180,
    "start_time": "2024-04-08T08:11:34.819Z"
   },
   {
    "duration": 1220,
    "start_time": "2024-04-08T08:12:34.923Z"
   },
   {
    "duration": 190,
    "start_time": "2024-04-08T08:12:36.144Z"
   },
   {
    "duration": 13,
    "start_time": "2024-04-08T08:12:36.336Z"
   },
   {
    "duration": 6,
    "start_time": "2024-04-08T08:12:36.351Z"
   },
   {
    "duration": 23,
    "start_time": "2024-04-08T08:12:36.360Z"
   },
   {
    "duration": 30,
    "start_time": "2024-04-08T08:12:36.385Z"
   },
   {
    "duration": 15,
    "start_time": "2024-04-08T08:12:36.417Z"
   },
   {
    "duration": 25,
    "start_time": "2024-04-08T08:12:36.433Z"
   },
   {
    "duration": 36,
    "start_time": "2024-04-08T08:12:36.460Z"
   },
   {
    "duration": 104,
    "start_time": "2024-04-08T08:12:36.497Z"
   },
   {
    "duration": 24,
    "start_time": "2024-04-08T08:12:36.603Z"
   },
   {
    "duration": 89,
    "start_time": "2024-04-08T08:12:36.629Z"
   },
   {
    "duration": 3,
    "start_time": "2024-04-08T08:12:36.720Z"
   },
   {
    "duration": 108,
    "start_time": "2024-04-08T08:12:36.726Z"
   },
   {
    "duration": 5,
    "start_time": "2024-04-08T08:12:36.836Z"
   },
   {
    "duration": 8,
    "start_time": "2024-04-08T08:12:36.842Z"
   },
   {
    "duration": 30,
    "start_time": "2024-04-08T08:12:36.852Z"
   },
   {
    "duration": 6,
    "start_time": "2024-04-08T08:12:36.883Z"
   },
   {
    "duration": 426,
    "start_time": "2024-04-08T08:12:36.891Z"
   },
   {
    "duration": 22,
    "start_time": "2024-04-08T08:12:37.318Z"
   },
   {
    "duration": 27,
    "start_time": "2024-04-08T08:12:37.342Z"
   },
   {
    "duration": 5,
    "start_time": "2024-04-08T08:12:37.382Z"
   },
   {
    "duration": 9,
    "start_time": "2024-04-08T08:12:37.389Z"
   },
   {
    "duration": 12,
    "start_time": "2024-04-08T08:12:37.400Z"
   },
   {
    "duration": 26,
    "start_time": "2024-04-08T08:12:37.413Z"
   },
   {
    "duration": 84,
    "start_time": "2024-04-08T08:12:37.440Z"
   },
   {
    "duration": 5,
    "start_time": "2024-04-08T08:12:37.525Z"
   },
   {
    "duration": 74,
    "start_time": "2024-04-08T08:12:37.531Z"
   },
   {
    "duration": 4,
    "start_time": "2024-04-08T08:12:37.606Z"
   },
   {
    "duration": 10,
    "start_time": "2024-04-08T08:12:37.611Z"
   },
   {
    "duration": 167,
    "start_time": "2024-04-08T08:12:37.622Z"
   },
   {
    "duration": 33,
    "start_time": "2024-04-08T08:12:37.791Z"
   },
   {
    "duration": 6,
    "start_time": "2024-04-08T08:12:37.826Z"
   },
   {
    "duration": 66,
    "start_time": "2024-04-08T08:12:37.834Z"
   },
   {
    "duration": 36,
    "start_time": "2024-04-08T08:12:37.902Z"
   },
   {
    "duration": 20,
    "start_time": "2024-04-08T08:12:37.940Z"
   },
   {
    "duration": 7,
    "start_time": "2024-04-08T08:12:37.981Z"
   },
   {
    "duration": 119,
    "start_time": "2024-04-08T08:12:37.989Z"
   },
   {
    "duration": 126,
    "start_time": "2024-04-08T08:12:38.110Z"
   },
   {
    "duration": 122,
    "start_time": "2024-04-08T08:12:38.238Z"
   },
   {
    "duration": 184,
    "start_time": "2024-04-08T08:12:38.364Z"
   },
   {
    "duration": 1265,
    "start_time": "2024-04-08T08:12:56.483Z"
   },
   {
    "duration": 205,
    "start_time": "2024-04-08T08:12:57.750Z"
   },
   {
    "duration": 13,
    "start_time": "2024-04-08T08:12:57.957Z"
   },
   {
    "duration": 12,
    "start_time": "2024-04-08T08:12:57.972Z"
   },
   {
    "duration": 15,
    "start_time": "2024-04-08T08:12:57.986Z"
   },
   {
    "duration": 26,
    "start_time": "2024-04-08T08:12:58.002Z"
   },
   {
    "duration": 13,
    "start_time": "2024-04-08T08:12:58.030Z"
   },
   {
    "duration": 37,
    "start_time": "2024-04-08T08:12:58.045Z"
   },
   {
    "duration": 17,
    "start_time": "2024-04-08T08:12:58.084Z"
   },
   {
    "duration": 114,
    "start_time": "2024-04-08T08:12:58.103Z"
   },
   {
    "duration": 26,
    "start_time": "2024-04-08T08:12:58.218Z"
   },
   {
    "duration": 90,
    "start_time": "2024-04-08T08:12:58.246Z"
   },
   {
    "duration": 3,
    "start_time": "2024-04-08T08:12:58.338Z"
   },
   {
    "duration": 107,
    "start_time": "2024-04-08T08:12:58.346Z"
   },
   {
    "duration": 6,
    "start_time": "2024-04-08T08:12:58.454Z"
   },
   {
    "duration": 22,
    "start_time": "2024-04-08T08:12:58.461Z"
   },
   {
    "duration": 12,
    "start_time": "2024-04-08T08:12:58.485Z"
   },
   {
    "duration": 6,
    "start_time": "2024-04-08T08:12:58.499Z"
   },
   {
    "duration": 446,
    "start_time": "2024-04-08T08:12:58.507Z"
   },
   {
    "duration": 29,
    "start_time": "2024-04-08T08:12:58.955Z"
   },
   {
    "duration": 23,
    "start_time": "2024-04-08T08:12:58.985Z"
   },
   {
    "duration": 5,
    "start_time": "2024-04-08T08:12:59.009Z"
   },
   {
    "duration": 13,
    "start_time": "2024-04-08T08:12:59.015Z"
   },
   {
    "duration": 14,
    "start_time": "2024-04-08T08:12:59.029Z"
   },
   {
    "duration": 53,
    "start_time": "2024-04-08T08:12:59.045Z"
   },
   {
    "duration": 65,
    "start_time": "2024-04-08T08:12:59.099Z"
   },
   {
    "duration": 5,
    "start_time": "2024-04-08T08:12:59.182Z"
   },
   {
    "duration": 61,
    "start_time": "2024-04-08T08:12:59.189Z"
   },
   {
    "duration": 4,
    "start_time": "2024-04-08T08:12:59.252Z"
   },
   {
    "duration": 26,
    "start_time": "2024-04-08T08:12:59.257Z"
   },
   {
    "duration": 172,
    "start_time": "2024-04-08T08:12:59.285Z"
   },
   {
    "duration": 49,
    "start_time": "2024-04-08T08:12:59.459Z"
   },
   {
    "duration": 9,
    "start_time": "2024-04-08T08:12:59.510Z"
   },
   {
    "duration": 61,
    "start_time": "2024-04-08T08:12:59.521Z"
   },
   {
    "duration": 37,
    "start_time": "2024-04-08T08:12:59.584Z"
   },
   {
    "duration": 21,
    "start_time": "2024-04-08T08:12:59.623Z"
   },
   {
    "duration": 7,
    "start_time": "2024-04-08T08:12:59.647Z"
   },
   {
    "duration": 113,
    "start_time": "2024-04-08T08:12:59.683Z"
   },
   {
    "duration": 136,
    "start_time": "2024-04-08T08:12:59.798Z"
   },
   {
    "duration": 119,
    "start_time": "2024-04-08T08:12:59.937Z"
   },
   {
    "duration": 177,
    "start_time": "2024-04-08T08:13:00.060Z"
   },
   {
    "duration": 1332,
    "start_time": "2024-04-13T11:01:54.603Z"
   },
   {
    "duration": 843,
    "start_time": "2024-04-13T11:01:55.937Z"
   },
   {
    "duration": 12,
    "start_time": "2024-04-13T11:01:56.781Z"
   },
   {
    "duration": 3,
    "start_time": "2024-04-13T11:01:56.795Z"
   },
   {
    "duration": 7,
    "start_time": "2024-04-13T11:01:56.800Z"
   },
   {
    "duration": 28,
    "start_time": "2024-04-13T11:01:56.808Z"
   },
   {
    "duration": 13,
    "start_time": "2024-04-13T11:01:56.837Z"
   },
   {
    "duration": 30,
    "start_time": "2024-04-13T11:01:56.852Z"
   },
   {
    "duration": 16,
    "start_time": "2024-04-13T11:01:56.884Z"
   },
   {
    "duration": 102,
    "start_time": "2024-04-13T11:01:56.901Z"
   },
   {
    "duration": 22,
    "start_time": "2024-04-13T11:01:57.004Z"
   },
   {
    "duration": 84,
    "start_time": "2024-04-13T11:01:57.028Z"
   },
   {
    "duration": 4,
    "start_time": "2024-04-13T11:01:57.113Z"
   },
   {
    "duration": 96,
    "start_time": "2024-04-13T11:01:57.119Z"
   },
   {
    "duration": 4,
    "start_time": "2024-04-13T11:01:57.217Z"
   },
   {
    "duration": 7,
    "start_time": "2024-04-13T11:01:57.223Z"
   },
   {
    "duration": 11,
    "start_time": "2024-04-13T11:01:57.232Z"
   },
   {
    "duration": 6,
    "start_time": "2024-04-13T11:01:57.244Z"
   },
   {
    "duration": 389,
    "start_time": "2024-04-13T11:01:57.270Z"
   },
   {
    "duration": 23,
    "start_time": "2024-04-13T11:01:57.661Z"
   },
   {
    "duration": 20,
    "start_time": "2024-04-13T11:01:57.685Z"
   },
   {
    "duration": 4,
    "start_time": "2024-04-13T11:01:57.706Z"
   },
   {
    "duration": 8,
    "start_time": "2024-04-13T11:01:57.711Z"
   },
   {
    "duration": 15,
    "start_time": "2024-04-13T11:01:57.721Z"
   },
   {
    "duration": 49,
    "start_time": "2024-04-13T11:01:57.738Z"
   },
   {
    "duration": 56,
    "start_time": "2024-04-13T11:01:57.788Z"
   },
   {
    "duration": 4,
    "start_time": "2024-04-13T11:01:57.846Z"
   },
   {
    "duration": 70,
    "start_time": "2024-04-13T11:01:57.851Z"
   },
   {
    "duration": 4,
    "start_time": "2024-04-13T11:01:57.922Z"
   },
   {
    "duration": 8,
    "start_time": "2024-04-13T11:01:57.927Z"
   },
   {
    "duration": 168,
    "start_time": "2024-04-13T11:01:57.936Z"
   },
   {
    "duration": 35,
    "start_time": "2024-04-13T11:01:58.106Z"
   },
   {
    "duration": 7,
    "start_time": "2024-04-13T11:01:58.143Z"
   },
   {
    "duration": 40,
    "start_time": "2024-04-13T11:01:58.169Z"
   },
   {
    "duration": 34,
    "start_time": "2024-04-13T11:01:58.210Z"
   },
   {
    "duration": 38,
    "start_time": "2024-04-13T11:01:58.246Z"
   },
   {
    "duration": 6,
    "start_time": "2024-04-13T11:01:58.286Z"
   },
   {
    "duration": 107,
    "start_time": "2024-04-13T11:01:58.293Z"
   },
   {
    "duration": 113,
    "start_time": "2024-04-13T11:01:58.402Z"
   },
   {
    "duration": 105,
    "start_time": "2024-04-13T11:01:58.517Z"
   },
   {
    "duration": 160,
    "start_time": "2024-04-13T11:01:58.625Z"
   }
  ],
  "kernelspec": {
   "display_name": "Python 3 (ipykernel)",
   "language": "python",
   "name": "python3"
  },
  "language_info": {
   "codemirror_mode": {
    "name": "ipython",
    "version": 3
   },
   "file_extension": ".py",
   "mimetype": "text/x-python",
   "name": "python",
   "nbconvert_exporter": "python",
   "pygments_lexer": "ipython3",
   "version": "3.9.5"
  },
  "toc": {
   "base_numbering": 1,
   "nav_menu": {},
   "number_sections": true,
   "sideBar": true,
   "skip_h1_title": true,
   "title_cell": "Table of Contents",
   "title_sidebar": "Contents",
   "toc_cell": false,
   "toc_position": {},
   "toc_section_display": true,
   "toc_window_display": false
  }
 },
 "nbformat": 4,
 "nbformat_minor": 2
}
